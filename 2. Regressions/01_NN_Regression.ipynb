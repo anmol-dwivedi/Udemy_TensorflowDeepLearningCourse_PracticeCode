{
 "cells": [
  {
   "cell_type": "code",
   "execution_count": 1,
   "id": "7a1c31b4",
   "metadata": {},
   "outputs": [
    {
     "name": "stdout",
     "output_type": "stream",
     "text": [
      "Tensor Flow Version: 2.7.0\n",
      "Keras Version: 2.7.0\n",
      "\n",
      "Python 3.7.11 (default, Jul 27 2021, 09:42:29) [MSC v.1916 64 bit (AMD64)]\n",
      "Pandas 1.3.4\n",
      "Scikit-Learn 1.0.1\n",
      "GPU is available\n"
     ]
    }
   ],
   "source": [
    "# What version of Python do you have?\n",
    "import sys\n",
    "\n",
    "import tensorflow.keras\n",
    "import pandas as pd\n",
    "import sklearn as sk\n",
    "import tensorflow as tf\n",
    "\n",
    "check_gpu = len(tf.config.list_physical_devices('GPU'))>0\n",
    "\n",
    "print(f\"Tensor Flow Version: {tf.__version__}\")\n",
    "print(f\"Keras Version: {tensorflow.keras.__version__}\")\n",
    "print()\n",
    "print(f\"Python {sys.version}\")\n",
    "print(f\"Pandas {pd.__version__}\")\n",
    "print(f\"Scikit-Learn {sk.__version__}\")\n",
    "print(\"GPU is\", \"available\" if check_gpu \\\n",
    "      else \"NOT AVAILABLE\")"
   ]
  },
  {
   "cell_type": "markdown",
   "id": "0907d56a",
   "metadata": {},
   "source": [
    "# TF Regression"
   ]
  },
  {
   "cell_type": "code",
   "execution_count": 2,
   "id": "e6904831",
   "metadata": {},
   "outputs": [
    {
     "name": "stdout",
     "output_type": "stream",
     "text": [
      "2.7.0\n"
     ]
    }
   ],
   "source": [
    "import tensorflow as tf\n",
    "print(tf.__version__)"
   ]
  },
  {
   "cell_type": "code",
   "execution_count": 3,
   "id": "60b159f6",
   "metadata": {},
   "outputs": [
    {
     "data": {
      "image/png": "[encoded data removed]",
      "text/plain": [
       "<Figure size 432x288 with 1 Axes>"
      ]
     },
     "metadata": {
      "needs_background": "light"
     },
     "output_type": "display_data"
    }
   ],
   "source": [
    "# creating data to view and fit\n",
    "import numpy as np\n",
    "import matplotlib.pyplot as plt\n",
    "\n",
    "# create features\n",
    "\n",
    "# Create features\n",
    "X = np.array([-7.0, -4.0, -1.0, 2.0, 5.0, 8.0, 11.0, 14.0])\n",
    "\n",
    "# Create labels\n",
    "y = np.array([3.0, 6.0, 9.0, 12.0, 15.0, 18.0, 21.0, 24.0])\n",
    "\n",
    "# Visualize it\n",
    "plt.scatter(X, y);"
   ]
  },
  {
   "cell_type": "code",
   "execution_count": 4,
   "id": "18690fe5",
   "metadata": {},
   "outputs": [
    {
     "data": {
      "text/plain": [
       "array([ True,  True,  True,  True,  True,  True,  True,  True])"
      ]
     },
     "execution_count": 4,
     "metadata": {},
     "output_type": "execute_result"
    }
   ],
   "source": [
    "y == X+10"
   ]
  },
  {
   "cell_type": "markdown",
   "id": "0fd43152",
   "metadata": {},
   "source": [
    "# Input and Output Shapes"
   ]
  },
  {
   "cell_type": "code",
   "execution_count": 5,
   "id": "25df165a",
   "metadata": {},
   "outputs": [
    {
     "data": {
      "text/plain": [
       "(<tf.Tensor: shape=(3,), dtype=string, numpy=array([b'bedroom', b'bathroom', b'garage'], dtype=object)>,\n",
       " <tf.Tensor: shape=(1,), dtype=int32, numpy=array([939700])>)"
      ]
     },
     "execution_count": 5,
     "metadata": {},
     "output_type": "execute_result"
    }
   ],
   "source": [
    "# create a demo tensor for housing price prediction problem\n",
    "\n",
    "house_info = tf.constant([\"bedroom\", \"bathroom\", \"garage\"])\n",
    "house_price = tf.constant([939700])\n",
    "house_info,house_price"
   ]
  },
  {
   "cell_type": "code",
   "execution_count": 6,
   "id": "0c369319",
   "metadata": {},
   "outputs": [
    {
     "data": {
      "text/plain": [
       "((8,), (8,))"
      ]
     },
     "execution_count": 6,
     "metadata": {},
     "output_type": "execute_result"
    }
   ],
   "source": [
    "input_shape = X.shape\n",
    "output_shape = y.shape\n",
    "input_shape, output_shape"
   ]
  },
  {
   "cell_type": "code",
   "execution_count": 7,
   "id": "226c6fbe",
   "metadata": {},
   "outputs": [
    {
     "data": {
      "text/plain": [
       "(<tf.Tensor: shape=(8,), dtype=float64, numpy=array([-7., -4., -1.,  2.,  5.,  8., 11., 14.])>,\n",
       " <tf.Tensor: shape=(8,), dtype=float64, numpy=array([ 3.,  6.,  9., 12., 15., 18., 21., 24.])>)"
      ]
     },
     "execution_count": 7,
     "metadata": {},
     "output_type": "execute_result"
    }
   ],
   "source": [
    "# Turn our numpy array into tensors\n",
    "X = tf.constant(X)\n",
    "y= tf.constant(y)\n",
    "X,y"
   ]
  },
  {
   "cell_type": "code",
   "execution_count": 8,
   "id": "d14733fc",
   "metadata": {},
   "outputs": [
    {
     "data": {
      "text/plain": [
       "(TensorShape([]), TensorShape([]))"
      ]
     },
     "execution_count": 8,
     "metadata": {},
     "output_type": "execute_result"
    }
   ],
   "source": [
    "input_shape = X[0].shape\n",
    "output_shape = y[0].shape\n",
    "input_shape, output_shape"
   ]
  },
  {
   "cell_type": "code",
   "execution_count": 9,
   "id": "27b4070c",
   "metadata": {},
   "outputs": [
    {
     "data": {
      "text/plain": [
       "<matplotlib.collections.PathCollection at 0x23f819b7e08>"
      ]
     },
     "execution_count": 9,
     "metadata": {},
     "output_type": "execute_result"
    },
    {
     "data": {
      "image/png": "[encoded data removed]",
      "text/plain": [
       "<Figure size 432x288 with 1 Axes>"
      ]
     },
     "metadata": {
      "needs_background": "light"
     },
     "output_type": "display_data"
    }
   ],
   "source": [
    "plt.scatter(X, y)"
   ]
  },
  {
   "cell_type": "markdown",
   "id": "a37b6586",
   "metadata": {},
   "source": [
    "# Steps in Modelling With Tensorflow"
   ]
  },
  {
   "cell_type": "markdown",
   "id": "16ee94af",
   "metadata": {},
   "source": [
    "\n",
    "Steps in modelling with TensorFlow\n",
    "\n",
    "Now we know what data we have as well as the input and output shapes, let's see how we'd build a neural network to model it.\n",
    "\n",
    "In TensorFlow, there are typically 3 fundamental steps to creating and training a model.\n",
    "\n",
    "1. Creating a model - piece together the layers of a neural network yourself (using the Functional or Sequential API) or import a previously built model (known as transfer learning).\n",
    "2. Compiling a model - defining how a models performance should be measured (loss/metrics) as well as defining how it should improve (optimizer).\n",
    "3. Fitting a model - letting the model try to find patterns in the data (how does X get to y).\n",
    "\n",
    "Let's see these in action using the Keras Sequential API to build a model for our regression data. And then we'll step through each.\n",
    "\n",
    "Note: If you're using TensorFlow 2.7.0+, the fit() function no longer upscales input data to go from (batch_size, ) to (batch_size, 1). To fix this, you'll need to expand the dimension of input data using tf.expand_dims(input_data, axis=-1).\n",
    "\n",
    "In our case, this means instead of using model.fit(X, y, epochs=5), use model.fit(tf.expand_dims(X, axis=-1), y, epochs=5)."
   ]
  },
  {
   "cell_type": "code",
   "execution_count": 10,
   "id": "39c60cfc",
   "metadata": {},
   "outputs": [
    {
     "name": "stdout",
     "output_type": "stream",
     "text": [
      "Epoch 1/5\n",
      "1/1 [==============================] - 1s 1s/step - loss: 11.5048 - mae: 11.5048\n",
      "Epoch 2/5\n",
      "1/1 [==============================] - 0s 6ms/step - loss: 11.3723 - mae: 11.3723\n",
      "Epoch 3/5\n",
      "1/1 [==============================] - 0s 6ms/step - loss: 11.2398 - mae: 11.2398\n",
      "Epoch 4/5\n",
      "1/1 [==============================] - 0s 5ms/step - loss: 11.1073 - mae: 11.1073\n",
      "Epoch 5/5\n",
      "1/1 [==============================] - 0s 6ms/step - loss: 10.9748 - mae: 10.9748\n"
     ]
    },
    {
     "data": {
      "text/plain": [
       "<keras.callbacks.History at 0x23fe99b3708>"
      ]
     },
     "execution_count": 10,
     "metadata": {},
     "output_type": "execute_result"
    }
   ],
   "source": [
    "# Set random seed\n",
    "tf.random.set_seed(42)\n",
    "\n",
    "# 1.create a model using sequential API\n",
    "model= tf.keras.Sequential([\n",
    "    tf.keras.layers.Dense(1)\n",
    "])\n",
    "\n",
    "\n",
    "# 2.compile the model\n",
    "model.compile(loss=tf.keras.losses.mae,\n",
    "             optimizer = tf.keras.optimizers.SGD(),\n",
    "             metrics = [\"mae\"])\n",
    "\n",
    "# 3. fit the model\n",
    "model.fit(tf.expand_dims(X,axis=-1), y, epochs=5)"
   ]
  },
  {
   "cell_type": "code",
   "execution_count": 11,
   "id": "dec0c4a0",
   "metadata": {},
   "outputs": [
    {
     "data": {
      "text/plain": [
       "(<tf.Tensor: shape=(8,), dtype=float64, numpy=array([-7., -4., -1.,  2.,  5.,  8., 11., 14.])>,\n",
       " <tf.Tensor: shape=(8,), dtype=float64, numpy=array([ 3.,  6.,  9., 12., 15., 18., 21., 24.])>)"
      ]
     },
     "execution_count": 11,
     "metadata": {},
     "output_type": "execute_result"
    }
   ],
   "source": [
    "# Check out X and y \n",
    "X,y"
   ]
  },
  {
   "cell_type": "code",
   "execution_count": 12,
   "id": "11594612",
   "metadata": {},
   "outputs": [
    {
     "data": {
      "text/plain": [
       "array([[12.716021]], dtype=float32)"
      ]
     },
     "execution_count": 12,
     "metadata": {},
     "output_type": "execute_result"
    }
   ],
   "source": [
    "# try and make a prediction using the model\n",
    "y_pred = model.predict([17.0])\n",
    "y_pred"
   ]
  },
  {
   "cell_type": "code",
   "execution_count": 13,
   "id": "c1603983",
   "metadata": {},
   "outputs": [
    {
     "data": {
      "text/plain": [
       "array([[23.71602]], dtype=float32)"
      ]
     },
     "execution_count": 13,
     "metadata": {},
     "output_type": "execute_result"
    }
   ],
   "source": [
    "y_pred + 11"
   ]
  },
  {
   "cell_type": "markdown",
   "id": "7e96308a",
   "metadata": {},
   "source": [
    "It doesn't go very well... it should've output something close to 27.0.\n",
    "\n",
    "🤔 Question: What's Keras? I thought we were working with TensorFlow but every time we write TensorFlow code, keras comes after tf (e.g. tf.keras.layers.Dense())?\n",
    "\n",
    "Before TensorFlow 2.0+, Keras was an API designed to be able to build deep learning models with ease. Since TensorFlow 2.0+, its functionality has been tightly integrated within the TensorFlow library.\n"
   ]
  },
  {
   "cell_type": "markdown",
   "id": "44339313",
   "metadata": {},
   "source": [
    "# Improving Our Model"
   ]
  },
  {
   "cell_type": "markdown",
   "id": "0a541884",
   "metadata": {},
   "source": [
    "To improve our model, we alter almost every part of the 3 steps we went through before.\n",
    "\n",
    "1. **reating a model** - here you might want to add more layers, increase the number of hidden units (also called neurons) within each layer, change the activation functions of each layer.\n",
    "2. **Compiling a model** - you might want to choose optimization function or perhaps change the learning rate of the optimization function.\n",
    "3. **Fitting a model** - perhaps you could fit a model for more epochs (leave it training for longer) or on more data (give the model more examples to learn from)."
   ]
  },
  {
   "cell_type": "markdown",
   "id": "040ebe95",
   "metadata": {},
   "source": [
    "<img src=\"https://camo.githubusercontent.com/8a6f2fb40aa18ccc247b10b13c8e8eaf91ae0f9960f839ce3a4e61b876571d57/68747470733a2f2f7261772e67697468756275736572636f6e74656e742e636f6d2f6d7264626f75726b652f74656e736f72666c6f772d646565702d6c6561726e696e672f6d61696e2f696d616765732f30322d696d70726f76696e672d612d6d6f64656c2d66726f6d2d6d6f64656c2d70657273706563746976652e706e67\">"
   ]
  },
  {
   "cell_type": "code",
   "execution_count": 14,
   "id": "50c1a173",
   "metadata": {},
   "outputs": [
    {
     "name": "stdout",
     "output_type": "stream",
     "text": [
      "Epoch 1/100\n",
      "1/1 [==============================] - 0s 248ms/step - loss: 11.2219 - mae: 11.2219\n",
      "Epoch 2/100\n",
      "1/1 [==============================] - 0s 7ms/step - loss: 11.0894 - mae: 11.0894\n",
      "Epoch 3/100\n",
      "1/1 [==============================] - 0s 5ms/step - loss: 10.9569 - mae: 10.9569\n",
      "Epoch 4/100\n",
      "1/1 [==============================] - 0s 6ms/step - loss: 10.8244 - mae: 10.8244\n",
      "Epoch 5/100\n",
      "1/1 [==============================] - 0s 5ms/step - loss: 10.6919 - mae: 10.6919\n",
      "Epoch 6/100\n",
      "1/1 [==============================] - 0s 5ms/step - loss: 10.5594 - mae: 10.5594\n",
      "Epoch 7/100\n",
      "1/1 [==============================] - 0s 5ms/step - loss: 10.4269 - mae: 10.4269\n",
      "Epoch 8/100\n",
      "1/1 [==============================] - 0s 5ms/step - loss: 10.2944 - mae: 10.2944\n",
      "Epoch 9/100\n",
      "1/1 [==============================] - 0s 6ms/step - loss: 10.1619 - mae: 10.1619\n",
      "Epoch 10/100\n",
      "1/1 [==============================] - 0s 6ms/step - loss: 10.0294 - mae: 10.0294\n",
      "Epoch 11/100\n",
      "1/1 [==============================] - 0s 6ms/step - loss: 9.8969 - mae: 9.8969\n",
      "Epoch 12/100\n",
      "1/1 [==============================] - 0s 6ms/step - loss: 9.7644 - mae: 9.7644\n",
      "Epoch 13/100\n",
      "1/1 [==============================] - 0s 5ms/step - loss: 9.6319 - mae: 9.6319\n",
      "Epoch 14/100\n",
      "1/1 [==============================] - 0s 6ms/step - loss: 9.4994 - mae: 9.4994\n",
      "Epoch 15/100\n",
      "1/1 [==============================] - 0s 5ms/step - loss: 9.3669 - mae: 9.3669\n",
      "Epoch 16/100\n",
      "1/1 [==============================] - 0s 5ms/step - loss: 9.2344 - mae: 9.2344\n",
      "Epoch 17/100\n",
      "1/1 [==============================] - 0s 6ms/step - loss: 9.1019 - mae: 9.1019\n",
      "Epoch 18/100\n",
      "1/1 [==============================] - 0s 5ms/step - loss: 8.9694 - mae: 8.9694\n",
      "Epoch 19/100\n",
      "1/1 [==============================] - 0s 6ms/step - loss: 8.8369 - mae: 8.8369\n",
      "Epoch 20/100\n",
      "1/1 [==============================] - 0s 5ms/step - loss: 8.7044 - mae: 8.7044\n",
      "Epoch 21/100\n",
      "1/1 [==============================] - 0s 5ms/step - loss: 8.5719 - mae: 8.5719\n",
      "Epoch 22/100\n",
      "1/1 [==============================] - 0s 6ms/step - loss: 8.4394 - mae: 8.4394\n",
      "Epoch 23/100\n",
      "1/1 [==============================] - 0s 7ms/step - loss: 8.3069 - mae: 8.3069\n",
      "Epoch 24/100\n",
      "1/1 [==============================] - 0s 5ms/step - loss: 8.1744 - mae: 8.1744\n",
      "Epoch 25/100\n",
      "1/1 [==============================] - 0s 7ms/step - loss: 8.0419 - mae: 8.0419\n",
      "Epoch 26/100\n",
      "1/1 [==============================] - 0s 6ms/step - loss: 7.9094 - mae: 7.9094\n",
      "Epoch 27/100\n",
      "1/1 [==============================] - 0s 6ms/step - loss: 7.7769 - mae: 7.7769\n",
      "Epoch 28/100\n",
      "1/1 [==============================] - 0s 6ms/step - loss: 7.6444 - mae: 7.6444\n",
      "Epoch 29/100\n",
      "1/1 [==============================] - 0s 6ms/step - loss: 7.5119 - mae: 7.5119\n",
      "Epoch 30/100\n",
      "1/1 [==============================] - 0s 5ms/step - loss: 7.3794 - mae: 7.3794\n",
      "Epoch 31/100\n",
      "1/1 [==============================] - 0s 5ms/step - loss: 7.2750 - mae: 7.2750\n",
      "Epoch 32/100\n",
      "1/1 [==============================] - 0s 6ms/step - loss: 7.2694 - mae: 7.2694\n",
      "Epoch 33/100\n",
      "1/1 [==============================] - 0s 5ms/step - loss: 7.2638 - mae: 7.2638\n",
      "Epoch 34/100\n",
      "1/1 [==============================] - 0s 6ms/step - loss: 7.2581 - mae: 7.2581\n",
      "Epoch 35/100\n",
      "1/1 [==============================] - 0s 6ms/step - loss: 7.2525 - mae: 7.2525\n",
      "Epoch 36/100\n",
      "1/1 [==============================] - 0s 7ms/step - loss: 7.2469 - mae: 7.2469\n",
      "Epoch 37/100\n",
      "1/1 [==============================] - 0s 6ms/step - loss: 7.2413 - mae: 7.2413\n",
      "Epoch 38/100\n",
      "1/1 [==============================] - 0s 6ms/step - loss: 7.2356 - mae: 7.2356\n",
      "Epoch 39/100\n",
      "1/1 [==============================] - 0s 7ms/step - loss: 7.2300 - mae: 7.2300\n",
      "Epoch 40/100\n",
      "1/1 [==============================] - 0s 5ms/step - loss: 7.2244 - mae: 7.2244\n",
      "Epoch 41/100\n",
      "1/1 [==============================] - 0s 5ms/step - loss: 7.2188 - mae: 7.2188\n",
      "Epoch 42/100\n",
      "1/1 [==============================] - 0s 6ms/step - loss: 7.2131 - mae: 7.2131\n",
      "Epoch 43/100\n",
      "1/1 [==============================] - ETA: 0s - loss: 7.2075 - mae: 7.207 - 0s 5ms/step - loss: 7.2075 - mae: 7.2075\n",
      "Epoch 44/100\n",
      "1/1 [==============================] - 0s 5ms/step - loss: 7.2019 - mae: 7.2019\n",
      "Epoch 45/100\n",
      "1/1 [==============================] - 0s 5ms/step - loss: 7.1962 - mae: 7.1962\n",
      "Epoch 46/100\n",
      "1/1 [==============================] - 0s 5ms/step - loss: 7.1906 - mae: 7.1906\n",
      "Epoch 47/100\n",
      "1/1 [==============================] - 0s 6ms/step - loss: 7.1850 - mae: 7.1850\n",
      "Epoch 48/100\n",
      "1/1 [==============================] - 0s 5ms/step - loss: 7.1794 - mae: 7.1794\n",
      "Epoch 49/100\n",
      "1/1 [==============================] - 0s 5ms/step - loss: 7.1737 - mae: 7.1737\n",
      "Epoch 50/100\n",
      "1/1 [==============================] - 0s 6ms/step - loss: 7.1681 - mae: 7.1681\n",
      "Epoch 51/100\n",
      "1/1 [==============================] - 0s 5ms/step - loss: 7.1625 - mae: 7.1625\n",
      "Epoch 52/100\n",
      "1/1 [==============================] - 0s 5ms/step - loss: 7.1569 - mae: 7.1569\n",
      "Epoch 53/100\n",
      "1/1 [==============================] - 0s 5ms/step - loss: 7.1512 - mae: 7.1512\n",
      "Epoch 54/100\n",
      "1/1 [==============================] - 0s 6ms/step - loss: 7.1456 - mae: 7.1456\n",
      "Epoch 55/100\n",
      "1/1 [==============================] - 0s 5ms/step - loss: 7.1400 - mae: 7.1400\n",
      "Epoch 56/100\n",
      "1/1 [==============================] - 0s 5ms/step - loss: 7.1344 - mae: 7.1344\n",
      "Epoch 57/100\n",
      "1/1 [==============================] - 0s 6ms/step - loss: 7.1287 - mae: 7.1287\n",
      "Epoch 58/100\n",
      "1/1 [==============================] - 0s 5ms/step - loss: 7.1231 - mae: 7.1231\n",
      "Epoch 59/100\n",
      "1/1 [==============================] - 0s 6ms/step - loss: 7.1175 - mae: 7.1175\n",
      "Epoch 60/100\n",
      "1/1 [==============================] - 0s 5ms/step - loss: 7.1119 - mae: 7.1119\n",
      "Epoch 61/100\n",
      "1/1 [==============================] - 0s 5ms/step - loss: 7.1062 - mae: 7.1062\n",
      "Epoch 62/100\n",
      "1/1 [==============================] - 0s 5ms/step - loss: 7.1006 - mae: 7.1006\n",
      "Epoch 63/100\n",
      "1/1 [==============================] - 0s 5ms/step - loss: 7.0950 - mae: 7.0950\n",
      "Epoch 64/100\n",
      "1/1 [==============================] - 0s 5ms/step - loss: 7.0894 - mae: 7.0894\n",
      "Epoch 65/100\n",
      "1/1 [==============================] - 0s 5ms/step - loss: 7.0838 - mae: 7.0838\n",
      "Epoch 66/100\n",
      "1/1 [==============================] - 0s 6ms/step - loss: 7.0781 - mae: 7.0781\n",
      "Epoch 67/100\n",
      "1/1 [==============================] - 0s 4ms/step - loss: 7.0725 - mae: 7.0725\n",
      "Epoch 68/100\n",
      "1/1 [==============================] - 0s 5ms/step - loss: 7.0669 - mae: 7.0669\n",
      "Epoch 69/100\n",
      "1/1 [==============================] - 0s 4ms/step - loss: 7.0613 - mae: 7.0613\n",
      "Epoch 70/100\n",
      "1/1 [==============================] - 0s 5ms/step - loss: 7.0556 - mae: 7.0556\n",
      "Epoch 71/100\n",
      "1/1 [==============================] - 0s 5ms/step - loss: 7.0500 - mae: 7.0500\n",
      "Epoch 72/100\n",
      "1/1 [==============================] - 0s 5ms/step - loss: 7.0444 - mae: 7.0444\n",
      "Epoch 73/100\n",
      "1/1 [==============================] - 0s 6ms/step - loss: 7.0388 - mae: 7.0388\n",
      "Epoch 74/100\n",
      "1/1 [==============================] - 0s 5ms/step - loss: 7.0331 - mae: 7.0331\n",
      "Epoch 75/100\n",
      "1/1 [==============================] - 0s 5ms/step - loss: 7.0275 - mae: 7.0275\n",
      "Epoch 76/100\n",
      "1/1 [==============================] - 0s 5ms/step - loss: 7.0219 - mae: 7.0219\n",
      "Epoch 77/100\n",
      "1/1 [==============================] - 0s 4ms/step - loss: 7.0163 - mae: 7.0163\n",
      "Epoch 78/100\n",
      "1/1 [==============================] - 0s 5ms/step - loss: 7.0106 - mae: 7.0106\n",
      "Epoch 79/100\n",
      "1/1 [==============================] - 0s 4ms/step - loss: 7.0050 - mae: 7.0050\n",
      "Epoch 80/100\n",
      "1/1 [==============================] - 0s 4ms/step - loss: 6.9994 - mae: 6.9994\n",
      "Epoch 81/100\n",
      "1/1 [==============================] - 0s 5ms/step - loss: 6.9938 - mae: 6.9938\n",
      "Epoch 82/100\n",
      "1/1 [==============================] - 0s 5ms/step - loss: 6.9881 - mae: 6.9881\n",
      "Epoch 83/100\n",
      "1/1 [==============================] - 0s 4ms/step - loss: 6.9825 - mae: 6.9825\n",
      "Epoch 84/100\n",
      "1/1 [==============================] - 0s 5ms/step - loss: 6.9769 - mae: 6.9769\n",
      "Epoch 85/100\n",
      "1/1 [==============================] - 0s 5ms/step - loss: 6.9713 - mae: 6.9713\n",
      "Epoch 86/100\n",
      "1/1 [==============================] - 0s 6ms/step - loss: 6.9656 - mae: 6.9656\n",
      "Epoch 87/100\n",
      "1/1 [==============================] - 0s 5ms/step - loss: 6.9600 - mae: 6.9600\n",
      "Epoch 88/100\n"
     ]
    },
    {
     "name": "stdout",
     "output_type": "stream",
     "text": [
      "1/1 [==============================] - 0s 6ms/step - loss: 6.9544 - mae: 6.9544\n",
      "Epoch 89/100\n",
      "1/1 [==============================] - 0s 4ms/step - loss: 6.9488 - mae: 6.9488\n",
      "Epoch 90/100\n",
      "1/1 [==============================] - 0s 5ms/step - loss: 6.9431 - mae: 6.9431\n",
      "Epoch 91/100\n",
      "1/1 [==============================] - 0s 5ms/step - loss: 6.9375 - mae: 6.9375\n",
      "Epoch 92/100\n",
      "1/1 [==============================] - 0s 5ms/step - loss: 6.9319 - mae: 6.9319\n",
      "Epoch 93/100\n",
      "1/1 [==============================] - 0s 5ms/step - loss: 6.9262 - mae: 6.9262\n",
      "Epoch 94/100\n",
      "1/1 [==============================] - 0s 5ms/step - loss: 6.9206 - mae: 6.9206\n",
      "Epoch 95/100\n",
      "1/1 [==============================] - 0s 5ms/step - loss: 6.9150 - mae: 6.9150\n",
      "Epoch 96/100\n",
      "1/1 [==============================] - 0s 4ms/step - loss: 6.9094 - mae: 6.9094\n",
      "Epoch 97/100\n",
      "1/1 [==============================] - 0s 5ms/step - loss: 6.9038 - mae: 6.9038\n",
      "Epoch 98/100\n",
      "1/1 [==============================] - 0s 4ms/step - loss: 6.8981 - mae: 6.8981\n",
      "Epoch 99/100\n",
      "1/1 [==============================] - 0s 5ms/step - loss: 6.8925 - mae: 6.8925\n",
      "Epoch 100/100\n",
      "1/1 [==============================] - 0s 5ms/step - loss: 6.8869 - mae: 6.8869\n"
     ]
    },
    {
     "data": {
      "text/plain": [
       "<keras.callbacks.History at 0x23f945f35c8>"
      ]
     },
     "execution_count": 14,
     "metadata": {},
     "output_type": "execute_result"
    }
   ],
   "source": [
    "# Rebuilding the model with larger epochs\n",
    "\n",
    "# 1. create the model\n",
    "model = tf.keras.Sequential([\n",
    "    tf.keras.layers.Dense(1)\n",
    "])\n",
    "\n",
    "\n",
    "# 2. compile the model\n",
    "model.compile(loss = tf.keras.losses.mae,\n",
    "             optimizer = tf.keras.optimizers.SGD(),\n",
    "             metrics=[\"mae\"])\n",
    "\n",
    "# 3. Fit the model (this time we'll train for longer)\n",
    "model.fit(tf.expand_dims(X, axis=-1), y, epochs=100)"
   ]
  },
  {
   "cell_type": "code",
   "execution_count": 15,
   "id": "4e860a26",
   "metadata": {},
   "outputs": [
    {
     "data": {
      "text/plain": [
       "array([[29.739855]], dtype=float32)"
      ]
     },
     "execution_count": 15,
     "metadata": {},
     "output_type": "execute_result"
    }
   ],
   "source": [
    "# predict using the model\n",
    "y_pred = model.predict([17.0])\n",
    "y_pred"
   ]
  },
  {
   "cell_type": "markdown",
   "id": "4f120206",
   "metadata": {},
   "source": [
    "# Lets see if we can make another change to our code to improve the model"
   ]
  },
  {
   "cell_type": "markdown",
   "id": "210236d1",
   "metadata": {},
   "source": [
    "## Adding another layer"
   ]
  },
  {
   "cell_type": "code",
   "execution_count": 16,
   "id": "578452e0",
   "metadata": {},
   "outputs": [
    {
     "name": "stdout",
     "output_type": "stream",
     "text": [
      "Epoch 1/100\n",
      "1/1 [==============================] - 0s 226ms/step - loss: 12.3193 - mae: 12.3193\n",
      "Epoch 2/100\n",
      "1/1 [==============================] - 0s 5ms/step - loss: 11.7804 - mae: 11.7804\n",
      "Epoch 3/100\n",
      "1/1 [==============================] - 0s 5ms/step - loss: 11.2324 - mae: 11.2324\n",
      "Epoch 4/100\n",
      "1/1 [==============================] - 0s 5ms/step - loss: 10.6601 - mae: 10.6601\n",
      "Epoch 5/100\n",
      "1/1 [==============================] - 0s 5ms/step - loss: 10.0632 - mae: 10.0632\n",
      "Epoch 6/100\n",
      "1/1 [==============================] - 0s 4ms/step - loss: 9.4503 - mae: 9.4503\n",
      "Epoch 7/100\n",
      "1/1 [==============================] - 0s 5ms/step - loss: 8.7991 - mae: 8.7991\n",
      "Epoch 8/100\n",
      "1/1 [==============================] - 0s 5ms/step - loss: 8.1072 - mae: 8.1072\n",
      "Epoch 9/100\n",
      "1/1 [==============================] - 0s 4ms/step - loss: 7.3691 - mae: 7.3691\n",
      "Epoch 10/100\n",
      "1/1 [==============================] - 0s 5ms/step - loss: 6.5758 - mae: 6.5758\n",
      "Epoch 11/100\n",
      "1/1 [==============================] - 0s 5ms/step - loss: 5.7205 - mae: 5.7205\n",
      "Epoch 12/100\n",
      "1/1 [==============================] - 0s 5ms/step - loss: 4.7947 - mae: 4.7947\n",
      "Epoch 13/100\n",
      "1/1 [==============================] - 0s 4ms/step - loss: 4.3581 - mae: 4.3581\n",
      "Epoch 14/100\n",
      "1/1 [==============================] - 0s 5ms/step - loss: 4.3134 - mae: 4.3134\n",
      "Epoch 15/100\n",
      "1/1 [==============================] - 0s 4ms/step - loss: 4.2550 - mae: 4.2550\n",
      "Epoch 16/100\n",
      "1/1 [==============================] - 0s 5ms/step - loss: 4.2442 - mae: 4.2442\n",
      "Epoch 17/100\n",
      "1/1 [==============================] - 0s 5ms/step - loss: 4.1520 - mae: 4.1520\n",
      "Epoch 18/100\n",
      "1/1 [==============================] - 0s 5ms/step - loss: 4.1739 - mae: 4.1739\n",
      "Epoch 19/100\n",
      "1/1 [==============================] - 0s 5ms/step - loss: 4.0681 - mae: 4.0681\n",
      "Epoch 20/100\n",
      "1/1 [==============================] - 0s 5ms/step - loss: 4.0807 - mae: 4.0807\n",
      "Epoch 21/100\n",
      "1/1 [==============================] - 0s 5ms/step - loss: 3.9954 - mae: 3.9954\n",
      "Epoch 22/100\n",
      "1/1 [==============================] - 0s 4ms/step - loss: 3.9739 - mae: 3.9739\n",
      "Epoch 23/100\n",
      "1/1 [==============================] - 0s 4ms/step - loss: 3.9208 - mae: 3.9208\n",
      "Epoch 24/100\n",
      "1/1 [==============================] - 0s 5ms/step - loss: 3.9047 - mae: 3.9047\n",
      "Epoch 25/100\n",
      "1/1 [==============================] - 0s 5ms/step - loss: 3.9267 - mae: 3.9267\n",
      "Epoch 26/100\n",
      "1/1 [==============================] - 0s 5ms/step - loss: 3.8797 - mae: 3.8797\n",
      "Epoch 27/100\n",
      "1/1 [==============================] - 0s 4ms/step - loss: 3.9341 - mae: 3.9341\n",
      "Epoch 28/100\n",
      "1/1 [==============================] - 0s 4ms/step - loss: 3.8678 - mae: 3.8678\n",
      "Epoch 29/100\n",
      "1/1 [==============================] - 0s 5ms/step - loss: 3.9274 - mae: 3.9274\n",
      "Epoch 30/100\n",
      "1/1 [==============================] - 0s 5ms/step - loss: 3.8751 - mae: 3.8751\n",
      "Epoch 31/100\n",
      "1/1 [==============================] - 0s 5ms/step - loss: 3.9080 - mae: 3.9080\n",
      "Epoch 32/100\n",
      "1/1 [==============================] - 0s 4ms/step - loss: 3.8893 - mae: 3.8893\n",
      "Epoch 33/100\n",
      "1/1 [==============================] - 0s 4ms/step - loss: 3.8834 - mae: 3.8834\n",
      "Epoch 34/100\n",
      "1/1 [==============================] - 0s 4ms/step - loss: 3.8969 - mae: 3.8969\n",
      "Epoch 35/100\n",
      "1/1 [==============================] - 0s 5ms/step - loss: 3.8581 - mae: 3.8581\n",
      "Epoch 36/100\n",
      "1/1 [==============================] - 0s 5ms/step - loss: 3.9046 - mae: 3.9046\n",
      "Epoch 37/100\n",
      "1/1 [==============================] - 0s 4ms/step - loss: 3.8386 - mae: 3.8386\n",
      "Epoch 38/100\n",
      "1/1 [==============================] - 0s 5ms/step - loss: 3.9054 - mae: 3.9054\n",
      "Epoch 39/100\n",
      "1/1 [==============================] - 0s 4ms/step - loss: 3.8482 - mae: 3.8482\n",
      "Epoch 40/100\n",
      "1/1 [==============================] - 0s 4ms/step - loss: 3.8862 - mae: 3.8862\n",
      "Epoch 41/100\n",
      "1/1 [==============================] - 0s 5ms/step - loss: 3.8605 - mae: 3.8605\n",
      "Epoch 42/100\n",
      "1/1 [==============================] - 0s 4ms/step - loss: 3.8608 - mae: 3.8608\n",
      "Epoch 43/100\n",
      "1/1 [==============================] - 0s 5ms/step - loss: 3.8683 - mae: 3.8683\n",
      "Epoch 44/100\n",
      "1/1 [==============================] - 0s 4ms/step - loss: 3.8352 - mae: 3.8352\n",
      "Epoch 45/100\n",
      "1/1 [==============================] - 0s 4ms/step - loss: 3.8762 - mae: 3.8762\n",
      "Epoch 46/100\n",
      "1/1 [==============================] - 0s 4ms/step - loss: 3.8106 - mae: 3.8106\n",
      "Epoch 47/100\n",
      "1/1 [==============================] - 0s 5ms/step - loss: 3.8821 - mae: 3.8821\n",
      "Epoch 48/100\n",
      "1/1 [==============================] - 0s 5ms/step - loss: 3.8234 - mae: 3.8234\n",
      "Epoch 49/100\n",
      "1/1 [==============================] - 0s 4ms/step - loss: 3.8626 - mae: 3.8626\n",
      "Epoch 50/100\n",
      "1/1 [==============================] - 0s 4ms/step - loss: 3.8328 - mae: 3.8328\n",
      "Epoch 51/100\n",
      "1/1 [==============================] - 0s 5ms/step - loss: 3.8369 - mae: 3.8369\n",
      "Epoch 52/100\n",
      "1/1 [==============================] - 0s 4ms/step - loss: 3.8408 - mae: 3.8408\n",
      "Epoch 53/100\n",
      "1/1 [==============================] - 0s 5ms/step - loss: 3.8111 - mae: 3.8111\n",
      "Epoch 54/100\n",
      "1/1 [==============================] - 0s 4ms/step - loss: 3.8489 - mae: 3.8489\n",
      "Epoch 55/100\n",
      "1/1 [==============================] - 0s 4ms/step - loss: 3.7850 - mae: 3.7850\n",
      "Epoch 56/100\n",
      "1/1 [==============================] - 0s 4ms/step - loss: 3.8585 - mae: 3.8585\n",
      "Epoch 57/100\n",
      "1/1 [==============================] - 0s 3ms/step - loss: 3.7982 - mae: 3.7982\n",
      "Epoch 58/100\n",
      "1/1 [==============================] - 0s 5ms/step - loss: 3.8377 - mae: 3.8377\n",
      "Epoch 59/100\n",
      "1/1 [==============================] - 0s 4ms/step - loss: 3.8062 - mae: 3.8062\n",
      "Epoch 60/100\n",
      "1/1 [==============================] - 0s 5ms/step - loss: 3.8117 - mae: 3.8117\n",
      "Epoch 61/100\n",
      "1/1 [==============================] - 0s 4ms/step - loss: 3.8144 - mae: 3.8144\n",
      "Epoch 62/100\n",
      "1/1 [==============================] - 0s 4ms/step - loss: 3.7856 - mae: 3.7856\n",
      "Epoch 63/100\n",
      "1/1 [==============================] - 0s 4ms/step - loss: 3.8227 - mae: 3.8227\n",
      "Epoch 64/100\n",
      "1/1 [==============================] - 0s 5ms/step - loss: 3.7593 - mae: 3.7593\n",
      "Epoch 65/100\n",
      "1/1 [==============================] - 0s 5ms/step - loss: 3.8352 - mae: 3.8352\n",
      "Epoch 66/100\n",
      "1/1 [==============================] - 0s 4ms/step - loss: 3.7725 - mae: 3.7725\n",
      "Epoch 67/100\n",
      "1/1 [==============================] - 0s 4ms/step - loss: 3.8115 - mae: 3.8115\n",
      "Epoch 68/100\n",
      "1/1 [==============================] - 0s 4ms/step - loss: 3.7807 - mae: 3.7807\n",
      "Epoch 69/100\n",
      "1/1 [==============================] - 0s 4ms/step - loss: 3.7853 - mae: 3.7853\n",
      "Epoch 70/100\n",
      "1/1 [==============================] - 0s 5ms/step - loss: 3.7891 - mae: 3.7891\n",
      "Epoch 71/100\n",
      "1/1 [==============================] - 0s 4ms/step - loss: 3.7588 - mae: 3.7588\n",
      "Epoch 72/100\n",
      "1/1 [==============================] - 0s 4ms/step - loss: 3.7975 - mae: 3.7975\n",
      "Epoch 73/100\n",
      "1/1 [==============================] - 0s 3ms/step - loss: 3.7337 - mae: 3.7337\n",
      "Epoch 74/100\n",
      "1/1 [==============================] - 0s 4ms/step - loss: 3.8105 - mae: 3.8105\n",
      "Epoch 75/100\n",
      "1/1 [==============================] - 0s 5ms/step - loss: 3.7478 - mae: 3.7478\n",
      "Epoch 76/100\n",
      "1/1 [==============================] - 0s 3ms/step - loss: 3.7840 - mae: 3.7840\n",
      "Epoch 77/100\n",
      "1/1 [==============================] - 0s 5ms/step - loss: 3.7563 - mae: 3.7563\n",
      "Epoch 78/100\n",
      "1/1 [==============================] - 0s 4ms/step - loss: 3.7575 - mae: 3.7575\n",
      "Epoch 79/100\n",
      "1/1 [==============================] - 0s 4ms/step - loss: 3.7648 - mae: 3.7648\n",
      "Epoch 80/100\n",
      "1/1 [==============================] - 0s 4ms/step - loss: 3.7307 - mae: 3.7307\n",
      "Epoch 81/100\n",
      "1/1 [==============================] - 0s 5ms/step - loss: 3.7735 - mae: 3.7735\n",
      "Epoch 82/100\n",
      "1/1 [==============================] - 0s 4ms/step - loss: 3.7125 - mae: 3.7125\n",
      "Epoch 83/100\n",
      "1/1 [==============================] - 0s 4ms/step - loss: 3.7820 - mae: 3.7820\n",
      "Epoch 84/100\n",
      "1/1 [==============================] - 0s 6ms/step - loss: 3.7242 - mae: 3.7242\n",
      "Epoch 85/100\n",
      "1/1 [==============================] - 0s 5ms/step - loss: 3.7552 - mae: 3.7552\n",
      "Epoch 86/100\n",
      "1/1 [==============================] - 0s 5ms/step - loss: 3.7329 - mae: 3.7329\n",
      "Epoch 87/100\n",
      "1/1 [==============================] - 0s 3ms/step - loss: 3.7284 - mae: 3.7284\n",
      "Epoch 88/100\n",
      "1/1 [==============================] - 0s 4ms/step - loss: 3.7416 - mae: 3.7416\n",
      "Epoch 89/100\n"
     ]
    },
    {
     "name": "stdout",
     "output_type": "stream",
     "text": [
      "1/1 [==============================] - 0s 4ms/step - loss: 3.7013 - mae: 3.7013\n",
      "Epoch 90/100\n",
      "1/1 [==============================] - 0s 4ms/step - loss: 3.7505 - mae: 3.7505\n",
      "Epoch 91/100\n",
      "1/1 [==============================] - 0s 4ms/step - loss: 3.6921 - mae: 3.6921\n",
      "Epoch 92/100\n",
      "1/1 [==============================] - 0s 5ms/step - loss: 3.7522 - mae: 3.7522\n",
      "Epoch 93/100\n",
      "1/1 [==============================] - 0s 4ms/step - loss: 3.7016 - mae: 3.7016\n",
      "Epoch 94/100\n",
      "1/1 [==============================] - 0s 5ms/step - loss: 3.7251 - mae: 3.7251\n",
      "Epoch 95/100\n",
      "1/1 [==============================] - 0s 4ms/step - loss: 3.7105 - mae: 3.7105\n",
      "Epoch 96/100\n",
      "1/1 [==============================] - 0s 4ms/step - loss: 3.6979 - mae: 3.6979\n",
      "Epoch 97/100\n",
      "1/1 [==============================] - 0s 5ms/step - loss: 3.7194 - mae: 3.7194\n",
      "Epoch 98/100\n",
      "1/1 [==============================] - 0s 3ms/step - loss: 3.6705 - mae: 3.6705\n",
      "Epoch 99/100\n",
      "1/1 [==============================] - 0s 5ms/step - loss: 3.7299 - mae: 3.7299\n",
      "Epoch 100/100\n",
      "1/1 [==============================] - 0s 4ms/step - loss: 3.6711 - mae: 3.6711\n"
     ]
    },
    {
     "data": {
      "text/plain": [
       "<keras.callbacks.History at 0x24077552a08>"
      ]
     },
     "execution_count": 16,
     "metadata": {},
     "output_type": "execute_result"
    }
   ],
   "source": [
    "# create model\n",
    "model = tf.keras.Sequential([\n",
    "    tf.keras.layers.Dense(100, activation=\"relu\"),\n",
    "    tf.keras.layers.Dense(1)\n",
    "])\n",
    "\n",
    "\n",
    "# compile the model\n",
    "model.compile(loss = tf.keras.losses.mae,\n",
    "             optimizer= tf.keras.optimizers.SGD(),\n",
    "             metrics = [\"mae\"])\n",
    "\n",
    "# fit the model\n",
    "model.fit(tf.expand_dims(X, axis=-1) ,y, epochs=100)"
   ]
  },
  {
   "cell_type": "code",
   "execution_count": 17,
   "id": "48f677a1",
   "metadata": {},
   "outputs": [
    {
     "data": {
      "text/plain": [
       "array([[31.22314]], dtype=float32)"
      ]
     },
     "execution_count": 17,
     "metadata": {},
     "output_type": "execute_result"
    }
   ],
   "source": [
    "# lets evaluate the model predictions\n",
    "model.predict([17.0])"
   ]
  },
  {
   "cell_type": "raw",
   "id": "adf1bd3f",
   "metadata": {},
   "source": [
    "# we can see from the above example that although mae has reduced, model prediction has not gotten better. This is a clear case of overfitting"
   ]
  },
  {
   "cell_type": "markdown",
   "id": "3771234e",
   "metadata": {},
   "source": [
    "## Decreasing the numnber of neurons in hidden layer"
   ]
  },
  {
   "cell_type": "code",
   "execution_count": 18,
   "id": "dbd1a76f",
   "metadata": {},
   "outputs": [
    {
     "name": "stdout",
     "output_type": "stream",
     "text": [
      "Epoch 1/100\n",
      "1/1 [==============================] - 0s 207ms/step - loss: 12.1456 - mae: 12.1456\n",
      "Epoch 2/100\n",
      "1/1 [==============================] - 0s 7ms/step - loss: 11.5538 - mae: 11.5538\n",
      "Epoch 3/100\n",
      "1/1 [==============================] - 0s 4ms/step - loss: 10.9405 - mae: 10.9405\n",
      "Epoch 4/100\n",
      "1/1 [==============================] - 0s 4ms/step - loss: 10.3009 - mae: 10.3009\n",
      "Epoch 5/100\n",
      "1/1 [==============================] - 0s 4ms/step - loss: 9.6325 - mae: 9.6325\n",
      "Epoch 6/100\n",
      "1/1 [==============================] - 0s 5ms/step - loss: 8.9314 - mae: 8.9314\n",
      "Epoch 7/100\n",
      "1/1 [==============================] - 0s 5ms/step - loss: 8.1937 - mae: 8.1937\n",
      "Epoch 8/100\n",
      "1/1 [==============================] - 0s 4ms/step - loss: 7.3997 - mae: 7.3997\n",
      "Epoch 9/100\n",
      "1/1 [==============================] - 0s 5ms/step - loss: 6.5612 - mae: 6.5612\n",
      "Epoch 10/100\n",
      "1/1 [==============================] - 0s 4ms/step - loss: 5.6630 - mae: 5.6630\n",
      "Epoch 11/100\n",
      "1/1 [==============================] - 0s 5ms/step - loss: 4.6956 - mae: 4.6956\n",
      "Epoch 12/100\n",
      "1/1 [==============================] - 0s 4ms/step - loss: 4.2610 - mae: 4.2610\n",
      "Epoch 13/100\n",
      "1/1 [==============================] - 0s 4ms/step - loss: 4.2586 - mae: 4.2586\n",
      "Epoch 14/100\n",
      "1/1 [==============================] - 0s 4ms/step - loss: 4.1631 - mae: 4.1631\n",
      "Epoch 15/100\n",
      "1/1 [==============================] - 0s 4ms/step - loss: 4.1946 - mae: 4.1946\n",
      "Epoch 16/100\n",
      "1/1 [==============================] - 0s 4ms/step - loss: 4.0891 - mae: 4.0891\n",
      "Epoch 17/100\n",
      "1/1 [==============================] - 0s 4ms/step - loss: 4.1034 - mae: 4.1034\n",
      "Epoch 18/100\n",
      "1/1 [==============================] - 0s 4ms/step - loss: 4.0234 - mae: 4.0234\n",
      "Epoch 19/100\n",
      "1/1 [==============================] - 0s 4ms/step - loss: 4.0029 - mae: 4.0029\n",
      "Epoch 20/100\n",
      "1/1 [==============================] - 0s 4ms/step - loss: 3.9563 - mae: 3.9563\n",
      "Epoch 21/100\n",
      "1/1 [==============================] - 0s 4ms/step - loss: 3.9147 - mae: 3.9147\n",
      "Epoch 22/100\n",
      "1/1 [==============================] - 0s 4ms/step - loss: 3.9407 - mae: 3.9407\n",
      "Epoch 23/100\n",
      "1/1 [==============================] - 0s 4ms/step - loss: 3.8891 - mae: 3.8891\n",
      "Epoch 24/100\n",
      "1/1 [==============================] - 0s 4ms/step - loss: 3.9518 - mae: 3.9518\n",
      "Epoch 25/100\n",
      "1/1 [==============================] - 0s 5ms/step - loss: 3.8861 - mae: 3.8861\n",
      "Epoch 26/100\n",
      "1/1 [==============================] - 0s 4ms/step - loss: 3.9452 - mae: 3.9452\n",
      "Epoch 27/100\n",
      "1/1 [==============================] - 0s 5ms/step - loss: 3.8940 - mae: 3.8940\n",
      "Epoch 28/100\n",
      "1/1 [==============================] - 0s 4ms/step - loss: 3.9197 - mae: 3.9197\n",
      "Epoch 29/100\n",
      "1/1 [==============================] - 0s 5ms/step - loss: 3.9021 - mae: 3.9021\n",
      "Epoch 30/100\n",
      "1/1 [==============================] - 0s 4ms/step - loss: 3.8941 - mae: 3.8941\n",
      "Epoch 31/100\n",
      "1/1 [==============================] - 0s 5ms/step - loss: 3.9102 - mae: 3.9102\n",
      "Epoch 32/100\n",
      "1/1 [==============================] - 0s 4ms/step - loss: 3.8686 - mae: 3.8686\n",
      "Epoch 33/100\n",
      "1/1 [==============================] - 0s 5ms/step - loss: 3.9247 - mae: 3.9247\n",
      "Epoch 34/100\n",
      "1/1 [==============================] - 0s 4ms/step - loss: 3.8562 - mae: 3.8562\n",
      "Epoch 35/100\n",
      "1/1 [==============================] - 0s 4ms/step - loss: 3.9239 - mae: 3.9239\n",
      "Epoch 36/100\n",
      "1/1 [==============================] - 0s 4ms/step - loss: 3.8643 - mae: 3.8643\n",
      "Epoch 37/100\n",
      "1/1 [==============================] - 0s 4ms/step - loss: 3.8982 - mae: 3.8982\n",
      "Epoch 38/100\n",
      "1/1 [==============================] - 0s 5ms/step - loss: 3.8725 - mae: 3.8725\n",
      "Epoch 39/100\n",
      "1/1 [==============================] - 0s 4ms/step - loss: 3.8723 - mae: 3.8723\n",
      "Epoch 40/100\n",
      "1/1 [==============================] - 0s 5ms/step - loss: 3.8809 - mae: 3.8809\n",
      "Epoch 41/100\n",
      "1/1 [==============================] - 0s 4ms/step - loss: 3.8492 - mae: 3.8492\n",
      "Epoch 42/100\n",
      "1/1 [==============================] - 0s 5ms/step - loss: 3.8956 - mae: 3.8956\n",
      "Epoch 43/100\n",
      "1/1 [==============================] - 0s 4ms/step - loss: 3.8274 - mae: 3.8274\n",
      "Epoch 44/100\n",
      "1/1 [==============================] - 0s 3ms/step - loss: 3.9013 - mae: 3.9013\n",
      "Epoch 45/100\n",
      "1/1 [==============================] - 0s 5ms/step - loss: 3.8357 - mae: 3.8357\n",
      "Epoch 46/100\n",
      "1/1 [==============================] - 0s 4ms/step - loss: 3.8753 - mae: 3.8753\n",
      "Epoch 47/100\n",
      "1/1 [==============================] - 0s 5ms/step - loss: 3.8442 - mae: 3.8442\n",
      "Epoch 48/100\n",
      "1/1 [==============================] - 0s 5ms/step - loss: 3.8492 - mae: 3.8492\n",
      "Epoch 49/100\n",
      "1/1 [==============================] - 0s 4ms/step - loss: 3.8527 - mae: 3.8527\n",
      "Epoch 50/100\n",
      "1/1 [==============================] - 0s 5ms/step - loss: 3.8283 - mae: 3.8283\n",
      "Epoch 51/100\n",
      "1/1 [==============================] - 0s 5ms/step - loss: 3.8675 - mae: 3.8675\n",
      "Epoch 52/100\n",
      "1/1 [==============================] - 0s 4ms/step - loss: 3.8019 - mae: 3.8019\n",
      "Epoch 53/100\n",
      "1/1 [==============================] - 0s 5ms/step - loss: 3.8763 - mae: 3.8763\n",
      "Epoch 54/100\n",
      "1/1 [==============================] - 0s 5ms/step - loss: 3.8082 - mae: 3.8082\n",
      "Epoch 55/100\n",
      "1/1 [==============================] - 0s 5ms/step - loss: 3.8512 - mae: 3.8512\n",
      "Epoch 56/100\n",
      "1/1 [==============================] - 0s 4ms/step - loss: 3.8169 - mae: 3.8169\n",
      "Epoch 57/100\n",
      "1/1 [==============================] - 0s 4ms/step - loss: 3.8248 - mae: 3.8248\n",
      "Epoch 58/100\n",
      "1/1 [==============================] - 0s 5ms/step - loss: 3.8273 - mae: 3.8273\n",
      "Epoch 59/100\n",
      "1/1 [==============================] - 0s 4ms/step - loss: 3.8037 - mae: 3.8037\n",
      "Epoch 60/100\n",
      "1/1 [==============================] - 0s 4ms/step - loss: 3.8406 - mae: 3.8406\n",
      "Epoch 61/100\n",
      "1/1 [==============================] - 0s 5ms/step - loss: 3.7769 - mae: 3.7769\n",
      "Epoch 62/100\n",
      "1/1 [==============================] - 0s 4ms/step - loss: 3.8496 - mae: 3.8496\n",
      "Epoch 63/100\n",
      "1/1 [==============================] - 0s 4ms/step - loss: 3.7818 - mae: 3.7818\n",
      "Epoch 64/100\n",
      "1/1 [==============================] - 0s 5ms/step - loss: 3.8258 - mae: 3.8258\n",
      "Epoch 65/100\n",
      "1/1 [==============================] - 0s 4ms/step - loss: 3.7907 - mae: 3.7907\n",
      "Epoch 66/100\n",
      "1/1 [==============================] - 0s 4ms/step - loss: 3.7991 - mae: 3.7991\n",
      "Epoch 67/100\n",
      "1/1 [==============================] - 0s 4ms/step - loss: 3.8035 - mae: 3.8035\n",
      "Epoch 68/100\n",
      "1/1 [==============================] - 0s 4ms/step - loss: 3.7776 - mae: 3.7776\n",
      "Epoch 69/100\n",
      "1/1 [==============================] - 0s 4ms/step - loss: 3.8148 - mae: 3.8148\n",
      "Epoch 70/100\n",
      "1/1 [==============================] - 0s 4ms/step - loss: 3.7505 - mae: 3.7505\n",
      "Epoch 71/100\n",
      "1/1 [==============================] - 0s 5ms/step - loss: 3.8240 - mae: 3.8240\n",
      "Epoch 72/100\n",
      "1/1 [==============================] - 0s 4ms/step - loss: 3.7565 - mae: 3.7565\n",
      "Epoch 73/100\n",
      "1/1 [==============================] - 0s 4ms/step - loss: 3.7991 - mae: 3.7991\n",
      "Epoch 74/100\n",
      "1/1 [==============================] - 0s 5ms/step - loss: 3.7655 - mae: 3.7655\n",
      "Epoch 75/100\n",
      "1/1 [==============================] - 0s 4ms/step - loss: 3.7726 - mae: 3.7726\n",
      "Epoch 76/100\n",
      "1/1 [==============================] - 0s 5ms/step - loss: 3.7807 - mae: 3.7807\n",
      "Epoch 77/100\n",
      "1/1 [==============================] - 0s 3ms/step - loss: 3.7503 - mae: 3.7503\n",
      "Epoch 78/100\n",
      "1/1 [==============================] - 0s 4ms/step - loss: 3.7900 - mae: 3.7900\n",
      "Epoch 79/100\n",
      "1/1 [==============================] - 0s 5ms/step - loss: 3.7231 - mae: 3.7231\n",
      "Epoch 80/100\n",
      "1/1 [==============================] - 0s 4ms/step - loss: 3.7983 - mae: 3.7983\n",
      "Epoch 81/100\n",
      "1/1 [==============================] - 0s 5ms/step - loss: 3.7322 - mae: 3.7322\n",
      "Epoch 82/100\n",
      "1/1 [==============================] - 0s 5ms/step - loss: 3.7711 - mae: 3.7711\n",
      "Epoch 83/100\n",
      "1/1 [==============================] - 0s 5ms/step - loss: 3.7414 - mae: 3.7414\n",
      "Epoch 84/100\n",
      "1/1 [==============================] - 0s 5ms/step - loss: 3.7462 - mae: 3.7462\n",
      "Epoch 85/100\n",
      "1/1 [==============================] - 0s 5ms/step - loss: 3.7568 - mae: 3.7568\n",
      "Epoch 86/100\n",
      "1/1 [==============================] - 0s 5ms/step - loss: 3.7216 - mae: 3.7216\n",
      "Epoch 87/100\n",
      "1/1 [==============================] - 0s 4ms/step - loss: 3.7663 - mae: 3.7663\n",
      "Epoch 88/100\n",
      "1/1 [==============================] - 0s 4ms/step - loss: 3.6996 - mae: 3.6996\n",
      "Epoch 89/100\n"
     ]
    },
    {
     "name": "stdout",
     "output_type": "stream",
     "text": [
      "1/1 [==============================] - 0s 4ms/step - loss: 3.7692 - mae: 3.7692\n",
      "Epoch 90/100\n",
      "1/1 [==============================] - 0s 5ms/step - loss: 3.7089 - mae: 3.7089\n",
      "Epoch 91/100\n",
      "1/1 [==============================] - 0s 5ms/step - loss: 3.7418 - mae: 3.7418\n",
      "Epoch 92/100\n",
      "1/1 [==============================] - 0s 4ms/step - loss: 3.7184 - mae: 3.7184\n",
      "Epoch 93/100\n",
      "1/1 [==============================] - 0s 4ms/step - loss: 3.7183 - mae: 3.7183\n",
      "Epoch 94/100\n",
      "1/1 [==============================] - 0s 4ms/step - loss: 3.7339 - mae: 3.7339\n",
      "Epoch 95/100\n",
      "1/1 [==============================] - 0s 5ms/step - loss: 3.6916 - mae: 3.6916\n",
      "Epoch 96/100\n",
      "1/1 [==============================] - 0s 4ms/step - loss: 3.7436 - mae: 3.7436\n",
      "Epoch 97/100\n",
      "1/1 [==============================] - 0s 4ms/step - loss: 3.6771 - mae: 3.6771\n",
      "Epoch 98/100\n",
      "1/1 [==============================] - 0s 4ms/step - loss: 3.7389 - mae: 3.7389\n",
      "Epoch 99/100\n",
      "1/1 [==============================] - 0s 5ms/step - loss: 3.6866 - mae: 3.6866\n",
      "Epoch 100/100\n",
      "1/1 [==============================] - 0s 5ms/step - loss: 3.7111 - mae: 3.7111\n"
     ]
    },
    {
     "data": {
      "text/plain": [
       "<keras.callbacks.History at 0x2407964c608>"
      ]
     },
     "execution_count": 18,
     "metadata": {},
     "output_type": "execute_result"
    }
   ],
   "source": [
    "# create model\n",
    "model = tf.keras.Sequential([\n",
    "    tf.keras.layers.Dense(50, activation=\"relu\"),\n",
    "    tf.keras.layers.Dense(1)\n",
    "])\n",
    "\n",
    "\n",
    "# compile the model\n",
    "model.compile(loss = tf.keras.losses.mae,\n",
    "             optimizer= tf.keras.optimizers.SGD(),\n",
    "             metrics = [\"mae\"])\n",
    "\n",
    "# fit the model\n",
    "model.fit(tf.expand_dims(X, axis=-1) ,y, epochs=100)"
   ]
  },
  {
   "cell_type": "code",
   "execution_count": 19,
   "id": "8d617c2b",
   "metadata": {},
   "outputs": [
    {
     "data": {
      "text/plain": [
       "array([[32.454906]], dtype=float32)"
      ]
     },
     "execution_count": 19,
     "metadata": {},
     "output_type": "execute_result"
    }
   ],
   "source": [
    "# lets evaluate the model predictions\n",
    "model.predict([17.0])"
   ]
  },
  {
   "cell_type": "raw",
   "id": "f29840f3",
   "metadata": {},
   "source": [
    "prediction has become even worse"
   ]
  },
  {
   "cell_type": "markdown",
   "id": "2085dc0b",
   "metadata": {},
   "source": [
    "## Removing the Activation fuction from hidden layer"
   ]
  },
  {
   "cell_type": "code",
   "execution_count": 20,
   "id": "a066095f",
   "metadata": {},
   "outputs": [
    {
     "name": "stdout",
     "output_type": "stream",
     "text": [
      "Epoch 1/100\n",
      "1/1 [==============================] - 0s 202ms/step - loss: 12.5419 - mae: 12.5419\n",
      "Epoch 2/100\n",
      "1/1 [==============================] - 0s 6ms/step - loss: 12.0344 - mae: 12.0344\n",
      "Epoch 3/100\n",
      "1/1 [==============================] - 0s 5ms/step - loss: 11.5205 - mae: 11.5205\n",
      "Epoch 4/100\n",
      "1/1 [==============================] - 0s 4ms/step - loss: 10.9976 - mae: 10.9976\n",
      "Epoch 5/100\n",
      "1/1 [==============================] - 0s 5ms/step - loss: 10.4629 - mae: 10.4629\n",
      "Epoch 6/100\n",
      "1/1 [==============================] - 0s 4ms/step - loss: 9.9137 - mae: 9.9137\n",
      "Epoch 7/100\n",
      "1/1 [==============================] - 0s 5ms/step - loss: 9.3473 - mae: 9.3473\n",
      "Epoch 8/100\n",
      "1/1 [==============================] - 0s 4ms/step - loss: 8.7606 - mae: 8.7606\n",
      "Epoch 9/100\n",
      "1/1 [==============================] - 0s 5ms/step - loss: 8.1507 - mae: 8.1507\n",
      "Epoch 10/100\n",
      "1/1 [==============================] - 0s 4ms/step - loss: 7.5144 - mae: 7.5144\n",
      "Epoch 11/100\n",
      "1/1 [==============================] - 0s 5ms/step - loss: 7.2651 - mae: 7.2651\n",
      "Epoch 12/100\n",
      "1/1 [==============================] - 0s 5ms/step - loss: 7.2457 - mae: 7.2457\n",
      "Epoch 13/100\n",
      "1/1 [==============================] - 0s 4ms/step - loss: 7.2263 - mae: 7.2263\n",
      "Epoch 14/100\n",
      "1/1 [==============================] - 0s 4ms/step - loss: 7.2068 - mae: 7.2068\n",
      "Epoch 15/100\n",
      "1/1 [==============================] - 0s 5ms/step - loss: 7.1873 - mae: 7.1873\n",
      "Epoch 16/100\n",
      "1/1 [==============================] - 0s 5ms/step - loss: 7.1677 - mae: 7.1677\n",
      "Epoch 17/100\n",
      "1/1 [==============================] - 0s 4ms/step - loss: 7.1481 - mae: 7.1481\n",
      "Epoch 18/100\n",
      "1/1 [==============================] - 0s 4ms/step - loss: 7.1285 - mae: 7.1285\n",
      "Epoch 19/100\n",
      "1/1 [==============================] - 0s 4ms/step - loss: 7.1087 - mae: 7.1087\n",
      "Epoch 20/100\n",
      "1/1 [==============================] - 0s 4ms/step - loss: 7.0890 - mae: 7.0890\n",
      "Epoch 21/100\n",
      "1/1 [==============================] - 0s 5ms/step - loss: 7.0691 - mae: 7.0691\n",
      "Epoch 22/100\n",
      "1/1 [==============================] - 0s 4ms/step - loss: 7.0492 - mae: 7.0492\n",
      "Epoch 23/100\n",
      "1/1 [==============================] - 0s 5ms/step - loss: 7.0292 - mae: 7.0292\n",
      "Epoch 24/100\n",
      "1/1 [==============================] - 0s 5ms/step - loss: 7.0092 - mae: 7.0092\n",
      "Epoch 25/100\n",
      "1/1 [==============================] - 0s 5ms/step - loss: 6.9890 - mae: 6.9890\n",
      "Epoch 26/100\n",
      "1/1 [==============================] - 0s 4ms/step - loss: 6.9688 - mae: 6.9688\n",
      "Epoch 27/100\n",
      "1/1 [==============================] - 0s 5ms/step - loss: 6.9486 - mae: 6.9486\n",
      "Epoch 28/100\n",
      "1/1 [==============================] - 0s 5ms/step - loss: 6.9326 - mae: 6.9326\n",
      "Epoch 29/100\n",
      "1/1 [==============================] - 0s 4ms/step - loss: 6.9222 - mae: 6.9222\n",
      "Epoch 30/100\n",
      "1/1 [==============================] - 0s 4ms/step - loss: 6.9022 - mae: 6.9022\n",
      "Epoch 31/100\n",
      "1/1 [==============================] - 0s 5ms/step - loss: 6.8822 - mae: 6.8822\n",
      "Epoch 32/100\n",
      "1/1 [==============================] - 0s 4ms/step - loss: 6.8620 - mae: 6.8620\n",
      "Epoch 33/100\n",
      "1/1 [==============================] - 0s 5ms/step - loss: 6.8418 - mae: 6.8418\n",
      "Epoch 34/100\n",
      "1/1 [==============================] - 0s 4ms/step - loss: 6.8214 - mae: 6.8214\n",
      "Epoch 35/100\n",
      "1/1 [==============================] - 0s 4ms/step - loss: 6.8010 - mae: 6.8010\n",
      "Epoch 36/100\n",
      "1/1 [==============================] - 0s 5ms/step - loss: 6.7804 - mae: 6.7804\n",
      "Epoch 37/100\n",
      "1/1 [==============================] - 0s 4ms/step - loss: 6.7597 - mae: 6.7597\n",
      "Epoch 38/100\n",
      "1/1 [==============================] - 0s 4ms/step - loss: 6.7389 - mae: 6.7389\n",
      "Epoch 39/100\n",
      "1/1 [==============================] - 0s 4ms/step - loss: 6.7180 - mae: 6.7180\n",
      "Epoch 40/100\n",
      "1/1 [==============================] - 0s 5ms/step - loss: 6.6970 - mae: 6.6970\n",
      "Epoch 41/100\n",
      "1/1 [==============================] - 0s 4ms/step - loss: 6.6758 - mae: 6.6758\n",
      "Epoch 42/100\n",
      "1/1 [==============================] - 0s 4ms/step - loss: 6.6545 - mae: 6.6545\n",
      "Epoch 43/100\n",
      "1/1 [==============================] - 0s 4ms/step - loss: 6.6331 - mae: 6.6331\n",
      "Epoch 44/100\n",
      "1/1 [==============================] - 0s 5ms/step - loss: 6.6116 - mae: 6.6116\n",
      "Epoch 45/100\n",
      "1/1 [==============================] - 0s 4ms/step - loss: 6.5899 - mae: 6.5899\n",
      "Epoch 46/100\n",
      "1/1 [==============================] - 0s 4ms/step - loss: 6.5680 - mae: 6.5680\n",
      "Epoch 47/100\n",
      "1/1 [==============================] - 0s 4ms/step - loss: 6.5460 - mae: 6.5460\n",
      "Epoch 48/100\n",
      "1/1 [==============================] - 0s 5ms/step - loss: 6.5239 - mae: 6.5239\n",
      "Epoch 49/100\n",
      "1/1 [==============================] - 0s 5ms/step - loss: 6.5016 - mae: 6.5016\n",
      "Epoch 50/100\n",
      "1/1 [==============================] - 0s 6ms/step - loss: 6.4791 - mae: 6.4791\n",
      "Epoch 51/100\n",
      "1/1 [==============================] - 0s 5ms/step - loss: 6.4565 - mae: 6.4565\n",
      "Epoch 52/100\n",
      "1/1 [==============================] - 0s 4ms/step - loss: 6.4418 - mae: 6.4418\n",
      "Epoch 53/100\n",
      "1/1 [==============================] - 0s 5ms/step - loss: 6.4321 - mae: 6.4321\n",
      "Epoch 54/100\n",
      "1/1 [==============================] - 0s 5ms/step - loss: 6.4096 - mae: 6.4096\n",
      "Epoch 55/100\n",
      "1/1 [==============================] - 0s 4ms/step - loss: 6.3869 - mae: 6.3869\n",
      "Epoch 56/100\n",
      "1/1 [==============================] - 0s 5ms/step - loss: 6.3640 - mae: 6.3640\n",
      "Epoch 57/100\n",
      "1/1 [==============================] - 0s 4ms/step - loss: 6.3410 - mae: 6.3410\n",
      "Epoch 58/100\n",
      "1/1 [==============================] - 0s 4ms/step - loss: 6.3178 - mae: 6.3178\n",
      "Epoch 59/100\n",
      "1/1 [==============================] - 0s 5ms/step - loss: 6.2943 - mae: 6.2943\n",
      "Epoch 60/100\n",
      "1/1 [==============================] - 0s 5ms/step - loss: 6.2707 - mae: 6.2707\n",
      "Epoch 61/100\n",
      "1/1 [==============================] - 0s 3ms/step - loss: 6.2469 - mae: 6.2469\n",
      "Epoch 62/100\n",
      "1/1 [==============================] - 0s 5ms/step - loss: 6.2229 - mae: 6.2229\n",
      "Epoch 63/100\n",
      "1/1 [==============================] - 0s 4ms/step - loss: 6.1986 - mae: 6.1986\n",
      "Epoch 64/100\n",
      "1/1 [==============================] - 0s 4ms/step - loss: 6.1742 - mae: 6.1742\n",
      "Epoch 65/100\n",
      "1/1 [==============================] - 0s 4ms/step - loss: 6.1496 - mae: 6.1496\n",
      "Epoch 66/100\n",
      "1/1 [==============================] - 0s 5ms/step - loss: 6.1247 - mae: 6.1247\n",
      "Epoch 67/100\n",
      "1/1 [==============================] - 0s 5ms/step - loss: 6.0996 - mae: 6.0996\n",
      "Epoch 68/100\n",
      "1/1 [==============================] - 0s 4ms/step - loss: 6.0743 - mae: 6.0743\n",
      "Epoch 69/100\n",
      "1/1 [==============================] - 0s 4ms/step - loss: 6.0488 - mae: 6.0488\n",
      "Epoch 70/100\n",
      "1/1 [==============================] - 0s 4ms/step - loss: 6.0269 - mae: 6.0269\n",
      "Epoch 71/100\n",
      "1/1 [==============================] - 0s 6ms/step - loss: 6.0234 - mae: 6.0234\n",
      "Epoch 72/100\n",
      "1/1 [==============================] - 0s 4ms/step - loss: 5.9977 - mae: 5.9977\n",
      "Epoch 73/100\n",
      "1/1 [==============================] - 0s 5ms/step - loss: 5.9718 - mae: 5.9718\n",
      "Epoch 74/100\n",
      "1/1 [==============================] - 0s 5ms/step - loss: 5.9457 - mae: 5.9457\n",
      "Epoch 75/100\n",
      "1/1 [==============================] - 0s 5ms/step - loss: 5.9193 - mae: 5.9193\n",
      "Epoch 76/100\n",
      "1/1 [==============================] - 0s 4ms/step - loss: 5.8927 - mae: 5.8927\n",
      "Epoch 77/100\n",
      "1/1 [==============================] - 0s 4ms/step - loss: 5.8657 - mae: 5.8657\n",
      "Epoch 78/100\n",
      "1/1 [==============================] - 0s 4ms/step - loss: 5.8386 - mae: 5.8386\n",
      "Epoch 79/100\n",
      "1/1 [==============================] - 0s 5ms/step - loss: 5.8111 - mae: 5.8111\n",
      "Epoch 80/100\n",
      "1/1 [==============================] - 0s 4ms/step - loss: 5.7834 - mae: 5.7834\n",
      "Epoch 81/100\n",
      "1/1 [==============================] - 0s 4ms/step - loss: 5.7554 - mae: 5.7554\n",
      "Epoch 82/100\n",
      "1/1 [==============================] - 0s 4ms/step - loss: 5.7271 - mae: 5.7271\n",
      "Epoch 83/100\n",
      "1/1 [==============================] - 0s 4ms/step - loss: 5.6985 - mae: 5.6985\n",
      "Epoch 84/100\n",
      "1/1 [==============================] - 0s 4ms/step - loss: 5.6696 - mae: 5.6696\n",
      "Epoch 85/100\n",
      "1/1 [==============================] - 0s 4ms/step - loss: 5.6405 - mae: 5.6405\n",
      "Epoch 86/100\n",
      "1/1 [==============================] - 0s 4ms/step - loss: 5.6257 - mae: 5.6257\n",
      "Epoch 87/100\n",
      "1/1 [==============================] - 0s 4ms/step - loss: 5.6167 - mae: 5.6167\n",
      "Epoch 88/100\n",
      "1/1 [==============================] - 0s 4ms/step - loss: 5.7361 - mae: 5.7361\n",
      "Epoch 89/100\n"
     ]
    },
    {
     "name": "stdout",
     "output_type": "stream",
     "text": [
      "1/1 [==============================] - 0s 3ms/step - loss: 5.5483 - mae: 5.5483\n",
      "Epoch 90/100\n",
      "1/1 [==============================] - 0s 5ms/step - loss: 5.5181 - mae: 5.5181\n",
      "Epoch 91/100\n",
      "1/1 [==============================] - 0s 5ms/step - loss: 5.4876 - mae: 5.4876\n",
      "Epoch 92/100\n",
      "1/1 [==============================] - 0s 4ms/step - loss: 5.4567 - mae: 5.4567\n",
      "Epoch 93/100\n",
      "1/1 [==============================] - 0s 4ms/step - loss: 5.4254 - mae: 5.4254\n",
      "Epoch 94/100\n",
      "1/1 [==============================] - 0s 4ms/step - loss: 5.3939 - mae: 5.3939\n",
      "Epoch 95/100\n",
      "1/1 [==============================] - 0s 5ms/step - loss: 5.3619 - mae: 5.3619\n",
      "Epoch 96/100\n",
      "1/1 [==============================] - 0s 4ms/step - loss: 5.3296 - mae: 5.3296\n",
      "Epoch 97/100\n",
      "1/1 [==============================] - 0s 4ms/step - loss: 5.3150 - mae: 5.3150\n",
      "Epoch 98/100\n",
      "1/1 [==============================] - 0s 4ms/step - loss: 5.3422 - mae: 5.3422\n",
      "Epoch 99/100\n",
      "1/1 [==============================] - 0s 4ms/step - loss: 5.4287 - mae: 5.4287\n",
      "Epoch 100/100\n",
      "1/1 [==============================] - 0s 5ms/step - loss: 5.2273 - mae: 5.2273\n"
     ]
    },
    {
     "data": {
      "text/plain": [
       "<keras.callbacks.History at 0x24085572588>"
      ]
     },
     "execution_count": 20,
     "metadata": {},
     "output_type": "execute_result"
    }
   ],
   "source": [
    "# create model\n",
    "model = tf.keras.Sequential([\n",
    "    tf.keras.layers.Dense(50, activation=None),\n",
    "    tf.keras.layers.Dense(1)\n",
    "])\n",
    "\n",
    "\n",
    "# compile the model\n",
    "model.compile(loss = tf.keras.losses.mae,\n",
    "             optimizer= tf.keras.optimizers.SGD(),\n",
    "             metrics = [\"mae\"])\n",
    "\n",
    "# fit the model\n",
    "model.fit(tf.expand_dims(X, axis=-1) ,y, epochs=100)"
   ]
  },
  {
   "cell_type": "code",
   "execution_count": 21,
   "id": "eccdb61f",
   "metadata": {},
   "outputs": [
    {
     "name": "stdout",
     "output_type": "stream",
     "text": [
      "WARNING:tensorflow:5 out of the last 5 calls to <function Model.make_predict_function.<locals>.predict_function at 0x000002408558E3A8> triggered tf.function retracing. Tracing is expensive and the excessive number of tracings could be due to (1) creating @tf.function repeatedly in a loop, (2) passing tensors with different shapes, (3) passing Python objects instead of tensors. For (1), please define your @tf.function outside of the loop. For (2), @tf.function has experimental_relax_shapes=True option that relaxes argument shapes that can avoid unnecessary retracing. For (3), please refer to https://www.tensorflow.org/guide/function#controlling_retracing and https://www.tensorflow.org/api_docs/python/tf/function for  more details.\n"
     ]
    },
    {
     "data": {
      "text/plain": [
       "array([[29.522358]], dtype=float32)"
      ]
     },
     "execution_count": 21,
     "metadata": {},
     "output_type": "execute_result"
    }
   ],
   "source": [
    "# lets evaluate the model predictions\n",
    "model.predict([17.0])"
   ]
  },
  {
   "cell_type": "markdown",
   "id": "fda0724e",
   "metadata": {},
   "source": [
    "## Changing from SGD to Adam Optimizers"
   ]
  },
  {
   "cell_type": "code",
   "execution_count": 22,
   "id": "3b57ab00",
   "metadata": {},
   "outputs": [
    {
     "name": "stdout",
     "output_type": "stream",
     "text": [
      "Epoch 1/100\n",
      "1/1 [==============================] - 0s 231ms/step - loss: 12.0125 - mae: 12.0125\n",
      "Epoch 2/100\n",
      "1/1 [==============================] - 0s 7ms/step - loss: 11.2511 - mae: 11.2511\n",
      "Epoch 3/100\n",
      "1/1 [==============================] - 0s 5ms/step - loss: 10.4828 - mae: 10.4828\n",
      "Epoch 4/100\n",
      "1/1 [==============================] - 0s 5ms/step - loss: 9.7066 - mae: 9.7066\n",
      "Epoch 5/100\n",
      "1/1 [==============================] - 0s 4ms/step - loss: 8.9205 - mae: 8.9205\n",
      "Epoch 6/100\n",
      "1/1 [==============================] - 0s 5ms/step - loss: 8.1219 - mae: 8.1219\n",
      "Epoch 7/100\n",
      "1/1 [==============================] - 0s 6ms/step - loss: 7.3078 - mae: 7.3078\n",
      "Epoch 8/100\n",
      "1/1 [==============================] - 0s 5ms/step - loss: 6.9190 - mae: 6.9190\n",
      "Epoch 9/100\n",
      "1/1 [==============================] - 0s 5ms/step - loss: 7.2155 - mae: 7.2155\n",
      "Epoch 10/100\n",
      "1/1 [==============================] - 0s 5ms/step - loss: 7.4987 - mae: 7.4987\n",
      "Epoch 11/100\n",
      "1/1 [==============================] - 0s 5ms/step - loss: 7.7692 - mae: 7.7692\n",
      "Epoch 12/100\n",
      "1/1 [==============================] - 0s 5ms/step - loss: 7.8018 - mae: 7.8018\n",
      "Epoch 13/100\n",
      "1/1 [==============================] - 0s 4ms/step - loss: 7.6250 - mae: 7.6250\n",
      "Epoch 14/100\n",
      "1/1 [==============================] - 0s 4ms/step - loss: 7.2965 - mae: 7.2965\n",
      "Epoch 15/100\n",
      "1/1 [==============================] - 0s 5ms/step - loss: 7.0057 - mae: 7.0057\n",
      "Epoch 16/100\n",
      "1/1 [==============================] - 0s 5ms/step - loss: 6.7079 - mae: 6.7079\n",
      "Epoch 17/100\n",
      "1/1 [==============================] - 0s 5ms/step - loss: 6.3952 - mae: 6.3952\n",
      "Epoch 18/100\n",
      "1/1 [==============================] - 0s 4ms/step - loss: 6.2693 - mae: 6.2693\n",
      "Epoch 19/100\n",
      "1/1 [==============================] - 0s 5ms/step - loss: 6.2202 - mae: 6.2202\n",
      "Epoch 20/100\n",
      "1/1 [==============================] - 0s 4ms/step - loss: 6.4359 - mae: 6.4359\n",
      "Epoch 21/100\n",
      "1/1 [==============================] - 0s 4ms/step - loss: 6.5282 - mae: 6.5282\n",
      "Epoch 22/100\n",
      "1/1 [==============================] - 0s 4ms/step - loss: 6.5113 - mae: 6.5113\n",
      "Epoch 23/100\n",
      "1/1 [==============================] - 0s 5ms/step - loss: 6.3993 - mae: 6.3993\n",
      "Epoch 24/100\n",
      "1/1 [==============================] - 0s 4ms/step - loss: 6.2026 - mae: 6.2026\n",
      "Epoch 25/100\n",
      "1/1 [==============================] - 0s 4ms/step - loss: 5.9290 - mae: 5.9290\n",
      "Epoch 26/100\n",
      "1/1 [==============================] - 0s 5ms/step - loss: 5.6556 - mae: 5.6556\n",
      "Epoch 27/100\n",
      "1/1 [==============================] - 0s 5ms/step - loss: 5.5464 - mae: 5.5464\n",
      "Epoch 28/100\n",
      "1/1 [==============================] - 0s 4ms/step - loss: 5.4514 - mae: 5.4514\n",
      "Epoch 29/100\n",
      "1/1 [==============================] - 0s 5ms/step - loss: 5.4639 - mae: 5.4639\n",
      "Epoch 30/100\n",
      "1/1 [==============================] - 0s 5ms/step - loss: 5.4262 - mae: 5.4262\n",
      "Epoch 31/100\n",
      "1/1 [==============================] - 0s 5ms/step - loss: 5.3423 - mae: 5.3423\n",
      "Epoch 32/100\n",
      "1/1 [==============================] - 0s 4ms/step - loss: 5.2159 - mae: 5.2159\n",
      "Epoch 33/100\n",
      "1/1 [==============================] - 0s 5ms/step - loss: 5.0506 - mae: 5.0506\n",
      "Epoch 34/100\n",
      "1/1 [==============================] - 0s 5ms/step - loss: 4.8499 - mae: 4.8499\n",
      "Epoch 35/100\n",
      "1/1 [==============================] - 0s 5ms/step - loss: 4.7462 - mae: 4.7462\n",
      "Epoch 36/100\n",
      "1/1 [==============================] - 0s 5ms/step - loss: 4.6486 - mae: 4.6486\n",
      "Epoch 37/100\n",
      "1/1 [==============================] - 0s 5ms/step - loss: 4.5830 - mae: 4.5830\n",
      "Epoch 38/100\n",
      "1/1 [==============================] - 0s 5ms/step - loss: 4.4920 - mae: 4.4920\n",
      "Epoch 39/100\n",
      "1/1 [==============================] - 0s 4ms/step - loss: 4.2849 - mae: 4.2849\n",
      "Epoch 40/100\n",
      "1/1 [==============================] - 0s 5ms/step - loss: 4.1312 - mae: 4.1312\n",
      "Epoch 41/100\n",
      "1/1 [==============================] - 0s 4ms/step - loss: 3.9721 - mae: 3.9721\n",
      "Epoch 42/100\n",
      "1/1 [==============================] - 0s 4ms/step - loss: 3.9133 - mae: 3.9133\n",
      "Epoch 43/100\n",
      "1/1 [==============================] - 0s 5ms/step - loss: 3.8267 - mae: 3.8267\n",
      "Epoch 44/100\n",
      "1/1 [==============================] - 0s 4ms/step - loss: 3.6842 - mae: 3.6842\n",
      "Epoch 45/100\n",
      "1/1 [==============================] - 0s 6ms/step - loss: 3.4892 - mae: 3.4892\n",
      "Epoch 46/100\n",
      "1/1 [==============================] - 0s 4ms/step - loss: 3.2445 - mae: 3.2445\n",
      "Epoch 47/100\n",
      "1/1 [==============================] - 0s 4ms/step - loss: 3.0204 - mae: 3.0204\n",
      "Epoch 48/100\n",
      "1/1 [==============================] - 0s 4ms/step - loss: 2.8555 - mae: 2.8555\n",
      "Epoch 49/100\n",
      "1/1 [==============================] - 0s 5ms/step - loss: 2.7954 - mae: 2.7954\n",
      "Epoch 50/100\n",
      "1/1 [==============================] - 0s 5ms/step - loss: 2.5992 - mae: 2.5992\n",
      "Epoch 51/100\n",
      "1/1 [==============================] - 0s 4ms/step - loss: 2.2616 - mae: 2.2616\n",
      "Epoch 52/100\n",
      "1/1 [==============================] - 0s 4ms/step - loss: 2.0326 - mae: 2.0326\n",
      "Epoch 53/100\n",
      "1/1 [==============================] - 0s 5ms/step - loss: 1.8759 - mae: 1.8759\n",
      "Epoch 54/100\n",
      "1/1 [==============================] - 0s 5ms/step - loss: 1.6839 - mae: 1.6839\n",
      "Epoch 55/100\n",
      "1/1 [==============================] - 0s 5ms/step - loss: 1.4214 - mae: 1.4214\n",
      "Epoch 56/100\n",
      "1/1 [==============================] - 0s 5ms/step - loss: 1.0921 - mae: 1.0921\n",
      "Epoch 57/100\n",
      "1/1 [==============================] - 0s 4ms/step - loss: 0.9738 - mae: 0.9738\n",
      "Epoch 58/100\n",
      "1/1 [==============================] - 0s 4ms/step - loss: 0.7647 - mae: 0.7647\n",
      "Epoch 59/100\n",
      "1/1 [==============================] - 0s 4ms/step - loss: 0.3742 - mae: 0.3742\n",
      "Epoch 60/100\n",
      "1/1 [==============================] - 0s 4ms/step - loss: 0.3349 - mae: 0.3349\n",
      "Epoch 61/100\n",
      "1/1 [==============================] - 0s 4ms/step - loss: 0.4253 - mae: 0.4253\n",
      "Epoch 62/100\n",
      "1/1 [==============================] - 0s 5ms/step - loss: 0.4527 - mae: 0.4527\n",
      "Epoch 63/100\n",
      "1/1 [==============================] - 0s 5ms/step - loss: 0.7220 - mae: 0.7220\n",
      "Epoch 64/100\n",
      "1/1 [==============================] - 0s 4ms/step - loss: 0.7803 - mae: 0.7803\n",
      "Epoch 65/100\n",
      "1/1 [==============================] - 0s 5ms/step - loss: 0.7589 - mae: 0.7589\n",
      "Epoch 66/100\n",
      "1/1 [==============================] - 0s 5ms/step - loss: 0.9388 - mae: 0.9388\n",
      "Epoch 67/100\n",
      "1/1 [==============================] - 0s 5ms/step - loss: 0.8943 - mae: 0.8943\n",
      "Epoch 68/100\n",
      "1/1 [==============================] - 0s 4ms/step - loss: 0.6813 - mae: 0.6813\n",
      "Epoch 69/100\n",
      "1/1 [==============================] - 0s 4ms/step - loss: 0.6980 - mae: 0.6980\n",
      "Epoch 70/100\n",
      "1/1 [==============================] - 0s 5ms/step - loss: 0.5888 - mae: 0.5888\n",
      "Epoch 71/100\n",
      "1/1 [==============================] - 0s 5ms/step - loss: 0.3601 - mae: 0.3601\n",
      "Epoch 72/100\n",
      "1/1 [==============================] - 0s 5ms/step - loss: 0.2300 - mae: 0.2300\n",
      "Epoch 73/100\n",
      "1/1 [==============================] - 0s 4ms/step - loss: 0.2044 - mae: 0.2044\n",
      "Epoch 74/100\n",
      "1/1 [==============================] - 0s 5ms/step - loss: 0.1077 - mae: 0.1077\n",
      "Epoch 75/100\n",
      "1/1 [==============================] - 0s 4ms/step - loss: 0.4369 - mae: 0.4369\n",
      "Epoch 76/100\n",
      "1/1 [==============================] - 0s 5ms/step - loss: 0.4920 - mae: 0.4920\n",
      "Epoch 77/100\n",
      "1/1 [==============================] - 0s 5ms/step - loss: 0.3329 - mae: 0.3329\n",
      "Epoch 78/100\n",
      "1/1 [==============================] - 0s 4ms/step - loss: 0.5315 - mae: 0.5315\n",
      "Epoch 79/100\n",
      "1/1 [==============================] - 0s 4ms/step - loss: 0.6008 - mae: 0.6008\n",
      "Epoch 80/100\n",
      "1/1 [==============================] - 0s 4ms/step - loss: 0.5058 - mae: 0.5058\n",
      "Epoch 81/100\n",
      "1/1 [==============================] - 0s 4ms/step - loss: 0.2629 - mae: 0.2629\n",
      "Epoch 82/100\n",
      "1/1 [==============================] - 0s 4ms/step - loss: 0.4309 - mae: 0.4309\n",
      "Epoch 83/100\n",
      "1/1 [==============================] - 0s 4ms/step - loss: 0.4874 - mae: 0.4874\n",
      "Epoch 84/100\n",
      "1/1 [==============================] - 0s 4ms/step - loss: 0.2250 - mae: 0.2250\n",
      "Epoch 85/100\n",
      "1/1 [==============================] - 0s 4ms/step - loss: 0.3554 - mae: 0.3554\n",
      "Epoch 86/100\n",
      "1/1 [==============================] - 0s 4ms/step - loss: 0.5613 - mae: 0.5613\n",
      "Epoch 87/100\n",
      "1/1 [==============================] - 0s 4ms/step - loss: 0.4586 - mae: 0.4586\n",
      "Epoch 88/100\n",
      "1/1 [==============================] - 0s 4ms/step - loss: 0.2498 - mae: 0.2498\n",
      "Epoch 89/100\n"
     ]
    },
    {
     "name": "stdout",
     "output_type": "stream",
     "text": [
      "1/1 [==============================] - 0s 4ms/step - loss: 0.3358 - mae: 0.3358\n",
      "Epoch 90/100\n",
      "1/1 [==============================] - 0s 4ms/step - loss: 0.2590 - mae: 0.2590\n",
      "Epoch 91/100\n",
      "1/1 [==============================] - 0s 5ms/step - loss: 0.1353 - mae: 0.1353\n",
      "Epoch 92/100\n",
      "1/1 [==============================] - 0s 4ms/step - loss: 0.0938 - mae: 0.0938\n",
      "Epoch 93/100\n",
      "1/1 [==============================] - 0s 4ms/step - loss: 0.2230 - mae: 0.2230\n",
      "Epoch 94/100\n",
      "1/1 [==============================] - 0s 4ms/step - loss: 0.2549 - mae: 0.2549\n",
      "Epoch 95/100\n",
      "1/1 [==============================] - 0s 4ms/step - loss: 0.2267 - mae: 0.2267\n",
      "Epoch 96/100\n",
      "1/1 [==============================] - 0s 5ms/step - loss: 0.2664 - mae: 0.2664\n",
      "Epoch 97/100\n",
      "1/1 [==============================] - 0s 5ms/step - loss: 0.1667 - mae: 0.1667\n",
      "Epoch 98/100\n",
      "1/1 [==============================] - 0s 3ms/step - loss: 0.2064 - mae: 0.2064\n",
      "Epoch 99/100\n",
      "1/1 [==============================] - 0s 5ms/step - loss: 0.0645 - mae: 0.0645\n",
      "Epoch 100/100\n",
      "1/1 [==============================] - 0s 5ms/step - loss: 0.2831 - mae: 0.2831\n"
     ]
    },
    {
     "data": {
      "text/plain": [
       "<keras.callbacks.History at 0x2408a3633c8>"
      ]
     },
     "execution_count": 22,
     "metadata": {},
     "output_type": "execute_result"
    }
   ],
   "source": [
    "# create model\n",
    "model = tf.keras.Sequential([\n",
    "    tf.keras.layers.Dense(50, activation=None),\n",
    "    tf.keras.layers.Dense(1)\n",
    "])\n",
    "\n",
    "\n",
    "# compile the model\n",
    "model.compile(loss = tf.keras.losses.mae,\n",
    "             optimizer= tf.keras.optimizers.Adam(learning_rate=0.01),\n",
    "             metrics = [\"mae\"])\n",
    "\n",
    "# fit the model\n",
    "model.fit(tf.expand_dims(X, axis=-1) ,y, epochs=100)"
   ]
  },
  {
   "cell_type": "code",
   "execution_count": 23,
   "id": "0b100286",
   "metadata": {},
   "outputs": [
    {
     "name": "stdout",
     "output_type": "stream",
     "text": [
      "WARNING:tensorflow:6 out of the last 6 calls to <function Model.make_predict_function.<locals>.predict_function at 0x000002408558E8B8> triggered tf.function retracing. Tracing is expensive and the excessive number of tracings could be due to (1) creating @tf.function repeatedly in a loop, (2) passing tensors with different shapes, (3) passing Python objects instead of tensors. For (1), please define your @tf.function outside of the loop. For (2), @tf.function has experimental_relax_shapes=True option that relaxes argument shapes that can avoid unnecessary retracing. For (3), please refer to https://www.tensorflow.org/guide/function#controlling_retracing and https://www.tensorflow.org/api_docs/python/tf/function for  more details.\n"
     ]
    },
    {
     "data": {
      "text/plain": [
       "array([[26.26099]], dtype=float32)"
      ]
     },
     "execution_count": 23,
     "metadata": {},
     "output_type": "execute_result"
    }
   ],
   "source": [
    "# lets evaluate the model predictions\n",
    "model.predict([17.0])"
   ]
  },
  {
   "cell_type": "raw",
   "id": "8abb1750",
   "metadata": {},
   "source": [
    "this is the best model so far.\n",
    "Learning Rate is the most important hyperparameter for neural networks"
   ]
  },
  {
   "cell_type": "code",
   "execution_count": null,
   "id": "fcebc166",
   "metadata": {},
   "outputs": [],
   "source": []
  },
  {
   "cell_type": "markdown",
   "id": "019d8097",
   "metadata": {},
   "source": [
    "# Evaluate a Model\n",
    "\n",
    "A typical workflow you'll go through when building neural networks is:\n",
    "\n",
    "Build a model -> evaluate it -> build (tweak) a model -> evaulate it -> build (tweak) a model -> evaluate it...\n",
    "\n",
    "The tweaking comes from maybe not building a model from scratch but adjusting an existing one.\n",
    "\n",
    "Visualize, visualize, visualize\n",
    "\n",
    "When it comes to evaluation, you'll want to remember the words: \"visualize, visualize, visualize.\"\n",
    "\n",
    "This is because you're probably better looking at something (doing) than you are thinking about something.\n",
    "\n",
    "It's a good idea to visualize:\n",
    "\n",
    "1. The data - what data are you working with? What does it look like?\n",
    "2. The model itself - what does the architecture look like? What are the different shapes?\n",
    "3. The training of a model - how does a model perform while it learns?\n",
    "4. The predictions of a model - how do the predictions of a model line up against the ground truth (the original labels)?\n"
   ]
  },
  {
   "cell_type": "code",
   "execution_count": 24,
   "id": "1ced188e",
   "metadata": {},
   "outputs": [
    {
     "data": {
      "text/plain": [
       "<tf.Tensor: shape=(50,), dtype=int32, numpy=\n",
       "array([-100,  -96,  -92,  -88,  -84,  -80,  -76,  -72,  -68,  -64,  -60,\n",
       "        -56,  -52,  -48,  -44,  -40,  -36,  -32,  -28,  -24,  -20,  -16,\n",
       "        -12,   -8,   -4,    0,    4,    8,   12,   16,   20,   24,   28,\n",
       "         32,   36,   40,   44,   48,   52,   56,   60,   64,   68,   72,\n",
       "         76,   80,   84,   88,   92,   96])>"
      ]
     },
     "execution_count": 24,
     "metadata": {},
     "output_type": "execute_result"
    }
   ],
   "source": [
    "# Make a bigger Dataset\n",
    "X = tf.range(-100, 100, 4)\n",
    "X"
   ]
  },
  {
   "cell_type": "code",
   "execution_count": 25,
   "id": "db743330",
   "metadata": {},
   "outputs": [
    {
     "data": {
      "text/plain": [
       "<tf.Tensor: shape=(50,), dtype=int32, numpy=\n",
       "array([-90, -86, -82, -78, -74, -70, -66, -62, -58, -54, -50, -46, -42,\n",
       "       -38, -34, -30, -26, -22, -18, -14, -10,  -6,  -2,   2,   6,  10,\n",
       "        14,  18,  22,  26,  30,  34,  38,  42,  46,  50,  54,  58,  62,\n",
       "        66,  70,  74,  78,  82,  86,  90,  94,  98, 102, 106])>"
      ]
     },
     "execution_count": 25,
     "metadata": {},
     "output_type": "execute_result"
    }
   ],
   "source": [
    "# make labels for the dataset\n",
    "y = X+10\n",
    "y"
   ]
  },
  {
   "cell_type": "code",
   "execution_count": 26,
   "id": "00c9ca20",
   "metadata": {},
   "outputs": [
    {
     "data": {
      "text/plain": [
       "[<matplotlib.lines.Line2D at 0x2408d507ec8>]"
      ]
     },
     "execution_count": 26,
     "metadata": {},
     "output_type": "execute_result"
    },
    {
     "data": {
      "image/png": "[encoded data removed]",
      "text/plain": [
       "<Figure size 432x288 with 1 Axes>"
      ]
     },
     "metadata": {
      "needs_background": "light"
     },
     "output_type": "display_data"
    }
   ],
   "source": [
    "# Visualize the data\n",
    "plt.plot(X,y)"
   ]
  },
  {
   "cell_type": "code",
   "execution_count": 27,
   "id": "f8943846",
   "metadata": {},
   "outputs": [
    {
     "data": {
      "text/plain": [
       "<matplotlib.collections.PathCollection at 0x23febb0a908>"
      ]
     },
     "execution_count": 27,
     "metadata": {},
     "output_type": "execute_result"
    },
    {
     "data": {
      "image/png": "[encoded data removed]",
      "text/plain": [
       "<Figure size 432x288 with 1 Axes>"
      ]
     },
     "metadata": {
      "needs_background": "light"
     },
     "output_type": "display_data"
    }
   ],
   "source": [
    "plt.scatter(X,y)"
   ]
  },
  {
   "cell_type": "markdown",
   "id": "97b135b3",
   "metadata": {},
   "source": [
    "One of the other most common and important steps in a machine learning project is creating a training and test set (and when required, a validation set).\n",
    "\n",
    "Each set serves a specific purpose:\n",
    "\n",
    "1. Training set - the model learns from this data, which is typically 70-80% of the total data available (like the course materials you study during the semester).\n",
    "2. Validation set - the model gets tuned on this data, which is typically 10-15% of the total data available (like the practice exam you take before the final exam).\n",
    "3. Test set - the model gets evaluated on this data to test what it has learned, it's typically 10-15% of the total data available (like the final exam you take at the end of the semester).\n",
    "\n",
    "For now, we'll just use a training and test set, this means we'll have a dataset for our model to learn on as well as be evaluated on."
   ]
  },
  {
   "cell_type": "code",
   "execution_count": 28,
   "id": "080a1525",
   "metadata": {},
   "outputs": [
    {
     "name": "stdout",
     "output_type": "stream",
     "text": [
      "40\n",
      "10\n"
     ]
    }
   ],
   "source": [
    "X_train = X[:40]\n",
    "y_train = y[:40]\n",
    "\n",
    "X_test = X[40:]\n",
    "y_test = y[40:]\n",
    "\n",
    "print(len(X_train))\n",
    "print(len(X_test))"
   ]
  },
  {
   "cell_type": "code",
   "execution_count": 29,
   "id": "19d0e99b",
   "metadata": {},
   "outputs": [
    {
     "data": {
      "text/plain": [
       "<matplotlib.legend.Legend at 0x2408e583a08>"
      ]
     },
     "execution_count": 29,
     "metadata": {},
     "output_type": "execute_result"
    },
    {
     "data": {
      "image/png": "[encoded data removed]",
      "text/plain": [
       "<Figure size 720x504 with 1 Axes>"
      ]
     },
     "metadata": {
      "needs_background": "light"
     },
     "output_type": "display_data"
    }
   ],
   "source": [
    "# Visualizing the data\n",
    "plt.figure(figsize=(10,7))\n",
    "plt.scatter(X_train, y_train, c=\"b\", label=\"Training data\")\n",
    "plt.scatter(X_test, y_test, c=\"g\", label=\"Testing data\")\n",
    "\n",
    "plt.legend()"
   ]
  },
  {
   "cell_type": "code",
   "execution_count": 30,
   "id": "73f3fd0d",
   "metadata": {},
   "outputs": [
    {
     "name": "stdout",
     "output_type": "stream",
     "text": [
      "Epoch 1/100\n",
      "2/2 [==============================] - 0s 6ms/step - loss: 26.9568 - mae: 26.9568\n",
      "Epoch 2/100\n",
      "2/2 [==============================] - 0s 4ms/step - loss: 9.2571 - mae: 9.2571\n",
      "Epoch 3/100\n",
      "2/2 [==============================] - 0s 4ms/step - loss: 7.8091 - mae: 7.8091\n",
      "Epoch 4/100\n",
      "2/2 [==============================] - 0s 5ms/step - loss: 8.7897 - mae: 8.7897\n",
      "Epoch 5/100\n",
      "2/2 [==============================] - 0s 5ms/step - loss: 10.7443 - mae: 10.7443\n",
      "Epoch 6/100\n",
      "2/2 [==============================] - 0s 4ms/step - loss: 9.9378 - mae: 9.9378\n",
      "Epoch 7/100\n",
      "2/2 [==============================] - 0s 5ms/step - loss: 8.9948 - mae: 8.9948\n",
      "Epoch 8/100\n",
      "2/2 [==============================] - 0s 4ms/step - loss: 9.0815 - mae: 9.0815\n",
      "Epoch 9/100\n",
      "2/2 [==============================] - 0s 5ms/step - loss: 19.8113 - mae: 19.8113\n",
      "Epoch 10/100\n",
      "2/2 [==============================] - 0s 4ms/step - loss: 10.7048 - mae: 10.7048\n",
      "Epoch 11/100\n",
      "2/2 [==============================] - 0s 4ms/step - loss: 8.6307 - mae: 8.6307\n",
      "Epoch 12/100\n",
      "2/2 [==============================] - 0s 4ms/step - loss: 9.6202 - mae: 9.6202\n",
      "Epoch 13/100\n",
      "2/2 [==============================] - 0s 4ms/step - loss: 12.9061 - mae: 12.9061\n",
      "Epoch 14/100\n",
      "2/2 [==============================] - 0s 5ms/step - loss: 14.2689 - mae: 14.2689\n",
      "Epoch 15/100\n",
      "2/2 [==============================] - 0s 4ms/step - loss: 11.6760 - mae: 11.6760\n",
      "Epoch 16/100\n",
      "2/2 [==============================] - 0s 4ms/step - loss: 8.4626 - mae: 8.4626\n",
      "Epoch 17/100\n",
      "2/2 [==============================] - 0s 5ms/step - loss: 13.4541 - mae: 13.4541\n",
      "Epoch 18/100\n",
      "2/2 [==============================] - 0s 4ms/step - loss: 11.2364 - mae: 11.2364\n",
      "Epoch 19/100\n",
      "2/2 [==============================] - 0s 4ms/step - loss: 18.2902 - mae: 18.2902\n",
      "Epoch 20/100\n",
      "2/2 [==============================] - 0s 4ms/step - loss: 14.9967 - mae: 14.9967\n",
      "Epoch 21/100\n",
      "2/2 [==============================] - 0s 5ms/step - loss: 10.8707 - mae: 10.8707\n",
      "Epoch 22/100\n",
      "2/2 [==============================] - 0s 3ms/step - loss: 8.6244 - mae: 8.6244\n",
      "Epoch 23/100\n",
      "2/2 [==============================] - 0s 4ms/step - loss: 9.6933 - mae: 9.6933\n",
      "Epoch 24/100\n",
      "2/2 [==============================] - 0s 4ms/step - loss: 8.5847 - mae: 8.5847\n",
      "Epoch 25/100\n",
      "2/2 [==============================] - 0s 4ms/step - loss: 11.5991 - mae: 11.5991\n",
      "Epoch 26/100\n",
      "2/2 [==============================] - 0s 4ms/step - loss: 15.1333 - mae: 15.1333\n",
      "Epoch 27/100\n",
      "2/2 [==============================] - 0s 4ms/step - loss: 11.8794 - mae: 11.8794\n",
      "Epoch 28/100\n",
      "2/2 [==============================] - 0s 3ms/step - loss: 13.9236 - mae: 13.9236\n",
      "Epoch 29/100\n",
      "2/2 [==============================] - 0s 4ms/step - loss: 9.6081 - mae: 9.6081\n",
      "Epoch 30/100\n",
      "2/2 [==============================] - 0s 4ms/step - loss: 17.1803 - mae: 17.1803\n",
      "Epoch 31/100\n",
      "2/2 [==============================] - 0s 4ms/step - loss: 22.8818 - mae: 22.8818\n",
      "Epoch 32/100\n",
      "2/2 [==============================] - 0s 4ms/step - loss: 7.9167 - mae: 7.9167\n",
      "Epoch 33/100\n",
      "2/2 [==============================] - 0s 4ms/step - loss: 14.1304 - mae: 14.1304\n",
      "Epoch 34/100\n",
      "2/2 [==============================] - 0s 5ms/step - loss: 12.3745 - mae: 12.3745\n",
      "Epoch 35/100\n",
      "2/2 [==============================] - 0s 5ms/step - loss: 8.2635 - mae: 8.2635\n",
      "Epoch 36/100\n",
      "2/2 [==============================] - 0s 4ms/step - loss: 10.4847 - mae: 10.4847\n",
      "Epoch 37/100\n",
      "2/2 [==============================] - 0s 5ms/step - loss: 10.1296 - mae: 10.1296\n",
      "Epoch 38/100\n",
      "2/2 [==============================] - 0s 4ms/step - loss: 11.3245 - mae: 11.3245\n",
      "Epoch 39/100\n",
      "2/2 [==============================] - 0s 4ms/step - loss: 14.7530 - mae: 14.7530\n",
      "Epoch 40/100\n",
      "2/2 [==============================] - 0s 4ms/step - loss: 12.8833 - mae: 12.8833\n",
      "Epoch 41/100\n",
      "2/2 [==============================] - 0s 4ms/step - loss: 9.2727 - mae: 9.2727\n",
      "Epoch 42/100\n",
      "2/2 [==============================] - 0s 4ms/step - loss: 11.0054 - mae: 11.0054\n",
      "Epoch 43/100\n",
      "2/2 [==============================] - 0s 4ms/step - loss: 8.3344 - mae: 8.3344\n",
      "Epoch 44/100\n",
      "2/2 [==============================] - 0s 4ms/step - loss: 13.0507 - mae: 13.0507\n",
      "Epoch 45/100\n",
      "2/2 [==============================] - 0s 5ms/step - loss: 13.6735 - mae: 13.6735\n",
      "Epoch 46/100\n",
      "2/2 [==============================] - 0s 4ms/step - loss: 8.2849 - mae: 8.2849\n",
      "Epoch 47/100\n",
      "2/2 [==============================] - 0s 3ms/step - loss: 8.7258 - mae: 8.7258\n",
      "Epoch 48/100\n",
      "2/2 [==============================] - 0s 4ms/step - loss: 10.0262 - mae: 10.0262\n",
      "Epoch 49/100\n",
      "2/2 [==============================] - 0s 4ms/step - loss: 8.5108 - mae: 8.5108\n",
      "Epoch 50/100\n",
      "2/2 [==============================] - 0s 4ms/step - loss: 9.0163 - mae: 9.0163\n",
      "Epoch 51/100\n",
      "2/2 [==============================] - 0s 4ms/step - loss: 9.3742 - mae: 9.3742\n",
      "Epoch 52/100\n",
      "2/2 [==============================] - 0s 4ms/step - loss: 14.1733 - mae: 14.1733\n",
      "Epoch 53/100\n",
      "2/2 [==============================] - 0s 4ms/step - loss: 14.8847 - mae: 14.8847\n",
      "Epoch 54/100\n",
      "2/2 [==============================] - 0s 4ms/step - loss: 14.8234 - mae: 14.8234\n",
      "Epoch 55/100\n",
      "2/2 [==============================] - 0s 4ms/step - loss: 12.6048 - mae: 12.6048\n",
      "Epoch 56/100\n",
      "2/2 [==============================] - 0s 4ms/step - loss: 7.5945 - mae: 7.5945\n",
      "Epoch 57/100\n",
      "2/2 [==============================] - 0s 4ms/step - loss: 8.7911 - mae: 8.7911\n",
      "Epoch 58/100\n",
      "2/2 [==============================] - 0s 4ms/step - loss: 8.3790 - mae: 8.3790\n",
      "Epoch 59/100\n",
      "2/2 [==============================] - 0s 4ms/step - loss: 9.1760 - mae: 9.1760\n",
      "Epoch 60/100\n",
      "2/2 [==============================] - 0s 5ms/step - loss: 9.1182 - mae: 9.1182\n",
      "Epoch 61/100\n",
      "2/2 [==============================] - 0s 4ms/step - loss: 10.6573 - mae: 10.6573\n",
      "Epoch 62/100\n",
      "2/2 [==============================] - 0s 5ms/step - loss: 7.4364 - mae: 7.4364\n",
      "Epoch 63/100\n",
      "2/2 [==============================] - 0s 3ms/step - loss: 10.5291 - mae: 10.5291\n",
      "Epoch 64/100\n",
      "2/2 [==============================] - 0s 5ms/step - loss: 12.1372 - mae: 12.1372\n",
      "Epoch 65/100\n",
      "2/2 [==============================] - 0s 4ms/step - loss: 9.4606 - mae: 9.4606\n",
      "Epoch 66/100\n",
      "2/2 [==============================] - 0s 4ms/step - loss: 11.5436 - mae: 11.5436\n",
      "Epoch 67/100\n",
      "2/2 [==============================] - 0s 3ms/step - loss: 8.0234 - mae: 8.0234\n",
      "Epoch 68/100\n",
      "2/2 [==============================] - 0s 5ms/step - loss: 8.5568 - mae: 8.5568\n",
      "Epoch 69/100\n",
      "2/2 [==============================] - 0s 4ms/step - loss: 12.2274 - mae: 12.2274\n",
      "Epoch 70/100\n",
      "2/2 [==============================] - 0s 5ms/step - loss: 8.9406 - mae: 8.9406\n",
      "Epoch 71/100\n",
      "2/2 [==============================] - 0s 4ms/step - loss: 9.9140 - mae: 9.9140\n",
      "Epoch 72/100\n",
      "2/2 [==============================] - 0s 4ms/step - loss: 9.9570 - mae: 9.9570\n",
      "Epoch 73/100\n",
      "2/2 [==============================] - 0s 4ms/step - loss: 12.4095 - mae: 12.4095\n",
      "Epoch 74/100\n",
      "2/2 [==============================] - 0s 4ms/step - loss: 10.6037 - mae: 10.6037\n",
      "Epoch 75/100\n",
      "2/2 [==============================] - 0s 5ms/step - loss: 9.6140 - mae: 9.6140\n",
      "Epoch 76/100\n",
      "2/2 [==============================] - 0s 4ms/step - loss: 11.0738 - mae: 11.0738\n",
      "Epoch 77/100\n",
      "2/2 [==============================] - 0s 4ms/step - loss: 8.2637 - mae: 8.2637\n",
      "Epoch 78/100\n",
      "2/2 [==============================] - 0s 5ms/step - loss: 8.9421 - mae: 8.9421\n",
      "Epoch 79/100\n",
      "2/2 [==============================] - 0s 4ms/step - loss: 19.8331 - mae: 19.8331\n",
      "Epoch 80/100\n",
      "2/2 [==============================] - 0s 4ms/step - loss: 17.7806 - mae: 17.7806\n",
      "Epoch 81/100\n",
      "2/2 [==============================] - 0s 4ms/step - loss: 7.0941 - mae: 7.0941\n",
      "Epoch 82/100\n",
      "2/2 [==============================] - 0s 4ms/step - loss: 10.3886 - mae: 10.3886\n",
      "Epoch 83/100\n",
      "2/2 [==============================] - 0s 5ms/step - loss: 9.8077 - mae: 9.8077\n",
      "Epoch 84/100\n",
      "2/2 [==============================] - 0s 4ms/step - loss: 7.9475 - mae: 7.9475\n",
      "Epoch 85/100\n",
      "2/2 [==============================] - 0s 4ms/step - loss: 9.4634 - mae: 9.4634\n",
      "Epoch 86/100\n",
      "2/2 [==============================] - 0s 5ms/step - loss: 9.5055 - mae: 9.5055\n",
      "Epoch 87/100\n",
      "2/2 [==============================] - 0s 4ms/step - loss: 11.4586 - mae: 11.4586\n",
      "Epoch 88/100\n"
     ]
    },
    {
     "name": "stdout",
     "output_type": "stream",
     "text": [
      "2/2 [==============================] - 0s 4ms/step - loss: 9.9562 - mae: 9.9562\n",
      "Epoch 89/100\n",
      "2/2 [==============================] - 0s 4ms/step - loss: 7.2526 - mae: 7.2526\n",
      "Epoch 90/100\n",
      "2/2 [==============================] - 0s 4ms/step - loss: 12.7211 - mae: 12.7211\n",
      "Epoch 91/100\n",
      "2/2 [==============================] - 0s 5ms/step - loss: 7.3199 - mae: 7.3199\n",
      "Epoch 92/100\n",
      "2/2 [==============================] - 0s 4ms/step - loss: 7.6852 - mae: 7.6852\n",
      "Epoch 93/100\n",
      "2/2 [==============================] - 0s 3ms/step - loss: 7.1161 - mae: 7.1161\n",
      "Epoch 94/100\n",
      "2/2 [==============================] - 0s 4ms/step - loss: 12.5661 - mae: 12.5661\n",
      "Epoch 95/100\n",
      "2/2 [==============================] - 0s 4ms/step - loss: 9.9407 - mae: 9.9407\n",
      "Epoch 96/100\n",
      "2/2 [==============================] - 0s 5ms/step - loss: 9.1287 - mae: 9.1287\n",
      "Epoch 97/100\n",
      "2/2 [==============================] - 0s 4ms/step - loss: 12.0596 - mae: 12.0596\n",
      "Epoch 98/100\n",
      "2/2 [==============================] - 0s 4ms/step - loss: 9.0870 - mae: 9.0870\n",
      "Epoch 99/100\n",
      "2/2 [==============================] - 0s 5ms/step - loss: 8.4901 - mae: 8.4901\n",
      "Epoch 100/100\n",
      "2/2 [==============================] - 0s 4ms/step - loss: 14.4288 - mae: 14.4288\n"
     ]
    },
    {
     "data": {
      "text/plain": [
       "<keras.callbacks.History at 0x240938055c8>"
      ]
     },
     "execution_count": 30,
     "metadata": {},
     "output_type": "execute_result"
    }
   ],
   "source": [
    "# lets build a model to predict the values for the above dataset\n",
    "\n",
    "# build the model\n",
    "model1 = tf.keras.Sequential([\n",
    "    tf.keras.layers.Dense(1)\n",
    "])\n",
    "\n",
    "\n",
    "# compile the model\n",
    "model1.compile(loss = tf.keras.losses.mae,\n",
    "             optimizer = tf.keras.optimizers.SGD(),\n",
    "             metrics=[\"mae\"])\n",
    "\n",
    "# fitting the model\n",
    "model1.fit(tf.expand_dims(X_train, axis=-1), y_train, epochs=100)"
   ]
  },
  {
   "cell_type": "code",
   "execution_count": 31,
   "id": "eae6c943",
   "metadata": {},
   "outputs": [
    {
     "name": "stdout",
     "output_type": "stream",
     "text": [
      "Model: \"sequential_6\"\n",
      "_________________________________________________________________\n",
      " Layer (type)                Output Shape              Param #   \n",
      "=================================================================\n",
      " dense_10 (Dense)            (None, 1)                 2         \n",
      "                                                                 \n",
      "=================================================================\n",
      "Total params: 2\n",
      "Trainable params: 2\n",
      "Non-trainable params: 0\n",
      "_________________________________________________________________\n"
     ]
    }
   ],
   "source": [
    "# Visualize the model\n",
    "model1.summary()\n",
    "\n",
    "# (if we run the summary command without model.fit, it will throw an error)"
   ]
  },
  {
   "cell_type": "markdown",
   "id": "c160d9d5",
   "metadata": {},
   "source": [
    "the cell above errors because we haven't fit our built our model.\n",
    "\n",
    "We also haven't told it what input shape it should be expecting.\n",
    "\n",
    "Remember above, how we discussed the input shape was just one number?\n",
    "\n",
    "We can let our model know the input shape of our data using the input_shape parameter to the first layer (usually if input_shape isn't defined, Keras tries to figure it out automatically)."
   ]
  },
  {
   "cell_type": "code",
   "execution_count": 49,
   "id": "5d97c100",
   "metadata": {},
   "outputs": [],
   "source": [
    "# lets create a model which builds automatically by defining the input shape argument\n",
    "\n",
    "tf.random.set_seed(42)\n",
    "\n",
    "#create model\n",
    "model2 = tf.keras.Sequential([\n",
    "    tf.keras.layers.Dense(10, input_shape=[1], name=\"input_layer\"),\n",
    "    tf.keras.layers.Dense(1, name=\"output_layer\")\n",
    "], name=\"intial_models\")\n",
    "\n",
    "# compile the model\n",
    "model2.compile(loss= tf.keras.losses.mae,\n",
    "              optimizer = tf.keras.optimizers.SGD(),\n",
    "              metrics=[\"mae\"])"
   ]
  },
  {
   "cell_type": "code",
   "execution_count": 50,
   "id": "83a3cbaf",
   "metadata": {},
   "outputs": [
    {
     "name": "stdout",
     "output_type": "stream",
     "text": [
      "Model: \"intial_models\"\n",
      "_________________________________________________________________\n",
      " Layer (type)                Output Shape              Param #   \n",
      "=================================================================\n",
      " input_layer (Dense)         (None, 10)                20        \n",
      "                                                                 \n",
      " output_layer (Dense)        (None, 1)                 11        \n",
      "                                                                 \n",
      "=================================================================\n",
      "Total params: 31\n",
      "Trainable params: 31\n",
      "Non-trainable params: 0\n",
      "_________________________________________________________________\n"
     ]
    }
   ],
   "source": [
    "# we can see that we get model summary without model fit\n",
    "model2.summary()"
   ]
  },
  {
   "cell_type": "markdown",
   "id": "79592710",
   "metadata": {},
   "source": [
    "Calling summary() on our model shows us the layers it contains, the output shape and the number of parameters.\n",
    "\n",
    "1. Total params - total number of parameters in the model.\n",
    "2. Trainable parameters - these are the parameters (patterns) the model can update as it trains.\n",
    "3. Non-trainable parameters - these parameters aren't updated during training (this is typical when you bring in the already learned patterns from other models during transfer learning)."
   ]
  },
  {
   "cell_type": "code",
   "execution_count": 51,
   "id": "8a3a1ce7",
   "metadata": {},
   "outputs": [
    {
     "data": {
      "text/plain": [
       "<keras.callbacks.History at 0x240a056d6c8>"
      ]
     },
     "execution_count": 51,
     "metadata": {},
     "output_type": "execute_result"
    }
   ],
   "source": [
    "# lets fit the model to the training data\n",
    "model2.fit(X_train, y_train, epochs=100, verbose=0)"
   ]
  },
  {
   "cell_type": "markdown",
   "id": "d345a0eb",
   "metadata": {},
   "source": [
    "### plot model function"
   ]
  },
  {
   "cell_type": "code",
   "execution_count": 52,
   "id": "362cd0bb",
   "metadata": {},
   "outputs": [
    {
     "data": {
      "image/png": "[encoded data removed]",
      "text/plain": [
       "<IPython.core.display.Image object>"
      ]
     },
     "execution_count": 52,
     "metadata": {},
     "output_type": "execute_result"
    }
   ],
   "source": [
    "from tensorflow.keras.utils import plot_model\n",
    "\n",
    "plot_model(model=model2)"
   ]
  },
  {
   "cell_type": "code",
   "execution_count": 53,
   "id": "d2878bc9",
   "metadata": {},
   "outputs": [],
   "source": [
    "# !pip install pydot"
   ]
  },
  {
   "cell_type": "code",
   "execution_count": 54,
   "id": "1b2e944b",
   "metadata": {},
   "outputs": [],
   "source": [
    "# !pip install graphviz"
   ]
  },
  {
   "cell_type": "code",
   "execution_count": 55,
   "id": "740821a0",
   "metadata": {},
   "outputs": [],
   "source": [
    "import pydot\n",
    "import graphviz"
   ]
  },
  {
   "cell_type": "code",
   "execution_count": 56,
   "id": "2ec2868a",
   "metadata": {},
   "outputs": [
    {
     "data": {
      "image/png": "[encoded data removed]",
      "text/plain": [
       "<IPython.core.display.Image object>"
      ]
     },
     "execution_count": 56,
     "metadata": {},
     "output_type": "execute_result"
    }
   ],
   "source": [
    "plot_model(model=model2, show_shapes=True)"
   ]
  },
  {
   "cell_type": "markdown",
   "id": "134acd25",
   "metadata": {},
   "source": [
    "### Visualize model predictions"
   ]
  },
  {
   "cell_type": "code",
   "execution_count": 61,
   "id": "63600bfd",
   "metadata": {},
   "outputs": [
    {
     "data": {
      "text/plain": [
       "array([[ 70.55221 ],\n",
       "       [ 75.13994 ],\n",
       "       [ 79.72765 ],\n",
       "       [ 84.315384],\n",
       "       [ 88.903114],\n",
       "       [ 93.49084 ],\n",
       "       [ 98.07856 ],\n",
       "       [102.66628 ],\n",
       "       [107.25401 ],\n",
       "       [111.841736]], dtype=float32)"
      ]
     },
     "execution_count": 61,
     "metadata": {},
     "output_type": "execute_result"
    }
   ],
   "source": [
    "y_preds = model2.predict(X_test)\n",
    "y_preds"
   ]
  },
  {
   "cell_type": "code",
   "execution_count": 62,
   "id": "616a4974",
   "metadata": {},
   "outputs": [],
   "source": [
    "def plot_predictions(train_data=X_train, \n",
    "                     train_labels=y_train, \n",
    "                     test_data=X_test, \n",
    "                     test_labels=y_test, \n",
    "                     predictions=y_preds):\n",
    "  \"\"\"\n",
    "  Plots training data, test data and compares predictions.\n",
    "  \"\"\"\n",
    "  plt.figure(figsize=(10, 7))\n",
    "  # Plot training data in blue\n",
    "  plt.scatter(train_data, train_labels, c=\"b\", label=\"Training data\")\n",
    "  # Plot test data in green\n",
    "  plt.scatter(test_data, test_labels, c=\"g\", label=\"Testing data\")\n",
    "  # Plot the predictions in red (predictions were made on the test data)\n",
    "  plt.scatter(test_data, predictions, c=\"r\", label=\"Predictions\")\n",
    "  # Show the legend\n",
    "  plt.legend();"
   ]
  },
  {
   "cell_type": "code",
   "execution_count": 63,
   "id": "febd0900",
   "metadata": {},
   "outputs": [
    {
     "data": {
      "image/png": "[encoded data removed]",
      "text/plain": [
       "<Figure size 720x504 with 1 Axes>"
      ]
     },
     "metadata": {
      "needs_background": "light"
     },
     "output_type": "display_data"
    }
   ],
   "source": [
    "plot_predictions(X_train, y_train, X_test, y_test, y_preds)"
   ]
  },
  {
   "cell_type": "markdown",
   "id": "5816d402",
   "metadata": {},
   "source": [
    "### Regression Evaluation Metrics for model"
   ]
  },
  {
   "cell_type": "markdown",
   "id": "5942636f",
   "metadata": {},
   "source": [
    "Alongisde visualizations, evaulation metrics are your alternative best option for evaluating your model.\n",
    "\n",
    "Depending on the problem you're working on, different models have different evaluation metrics.\n",
    "\n",
    "Two of the main metrics used for regression problems are:\n",
    "\n",
    "1. Mean absolute error (MAE) - the mean difference between each of the predictions.\n",
    "2. Mean squared error (MSE) - the squared mean difference between of the predictions (use if larger errors are more detrimental than smaller errors).\n",
    "\n",
    "The lower each of these values, the better.\n",
    "\n",
    "You can also use model.evaluate() which will return the loss of the model as well as any metrics setup during the compile step."
   ]
  },
  {
   "cell_type": "code",
   "execution_count": 65,
   "id": "659437c6",
   "metadata": {},
   "outputs": [
    {
     "name": "stdout",
     "output_type": "stream",
     "text": [
      "1/1 [==============================] - 0s 163ms/step - loss: 3.1970 - mae: 3.1970\n"
     ]
    },
    {
     "data": {
      "text/plain": [
       "[3.196972608566284, 3.196972608566284]"
      ]
     },
     "execution_count": 65,
     "metadata": {},
     "output_type": "execute_result"
    }
   ],
   "source": [
    "# Evaluate model on test\n",
    "model2.evaluate(X_test, y_test)"
   ]
  },
  {
   "cell_type": "code",
   "execution_count": 67,
   "id": "50c93674",
   "metadata": {},
   "outputs": [
    {
     "data": {
      "text/plain": [
       "<tf.Tensor: shape=(10,), dtype=float32, numpy=\n",
       "array([17.558233, 14.116037, 11.708939, 10.336924, 10.      , 10.698168,\n",
       "       12.447136, 15.333026, 19.254013, 23.841736], dtype=float32)>"
      ]
     },
     "execution_count": 67,
     "metadata": {},
     "output_type": "execute_result"
    }
   ],
   "source": [
    "# calculate MAE \n",
    "mae = tf.metrics.MAE(y_test, y_pred)\n",
    "mae"
   ]
  },
  {
   "cell_type": "markdown",
   "id": "f28fea9b",
   "metadata": {},
   "source": [
    "Huh? That's strange, MAE should be a single output.\n",
    "Instead, we get 10 values.\n",
    "This is because our y_test and y_preds tensors are different shapes"
   ]
  },
  {
   "cell_type": "code",
   "execution_count": 68,
   "id": "7ca35d43",
   "metadata": {},
   "outputs": [
    {
     "data": {
      "text/plain": [
       "<tf.Tensor: shape=(10,), dtype=float32, numpy=\n",
       "array([17.558233, 14.116037, 11.708939, 10.336924, 10.      , 10.698168,\n",
       "       12.447136, 15.333026, 19.254013, 23.841736], dtype=float32)>"
      ]
     },
     "execution_count": 68,
     "metadata": {},
     "output_type": "execute_result"
    }
   ],
   "source": [
    "# convert y_test and y_pred into tensors and recalculate MAE\n",
    "mae2 = tf.metrics.MAE(tf.constant(y_test),tf.constant(y_pred))\n",
    "mae2"
   ]
  },
  {
   "cell_type": "markdown",
   "id": "acbd6a36",
   "metadata": {},
   "source": [
    "we get the same output\n",
    "\n",
    "**we need to make sure the size of tensors is same**"
   ]
  },
  {
   "cell_type": "code",
   "execution_count": 71,
   "id": "b21a7a8c",
   "metadata": {},
   "outputs": [
    {
     "name": "stdout",
     "output_type": "stream",
     "text": [
      "tf.Tensor(3.1969726, shape=(), dtype=float32)\n"
     ]
    }
   ],
   "source": [
    "# Recalculate MAE\n",
    "mae3 =tf.metrics.MAE(y_test,\n",
    "                    y_pred = tf.squeeze(tf.constant(y_pred)))\n",
    "print(mae3)"
   ]
  },
  {
   "cell_type": "code",
   "execution_count": 73,
   "id": "a1898891",
   "metadata": {},
   "outputs": [
    {
     "name": "stdout",
     "output_type": "stream",
     "text": [
      "tf.Tensor(13.070358, shape=(), dtype=float32)\n"
     ]
    }
   ],
   "source": [
    "# Calculate MSE\n",
    "mse = tf.metrics.MSE(y_test,\n",
    "                    y_pred = tf.squeeze(tf.constant(y_pred)))\n",
    "print(mse)"
   ]
  },
  {
   "cell_type": "code",
   "execution_count": 76,
   "id": "4fc0ce25",
   "metadata": {},
   "outputs": [
    {
     "data": {
      "text/plain": [
       "<bound method _EagerTensorBase.numpy of <tf.Tensor: shape=(), dtype=float32, numpy=2.7069983>>"
      ]
     },
     "execution_count": 76,
     "metadata": {},
     "output_type": "execute_result"
    }
   ],
   "source": [
    "# Calculate Huber\n",
    "huber = tf.keras.losses.Huber()\n",
    "huber(y_test,y_pred = tf.squeeze(tf.constant(y_pred))).numpy"
   ]
  },
  {
   "cell_type": "code",
   "execution_count": 100,
   "id": "bbc136ab",
   "metadata": {},
   "outputs": [],
   "source": [
    "# create loss functions for reuse\n",
    "\n",
    "def mae(y_test, y_pred):\n",
    "  \"\"\"\n",
    "  Calculuates mean absolute error between y_test and y_preds.\n",
    "  \"\"\"\n",
    "  return tf.metrics.mean_absolute_error(y_test,\n",
    "                                        tf.squeeze(y_pred))\n",
    "  \n",
    "def mse(y_test, y_pred):\n",
    "  \"\"\"\n",
    "  Calculates mean squared error between y_test and y_preds.\n",
    "  \"\"\"\n",
    "  return tf.metrics.mean_squared_error(y_test,\n",
    "                                       tf.squeeze(y_pred))"
   ]
  },
  {
   "cell_type": "code",
   "execution_count": null,
   "id": "16d7ad50",
   "metadata": {},
   "outputs": [],
   "source": []
  },
  {
   "cell_type": "code",
   "execution_count": null,
   "id": "d12ac55c",
   "metadata": {},
   "outputs": [],
   "source": []
  },
  {
   "cell_type": "markdown",
   "id": "9281a4db",
   "metadata": {},
   "source": [
    "# Running Experiments to Improve Our Model"
   ]
  },
  {
   "cell_type": "markdown",
   "id": "aa50e608",
   "metadata": {},
   "source": [
    "After seeing the evaluation metrics and the predictions your model makes, it's likely you'll want to improve it.\n",
    "\n",
    "Again, there are many different ways you can do this, but 3 of the main ones are:\n",
    "\n",
    "1. Get more data - get more examples for your model to train on (more opportunities to learn patterns).\n",
    "2. Make your model larger (use a more complex model) - this might come in the form of more layers or more hidden units in each layer.\n",
    "3. Train for longer - give your model more of a chance to find the patterns in the data.\n",
    "\n",
    "Since we created our dataset, we could easily make more data but this isn't always the case when you're working with real-world datasets.\n",
    "\n",
    "So let's take a look at how we can improve our model using 2 and 3.\n",
    "\n",
    "To do so, we'll build 3 models and compare their results:\n",
    "\n",
    "1. model_1 - same as original model, 1 layer, trained for 100 epochs.\n",
    "2. model_2 - 2 layers, trained for 100 epochs.\n",
    "3. model_3 - 2 layers, trained for 500 epochs.\n"
   ]
  },
  {
   "cell_type": "markdown",
   "id": "5518efc8",
   "metadata": {},
   "source": [
    "### Model1"
   ]
  },
  {
   "cell_type": "code",
   "execution_count": 95,
   "id": "5676895f",
   "metadata": {},
   "outputs": [
    {
     "name": "stdout",
     "output_type": "stream",
     "text": [
      "Epoch 1/100\n",
      "2/2 [==============================] - 0s 5ms/step - loss: 15.9024 - mae: 15.9024\n",
      "Epoch 2/100\n",
      "2/2 [==============================] - 0s 6ms/step - loss: 11.2837 - mae: 11.2837\n",
      "Epoch 3/100\n",
      "2/2 [==============================] - 0s 6ms/step - loss: 11.1074 - mae: 11.1074\n",
      "Epoch 4/100\n",
      "2/2 [==============================] - 0s 5ms/step - loss: 9.2990 - mae: 9.2990\n",
      "Epoch 5/100\n",
      "2/2 [==============================] - 0s 5ms/step - loss: 10.1677 - mae: 10.1677\n",
      "Epoch 6/100\n",
      "2/2 [==============================] - 0s 6ms/step - loss: 9.4303 - mae: 9.4303\n",
      "Epoch 7/100\n",
      "2/2 [==============================] - 0s 6ms/step - loss: 8.5704 - mae: 8.5704\n",
      "Epoch 8/100\n",
      "2/2 [==============================] - 0s 6ms/step - loss: 9.0442 - mae: 9.0442\n",
      "Epoch 9/100\n",
      "2/2 [==============================] - 0s 5ms/step - loss: 18.7517 - mae: 18.7517\n",
      "Epoch 10/100\n",
      "2/2 [==============================] - 0s 6ms/step - loss: 10.1142 - mae: 10.1142\n",
      "Epoch 11/100\n",
      "2/2 [==============================] - 0s 6ms/step - loss: 8.3980 - mae: 8.3980\n",
      "Epoch 12/100\n",
      "2/2 [==============================] - 0s 6ms/step - loss: 10.6639 - mae: 10.6639\n",
      "Epoch 13/100\n",
      "2/2 [==============================] - 0s 6ms/step - loss: 9.7977 - mae: 9.7977\n",
      "Epoch 14/100\n",
      "2/2 [==============================] - 0s 9ms/step - loss: 16.0103 - mae: 16.0103\n",
      "Epoch 15/100\n",
      "2/2 [==============================] - 0s 6ms/step - loss: 11.4068 - mae: 11.4068\n",
      "Epoch 16/100\n",
      "2/2 [==============================] - 0s 7ms/step - loss: 8.5393 - mae: 8.5393\n",
      "Epoch 17/100\n",
      "2/2 [==============================] - 0s 6ms/step - loss: 13.6348 - mae: 13.6348\n",
      "Epoch 18/100\n",
      "2/2 [==============================] - 0s 5ms/step - loss: 11.4629 - mae: 11.4629\n",
      "Epoch 19/100\n",
      "2/2 [==============================] - 0s 6ms/step - loss: 17.9148 - mae: 17.9148\n",
      "Epoch 20/100\n",
      "2/2 [==============================] - 0s 6ms/step - loss: 15.0494 - mae: 15.0494\n",
      "Epoch 21/100\n",
      "2/2 [==============================] - 0s 6ms/step - loss: 11.0216 - mae: 11.0216\n",
      "Epoch 22/100\n",
      "2/2 [==============================] - 0s 6ms/step - loss: 8.1558 - mae: 8.1558\n",
      "Epoch 23/100\n",
      "2/2 [==============================] - 0s 6ms/step - loss: 9.5138 - mae: 9.5138\n",
      "Epoch 24/100\n",
      "2/2 [==============================] - 0s 5ms/step - loss: 7.6617 - mae: 7.6617\n",
      "Epoch 25/100\n",
      "2/2 [==============================] - 0s 6ms/step - loss: 13.1859 - mae: 13.1859\n",
      "Epoch 26/100\n",
      "2/2 [==============================] - 0s 5ms/step - loss: 16.4211 - mae: 16.4211\n",
      "Epoch 27/100\n",
      "2/2 [==============================] - 0s 6ms/step - loss: 13.1659 - mae: 13.1659\n",
      "Epoch 28/100\n",
      "2/2 [==============================] - 0s 5ms/step - loss: 14.2559 - mae: 14.2559\n",
      "Epoch 29/100\n",
      "2/2 [==============================] - 0s 6ms/step - loss: 10.0670 - mae: 10.0670\n",
      "Epoch 30/100\n",
      "2/2 [==============================] - 0s 6ms/step - loss: 16.3409 - mae: 16.3409\n",
      "Epoch 31/100\n",
      "2/2 [==============================] - 0s 6ms/step - loss: 23.6444 - mae: 23.6444\n",
      "Epoch 32/100\n",
      "2/2 [==============================] - 0s 5ms/step - loss: 7.6215 - mae: 7.6215\n",
      "Epoch 33/100\n",
      "2/2 [==============================] - 0s 6ms/step - loss: 9.3221 - mae: 9.3221\n",
      "Epoch 34/100\n",
      "2/2 [==============================] - 0s 6ms/step - loss: 13.7313 - mae: 13.7313\n",
      "Epoch 35/100\n",
      "2/2 [==============================] - 0s 5ms/step - loss: 11.1276 - mae: 11.1276\n",
      "Epoch 36/100\n",
      "2/2 [==============================] - 0s 7ms/step - loss: 13.3222 - mae: 13.3222\n",
      "Epoch 37/100\n",
      "2/2 [==============================] - 0s 6ms/step - loss: 9.4763 - mae: 9.4763\n",
      "Epoch 38/100\n",
      "2/2 [==============================] - 0s 6ms/step - loss: 10.1381 - mae: 10.1381\n",
      "Epoch 39/100\n",
      "2/2 [==============================] - 0s 5ms/step - loss: 10.1793 - mae: 10.1793\n",
      "Epoch 40/100\n",
      "2/2 [==============================] - 0s 5ms/step - loss: 10.9137 - mae: 10.9137\n",
      "Epoch 41/100\n",
      "2/2 [==============================] - 0s 6ms/step - loss: 7.9063 - mae: 7.9063\n",
      "Epoch 42/100\n",
      "2/2 [==============================] - 0s 6ms/step - loss: 10.0914 - mae: 10.0914\n",
      "Epoch 43/100\n",
      "2/2 [==============================] - 0s 6ms/step - loss: 8.7006 - mae: 8.7006\n",
      "Epoch 44/100\n",
      "2/2 [==============================] - 0s 5ms/step - loss: 12.2047 - mae: 12.2047\n",
      "Epoch 45/100\n",
      "2/2 [==============================] - 0s 5ms/step - loss: 13.7970 - mae: 13.7970\n",
      "Epoch 46/100\n",
      "2/2 [==============================] - 0s 5ms/step - loss: 8.4687 - mae: 8.4687\n",
      "Epoch 47/100\n",
      "2/2 [==============================] - 0s 6ms/step - loss: 9.1330 - mae: 9.1330\n",
      "Epoch 48/100\n",
      "2/2 [==============================] - 0s 6ms/step - loss: 10.6190 - mae: 10.6190\n",
      "Epoch 49/100\n",
      "2/2 [==============================] - 0s 5ms/step - loss: 7.7503 - mae: 7.7503\n",
      "Epoch 50/100\n",
      "2/2 [==============================] - 0s 6ms/step - loss: 9.5407 - mae: 9.5407\n",
      "Epoch 51/100\n",
      "2/2 [==============================] - 0s 5ms/step - loss: 9.1584 - mae: 9.1584\n",
      "Epoch 52/100\n",
      "2/2 [==============================] - 0s 6ms/step - loss: 16.3630 - mae: 16.3630\n",
      "Epoch 53/100\n",
      "2/2 [==============================] - 0s 5ms/step - loss: 14.1299 - mae: 14.1299\n",
      "Epoch 54/100\n",
      "2/2 [==============================] - 0s 4ms/step - loss: 21.1247 - mae: 21.1247\n",
      "Epoch 55/100\n",
      "2/2 [==============================] - 0s 6ms/step - loss: 16.3961 - mae: 16.3961\n",
      "Epoch 56/100\n",
      "2/2 [==============================] - 0s 5ms/step - loss: 9.9806 - mae: 9.9806\n",
      "Epoch 57/100\n",
      "2/2 [==============================] - 0s 7ms/step - loss: 9.9606 - mae: 9.9606\n",
      "Epoch 58/100\n",
      "2/2 [==============================] - 0s 5ms/step - loss: 9.2209 - mae: 9.2209\n",
      "Epoch 59/100\n",
      "2/2 [==============================] - 0s 5ms/step - loss: 8.4239 - mae: 8.4239\n",
      "Epoch 60/100\n",
      "2/2 [==============================] - 0s 5ms/step - loss: 9.4869 - mae: 9.4869\n",
      "Epoch 61/100\n",
      "2/2 [==============================] - 0s 5ms/step - loss: 11.4355 - mae: 11.4355\n",
      "Epoch 62/100\n",
      "2/2 [==============================] - 0s 6ms/step - loss: 11.6887 - mae: 11.6887\n",
      "Epoch 63/100\n",
      "2/2 [==============================] - 0s 5ms/step - loss: 7.0838 - mae: 7.0838\n",
      "Epoch 64/100\n",
      "2/2 [==============================] - 0s 6ms/step - loss: 16.9675 - mae: 16.9675\n",
      "Epoch 65/100\n",
      "2/2 [==============================] - 0s 6ms/step - loss: 12.4599 - mae: 12.4599\n",
      "Epoch 66/100\n",
      "2/2 [==============================] - 0s 6ms/step - loss: 13.0184 - mae: 13.0184\n",
      "Epoch 67/100\n",
      "2/2 [==============================] - 0s 7ms/step - loss: 8.0600 - mae: 8.0600\n",
      "Epoch 68/100\n",
      "2/2 [==============================] - 0s 9ms/step - loss: 10.1888 - mae: 10.1888\n",
      "Epoch 69/100\n",
      "2/2 [==============================] - 0s 10ms/step - loss: 12.3633 - mae: 12.3633\n",
      "Epoch 70/100\n",
      "2/2 [==============================] - 0s 7ms/step - loss: 9.0516 - mae: 9.0516\n",
      "Epoch 71/100\n",
      "2/2 [==============================] - 0s 6ms/step - loss: 10.0378 - mae: 10.0378\n",
      "Epoch 72/100\n",
      "2/2 [==============================] - 0s 6ms/step - loss: 10.0516 - mae: 10.0516\n",
      "Epoch 73/100\n",
      "2/2 [==============================] - 0s 6ms/step - loss: 12.6151 - mae: 12.6151\n",
      "Epoch 74/100\n",
      "2/2 [==============================] - 0s 6ms/step - loss: 10.3819 - mae: 10.3819\n",
      "Epoch 75/100\n",
      "2/2 [==============================] - 0s 7ms/step - loss: 9.7229 - mae: 9.7229\n",
      "Epoch 76/100\n",
      "2/2 [==============================] - 0s 6ms/step - loss: 11.2252 - mae: 11.2252\n",
      "Epoch 77/100\n",
      "2/2 [==============================] - 0s 7ms/step - loss: 8.3642 - mae: 8.3642\n",
      "Epoch 78/100\n",
      "2/2 [==============================] - 0s 6ms/step - loss: 9.1274 - mae: 9.1274\n",
      "Epoch 79/100\n",
      "2/2 [==============================] - 0s 5ms/step - loss: 19.5039 - mae: 19.5039\n",
      "Epoch 80/100\n",
      "2/2 [==============================] - 0s 6ms/step - loss: 14.8945 - mae: 14.8945\n",
      "Epoch 81/100\n",
      "2/2 [==============================] - 0s 5ms/step - loss: 9.0034 - mae: 9.0034\n",
      "Epoch 82/100\n",
      "2/2 [==============================] - 0s 6ms/step - loss: 13.0206 - mae: 13.0206\n",
      "Epoch 83/100\n",
      "2/2 [==============================] - 0s 5ms/step - loss: 7.9299 - mae: 7.9299\n",
      "Epoch 84/100\n",
      "2/2 [==============================] - 0s 6ms/step - loss: 7.6872 - mae: 7.6872\n",
      "Epoch 85/100\n",
      "2/2 [==============================] - 0s 7ms/step - loss: 10.0328 - mae: 10.0328\n",
      "Epoch 86/100\n",
      "2/2 [==============================] - 0s 6ms/step - loss: 9.2433 - mae: 9.2433\n",
      "Epoch 87/100\n",
      "2/2 [==============================] - 0s 5ms/step - loss: 12.0209 - mae: 12.0209\n",
      "Epoch 88/100\n"
     ]
    },
    {
     "name": "stdout",
     "output_type": "stream",
     "text": [
      "2/2 [==============================] - 0s 5ms/step - loss: 10.6389 - mae: 10.6389\n",
      "Epoch 89/100\n",
      "2/2 [==============================] - 0s 5ms/step - loss: 7.2667 - mae: 7.2667\n",
      "Epoch 90/100\n",
      "2/2 [==============================] - 0s 5ms/step - loss: 12.7786 - mae: 12.7786\n",
      "Epoch 91/100\n",
      "2/2 [==============================] - 0s 5ms/step - loss: 7.3481 - mae: 7.3481\n",
      "Epoch 92/100\n",
      "2/2 [==============================] - 0s 5ms/step - loss: 7.7175 - mae: 7.7175\n",
      "Epoch 93/100\n",
      "2/2 [==============================] - 0s 5ms/step - loss: 7.1263 - mae: 7.1263\n",
      "Epoch 94/100\n",
      "2/2 [==============================] - 0s 6ms/step - loss: 12.6190 - mae: 12.6190\n",
      "Epoch 95/100\n",
      "2/2 [==============================] - 0s 5ms/step - loss: 10.0912 - mae: 10.0912\n",
      "Epoch 96/100\n",
      "2/2 [==============================] - 0s 5ms/step - loss: 9.3558 - mae: 9.3558\n",
      "Epoch 97/100\n",
      "2/2 [==============================] - 0s 6ms/step - loss: 12.6834 - mae: 12.6834\n",
      "Epoch 98/100\n",
      "2/2 [==============================] - 0s 5ms/step - loss: 8.6762 - mae: 8.6762\n",
      "Epoch 99/100\n",
      "2/2 [==============================] - 0s 5ms/step - loss: 9.4693 - mae: 9.4693\n",
      "Epoch 100/100\n",
      "2/2 [==============================] - 0s 6ms/step - loss: 8.7067 - mae: 8.7067\n"
     ]
    },
    {
     "data": {
      "text/plain": [
       "<keras.callbacks.History at 0x240a864fe48>"
      ]
     },
     "execution_count": 95,
     "metadata": {},
     "output_type": "execute_result"
    }
   ],
   "source": [
    "tf.random.set_seed(42)\n",
    "\n",
    "# 1.create model\n",
    "model_1 = tf.keras.Sequential([\n",
    "    tf.keras.layers.Dense(1)\n",
    "])\n",
    "\n",
    "# 2. compile the model\n",
    "model_1.compile(loss = tf.keras.losses.mae,\n",
    "              optimizer = tf.keras.optimizers.SGD(),\n",
    "              metrics=[\"mae\"])\n",
    "\n",
    "# 3. fit the model\n",
    "model_1.fit(tf.expand_dims(X_train, axis=-1), y_train, epochs=100)"
   ]
  },
  {
   "cell_type": "code",
   "execution_count": 96,
   "id": "97f8db4b",
   "metadata": {},
   "outputs": [
    {
     "data": {
      "text/plain": [
       "<tf.Tensor: shape=(10,), dtype=int32, numpy=array([60, 64, 68, 72, 76, 80, 84, 88, 92, 96])>"
      ]
     },
     "execution_count": 96,
     "metadata": {},
     "output_type": "execute_result"
    }
   ],
   "source": [
    "X_test"
   ]
  },
  {
   "cell_type": "code",
   "execution_count": 97,
   "id": "2cca844a",
   "metadata": {},
   "outputs": [
    {
     "data": {
      "image/png": "[encoded data removed]",
      "text/plain": [
       "<Figure size 720x504 with 1 Axes>"
      ]
     },
     "metadata": {
      "needs_background": "light"
     },
     "output_type": "display_data"
    }
   ],
   "source": [
    "# make and plot predictions for this model\n",
    "y_preds_1 = model_1.predict(X_test)\n",
    "\n",
    "plot_predictions(X_train, y_train, X_test, y_test, y_preds_1)"
   ]
  },
  {
   "cell_type": "code",
   "execution_count": 103,
   "id": "fa7eaa15",
   "metadata": {},
   "outputs": [
    {
     "name": "stdout",
     "output_type": "stream",
     "text": [
      "tf.Tensor(18.745327, shape=(), dtype=float32)\n",
      "tf.Tensor(353.5734, shape=(), dtype=float32)\n"
     ]
    }
   ],
   "source": [
    "# calculate model_1 evaluations\n",
    "mae_1 = mae(y_test, y_preds_1)\n",
    "mse_1 = mse(y_test, y_preds_1)\n",
    "print(mae_1)\n",
    "print(mse_1)"
   ]
  },
  {
   "cell_type": "markdown",
   "id": "115b23d0",
   "metadata": {},
   "source": [
    "### Model2"
   ]
  },
  {
   "cell_type": "code",
   "execution_count": 107,
   "id": "526e9d77",
   "metadata": {},
   "outputs": [
    {
     "name": "stdout",
     "output_type": "stream",
     "text": [
      "Epoch 1/100\n",
      "2/2 [==============================] - 0s 6ms/step - loss: 27.4058 - mse: 1084.1482\n",
      "Epoch 2/100\n",
      "2/2 [==============================] - 0s 5ms/step - loss: 24.6339 - mse: 777.9203\n",
      "Epoch 3/100\n",
      "2/2 [==============================] - 0s 6ms/step - loss: 29.8935 - mse: 1334.8954\n",
      "Epoch 4/100\n",
      "2/2 [==============================] - 0s 6ms/step - loss: 27.4055 - mse: 1106.8035\n",
      "Epoch 5/100\n",
      "2/2 [==============================] - 0s 6ms/step - loss: 14.9463 - mse: 281.1077\n",
      "Epoch 6/100\n",
      "2/2 [==============================] - 0s 6ms/step - loss: 11.8819 - mse: 168.6622\n",
      "Epoch 7/100\n",
      "2/2 [==============================] - 0s 5ms/step - loss: 11.1988 - mse: 151.3508\n",
      "Epoch 8/100\n",
      "2/2 [==============================] - 0s 6ms/step - loss: 11.0910 - mse: 160.3745\n",
      "Epoch 9/100\n",
      "2/2 [==============================] - 0s 5ms/step - loss: 40.4763 - mse: 2586.0093\n",
      "Epoch 10/100\n",
      "2/2 [==============================] - 0s 6ms/step - loss: 27.8688 - mse: 1094.4385\n",
      "Epoch 11/100\n",
      "2/2 [==============================] - 0s 7ms/step - loss: 10.2473 - mse: 147.9360\n",
      "Epoch 12/100\n",
      "2/2 [==============================] - 0s 7ms/step - loss: 25.2803 - mse: 890.3867\n",
      "Epoch 13/100\n",
      "2/2 [==============================] - 0s 7ms/step - loss: 16.9897 - mse: 399.9678\n",
      "Epoch 14/100\n",
      "2/2 [==============================] - 0s 6ms/step - loss: 25.9217 - mse: 1049.5519\n",
      "Epoch 15/100\n",
      "2/2 [==============================] - 0s 7ms/step - loss: 17.9948 - mse: 450.2582\n",
      "Epoch 16/100\n",
      "2/2 [==============================] - 0s 6ms/step - loss: 7.3510 - mse: 80.6206\n",
      "Epoch 17/100\n",
      "2/2 [==============================] - 0s 6ms/step - loss: 10.8636 - mse: 174.7867\n",
      "Epoch 18/100\n",
      "2/2 [==============================] - 0s 7ms/step - loss: 19.5304 - mse: 565.8052\n",
      "Epoch 19/100\n",
      "2/2 [==============================] - 0s 6ms/step - loss: 10.3469 - mse: 167.7749\n",
      "Epoch 20/100\n",
      "2/2 [==============================] - 0s 7ms/step - loss: 17.6985 - mse: 455.7096\n",
      "Epoch 21/100\n",
      "2/2 [==============================] - 0s 6ms/step - loss: 15.8984 - mse: 347.1929\n",
      "Epoch 22/100\n",
      "2/2 [==============================] - 0s 6ms/step - loss: 14.1991 - mse: 285.1766\n",
      "Epoch 23/100\n",
      "2/2 [==============================] - 0s 6ms/step - loss: 8.7720 - mse: 91.7852\n",
      "Epoch 24/100\n",
      "2/2 [==============================] - 0s 6ms/step - loss: 11.0570 - mse: 153.7430\n",
      "Epoch 25/100\n",
      "2/2 [==============================] - 0s 6ms/step - loss: 12.6838 - mse: 233.2950\n",
      "Epoch 26/100\n",
      "2/2 [==============================] - 0s 7ms/step - loss: 26.1877 - mse: 1024.6091\n",
      "Epoch 27/100\n",
      "2/2 [==============================] - 0s 7ms/step - loss: 11.7432 - mse: 194.8453\n",
      "Epoch 28/100\n",
      "2/2 [==============================] - 0s 6ms/step - loss: 22.8730 - mse: 835.6071\n",
      "Epoch 29/100\n",
      "2/2 [==============================] - 0s 6ms/step - loss: 9.2459 - mse: 96.7787\n",
      "Epoch 30/100\n",
      "2/2 [==============================] - 0s 5ms/step - loss: 29.2641 - mse: 1535.1342\n",
      "Epoch 31/100\n",
      "2/2 [==============================] - 0s 7ms/step - loss: 53.0224 - mse: 5030.2949\n",
      "Epoch 32/100\n",
      "2/2 [==============================] - 0s 6ms/step - loss: 11.9951 - mse: 211.7022\n",
      "Epoch 33/100\n",
      "2/2 [==============================] - 0s 6ms/step - loss: 15.6357 - mse: 337.3662\n",
      "Epoch 34/100\n",
      "2/2 [==============================] - 0s 7ms/step - loss: 12.6925 - mse: 214.4821\n",
      "Epoch 35/100\n",
      "2/2 [==============================] - 0s 6ms/step - loss: 9.2398 - mse: 92.9125\n",
      "Epoch 36/100\n",
      "2/2 [==============================] - 0s 7ms/step - loss: 16.6497 - mse: 403.6566\n",
      "Epoch 37/100\n",
      "2/2 [==============================] - 0s 6ms/step - loss: 11.0382 - mse: 192.3918\n",
      "Epoch 38/100\n",
      "2/2 [==============================] - 0s 7ms/step - loss: 18.1634 - mse: 433.6720\n",
      "Epoch 39/100\n",
      "2/2 [==============================] - 0s 6ms/step - loss: 19.1013 - mse: 529.6442\n",
      "Epoch 40/100\n",
      "2/2 [==============================] - 0s 6ms/step - loss: 20.4324 - mse: 610.1327\n",
      "Epoch 41/100\n",
      "2/2 [==============================] - 0s 6ms/step - loss: 14.9102 - mse: 279.6180\n",
      "Epoch 42/100\n",
      "2/2 [==============================] - 0s 6ms/step - loss: 12.2809 - mse: 186.6177\n",
      "Epoch 43/100\n",
      "2/2 [==============================] - 0s 7ms/step - loss: 10.7333 - mse: 167.0950\n",
      "Epoch 44/100\n",
      "2/2 [==============================] - 0s 7ms/step - loss: 23.0260 - mse: 830.4238\n",
      "Epoch 45/100\n",
      "2/2 [==============================] - 0s 6ms/step - loss: 10.3897 - mse: 128.9549\n",
      "Epoch 46/100\n",
      "2/2 [==============================] - 0s 6ms/step - loss: 11.7904 - mse: 181.9210\n",
      "Epoch 47/100\n",
      "2/2 [==============================] - 0s 7ms/step - loss: 9.6438 - mse: 153.8708\n",
      "Epoch 48/100\n",
      "2/2 [==============================] - 0s 7ms/step - loss: 17.2335 - mse: 402.8496\n",
      "Epoch 49/100\n",
      "2/2 [==============================] - 0s 6ms/step - loss: 9.5729 - mse: 99.8336\n",
      "Epoch 50/100\n",
      "2/2 [==============================] - 0s 7ms/step - loss: 13.8185 - mse: 260.3668\n",
      "Epoch 51/100\n",
      "2/2 [==============================] - 0s 5ms/step - loss: 11.5958 - mse: 154.7956\n",
      "Epoch 52/100\n",
      "2/2 [==============================] - 0s 6ms/step - loss: 30.5538 - mse: 1613.0876\n",
      "Epoch 53/100\n",
      "2/2 [==============================] - 0s 8ms/step - loss: 14.3541 - mse: 302.5291\n",
      "Epoch 54/100\n",
      "2/2 [==============================] - 0s 7ms/step - loss: 23.9713 - mse: 859.3983\n",
      "Epoch 55/100\n",
      "2/2 [==============================] - 0s 6ms/step - loss: 23.1938 - mse: 805.5448\n",
      "Epoch 56/100\n",
      "2/2 [==============================] - 0s 6ms/step - loss: 10.8837 - mse: 170.9833\n",
      "Epoch 57/100\n",
      "2/2 [==============================] - 0s 6ms/step - loss: 12.7445 - mse: 198.7015\n",
      "Epoch 58/100\n",
      "2/2 [==============================] - 0s 6ms/step - loss: 9.5995 - mse: 102.5890\n",
      "Epoch 59/100\n",
      "2/2 [==============================] - 0s 5ms/step - loss: 12.5172 - mse: 216.3367\n",
      "Epoch 60/100\n",
      "2/2 [==============================] - 0s 5ms/step - loss: 12.3200 - mse: 208.6371\n",
      "Epoch 61/100\n",
      "2/2 [==============================] - 0s 6ms/step - loss: 17.4604 - mse: 428.6395\n",
      "Epoch 62/100\n",
      "2/2 [==============================] - 0s 6ms/step - loss: 10.6052 - mse: 136.9777\n",
      "Epoch 63/100\n",
      "2/2 [==============================] - 0s 6ms/step - loss: 10.4893 - mse: 152.4555\n",
      "Epoch 64/100\n",
      "2/2 [==============================] - 0s 6ms/step - loss: 24.8450 - mse: 911.7513\n",
      "Epoch 65/100\n",
      "2/2 [==============================] - 0s 7ms/step - loss: 10.6761 - mse: 142.7375\n",
      "Epoch 66/100\n",
      "2/2 [==============================] - 0s 6ms/step - loss: 21.7809 - mse: 704.4491\n",
      "Epoch 67/100\n",
      "2/2 [==============================] - 0s 6ms/step - loss: 10.7136 - mse: 136.0195\n",
      "Epoch 68/100\n",
      "2/2 [==============================] - 0s 6ms/step - loss: 10.6397 - mse: 149.2301\n",
      "Epoch 69/100\n",
      "2/2 [==============================] - 0s 6ms/step - loss: 22.6914 - mse: 742.1768\n",
      "Epoch 70/100\n",
      "2/2 [==============================] - 0s 6ms/step - loss: 9.3316 - mse: 166.1628\n",
      "Epoch 71/100\n",
      "2/2 [==============================] - 0s 6ms/step - loss: 15.4355 - mse: 323.0842\n",
      "Epoch 72/100\n",
      "2/2 [==============================] - 0s 6ms/step - loss: 6.7437 - mse: 67.0209\n",
      "Epoch 73/100\n",
      "2/2 [==============================] - 0s 6ms/step - loss: 11.6891 - mse: 183.7296\n",
      "Epoch 74/100\n",
      "2/2 [==============================] - 0s 6ms/step - loss: 24.0400 - mse: 908.9000\n",
      "Epoch 75/100\n",
      "2/2 [==============================] - 0s 6ms/step - loss: 9.5897 - mse: 149.3948\n",
      "Epoch 76/100\n",
      "2/2 [==============================] - 0s 7ms/step - loss: 12.4371 - mse: 188.3311\n",
      "Epoch 77/100\n",
      "2/2 [==============================] - 0s 6ms/step - loss: 16.6489 - mse: 429.2709\n",
      "Epoch 78/100\n",
      "2/2 [==============================] - 0s 6ms/step - loss: 9.0614 - mse: 95.4870\n",
      "Epoch 79/100\n",
      "2/2 [==============================] - 0s 6ms/step - loss: 23.9675 - mse: 864.0869\n",
      "Epoch 80/100\n",
      "2/2 [==============================] - 0s 6ms/step - loss: 26.7463 - mse: 1104.4036\n",
      "Epoch 81/100\n",
      "2/2 [==============================] - 0s 6ms/step - loss: 11.6715 - mse: 170.7057\n",
      "Epoch 82/100\n",
      "2/2 [==============================] - 0s 6ms/step - loss: 12.0228 - mse: 211.9191\n",
      "Epoch 83/100\n",
      "2/2 [==============================] - 0s 6ms/step - loss: 17.4218 - mse: 395.5588\n",
      "Epoch 84/100\n",
      "2/2 [==============================] - 0s 6ms/step - loss: 7.2629 - mse: 73.0935\n",
      "Epoch 85/100\n",
      "2/2 [==============================] - 0s 6ms/step - loss: 14.9650 - mse: 312.8360\n",
      "Epoch 86/100\n"
     ]
    },
    {
     "name": "stdout",
     "output_type": "stream",
     "text": [
      "2/2 [==============================] - 0s 6ms/step - loss: 15.2862 - mse: 315.3605\n",
      "Epoch 87/100\n",
      "2/2 [==============================] - 0s 6ms/step - loss: 19.1086 - mse: 521.2532\n",
      "Epoch 88/100\n",
      "2/2 [==============================] - 0s 6ms/step - loss: 29.8229 - mse: 1287.1917\n",
      "Epoch 89/100\n",
      "2/2 [==============================] - 0s 6ms/step - loss: 10.1742 - mse: 124.1342\n",
      "Epoch 90/100\n",
      "2/2 [==============================] - 0s 6ms/step - loss: 21.5240 - mse: 663.8617\n",
      "Epoch 91/100\n",
      "2/2 [==============================] - 0s 6ms/step - loss: 10.5716 - mse: 161.7467\n",
      "Epoch 92/100\n",
      "2/2 [==============================] - 0s 7ms/step - loss: 18.3977 - mse: 464.1331\n",
      "Epoch 93/100\n",
      "2/2 [==============================] - 0s 6ms/step - loss: 7.4138 - mse: 81.9819\n",
      "Epoch 94/100\n",
      "2/2 [==============================] - 0s 5ms/step - loss: 17.7380 - mse: 445.7386\n",
      "Epoch 95/100\n",
      "2/2 [==============================] - 0s 5ms/step - loss: 11.1144 - mse: 164.0824\n",
      "Epoch 96/100\n",
      "2/2 [==============================] - 0s 7ms/step - loss: 19.4346 - mse: 510.5849\n",
      "Epoch 97/100\n",
      "2/2 [==============================] - 0s 6ms/step - loss: 12.1593 - mse: 209.9759\n",
      "Epoch 98/100\n",
      "2/2 [==============================] - 0s 6ms/step - loss: 11.5653 - mse: 169.4054\n",
      "Epoch 99/100\n",
      "2/2 [==============================] - 0s 6ms/step - loss: 13.8827 - mse: 265.4633\n",
      "Epoch 100/100\n",
      "2/2 [==============================] - 0s 5ms/step - loss: 20.2277 - mse: 608.8227\n"
     ]
    },
    {
     "data": {
      "text/plain": [
       "<keras.callbacks.History at 0x240ac705b48>"
      ]
     },
     "execution_count": 107,
     "metadata": {},
     "output_type": "execute_result"
    }
   ],
   "source": [
    "tf.random.set_seed(42)\n",
    "\n",
    "#create model\n",
    "model2 = tf.keras.Sequential([\n",
    "    tf.keras.layers.Dense(10),\n",
    "    tf.keras.layers.Dense(1)\n",
    "])\n",
    "\n",
    "#complile the model\n",
    "model2.compile(loss = tf.keras.losses.mae,\n",
    "              optimizer = tf.keras.optimizers.SGD(),\n",
    "              metrics=[\"mse\"])\n",
    "\n",
    "#fit the model\n",
    "model2.fit(tf.expand_dims(X_train, axis=-1), y_train, epochs=100)"
   ]
  },
  {
   "cell_type": "code",
   "execution_count": 110,
   "id": "49a398e1",
   "metadata": {},
   "outputs": [
    {
     "data": {
      "image/png": "[encoded data removed]",
      "text/plain": [
       "<Figure size 720x504 with 1 Axes>"
      ]
     },
     "metadata": {
      "needs_background": "light"
     },
     "output_type": "display_data"
    }
   ],
   "source": [
    "y_pred_2 = model2.predict(X_test)\n",
    "\n",
    "plot_predictions(predictions = y_pred_2)"
   ]
  },
  {
   "cell_type": "code",
   "execution_count": 112,
   "id": "873cca3c",
   "metadata": {},
   "outputs": [
    {
     "name": "stdout",
     "output_type": "stream",
     "text": [
      "tf.Tensor(3.1969726, shape=(), dtype=float32) tf.Tensor(13.070358, shape=(), dtype=float32)\n"
     ]
    }
   ],
   "source": [
    "mae_2 = mae(y_test, y_pred_2)\n",
    "mse_2 = mse(y_test, y_pred_2)\n",
    "print(mae_2, mse_2)"
   ]
  },
  {
   "cell_type": "markdown",
   "id": "020e8593",
   "metadata": {},
   "source": [
    "## Model3"
   ]
  },
  {
   "cell_type": "code",
   "execution_count": 113,
   "id": "2764bbba",
   "metadata": {},
   "outputs": [
    {
     "name": "stdout",
     "output_type": "stream",
     "text": [
      "Epoch 1/500\n",
      "2/2 [==============================] - 0s 7ms/step - loss: 27.4058 - mse: 1084.1482\n",
      "Epoch 2/500\n",
      "2/2 [==============================] - 0s 9ms/step - loss: 24.6339 - mse: 777.9203\n",
      "Epoch 3/500\n",
      "2/2 [==============================] - 0s 7ms/step - loss: 29.8935 - mse: 1334.8954\n",
      "Epoch 4/500\n",
      "2/2 [==============================] - 0s 7ms/step - loss: 27.4055 - mse: 1106.8035\n",
      "Epoch 5/500\n",
      "2/2 [==============================] - 0s 8ms/step - loss: 14.9463 - mse: 281.1077\n",
      "Epoch 6/500\n",
      "2/2 [==============================] - 0s 8ms/step - loss: 11.8819 - mse: 168.6622\n",
      "Epoch 7/500\n",
      "2/2 [==============================] - 0s 6ms/step - loss: 11.1988 - mse: 151.3508\n",
      "Epoch 8/500\n",
      "2/2 [==============================] - 0s 8ms/step - loss: 11.0910 - mse: 160.3745\n",
      "Epoch 9/500\n",
      "2/2 [==============================] - 0s 9ms/step - loss: 40.4763 - mse: 2586.0093\n",
      "Epoch 10/500\n",
      "2/2 [==============================] - 0s 7ms/step - loss: 27.8688 - mse: 1094.4385\n",
      "Epoch 11/500\n",
      "2/2 [==============================] - 0s 8ms/step - loss: 10.2473 - mse: 147.9360\n",
      "Epoch 12/500\n",
      "2/2 [==============================] - 0s 8ms/step - loss: 25.2803 - mse: 890.3867\n",
      "Epoch 13/500\n",
      "2/2 [==============================] - 0s 9ms/step - loss: 16.9897 - mse: 399.9678\n",
      "Epoch 14/500\n",
      "2/2 [==============================] - 0s 8ms/step - loss: 25.9217 - mse: 1049.5519\n",
      "Epoch 15/500\n",
      "2/2 [==============================] - 0s 7ms/step - loss: 17.9948 - mse: 450.2582\n",
      "Epoch 16/500\n",
      "2/2 [==============================] - 0s 6ms/step - loss: 7.3510 - mse: 80.6206\n",
      "Epoch 17/500\n",
      "2/2 [==============================] - 0s 7ms/step - loss: 10.8636 - mse: 174.7867\n",
      "Epoch 18/500\n",
      "2/2 [==============================] - 0s 8ms/step - loss: 19.5304 - mse: 565.8052\n",
      "Epoch 19/500\n",
      "2/2 [==============================] - 0s 9ms/step - loss: 10.3469 - mse: 167.7749\n",
      "Epoch 20/500\n",
      "2/2 [==============================] - 0s 7ms/step - loss: 17.6985 - mse: 455.7096\n",
      "Epoch 21/500\n",
      "2/2 [==============================] - 0s 8ms/step - loss: 15.8984 - mse: 347.1929\n",
      "Epoch 22/500\n",
      "2/2 [==============================] - 0s 8ms/step - loss: 14.1991 - mse: 285.1766\n",
      "Epoch 23/500\n",
      "2/2 [==============================] - 0s 7ms/step - loss: 8.7720 - mse: 91.7852\n",
      "Epoch 24/500\n",
      "2/2 [==============================] - 0s 6ms/step - loss: 11.0570 - mse: 153.7430\n",
      "Epoch 25/500\n",
      "2/2 [==============================] - 0s 10ms/step - loss: 12.6838 - mse: 233.2950\n",
      "Epoch 26/500\n",
      "2/2 [==============================] - 0s 7ms/step - loss: 26.1877 - mse: 1024.6091\n",
      "Epoch 27/500\n",
      "2/2 [==============================] - 0s 8ms/step - loss: 11.7432 - mse: 194.8453\n",
      "Epoch 28/500\n",
      "2/2 [==============================] - 0s 8ms/step - loss: 22.8730 - mse: 835.6071\n",
      "Epoch 29/500\n",
      "2/2 [==============================] - 0s 8ms/step - loss: 9.2459 - mse: 96.7787\n",
      "Epoch 30/500\n",
      "2/2 [==============================] - 0s 10ms/step - loss: 29.2641 - mse: 1535.1342\n",
      "Epoch 31/500\n",
      "2/2 [==============================] - 0s 9ms/step - loss: 53.0224 - mse: 5030.2949\n",
      "Epoch 32/500\n",
      "2/2 [==============================] - 0s 9ms/step - loss: 11.9951 - mse: 211.7022\n",
      "Epoch 33/500\n",
      "2/2 [==============================] - 0s 9ms/step - loss: 15.6357 - mse: 337.3662\n",
      "Epoch 34/500\n",
      "2/2 [==============================] - 0s 8ms/step - loss: 12.6925 - mse: 214.4821\n",
      "Epoch 35/500\n",
      "2/2 [==============================] - 0s 8ms/step - loss: 9.2398 - mse: 92.9125\n",
      "Epoch 36/500\n",
      "2/2 [==============================] - 0s 7ms/step - loss: 16.6497 - mse: 403.6566\n",
      "Epoch 37/500\n",
      "2/2 [==============================] - 0s 7ms/step - loss: 11.0382 - mse: 192.3918\n",
      "Epoch 38/500\n",
      "2/2 [==============================] - 0s 12ms/step - loss: 18.1634 - mse: 433.6720\n",
      "Epoch 39/500\n",
      "2/2 [==============================] - 0s 15ms/step - loss: 19.1013 - mse: 529.6442\n",
      "Epoch 40/500\n",
      "2/2 [==============================] - 0s 12ms/step - loss: 20.4324 - mse: 610.1327\n",
      "Epoch 41/500\n",
      "2/2 [==============================] - 0s 6ms/step - loss: 14.9102 - mse: 279.6180\n",
      "Epoch 42/500\n",
      "2/2 [==============================] - 0s 8ms/step - loss: 12.2809 - mse: 186.6177\n",
      "Epoch 43/500\n",
      "2/2 [==============================] - 0s 7ms/step - loss: 10.7333 - mse: 167.0950\n",
      "Epoch 44/500\n",
      "2/2 [==============================] - 0s 8ms/step - loss: 23.0260 - mse: 830.4238\n",
      "Epoch 45/500\n",
      "2/2 [==============================] - 0s 8ms/step - loss: 10.3897 - mse: 128.9549\n",
      "Epoch 46/500\n",
      "2/2 [==============================] - 0s 8ms/step - loss: 11.7904 - mse: 181.9210\n",
      "Epoch 47/500\n",
      "2/2 [==============================] - 0s 7ms/step - loss: 9.6438 - mse: 153.8708\n",
      "Epoch 48/500\n",
      "2/2 [==============================] - 0s 8ms/step - loss: 17.2335 - mse: 402.8496\n",
      "Epoch 49/500\n",
      "2/2 [==============================] - 0s 7ms/step - loss: 9.5729 - mse: 99.8336\n",
      "Epoch 50/500\n",
      "2/2 [==============================] - 0s 7ms/step - loss: 13.8185 - mse: 260.3668\n",
      "Epoch 51/500\n",
      "2/2 [==============================] - 0s 7ms/step - loss: 11.5958 - mse: 154.7956\n",
      "Epoch 52/500\n",
      "2/2 [==============================] - 0s 7ms/step - loss: 30.5538 - mse: 1613.0876\n",
      "Epoch 53/500\n",
      "2/2 [==============================] - 0s 7ms/step - loss: 14.3541 - mse: 302.5291\n",
      "Epoch 54/500\n",
      "2/2 [==============================] - 0s 7ms/step - loss: 23.9713 - mse: 859.3983\n",
      "Epoch 55/500\n",
      "2/2 [==============================] - 0s 6ms/step - loss: 23.1938 - mse: 805.5448\n",
      "Epoch 56/500\n",
      "2/2 [==============================] - 0s 8ms/step - loss: 10.8837 - mse: 170.9833\n",
      "Epoch 57/500\n",
      "2/2 [==============================] - 0s 8ms/step - loss: 12.7445 - mse: 198.7015\n",
      "Epoch 58/500\n",
      "2/2 [==============================] - 0s 7ms/step - loss: 9.5995 - mse: 102.5890\n",
      "Epoch 59/500\n",
      "2/2 [==============================] - 0s 7ms/step - loss: 12.5172 - mse: 216.3367\n",
      "Epoch 60/500\n",
      "2/2 [==============================] - 0s 7ms/step - loss: 12.3200 - mse: 208.6371\n",
      "Epoch 61/500\n",
      "2/2 [==============================] - 0s 8ms/step - loss: 17.4604 - mse: 428.6395\n",
      "Epoch 62/500\n",
      "2/2 [==============================] - 0s 8ms/step - loss: 10.6052 - mse: 136.9777\n",
      "Epoch 63/500\n",
      "2/2 [==============================] - 0s 8ms/step - loss: 10.4893 - mse: 152.4555\n",
      "Epoch 64/500\n",
      "2/2 [==============================] - 0s 8ms/step - loss: 24.8450 - mse: 911.7513\n",
      "Epoch 65/500\n",
      "2/2 [==============================] - 0s 8ms/step - loss: 10.6761 - mse: 142.7375\n",
      "Epoch 66/500\n",
      "2/2 [==============================] - 0s 7ms/step - loss: 21.7809 - mse: 704.4491\n",
      "Epoch 67/500\n",
      "2/2 [==============================] - 0s 7ms/step - loss: 10.7136 - mse: 136.0195\n",
      "Epoch 68/500\n",
      "2/2 [==============================] - 0s 8ms/step - loss: 10.6397 - mse: 149.2301\n",
      "Epoch 69/500\n",
      "2/2 [==============================] - 0s 7ms/step - loss: 22.6914 - mse: 742.1768\n",
      "Epoch 70/500\n",
      "2/2 [==============================] - 0s 7ms/step - loss: 9.3316 - mse: 166.1628\n",
      "Epoch 71/500\n",
      "2/2 [==============================] - 0s 7ms/step - loss: 15.4355 - mse: 323.0842\n",
      "Epoch 72/500\n",
      "2/2 [==============================] - 0s 8ms/step - loss: 6.7437 - mse: 67.0209\n",
      "Epoch 73/500\n",
      "2/2 [==============================] - 0s 5ms/step - loss: 11.6891 - mse: 183.7296\n",
      "Epoch 74/500\n",
      "2/2 [==============================] - 0s 8ms/step - loss: 24.0400 - mse: 908.9000\n",
      "Epoch 75/500\n",
      "2/2 [==============================] - 0s 7ms/step - loss: 9.5897 - mse: 149.3948\n",
      "Epoch 76/500\n",
      "2/2 [==============================] - 0s 6ms/step - loss: 12.4371 - mse: 188.3311\n",
      "Epoch 77/500\n",
      "2/2 [==============================] - 0s 6ms/step - loss: 16.6489 - mse: 429.2709\n",
      "Epoch 78/500\n",
      "2/2 [==============================] - 0s 6ms/step - loss: 9.0614 - mse: 95.4870\n",
      "Epoch 79/500\n",
      "2/2 [==============================] - 0s 7ms/step - loss: 23.9675 - mse: 864.0869\n",
      "Epoch 80/500\n",
      "2/2 [==============================] - 0s 6ms/step - loss: 26.7463 - mse: 1104.4036\n",
      "Epoch 81/500\n",
      "2/2 [==============================] - 0s 6ms/step - loss: 11.6715 - mse: 170.7057\n",
      "Epoch 82/500\n",
      "2/2 [==============================] - 0s 6ms/step - loss: 12.0228 - mse: 211.9191\n",
      "Epoch 83/500\n",
      "2/2 [==============================] - 0s 7ms/step - loss: 17.4218 - mse: 395.5588\n",
      "Epoch 84/500\n",
      "2/2 [==============================] - 0s 7ms/step - loss: 7.2629 - mse: 73.0935\n",
      "Epoch 85/500\n",
      "2/2 [==============================] - 0s 8ms/step - loss: 14.9650 - mse: 312.8360\n",
      "Epoch 86/500\n"
     ]
    },
    {
     "name": "stdout",
     "output_type": "stream",
     "text": [
      "2/2 [==============================] - 0s 6ms/step - loss: 15.2862 - mse: 315.3605\n",
      "Epoch 87/500\n",
      "2/2 [==============================] - 0s 8ms/step - loss: 19.1086 - mse: 521.2532\n",
      "Epoch 88/500\n",
      "2/2 [==============================] - 0s 8ms/step - loss: 29.8229 - mse: 1287.1917\n",
      "Epoch 89/500\n",
      "2/2 [==============================] - 0s 8ms/step - loss: 10.1742 - mse: 124.1342\n",
      "Epoch 90/500\n",
      "2/2 [==============================] - 0s 7ms/step - loss: 21.5240 - mse: 663.8617\n",
      "Epoch 91/500\n",
      "2/2 [==============================] - 0s 7ms/step - loss: 10.5716 - mse: 161.7467\n",
      "Epoch 92/500\n",
      "2/2 [==============================] - 0s 7ms/step - loss: 18.3977 - mse: 464.1331\n",
      "Epoch 93/500\n",
      "2/2 [==============================] - 0s 7ms/step - loss: 7.4138 - mse: 81.9819\n",
      "Epoch 94/500\n",
      "2/2 [==============================] - 0s 8ms/step - loss: 17.7380 - mse: 445.7386\n",
      "Epoch 95/500\n",
      "2/2 [==============================] - 0s 7ms/step - loss: 11.1144 - mse: 164.0824\n",
      "Epoch 96/500\n",
      "2/2 [==============================] - 0s 7ms/step - loss: 19.4346 - mse: 510.5849\n",
      "Epoch 97/500\n",
      "2/2 [==============================] - 0s 7ms/step - loss: 12.1593 - mse: 209.9759\n",
      "Epoch 98/500\n",
      "2/2 [==============================] - 0s 7ms/step - loss: 11.5653 - mse: 169.4054\n",
      "Epoch 99/500\n",
      "2/2 [==============================] - 0s 6ms/step - loss: 13.8827 - mse: 265.4633\n",
      "Epoch 100/500\n",
      "2/2 [==============================] - 0s 6ms/step - loss: 20.2277 - mse: 608.8227\n",
      "Epoch 101/500\n",
      "2/2 [==============================] - 0s 7ms/step - loss: 11.4479 - mse: 177.1449\n",
      "Epoch 102/500\n",
      "2/2 [==============================] - 0s 6ms/step - loss: 17.4842 - mse: 426.5335\n",
      "Epoch 103/500\n",
      "2/2 [==============================] - 0s 6ms/step - loss: 7.0217 - mse: 65.2649\n",
      "Epoch 104/500\n",
      "2/2 [==============================] - 0s 6ms/step - loss: 23.5789 - mse: 757.4906\n",
      "Epoch 105/500\n",
      "2/2 [==============================] - 0s 6ms/step - loss: 16.8932 - mse: 443.0959\n",
      "Epoch 106/500\n",
      "2/2 [==============================] - 0s 6ms/step - loss: 9.2954 - mse: 144.6572\n",
      "Epoch 107/500\n",
      "2/2 [==============================] - 0s 8ms/step - loss: 25.3749 - mse: 934.2094\n",
      "Epoch 108/500\n",
      "2/2 [==============================] - 0s 9ms/step - loss: 13.4621 - mse: 269.8603\n",
      "Epoch 109/500\n",
      "2/2 [==============================] - 0s 7ms/step - loss: 9.5238 - mse: 108.7909\n",
      "Epoch 110/500\n",
      "2/2 [==============================] - 0s 7ms/step - loss: 9.6722 - mse: 128.8767\n",
      "Epoch 111/500\n",
      "2/2 [==============================] - 0s 7ms/step - loss: 14.5987 - mse: 295.9865\n",
      "Epoch 112/500\n",
      "2/2 [==============================] - 0s 7ms/step - loss: 9.5670 - mse: 123.4115\n",
      "Epoch 113/500\n",
      "2/2 [==============================] - 0s 6ms/step - loss: 17.8093 - mse: 460.3873\n",
      "Epoch 114/500\n",
      "2/2 [==============================] - 0s 7ms/step - loss: 17.1782 - mse: 441.2214\n",
      "Epoch 115/500\n",
      "2/2 [==============================] - 0s 7ms/step - loss: 11.1182 - mse: 155.0963\n",
      "Epoch 116/500\n",
      "2/2 [==============================] - 0s 7ms/step - loss: 23.3071 - mse: 791.7667\n",
      "Epoch 117/500\n",
      "2/2 [==============================] - 0s 7ms/step - loss: 9.6144 - mse: 126.1895\n",
      "Epoch 118/500\n",
      "2/2 [==============================] - 0s 7ms/step - loss: 10.6899 - mse: 140.2946\n",
      "Epoch 119/500\n",
      "2/2 [==============================] - 0s 8ms/step - loss: 8.0355 - mse: 78.3508\n",
      "Epoch 120/500\n",
      "2/2 [==============================] - 0s 6ms/step - loss: 29.6859 - mse: 1315.8655\n",
      "Epoch 121/500\n",
      "2/2 [==============================] - 0s 8ms/step - loss: 8.0714 - mse: 70.6648\n",
      "Epoch 122/500\n",
      "2/2 [==============================] - 0s 6ms/step - loss: 28.3086 - mse: 1233.3854\n",
      "Epoch 123/500\n",
      "2/2 [==============================] - 0s 9ms/step - loss: 32.9014 - mse: 1591.9509\n",
      "Epoch 124/500\n",
      "2/2 [==============================] - 0s 7ms/step - loss: 19.6291 - mse: 571.6962\n",
      "Epoch 125/500\n",
      "2/2 [==============================] - 0s 7ms/step - loss: 7.0095 - mse: 72.1091\n",
      "Epoch 126/500\n",
      "2/2 [==============================] - 0s 8ms/step - loss: 21.8056 - mse: 666.4344\n",
      "Epoch 127/500\n",
      "2/2 [==============================] - 0s 7ms/step - loss: 7.9812 - mse: 69.5627\n",
      "Epoch 128/500\n",
      "2/2 [==============================] - 0s 6ms/step - loss: 21.0585 - mse: 653.6489\n",
      "Epoch 129/500\n",
      "2/2 [==============================] - 0s 7ms/step - loss: 9.0107 - mse: 120.8764\n",
      "Epoch 130/500\n",
      "2/2 [==============================] - 0s 7ms/step - loss: 24.0502 - mse: 815.7744\n",
      "Epoch 131/500\n",
      "2/2 [==============================] - 0s 7ms/step - loss: 9.7537 - mse: 133.0194\n",
      "Epoch 132/500\n",
      "2/2 [==============================] - 0s 7ms/step - loss: 18.3052 - mse: 500.9214\n",
      "Epoch 133/500\n",
      "2/2 [==============================] - 0s 8ms/step - loss: 7.5833 - mse: 80.1913\n",
      "Epoch 134/500\n",
      "2/2 [==============================] - 0s 8ms/step - loss: 18.5755 - mse: 506.3343\n",
      "Epoch 135/500\n",
      "2/2 [==============================] - 0s 7ms/step - loss: 10.5360 - mse: 148.5977\n",
      "Epoch 136/500\n",
      "2/2 [==============================] - 0s 6ms/step - loss: 18.2694 - mse: 472.4460\n",
      "Epoch 137/500\n",
      "2/2 [==============================] - 0s 8ms/step - loss: 23.1658 - mse: 724.0380\n",
      "Epoch 138/500\n",
      "2/2 [==============================] - 0s 6ms/step - loss: 9.1362 - mse: 139.5299\n",
      "Epoch 139/500\n",
      "2/2 [==============================] - 0s 7ms/step - loss: 8.9181 - mse: 144.6080\n",
      "Epoch 140/500\n",
      "2/2 [==============================] - 0s 8ms/step - loss: 16.4732 - mse: 389.2470\n",
      "Epoch 141/500\n",
      "2/2 [==============================] - 0s 7ms/step - loss: 8.4208 - mse: 91.7413\n",
      "Epoch 142/500\n",
      "2/2 [==============================] - 0s 7ms/step - loss: 36.9540 - mse: 2404.8640\n",
      "Epoch 143/500\n",
      "2/2 [==============================] - 0s 7ms/step - loss: 25.5820 - mse: 927.2341\n",
      "Epoch 144/500\n",
      "2/2 [==============================] - 0s 8ms/step - loss: 9.5392 - mse: 144.3266\n",
      "Epoch 145/500\n",
      "2/2 [==============================] - 0s 6ms/step - loss: 26.6058 - mse: 957.1339\n",
      "Epoch 146/500\n",
      "2/2 [==============================] - 0s 8ms/step - loss: 8.7248 - mse: 109.2954\n",
      "Epoch 147/500\n",
      "2/2 [==============================] - 0s 7ms/step - loss: 15.6172 - mse: 311.2311\n",
      "Epoch 148/500\n",
      "2/2 [==============================] - 0s 7ms/step - loss: 18.3065 - mse: 464.7856\n",
      "Epoch 149/500\n",
      "2/2 [==============================] - 0s 7ms/step - loss: 8.1994 - mse: 106.4584\n",
      "Epoch 150/500\n",
      "2/2 [==============================] - 0s 7ms/step - loss: 7.4964 - mse: 66.4456\n",
      "Epoch 151/500\n",
      "2/2 [==============================] - 0s 7ms/step - loss: 18.3374 - mse: 485.9980\n",
      "Epoch 152/500\n",
      "2/2 [==============================] - 0s 7ms/step - loss: 10.2895 - mse: 130.5615\n",
      "Epoch 153/500\n",
      "2/2 [==============================] - 0s 9ms/step - loss: 29.6425 - mse: 1268.4628\n",
      "Epoch 154/500\n",
      "2/2 [==============================] - 0s 6ms/step - loss: 10.5556 - mse: 201.2335\n",
      "Epoch 155/500\n",
      "2/2 [==============================] - 0s 7ms/step - loss: 15.4537 - mse: 347.2170\n",
      "Epoch 156/500\n",
      "2/2 [==============================] - 0s 7ms/step - loss: 17.0174 - mse: 438.8495\n",
      "Epoch 157/500\n",
      "2/2 [==============================] - 0s 6ms/step - loss: 32.8218 - mse: 1744.8141\n",
      "Epoch 158/500\n",
      "2/2 [==============================] - 0s 7ms/step - loss: 10.7038 - mse: 151.0813\n",
      "Epoch 159/500\n",
      "2/2 [==============================] - 0s 8ms/step - loss: 8.9054 - mse: 97.7705\n",
      "Epoch 160/500\n",
      "2/2 [==============================] - 0s 7ms/step - loss: 22.1321 - mse: 709.4396\n",
      "Epoch 161/500\n",
      "2/2 [==============================] - 0s 9ms/step - loss: 11.7113 - mse: 202.9612\n",
      "Epoch 162/500\n",
      "2/2 [==============================] - 0s 6ms/step - loss: 21.5734 - mse: 670.2861\n",
      "Epoch 163/500\n",
      "2/2 [==============================] - 0s 8ms/step - loss: 19.2485 - mse: 533.4075\n",
      "Epoch 164/500\n",
      "2/2 [==============================] - 0s 8ms/step - loss: 11.0156 - mse: 177.6826\n",
      "Epoch 165/500\n",
      "2/2 [==============================] - 0s 6ms/step - loss: 9.6187 - mse: 179.8633\n",
      "Epoch 166/500\n",
      "2/2 [==============================] - 0s 7ms/step - loss: 21.5908 - mse: 681.9666\n",
      "Epoch 167/500\n",
      "2/2 [==============================] - 0s 7ms/step - loss: 26.2851 - mse: 1048.8451\n",
      "Epoch 168/500\n",
      "2/2 [==============================] - 0s 7ms/step - loss: 9.8525 - mse: 118.2892\n",
      "Epoch 169/500\n",
      "2/2 [==============================] - 0s 6ms/step - loss: 22.5630 - mse: 787.0588\n",
      "Epoch 170/500\n",
      "2/2 [==============================] - 0s 6ms/step - loss: 10.1499 - mse: 195.9051\n",
      "Epoch 171/500\n"
     ]
    },
    {
     "name": "stdout",
     "output_type": "stream",
     "text": [
      "2/2 [==============================] - 0s 6ms/step - loss: 18.0464 - mse: 503.4532\n",
      "Epoch 172/500\n",
      "2/2 [==============================] - 0s 8ms/step - loss: 28.8377 - mse: 1305.7987\n",
      "Epoch 173/500\n",
      "2/2 [==============================] - 0s 7ms/step - loss: 16.5279 - mse: 432.1443\n",
      "Epoch 174/500\n",
      "2/2 [==============================] - 0s 7ms/step - loss: 11.2115 - mse: 199.9691\n",
      "Epoch 175/500\n",
      "2/2 [==============================] - 0s 8ms/step - loss: 27.5839 - mse: 1097.8187\n",
      "Epoch 176/500\n",
      "2/2 [==============================] - 0s 6ms/step - loss: 8.2680 - mse: 77.5372\n",
      "Epoch 177/500\n",
      "2/2 [==============================] - 0s 7ms/step - loss: 9.2580 - mse: 108.9075\n",
      "Epoch 178/500\n",
      "2/2 [==============================] - 0s 6ms/step - loss: 18.1440 - mse: 466.0512\n",
      "Epoch 179/500\n",
      "2/2 [==============================] - 0s 8ms/step - loss: 10.5995 - mse: 147.8543\n",
      "Epoch 180/500\n",
      "2/2 [==============================] - 0s 6ms/step - loss: 7.8992 - mse: 100.6932\n",
      "Epoch 181/500\n",
      "2/2 [==============================] - 0s 7ms/step - loss: 17.4015 - mse: 438.6034\n",
      "Epoch 182/500\n",
      "2/2 [==============================] - 0s 8ms/step - loss: 11.0089 - mse: 157.1595\n",
      "Epoch 183/500\n",
      "2/2 [==============================] - 0s 8ms/step - loss: 11.7027 - mse: 203.9955\n",
      "Epoch 184/500\n",
      "2/2 [==============================] - 0s 6ms/step - loss: 30.4062 - mse: 1387.3846\n",
      "Epoch 185/500\n",
      "2/2 [==============================] - 0s 8ms/step - loss: 7.5557 - mse: 98.6847\n",
      "Epoch 186/500\n",
      "2/2 [==============================] - 0s 7ms/step - loss: 15.9905 - mse: 369.3701\n",
      "Epoch 187/500\n",
      "2/2 [==============================] - 0s 8ms/step - loss: 8.5579 - mse: 85.4846\n",
      "Epoch 188/500\n",
      "2/2 [==============================] - 0s 13ms/step - loss: 28.7339 - mse: 1175.7054\n",
      "Epoch 189/500\n",
      "2/2 [==============================] - 0s 8ms/step - loss: 13.1689 - mse: 271.3447\n",
      "Epoch 190/500\n",
      "2/2 [==============================] - 0s 9ms/step - loss: 18.3101 - mse: 512.5546\n",
      "Epoch 191/500\n",
      "2/2 [==============================] - 0s 7ms/step - loss: 13.7376 - mse: 264.9675\n",
      "Epoch 192/500\n",
      "2/2 [==============================] - 0s 8ms/step - loss: 13.7104 - mse: 261.0630\n",
      "Epoch 193/500\n",
      "2/2 [==============================] - 0s 6ms/step - loss: 28.5842 - mse: 1135.1305\n",
      "Epoch 194/500\n",
      "2/2 [==============================] - 0s 8ms/step - loss: 7.0707 - mse: 78.6824\n",
      "Epoch 195/500\n",
      "2/2 [==============================] - 0s 8ms/step - loss: 7.0550 - mse: 74.9454\n",
      "Epoch 196/500\n",
      "2/2 [==============================] - 0s 7ms/step - loss: 22.0067 - mse: 709.4540\n",
      "Epoch 197/500\n",
      "2/2 [==============================] - 0s 7ms/step - loss: 20.8443 - mse: 643.6121\n",
      "Epoch 198/500\n",
      "2/2 [==============================] - 0s 7ms/step - loss: 12.4713 - mse: 236.5510\n",
      "Epoch 199/500\n",
      "2/2 [==============================] - 0s 6ms/step - loss: 17.9099 - mse: 460.3529\n",
      "Epoch 200/500\n",
      "2/2 [==============================] - 0s 7ms/step - loss: 13.7493 - mse: 282.2668\n",
      "Epoch 201/500\n",
      "2/2 [==============================] - 0s 6ms/step - loss: 5.4687 - mse: 41.0882\n",
      "Epoch 202/500\n",
      "2/2 [==============================] - 0s 7ms/step - loss: 13.7006 - mse: 293.8447\n",
      "Epoch 203/500\n",
      "2/2 [==============================] - 0s 7ms/step - loss: 9.4142 - mse: 139.9066\n",
      "Epoch 204/500\n",
      "2/2 [==============================] - 0s 6ms/step - loss: 20.9796 - mse: 656.2631\n",
      "Epoch 205/500\n",
      "2/2 [==============================] - 0s 7ms/step - loss: 9.5470 - mse: 127.9146\n",
      "Epoch 206/500\n",
      "2/2 [==============================] - 0s 7ms/step - loss: 11.7256 - mse: 195.6241\n",
      "Epoch 207/500\n",
      "2/2 [==============================] - 0s 7ms/step - loss: 14.3772 - mse: 317.1681\n",
      "Epoch 208/500\n",
      "2/2 [==============================] - 0s 7ms/step - loss: 14.8579 - mse: 323.1455\n",
      "Epoch 209/500\n",
      "2/2 [==============================] - 0s 8ms/step - loss: 14.9706 - mse: 345.7379\n",
      "Epoch 210/500\n",
      "2/2 [==============================] - 0s 8ms/step - loss: 17.8998 - mse: 467.4649\n",
      "Epoch 211/500\n",
      "2/2 [==============================] - 0s 8ms/step - loss: 9.8327 - mse: 145.8636\n",
      "Epoch 212/500\n",
      "2/2 [==============================] - 0s 7ms/step - loss: 18.3352 - mse: 507.7771\n",
      "Epoch 213/500\n",
      "2/2 [==============================] - 0s 6ms/step - loss: 15.0383 - mse: 307.6406\n",
      "Epoch 214/500\n",
      "2/2 [==============================] - 0s 8ms/step - loss: 14.5874 - mse: 293.5641\n",
      "Epoch 215/500\n",
      "2/2 [==============================] - 0s 8ms/step - loss: 23.3015 - mse: 799.4148\n",
      "Epoch 216/500\n",
      "2/2 [==============================] - 0s 8ms/step - loss: 13.3613 - mse: 278.0949\n",
      "Epoch 217/500\n",
      "2/2 [==============================] - 0s 7ms/step - loss: 9.8517 - mse: 136.3092\n",
      "Epoch 218/500\n",
      "2/2 [==============================] - 0s 6ms/step - loss: 12.5451 - mse: 206.5809\n",
      "Epoch 219/500\n",
      "2/2 [==============================] - 0s 8ms/step - loss: 4.9472 - mse: 37.4063\n",
      "Epoch 220/500\n",
      "2/2 [==============================] - 0s 9ms/step - loss: 7.1130 - mse: 57.5579\n",
      "Epoch 221/500\n",
      "2/2 [==============================] - 0s 7ms/step - loss: 35.4567 - mse: 2108.1016\n",
      "Epoch 222/500\n",
      "2/2 [==============================] - 0s 8ms/step - loss: 34.8634 - mse: 1966.9609\n",
      "Epoch 223/500\n",
      "2/2 [==============================] - 0s 6ms/step - loss: 7.9846 - mse: 119.7548\n",
      "Epoch 224/500\n",
      "2/2 [==============================] - 0s 7ms/step - loss: 14.7004 - mse: 318.5026\n",
      "Epoch 225/500\n",
      "2/2 [==============================] - 0s 8ms/step - loss: 16.7196 - mse: 360.6417\n",
      "Epoch 226/500\n",
      "2/2 [==============================] - 0s 6ms/step - loss: 15.9329 - mse: 369.8891\n",
      "Epoch 227/500\n",
      "2/2 [==============================] - 0s 7ms/step - loss: 16.1644 - mse: 369.5818\n",
      "Epoch 228/500\n",
      "2/2 [==============================] - 0s 8ms/step - loss: 13.9324 - mse: 282.1422\n",
      "Epoch 229/500\n",
      "2/2 [==============================] - 0s 7ms/step - loss: 18.0504 - mse: 457.4228\n",
      "Epoch 230/500\n",
      "2/2 [==============================] - 0s 8ms/step - loss: 15.6120 - mse: 314.6218\n",
      "Epoch 231/500\n",
      "2/2 [==============================] - 0s 7ms/step - loss: 21.2041 - mse: 670.7589\n",
      "Epoch 232/500\n",
      "2/2 [==============================] - 0s 7ms/step - loss: 25.2732 - mse: 913.5807\n",
      "Epoch 233/500\n",
      "2/2 [==============================] - 0s 8ms/step - loss: 16.3176 - mse: 387.7159\n",
      "Epoch 234/500\n",
      "2/2 [==============================] - 0s 8ms/step - loss: 7.2729 - mse: 66.5098\n",
      "Epoch 235/500\n",
      "2/2 [==============================] - 0s 7ms/step - loss: 16.9688 - mse: 403.1296\n",
      "Epoch 236/500\n",
      "2/2 [==============================] - 0s 7ms/step - loss: 7.1225 - mse: 69.7516\n",
      "Epoch 237/500\n",
      "2/2 [==============================] - 0s 6ms/step - loss: 9.2058 - mse: 118.9100\n",
      "Epoch 238/500\n",
      "2/2 [==============================] - 0s 7ms/step - loss: 8.0961 - mse: 86.7115\n",
      "Epoch 239/500\n",
      "2/2 [==============================] - 0s 7ms/step - loss: 17.0538 - mse: 438.0269\n",
      "Epoch 240/500\n",
      "2/2 [==============================] - 0s 6ms/step - loss: 8.8627 - mse: 107.8192\n",
      "Epoch 241/500\n",
      "2/2 [==============================] - 0s 7ms/step - loss: 13.1711 - mse: 273.2422\n",
      "Epoch 242/500\n",
      "2/2 [==============================] - 0s 7ms/step - loss: 8.7886 - mse: 104.8366\n",
      "Epoch 243/500\n",
      "2/2 [==============================] - 0s 8ms/step - loss: 18.8161 - mse: 541.4713\n",
      "Epoch 244/500\n",
      "2/2 [==============================] - 0s 6ms/step - loss: 14.0531 - mse: 275.3817\n",
      "Epoch 245/500\n",
      "2/2 [==============================] - 0s 6ms/step - loss: 14.6831 - mse: 290.1828\n",
      "Epoch 246/500\n",
      "2/2 [==============================] - 0s 6ms/step - loss: 15.8045 - mse: 370.7155\n",
      "Epoch 247/500\n",
      "2/2 [==============================] - 0s 6ms/step - loss: 17.6810 - mse: 421.4946\n",
      "Epoch 248/500\n",
      "2/2 [==============================] - 0s 7ms/step - loss: 13.2367 - mse: 251.7198\n",
      "Epoch 249/500\n",
      "2/2 [==============================] - 0s 6ms/step - loss: 14.5070 - mse: 288.7693\n",
      "Epoch 250/500\n",
      "2/2 [==============================] - 0s 6ms/step - loss: 23.2322 - mse: 793.2504\n",
      "Epoch 251/500\n",
      "2/2 [==============================] - 0s 8ms/step - loss: 9.3009 - mse: 119.0356\n",
      "Epoch 252/500\n",
      "2/2 [==============================] - 0s 7ms/step - loss: 36.6568 - mse: 2195.6174\n",
      "Epoch 253/500\n",
      "2/2 [==============================] - 0s 6ms/step - loss: 21.8205 - mse: 667.9626\n",
      "Epoch 254/500\n",
      "2/2 [==============================] - 0s 7ms/step - loss: 7.2792 - mse: 77.8094\n",
      "Epoch 255/500\n"
     ]
    },
    {
     "name": "stdout",
     "output_type": "stream",
     "text": [
      "2/2 [==============================] - 0s 6ms/step - loss: 24.7126 - mse: 882.9659\n",
      "Epoch 256/500\n",
      "2/2 [==============================] - 0s 5ms/step - loss: 12.4220 - mse: 220.3515\n",
      "Epoch 257/500\n",
      "2/2 [==============================] - 0s 6ms/step - loss: 10.5823 - mse: 164.0439\n",
      "Epoch 258/500\n",
      "2/2 [==============================] - 0s 6ms/step - loss: 14.4883 - mse: 322.3509\n",
      "Epoch 259/500\n",
      "2/2 [==============================] - 0s 6ms/step - loss: 8.6132 - mse: 98.6932\n",
      "Epoch 260/500\n",
      "2/2 [==============================] - 0s 6ms/step - loss: 43.0580 - mse: 2975.2305\n",
      "Epoch 261/500\n",
      "2/2 [==============================] - 0s 6ms/step - loss: 18.4611 - mse: 493.6658\n",
      "Epoch 262/500\n",
      "2/2 [==============================] - 0s 6ms/step - loss: 6.8820 - mse: 94.3407\n",
      "Epoch 263/500\n",
      "2/2 [==============================] - 0s 8ms/step - loss: 13.7211 - mse: 268.5679\n",
      "Epoch 264/500\n",
      "2/2 [==============================] - 0s 6ms/step - loss: 21.0154 - mse: 653.9619\n",
      "Epoch 265/500\n",
      "2/2 [==============================] - 0s 7ms/step - loss: 19.3731 - mse: 545.6241\n",
      "Epoch 266/500\n",
      "2/2 [==============================] - 0s 7ms/step - loss: 11.4735 - mse: 234.7203\n",
      "Epoch 267/500\n",
      "2/2 [==============================] - 0s 7ms/step - loss: 7.5302 - mse: 112.0906\n",
      "Epoch 268/500\n",
      "2/2 [==============================] - 0s 7ms/step - loss: 21.6453 - mse: 670.2257\n",
      "Epoch 269/500\n",
      "2/2 [==============================] - 0s 7ms/step - loss: 33.1785 - mse: 1653.7346\n",
      "Epoch 270/500\n",
      "2/2 [==============================] - 0s 7ms/step - loss: 10.0833 - mse: 148.7350\n",
      "Epoch 271/500\n",
      "2/2 [==============================] - 0s 6ms/step - loss: 12.1012 - mse: 303.1722\n",
      "Epoch 272/500\n",
      "2/2 [==============================] - 0s 7ms/step - loss: 26.1372 - mse: 944.6780\n",
      "Epoch 273/500\n",
      "2/2 [==============================] - 0s 7ms/step - loss: 12.1751 - mse: 228.8029\n",
      "Epoch 274/500\n",
      "2/2 [==============================] - 0s 7ms/step - loss: 13.3272 - mse: 282.3032\n",
      "Epoch 275/500\n",
      "2/2 [==============================] - 0s 6ms/step - loss: 29.3775 - mse: 1229.1168\n",
      "Epoch 276/500\n",
      "2/2 [==============================] - 0s 7ms/step - loss: 7.3329 - mse: 104.3415\n",
      "Epoch 277/500\n",
      "2/2 [==============================] - 0s 6ms/step - loss: 31.1362 - mse: 1360.7683\n",
      "Epoch 278/500\n",
      "2/2 [==============================] - 0s 7ms/step - loss: 12.3015 - mse: 234.6619\n",
      "Epoch 279/500\n",
      "2/2 [==============================] - 0s 6ms/step - loss: 16.4103 - mse: 416.9116\n",
      "Epoch 280/500\n",
      "2/2 [==============================] - 0s 6ms/step - loss: 21.9118 - mse: 716.7847\n",
      "Epoch 281/500\n",
      "2/2 [==============================] - 0s 6ms/step - loss: 22.1500 - mse: 745.2051\n",
      "Epoch 282/500\n",
      "2/2 [==============================] - 0s 6ms/step - loss: 7.7429 - mse: 90.5224\n",
      "Epoch 283/500\n",
      "2/2 [==============================] - 0s 7ms/step - loss: 8.1429 - mse: 87.9049\n",
      "Epoch 284/500\n",
      "2/2 [==============================] - 0s 6ms/step - loss: 24.9434 - mse: 936.1591\n",
      "Epoch 285/500\n",
      "2/2 [==============================] - 0s 7ms/step - loss: 13.6958 - mse: 299.3609\n",
      "Epoch 286/500\n",
      "2/2 [==============================] - 0s 6ms/step - loss: 6.8926 - mse: 81.2998\n",
      "Epoch 287/500\n",
      "2/2 [==============================] - 0s 5ms/step - loss: 24.5352 - mse: 862.2883\n",
      "Epoch 288/500\n",
      "2/2 [==============================] - 0s 5ms/step - loss: 20.1721 - mse: 605.2866\n",
      "Epoch 289/500\n",
      "2/2 [==============================] - 0s 7ms/step - loss: 11.9658 - mse: 244.8306\n",
      "Epoch 290/500\n",
      "2/2 [==============================] - 0s 6ms/step - loss: 16.5391 - mse: 366.5720\n",
      "Epoch 291/500\n",
      "2/2 [==============================] - 0s 6ms/step - loss: 16.8017 - mse: 414.8178\n",
      "Epoch 292/500\n",
      "2/2 [==============================] - 0s 6ms/step - loss: 9.4642 - mse: 213.4543\n",
      "Epoch 293/500\n",
      "2/2 [==============================] - 0s 6ms/step - loss: 15.2711 - mse: 318.1685\n",
      "Epoch 294/500\n",
      "2/2 [==============================] - 0s 6ms/step - loss: 22.7179 - mse: 780.8712\n",
      "Epoch 295/500\n",
      "2/2 [==============================] - 0s 6ms/step - loss: 17.9234 - mse: 458.5732\n",
      "Epoch 296/500\n",
      "2/2 [==============================] - 0s 7ms/step - loss: 6.1743 - mse: 59.0634\n",
      "Epoch 297/500\n",
      "2/2 [==============================] - 0s 6ms/step - loss: 10.9440 - mse: 254.2861\n",
      "Epoch 298/500\n",
      "2/2 [==============================] - 0s 8ms/step - loss: 23.1530 - mse: 785.9868\n",
      "Epoch 299/500\n",
      "2/2 [==============================] - 0s 8ms/step - loss: 17.7331 - mse: 469.9267\n",
      "Epoch 300/500\n",
      "2/2 [==============================] - 0s 8ms/step - loss: 6.9824 - mse: 65.0503\n",
      "Epoch 301/500\n",
      "2/2 [==============================] - 0s 8ms/step - loss: 25.1857 - mse: 898.2784\n",
      "Epoch 302/500\n",
      "2/2 [==============================] - 0s 7ms/step - loss: 8.9025 - mse: 116.0077\n",
      "Epoch 303/500\n",
      "2/2 [==============================] - 0s 8ms/step - loss: 17.7668 - mse: 461.9371\n",
      "Epoch 304/500\n",
      "2/2 [==============================] - 0s 8ms/step - loss: 11.0002 - mse: 173.9248\n",
      "Epoch 305/500\n",
      "2/2 [==============================] - 0s 8ms/step - loss: 12.9191 - mse: 271.8381\n",
      "Epoch 306/500\n",
      "2/2 [==============================] - 0s 8ms/step - loss: 8.4033 - mse: 94.4444\n",
      "Epoch 307/500\n",
      "2/2 [==============================] - 0s 7ms/step - loss: 13.6094 - mse: 279.1171\n",
      "Epoch 308/500\n",
      "2/2 [==============================] - 0s 7ms/step - loss: 7.4404 - mse: 78.3839\n",
      "Epoch 309/500\n",
      "2/2 [==============================] - 0s 7ms/step - loss: 9.4642 - mse: 138.8858\n",
      "Epoch 310/500\n",
      "2/2 [==============================] - 0s 6ms/step - loss: 10.7099 - mse: 198.2186\n",
      "Epoch 311/500\n",
      "2/2 [==============================] - 0s 7ms/step - loss: 13.2814 - mse: 254.2447\n",
      "Epoch 312/500\n",
      "2/2 [==============================] - 0s 7ms/step - loss: 29.9763 - mse: 1241.6274\n",
      "Epoch 313/500\n",
      "2/2 [==============================] - 0s 8ms/step - loss: 7.6304 - mse: 104.4100\n",
      "Epoch 314/500\n",
      "2/2 [==============================] - 0s 7ms/step - loss: 9.9106 - mse: 239.5555\n",
      "Epoch 315/500\n",
      "2/2 [==============================] - 0s 6ms/step - loss: 23.7669 - mse: 820.7438\n",
      "Epoch 316/500\n",
      "2/2 [==============================] - 0s 9ms/step - loss: 16.3937 - mse: 404.4795\n",
      "Epoch 317/500\n",
      "2/2 [==============================] - 0s 7ms/step - loss: 21.0758 - mse: 606.4601\n",
      "Epoch 318/500\n",
      "2/2 [==============================] - 0s 6ms/step - loss: 7.9367 - mse: 81.3765\n",
      "Epoch 319/500\n",
      "2/2 [==============================] - 0s 7ms/step - loss: 17.9731 - mse: 479.6090\n",
      "Epoch 320/500\n",
      "2/2 [==============================] - 0s 7ms/step - loss: 10.2375 - mse: 174.0454\n",
      "Epoch 321/500\n",
      "2/2 [==============================] - 0s 8ms/step - loss: 8.3338 - mse: 110.8493\n",
      "Epoch 322/500\n",
      "2/2 [==============================] - 0s 8ms/step - loss: 5.0621 - mse: 39.6195\n",
      "Epoch 323/500\n",
      "2/2 [==============================] - 0s 8ms/step - loss: 23.5109 - mse: 802.4888\n",
      "Epoch 324/500\n",
      "2/2 [==============================] - 0s 9ms/step - loss: 6.8309 - mse: 57.6746\n",
      "Epoch 325/500\n",
      "2/2 [==============================] - 0s 8ms/step - loss: 16.3862 - mse: 384.4402\n",
      "Epoch 326/500\n",
      "2/2 [==============================] - 0s 7ms/step - loss: 7.5019 - mse: 78.7650\n",
      "Epoch 327/500\n",
      "2/2 [==============================] - 0s 6ms/step - loss: 20.0573 - mse: 568.8236\n",
      "Epoch 328/500\n",
      "2/2 [==============================] - 0s 6ms/step - loss: 13.7661 - mse: 265.8646\n",
      "Epoch 329/500\n",
      "2/2 [==============================] - 0s 7ms/step - loss: 16.8282 - mse: 430.9921\n",
      "Epoch 330/500\n",
      "2/2 [==============================] - 0s 8ms/step - loss: 7.0514 - mse: 81.9921\n",
      "Epoch 331/500\n",
      "2/2 [==============================] - 0s 6ms/step - loss: 21.4846 - mse: 704.3921\n",
      "Epoch 332/500\n",
      "2/2 [==============================] - 0s 8ms/step - loss: 12.2880 - mse: 236.5701\n",
      "Epoch 333/500\n",
      "2/2 [==============================] - 0s 8ms/step - loss: 11.8117 - mse: 222.0920\n",
      "Epoch 334/500\n",
      "2/2 [==============================] - 0s 6ms/step - loss: 8.3600 - mse: 169.8893\n",
      "Epoch 335/500\n",
      "2/2 [==============================] - 0s 8ms/step - loss: 12.4833 - mse: 276.8588\n",
      "Epoch 336/500\n",
      "2/2 [==============================] - 0s 7ms/step - loss: 32.2171 - mse: 1416.1725\n",
      "Epoch 337/500\n",
      "2/2 [==============================] - 0s 7ms/step - loss: 10.4477 - mse: 180.3260\n",
      "Epoch 338/500\n",
      "2/2 [==============================] - 0s 8ms/step - loss: 19.6832 - mse: 573.4709\n",
      "Epoch 339/500\n"
     ]
    },
    {
     "name": "stdout",
     "output_type": "stream",
     "text": [
      "2/2 [==============================] - 0s 7ms/step - loss: 35.0762 - mse: 1849.1555\n",
      "Epoch 340/500\n",
      "2/2 [==============================] - 0s 6ms/step - loss: 10.4192 - mse: 181.4145\n",
      "Epoch 341/500\n",
      "2/2 [==============================] - 0s 7ms/step - loss: 9.7625 - mse: 156.3230\n",
      "Epoch 342/500\n",
      "2/2 [==============================] - 0s 6ms/step - loss: 11.9500 - mse: 188.5578\n",
      "Epoch 343/500\n",
      "2/2 [==============================] - 0s 8ms/step - loss: 9.3943 - mse: 145.3949\n",
      "Epoch 344/500\n",
      "2/2 [==============================] - 0s 7ms/step - loss: 5.6071 - mse: 44.6760\n",
      "Epoch 345/500\n",
      "2/2 [==============================] - 0s 6ms/step - loss: 37.4876 - mse: 2291.7798\n",
      "Epoch 346/500\n",
      "2/2 [==============================] - 0s 6ms/step - loss: 16.8830 - mse: 411.1353\n",
      "Epoch 347/500\n",
      "2/2 [==============================] - 0s 6ms/step - loss: 12.8748 - mse: 281.5983\n",
      "Epoch 348/500\n",
      "2/2 [==============================] - 0s 8ms/step - loss: 8.1960 - mse: 162.6963\n",
      "Epoch 349/500\n",
      "2/2 [==============================] - 0s 7ms/step - loss: 13.5568 - mse: 261.1367\n",
      "Epoch 350/500\n",
      "2/2 [==============================] - 0s 7ms/step - loss: 15.4354 - mse: 333.2081\n",
      "Epoch 351/500\n",
      "2/2 [==============================] - 0s 7ms/step - loss: 32.9626 - mse: 1524.7932\n",
      "Epoch 352/500\n",
      "2/2 [==============================] - 0s 6ms/step - loss: 14.2040 - mse: 282.7506\n",
      "Epoch 353/500\n",
      "2/2 [==============================] - 0s 7ms/step - loss: 15.9196 - mse: 374.1916\n",
      "Epoch 354/500\n",
      "2/2 [==============================] - 0s 7ms/step - loss: 19.0878 - mse: 534.9771\n",
      "Epoch 355/500\n",
      "2/2 [==============================] - 0s 7ms/step - loss: 34.1178 - mse: 1782.7019\n",
      "Epoch 356/500\n",
      "2/2 [==============================] - 0s 7ms/step - loss: 7.6798 - mse: 90.9118\n",
      "Epoch 357/500\n",
      "2/2 [==============================] - 0s 7ms/step - loss: 25.2287 - mse: 974.0944\n",
      "Epoch 358/500\n",
      "2/2 [==============================] - 0s 7ms/step - loss: 22.6759 - mse: 742.0940\n",
      "Epoch 359/500\n",
      "2/2 [==============================] - 0s 7ms/step - loss: 8.8765 - mse: 198.2591\n",
      "Epoch 360/500\n",
      "2/2 [==============================] - 0s 7ms/step - loss: 21.4709 - mse: 687.3277\n",
      "Epoch 361/500\n",
      "2/2 [==============================] - 0s 7ms/step - loss: 20.6073 - mse: 616.7946\n",
      "Epoch 362/500\n",
      "2/2 [==============================] - 0s 6ms/step - loss: 7.0611 - mse: 69.3817\n",
      "Epoch 363/500\n",
      "2/2 [==============================] - 0s 6ms/step - loss: 25.8117 - mse: 994.8190\n",
      "Epoch 364/500\n",
      "2/2 [==============================] - 0s 6ms/step - loss: 32.2247 - mse: 1527.6066\n",
      "Epoch 365/500\n",
      "2/2 [==============================] - 0s 7ms/step - loss: 10.0205 - mse: 161.6849\n",
      "Epoch 366/500\n",
      "2/2 [==============================] - 0s 7ms/step - loss: 9.6722 - mse: 227.5725\n",
      "Epoch 367/500\n",
      "2/2 [==============================] - 0s 8ms/step - loss: 30.4171 - mse: 1294.6045\n",
      "Epoch 368/500\n",
      "2/2 [==============================] - 0s 7ms/step - loss: 10.5020 - mse: 236.3135\n",
      "Epoch 369/500\n",
      "2/2 [==============================] - 0s 7ms/step - loss: 14.9909 - mse: 330.8542\n",
      "Epoch 370/500\n",
      "2/2 [==============================] - 0s 7ms/step - loss: 14.6580 - mse: 308.0735\n",
      "Epoch 371/500\n",
      "2/2 [==============================] - 0s 7ms/step - loss: 23.3672 - mse: 789.0355\n",
      "Epoch 372/500\n",
      "2/2 [==============================] - 0s 7ms/step - loss: 13.1025 - mse: 290.2270\n",
      "Epoch 373/500\n",
      "2/2 [==============================] - 0s 8ms/step - loss: 9.2586 - mse: 140.7053\n",
      "Epoch 374/500\n",
      "2/2 [==============================] - 0s 7ms/step - loss: 9.6648 - mse: 194.1147\n",
      "Epoch 375/500\n",
      "2/2 [==============================] - 0s 7ms/step - loss: 13.0041 - mse: 237.9867\n",
      "Epoch 376/500\n",
      "2/2 [==============================] - 0s 7ms/step - loss: 14.8863 - mse: 324.7536\n",
      "Epoch 377/500\n",
      "2/2 [==============================] - 0s 6ms/step - loss: 14.7932 - mse: 297.2056\n",
      "Epoch 378/500\n",
      "2/2 [==============================] - 0s 9ms/step - loss: 16.2751 - mse: 418.5632\n",
      "Epoch 379/500\n",
      "2/2 [==============================] - 0s 6ms/step - loss: 20.8307 - mse: 596.8133\n",
      "Epoch 380/500\n",
      "2/2 [==============================] - 0s 8ms/step - loss: 33.5318 - mse: 1684.8948\n",
      "Epoch 381/500\n",
      "2/2 [==============================] - 0s 7ms/step - loss: 8.2166 - mse: 100.6385\n",
      "Epoch 382/500\n",
      "2/2 [==============================] - 0s 8ms/step - loss: 13.0960 - mse: 282.0384\n",
      "Epoch 383/500\n",
      "2/2 [==============================] - 0s 8ms/step - loss: 8.3999 - mse: 126.0928\n",
      "Epoch 384/500\n",
      "2/2 [==============================] - 0s 6ms/step - loss: 7.1283 - mse: 72.4399\n",
      "Epoch 385/500\n",
      "2/2 [==============================] - 0s 8ms/step - loss: 10.9390 - mse: 249.4376\n",
      "Epoch 386/500\n",
      "2/2 [==============================] - 0s 8ms/step - loss: 19.7654 - mse: 601.5795\n",
      "Epoch 387/500\n",
      "2/2 [==============================] - 0s 6ms/step - loss: 24.8625 - mse: 896.3693\n",
      "Epoch 388/500\n",
      "2/2 [==============================] - 0s 8ms/step - loss: 8.7422 - mse: 128.0917\n",
      "Epoch 389/500\n",
      "2/2 [==============================] - 0s 8ms/step - loss: 5.9488 - mse: 48.1568\n",
      "Epoch 390/500\n",
      "2/2 [==============================] - 0s 6ms/step - loss: 24.4401 - mse: 881.1042\n",
      "Epoch 391/500\n",
      "2/2 [==============================] - 0s 8ms/step - loss: 5.9771 - mse: 73.2799\n",
      "Epoch 392/500\n",
      "2/2 [==============================] - 0s 7ms/step - loss: 16.3250 - mse: 379.2594\n",
      "Epoch 393/500\n",
      "2/2 [==============================] - 0s 7ms/step - loss: 6.0917 - mse: 76.7833\n",
      "Epoch 394/500\n",
      "2/2 [==============================] - 0s 8ms/step - loss: 11.0963 - mse: 204.7650\n",
      "Epoch 395/500\n",
      "2/2 [==============================] - 0s 7ms/step - loss: 14.9601 - mse: 336.1565\n",
      "Epoch 396/500\n",
      "2/2 [==============================] - 0s 6ms/step - loss: 7.6462 - mse: 103.3248\n",
      "Epoch 397/500\n",
      "2/2 [==============================] - 0s 7ms/step - loss: 8.7654 - mse: 136.5433\n",
      "Epoch 398/500\n",
      "2/2 [==============================] - 0s 8ms/step - loss: 14.5991 - mse: 320.4538\n",
      "Epoch 399/500\n",
      "2/2 [==============================] - 0s 8ms/step - loss: 11.3166 - mse: 280.6890\n",
      "Epoch 400/500\n",
      "2/2 [==============================] - 0s 8ms/step - loss: 21.9080 - mse: 741.3461\n",
      "Epoch 401/500\n",
      "2/2 [==============================] - 0s 7ms/step - loss: 14.8653 - mse: 348.6722\n",
      "Epoch 402/500\n",
      "2/2 [==============================] - 0s 9ms/step - loss: 8.4970 - mse: 115.5853\n",
      "Epoch 403/500\n",
      "2/2 [==============================] - 0s 6ms/step - loss: 10.3957 - mse: 191.0402\n",
      "Epoch 404/500\n",
      "2/2 [==============================] - 0s 6ms/step - loss: 10.2556 - mse: 207.5717\n",
      "Epoch 405/500\n",
      "2/2 [==============================] - 0s 6ms/step - loss: 6.3392 - mse: 68.2857\n",
      "Epoch 406/500\n",
      "2/2 [==============================] - 0s 7ms/step - loss: 17.4602 - mse: 460.2047\n",
      "Epoch 407/500\n",
      "2/2 [==============================] - 0s 7ms/step - loss: 11.4627 - mse: 284.7276\n",
      "Epoch 408/500\n",
      "2/2 [==============================] - 0s 8ms/step - loss: 20.7294 - mse: 662.1503\n",
      "Epoch 409/500\n",
      "2/2 [==============================] - 0s 8ms/step - loss: 31.3338 - mse: 1522.7670\n",
      "Epoch 410/500\n",
      "2/2 [==============================] - 0s 8ms/step - loss: 9.2542 - mse: 221.9486\n",
      "Epoch 411/500\n",
      "2/2 [==============================] - 0s 6ms/step - loss: 14.8621 - mse: 285.8415\n",
      "Epoch 412/500\n",
      "2/2 [==============================] - 0s 7ms/step - loss: 21.7182 - mse: 721.0392\n",
      "Epoch 413/500\n",
      "2/2 [==============================] - 0s 10ms/step - loss: 12.6615 - mse: 248.9691\n",
      "Epoch 414/500\n",
      "2/2 [==============================] - 0s 8ms/step - loss: 6.0687 - mse: 88.3708\n",
      "Epoch 415/500\n",
      "2/2 [==============================] - 0s 14ms/step - loss: 13.2201 - mse: 239.8954\n",
      "Epoch 416/500\n",
      "2/2 [==============================] - 0s 9ms/step - loss: 27.4244 - mse: 1037.9583\n",
      "Epoch 417/500\n",
      "2/2 [==============================] - 0s 12ms/step - loss: 10.6407 - mse: 207.4819\n",
      "Epoch 418/500\n",
      "2/2 [==============================] - 0s 11ms/step - loss: 12.8230 - mse: 236.7908\n",
      "Epoch 419/500\n",
      "2/2 [==============================] - 0s 8ms/step - loss: 15.8836 - mse: 374.5484\n",
      "Epoch 420/500\n",
      "2/2 [==============================] - 0s 7ms/step - loss: 24.7510 - mse: 849.5331\n",
      "Epoch 421/500\n",
      "2/2 [==============================] - 0s 7ms/step - loss: 17.3753 - mse: 444.1828\n",
      "Epoch 422/500\n",
      "2/2 [==============================] - 0s 7ms/step - loss: 7.8241 - mse: 157.5327\n",
      "Epoch 423/500\n"
     ]
    },
    {
     "name": "stdout",
     "output_type": "stream",
     "text": [
      "2/2 [==============================] - 0s 8ms/step - loss: 25.3789 - mse: 907.6141\n",
      "Epoch 424/500\n",
      "2/2 [==============================] - 0s 6ms/step - loss: 15.1031 - mse: 369.3288\n",
      "Epoch 425/500\n",
      "2/2 [==============================] - 0s 6ms/step - loss: 7.1643 - mse: 75.3718\n",
      "Epoch 426/500\n",
      "2/2 [==============================] - 0s 6ms/step - loss: 20.3318 - mse: 572.0352\n",
      "Epoch 427/500\n",
      "2/2 [==============================] - 0s 8ms/step - loss: 6.3283 - mse: 84.9745\n",
      "Epoch 428/500\n",
      "2/2 [==============================] - 0s 7ms/step - loss: 12.9961 - mse: 288.4218\n",
      "Epoch 429/500\n",
      "2/2 [==============================] - 0s 8ms/step - loss: 10.7869 - mse: 192.7741\n",
      "Epoch 430/500\n",
      "2/2 [==============================] - 0s 8ms/step - loss: 11.4007 - mse: 248.2724\n",
      "Epoch 431/500\n",
      "2/2 [==============================] - 0s 7ms/step - loss: 10.6152 - mse: 218.3398\n",
      "Epoch 432/500\n",
      "2/2 [==============================] - 0s 8ms/step - loss: 11.4582 - mse: 239.2198\n",
      "Epoch 433/500\n",
      "2/2 [==============================] - 0s 8ms/step - loss: 11.3851 - mse: 296.6783\n",
      "Epoch 434/500\n",
      "2/2 [==============================] - 0s 6ms/step - loss: 30.3986 - mse: 1296.5632\n",
      "Epoch 435/500\n",
      "2/2 [==============================] - 0s 6ms/step - loss: 10.5052 - mse: 283.6813\n",
      "Epoch 436/500\n",
      "2/2 [==============================] - 0s 7ms/step - loss: 28.8810 - mse: 1216.2336\n",
      "Epoch 437/500\n",
      "2/2 [==============================] - 0s 8ms/step - loss: 8.5916 - mse: 209.5434\n",
      "Epoch 438/500\n",
      "2/2 [==============================] - 0s 7ms/step - loss: 12.7378 - mse: 264.4511\n",
      "Epoch 439/500\n",
      "2/2 [==============================] - 0s 6ms/step - loss: 33.6754 - mse: 1570.2361\n",
      "Epoch 440/500\n",
      "2/2 [==============================] - 0s 7ms/step - loss: 15.0963 - mse: 294.7132\n",
      "Epoch 441/500\n",
      "2/2 [==============================] - 0s 8ms/step - loss: 17.4814 - mse: 487.0572\n",
      "Epoch 442/500\n",
      "2/2 [==============================] - 0s 6ms/step - loss: 22.3049 - mse: 750.9305\n",
      "Epoch 443/500\n",
      "2/2 [==============================] - 0s 7ms/step - loss: 23.5841 - mse: 784.1380\n",
      "Epoch 444/500\n",
      "2/2 [==============================] - 0s 7ms/step - loss: 11.0008 - mse: 203.7583\n",
      "Epoch 445/500\n",
      "2/2 [==============================] - 0s 7ms/step - loss: 14.9175 - mse: 316.4790\n",
      "Epoch 446/500\n",
      "2/2 [==============================] - 0s 6ms/step - loss: 17.9979 - mse: 515.1711\n",
      "Epoch 447/500\n",
      "2/2 [==============================] - 0s 7ms/step - loss: 5.4482 - mse: 51.4485\n",
      "Epoch 448/500\n",
      "2/2 [==============================] - 0s 8ms/step - loss: 10.0527 - mse: 253.4828\n",
      "Epoch 449/500\n",
      "2/2 [==============================] - 0s 8ms/step - loss: 14.0052 - mse: 277.3353\n",
      "Epoch 450/500\n",
      "2/2 [==============================] - 0s 6ms/step - loss: 16.7782 - mse: 424.4229\n",
      "Epoch 451/500\n",
      "2/2 [==============================] - 0s 7ms/step - loss: 14.2937 - mse: 303.4478\n",
      "Epoch 452/500\n",
      "2/2 [==============================] - 0s 6ms/step - loss: 30.6193 - mse: 1329.8269\n",
      "Epoch 453/500\n",
      "2/2 [==============================] - 0s 6ms/step - loss: 7.6541 - mse: 159.0376\n",
      "Epoch 454/500\n",
      "2/2 [==============================] - 0s 7ms/step - loss: 28.1428 - mse: 1104.4142\n",
      "Epoch 455/500\n",
      "2/2 [==============================] - 0s 7ms/step - loss: 8.0017 - mse: 119.3274\n",
      "Epoch 456/500\n",
      "2/2 [==============================] - 0s 8ms/step - loss: 10.3933 - mse: 289.6392\n",
      "Epoch 457/500\n",
      "2/2 [==============================] - 0s 8ms/step - loss: 15.0242 - mse: 318.3536\n",
      "Epoch 458/500\n",
      "2/2 [==============================] - 0s 7ms/step - loss: 16.5653 - mse: 439.8007\n",
      "Epoch 459/500\n",
      "2/2 [==============================] - 0s 7ms/step - loss: 26.8566 - mse: 1033.5486\n",
      "Epoch 460/500\n",
      "2/2 [==============================] - 0s 8ms/step - loss: 12.4852 - mse: 251.1160\n",
      "Epoch 461/500\n",
      "2/2 [==============================] - 0s 7ms/step - loss: 12.4784 - mse: 272.9071\n",
      "Epoch 462/500\n",
      "2/2 [==============================] - 0s 7ms/step - loss: 13.3186 - mse: 245.2335\n",
      "Epoch 463/500\n",
      "2/2 [==============================] - 0s 7ms/step - loss: 29.5524 - mse: 1219.8660\n",
      "Epoch 464/500\n",
      "2/2 [==============================] - 0s 7ms/step - loss: 3.4664 - mse: 22.0145\n",
      "Epoch 465/500\n",
      "2/2 [==============================] - 0s 8ms/step - loss: 15.2136 - mse: 352.9370\n",
      "Epoch 466/500\n",
      "2/2 [==============================] - 0s 7ms/step - loss: 20.8327 - mse: 651.1593\n",
      "Epoch 467/500\n",
      "2/2 [==============================] - 0s 7ms/step - loss: 30.5108 - mse: 1421.0009\n",
      "Epoch 468/500\n",
      "2/2 [==============================] - 0s 8ms/step - loss: 11.0597 - mse: 236.2266\n",
      "Epoch 469/500\n",
      "2/2 [==============================] - 0s 7ms/step - loss: 12.8372 - mse: 278.2045\n",
      "Epoch 470/500\n",
      "2/2 [==============================] - 0s 7ms/step - loss: 3.2398 - mse: 14.0655\n",
      "Epoch 471/500\n",
      "2/2 [==============================] - 0s 8ms/step - loss: 16.6964 - mse: 372.9565\n",
      "Epoch 472/500\n",
      "2/2 [==============================] - 0s 7ms/step - loss: 13.3883 - mse: 253.4232\n",
      "Epoch 473/500\n",
      "2/2 [==============================] - 0s 7ms/step - loss: 15.2771 - mse: 396.6108\n",
      "Epoch 474/500\n",
      "2/2 [==============================] - 0s 8ms/step - loss: 11.7448 - mse: 305.3250\n",
      "Epoch 475/500\n",
      "2/2 [==============================] - 0s 8ms/step - loss: 16.4113 - mse: 397.1612\n",
      "Epoch 476/500\n",
      "2/2 [==============================] - 0s 7ms/step - loss: 13.8785 - mse: 273.7976\n",
      "Epoch 477/500\n",
      "2/2 [==============================] - 0s 6ms/step - loss: 30.6702 - mse: 1309.4624\n",
      "Epoch 478/500\n",
      "2/2 [==============================] - 0s 6ms/step - loss: 8.5880 - mse: 188.9073\n",
      "Epoch 479/500\n",
      "2/2 [==============================] - 0s 6ms/step - loss: 10.7384 - mse: 261.5204\n",
      "Epoch 480/500\n",
      "2/2 [==============================] - 0s 8ms/step - loss: 17.9051 - mse: 484.4153\n",
      "Epoch 481/500\n",
      "2/2 [==============================] - 0s 7ms/step - loss: 15.8095 - mse: 368.1044\n",
      "Epoch 482/500\n",
      "2/2 [==============================] - 0s 7ms/step - loss: 21.3054 - mse: 698.1634\n",
      "Epoch 483/500\n",
      "2/2 [==============================] - 0s 6ms/step - loss: 25.3845 - mse: 955.1250\n",
      "Epoch 484/500\n",
      "2/2 [==============================] - 0s 7ms/step - loss: 23.9815 - mse: 811.2780\n",
      "Epoch 485/500\n",
      "2/2 [==============================] - 0s 6ms/step - loss: 5.7734 - mse: 53.7612\n",
      "Epoch 486/500\n",
      "2/2 [==============================] - 0s 7ms/step - loss: 20.0010 - mse: 565.2874\n",
      "Epoch 487/500\n",
      "2/2 [==============================] - 0s 6ms/step - loss: 14.0419 - mse: 286.2685\n",
      "Epoch 488/500\n",
      "2/2 [==============================] - 0s 6ms/step - loss: 30.6088 - mse: 1334.5730\n",
      "Epoch 489/500\n",
      "2/2 [==============================] - 0s 7ms/step - loss: 11.9409 - mse: 237.4729\n",
      "Epoch 490/500\n",
      "2/2 [==============================] - 0s 6ms/step - loss: 12.7352 - mse: 252.5673\n",
      "Epoch 491/500\n",
      "2/2 [==============================] - 0s 7ms/step - loss: 23.6139 - mse: 837.7738\n",
      "Epoch 492/500\n",
      "2/2 [==============================] - 0s 8ms/step - loss: 20.5365 - mse: 592.2179\n",
      "Epoch 493/500\n",
      "2/2 [==============================] - 0s 7ms/step - loss: 4.9942 - mse: 48.0282\n",
      "Epoch 494/500\n",
      "2/2 [==============================] - 0s 7ms/step - loss: 12.7986 - mse: 247.7644\n",
      "Epoch 495/500\n",
      "2/2 [==============================] - 0s 7ms/step - loss: 13.3772 - mse: 239.0903\n",
      "Epoch 496/500\n",
      "2/2 [==============================] - 0s 7ms/step - loss: 12.6728 - mse: 241.5637\n",
      "Epoch 497/500\n",
      "2/2 [==============================] - 0s 7ms/step - loss: 17.6192 - mse: 515.3863\n",
      "Epoch 498/500\n",
      "2/2 [==============================] - 0s 7ms/step - loss: 23.5629 - mse: 816.5488\n",
      "Epoch 499/500\n",
      "2/2 [==============================] - 0s 6ms/step - loss: 9.3755 - mse: 136.1004\n",
      "Epoch 500/500\n",
      "2/2 [==============================] - 0s 7ms/step - loss: 14.6316 - mse: 295.2646\n"
     ]
    },
    {
     "data": {
      "text/plain": [
       "<keras.callbacks.History at 0x240ac938948>"
      ]
     },
     "execution_count": 113,
     "metadata": {},
     "output_type": "execute_result"
    }
   ],
   "source": [
    "tf.random.set_seed(42)\n",
    "\n",
    "#create model\n",
    "model2 = tf.keras.Sequential([\n",
    "    tf.keras.layers.Dense(10),\n",
    "    tf.keras.layers.Dense(1)\n",
    "])\n",
    "\n",
    "#complile the model\n",
    "model2.compile(loss = tf.keras.losses.mae,\n",
    "              optimizer = tf.keras.optimizers.SGD(),\n",
    "              metrics=[\"mse\"])\n",
    "\n",
    "#fit the model\n",
    "model2.fit(tf.expand_dims(X_train, axis=-1), y_train, epochs=500)"
   ]
  },
  {
   "cell_type": "code",
   "execution_count": 114,
   "id": "3a313abb",
   "metadata": {},
   "outputs": [
    {
     "data": {
      "image/png": "[encoded data removed]",
      "text/plain": [
       "<Figure size 720x504 with 1 Axes>"
      ]
     },
     "metadata": {
      "needs_background": "light"
     },
     "output_type": "display_data"
    }
   ],
   "source": [
    "y_pred_3 = model2.predict(X_test)\n",
    "\n",
    "plot_predictions(predictions = y_pred_3)"
   ]
  },
  {
   "cell_type": "code",
   "execution_count": 115,
   "id": "23bd5c6b",
   "metadata": {},
   "outputs": [
    {
     "name": "stdout",
     "output_type": "stream",
     "text": [
      "tf.Tensor(68.71362, shape=(), dtype=float32) tf.Tensor(4808.029, shape=(), dtype=float32)\n"
     ]
    }
   ],
   "source": [
    "mae_3 = mae(y_test, y_pred_3)\n",
    "mse_3 = mse(y_test, y_pred_3)\n",
    "print(mae_3, mse_3)"
   ]
  },
  {
   "cell_type": "markdown",
   "id": "96a1c7f6",
   "metadata": {},
   "source": [
    "# Comparing The Results"
   ]
  },
  {
   "cell_type": "code",
   "execution_count": 119,
   "id": "04e6280e",
   "metadata": {},
   "outputs": [],
   "source": [
    "model_Results = [[\"model_1\", mae_1.numpy(), mse_1.numpy()],\n",
    "                [\"model_2\", mae_2.numpy(), mse_2.numpy()],\n",
    "                [\"model_3\", mse_3.numpy(), mse_3.numpy()]]"
   ]
  },
  {
   "cell_type": "code",
   "execution_count": 120,
   "id": "cfa69653",
   "metadata": {},
   "outputs": [
    {
     "data": {
      "text/html": [
       "<div>\n",
       "<style scoped>\n",
       "    .dataframe tbody tr th:only-of-type {\n",
       "        vertical-align: middle;\n",
       "    }\n",
       "\n",
       "    .dataframe tbody tr th {\n",
       "        vertical-align: top;\n",
       "    }\n",
       "\n",
       "    .dataframe thead th {\n",
       "        text-align: right;\n",
       "    }\n",
       "</style>\n",
       "<table border=\"1\" class=\"dataframe\">\n",
       "  <thead>\n",
       "    <tr style=\"text-align: right;\">\n",
       "      <th></th>\n",
       "      <th>model</th>\n",
       "      <th>mae</th>\n",
       "      <th>mse</th>\n",
       "    </tr>\n",
       "  </thead>\n",
       "  <tbody>\n",
       "    <tr>\n",
       "      <th>0</th>\n",
       "      <td>model_1</td>\n",
       "      <td>18.745327</td>\n",
       "      <td>353.573395</td>\n",
       "    </tr>\n",
       "    <tr>\n",
       "      <th>1</th>\n",
       "      <td>model_2</td>\n",
       "      <td>3.196973</td>\n",
       "      <td>13.070358</td>\n",
       "    </tr>\n",
       "    <tr>\n",
       "      <th>2</th>\n",
       "      <td>model_3</td>\n",
       "      <td>4808.028809</td>\n",
       "      <td>4808.028809</td>\n",
       "    </tr>\n",
       "  </tbody>\n",
       "</table>\n",
       "</div>"
      ],
      "text/plain": [
       "     model          mae          mse\n",
       "0  model_1    18.745327   353.573395\n",
       "1  model_2     3.196973    13.070358\n",
       "2  model_3  4808.028809  4808.028809"
      ]
     },
     "execution_count": 120,
     "metadata": {},
     "output_type": "execute_result"
    }
   ],
   "source": [
    "import pandas as pd\n",
    "results = pd.DataFrame(model_Results, columns=[\"model\", \"mae\", \"mse\"])\n",
    "results"
   ]
  },
  {
   "cell_type": "markdown",
   "id": "e64bd78e",
   "metadata": {},
   "source": [
    "# Tracking Your Experiments"
   ]
  },
  {
   "cell_type": "markdown",
   "id": "52eafea8",
   "metadata": {},
   "source": [
    "One really good habit to get into is tracking your modelling experiments to see which perform better than others.\n",
    "\n",
    "We've done a simple version of this above (keeping the results in different variables).\n",
    "\n",
    " 📖 Resource: But as you build more models, you'll want to look into using tools such as:\n",
    "\n",
    "1. **TensorBoard** - a component of the TensorFlow library to help track modelling experiments (we'll see this later).\n",
    "2. **Weights & Biases** - a tool for tracking all kinds of machine learning experiments (the good news for Weights & Biases is it plugs into TensorBoard)."
   ]
  },
  {
   "cell_type": "markdown",
   "id": "63c3f891",
   "metadata": {},
   "source": [
    "# Saving Our Models"
   ]
  },
  {
   "cell_type": "markdown",
   "id": "6aa27889",
   "metadata": {},
   "source": [
    "Once you've trained a model and found one which performs to your liking, you'll probably want to save it for use elsewhere (like a web application or mobile device).\n",
    "\n",
    "You can save a TensorFlow/Keras model using model.save().\n",
    "\n",
    "There are two ways to save a model in TensorFlow:\n",
    "\n",
    "1. **The SavedModel format (default)**.\n",
    "2. **The HDF5 format.**\n",
    "\n",
    "The main difference between the two is the SavedModel is automatically able to save custom objects (such as special layers) without additional modifications when loading the model back in.\n",
    "\n",
    "Which one should you use?\n",
    "\n",
    "It depends on your situation but the SavedModel "
   ]
  },
  {
   "cell_type": "code",
   "execution_count": 123,
   "id": "b2e7489b",
   "metadata": {},
   "outputs": [
    {
     "name": "stdout",
     "output_type": "stream",
     "text": [
      "INFO:tensorflow:Assets written to: best_model_SavedModelFormat\\assets\n"
     ]
    }
   ],
   "source": [
    "# Save a model using SavedModel Format\n",
    "model2.save(\"best_model_SavedModelFormat\")"
   ]
  },
  {
   "cell_type": "code",
   "execution_count": 122,
   "id": "95d61eb6",
   "metadata": {},
   "outputs": [
    {
     "name": "stdout",
     "output_type": "stream",
     "text": [
      "INFO:tensorflow:Assets written to: best_model_hdf5_format\\assets\n"
     ]
    }
   ],
   "source": [
    "# Save a model using HDC5 model\n",
    "model2.save(\"best_model_hdf5_format\")"
   ]
  },
  {
   "cell_type": "markdown",
   "id": "b55e9d55",
   "metadata": {},
   "source": [
    "# Loading Models"
   ]
  },
  {
   "cell_type": "raw",
   "id": "06e51773",
   "metadata": {},
   "source": [
    "We can load a saved model using the load_model() method.\n",
    "\n",
    "Loading a model for the different formats (SavedModel and HDF5) is the same (as long as the pathnames to the particuluar formats are correct"
   ]
  },
  {
   "cell_type": "code",
   "execution_count": 126,
   "id": "a6f60997",
   "metadata": {},
   "outputs": [
    {
     "name": "stdout",
     "output_type": "stream",
     "text": [
      "Model: \"sequential_17\"\n",
      "_________________________________________________________________\n",
      " Layer (type)                Output Shape              Param #   \n",
      "=================================================================\n",
      " dense_24 (Dense)            (None, 10)                20        \n",
      "                                                                 \n",
      " dense_25 (Dense)            (None, 1)                 11        \n",
      "                                                                 \n",
      "=================================================================\n",
      "Total params: 31\n",
      "Trainable params: 31\n",
      "Non-trainable params: 0\n",
      "_________________________________________________________________\n"
     ]
    }
   ],
   "source": [
    "# Load the SavedModel format Model\n",
    "\n",
    "loaded_SavedModel_format = tf.keras.models.load_model(\"best_model_SavedModelFormat\")\n",
    "loaded_SavedModel_format.summary()"
   ]
  },
  {
   "cell_type": "code",
   "execution_count": 129,
   "id": "3e55e7d4",
   "metadata": {},
   "outputs": [
    {
     "data": {
      "text/plain": [
       "array([[ True],\n",
       "       [ True],\n",
       "       [ True],\n",
       "       [ True],\n",
       "       [ True],\n",
       "       [ True],\n",
       "       [ True],\n",
       "       [ True],\n",
       "       [ True],\n",
       "       [ True]])"
      ]
     },
     "execution_count": 129,
     "metadata": {},
     "output_type": "execute_result"
    }
   ],
   "source": [
    "# comparing model2 predictions with SavedModel format model \n",
    "model_2_preds = model2.predict(X_test)\n",
    "loaded_SavedModel_format_preds = loaded_SavedModel_format.predict(X_test)\n",
    "\n",
    "model_2_preds == loaded_SavedModel_format_preds"
   ]
  },
  {
   "cell_type": "code",
   "execution_count": 131,
   "id": "8e25708d",
   "metadata": {},
   "outputs": [
    {
     "name": "stdout",
     "output_type": "stream",
     "text": [
      "Model: \"sequential_17\"\n",
      "_________________________________________________________________\n",
      " Layer (type)                Output Shape              Param #   \n",
      "=================================================================\n",
      " dense_24 (Dense)            (None, 10)                20        \n",
      "                                                                 \n",
      " dense_25 (Dense)            (None, 1)                 11        \n",
      "                                                                 \n",
      "=================================================================\n",
      "Total params: 31\n",
      "Trainable params: 31\n",
      "Non-trainable params: 0\n",
      "_________________________________________________________________\n"
     ]
    }
   ],
   "source": [
    "# Load a model from the HDF5 format\n",
    "\n",
    "loaded_h5_model = tf.keras.models.load_model(\"best_model_hdf5_format\")\n",
    "loaded_h5_model.summary()"
   ]
  },
  {
   "cell_type": "code",
   "execution_count": 133,
   "id": "81107273",
   "metadata": {},
   "outputs": [
    {
     "data": {
      "text/plain": [
       "array([[ True],\n",
       "       [ True],\n",
       "       [ True],\n",
       "       [ True],\n",
       "       [ True],\n",
       "       [ True],\n",
       "       [ True],\n",
       "       [ True],\n",
       "       [ True],\n",
       "       [ True]])"
      ]
     },
     "execution_count": 133,
     "metadata": {},
     "output_type": "execute_result"
    }
   ],
   "source": [
    "# comparing model2 predictions with HDF5 format model \n",
    "model_2_preds = model2.predict(X_test)\n",
    "loaded_hdf5_format_preds = loaded_h5_model.predict(X_test)\n",
    "\n",
    "model_2_preds == loaded_hdf5_format_preds"
   ]
  },
  {
   "cell_type": "code",
   "execution_count": null,
   "id": "33af2f34",
   "metadata": {},
   "outputs": [],
   "source": []
  }
 ],
 "metadata": {
  "kernelspec": {
   "display_name": "Python 3 (ipykernel)",
   "language": "python",
   "name": "python3"
  },
  "language_info": {
   "codemirror_mode": {
    "name": "ipython",
    "version": 3
   },
   "file_extension": ".py",
   "mimetype": "text/x-python",
   "name": "python",
   "nbconvert_exporter": "python",
   "pygments_lexer": "ipython3",
   "version": "3.7.11"
  }
 },
 "nbformat": 4,
 "nbformat_minor": 5
}

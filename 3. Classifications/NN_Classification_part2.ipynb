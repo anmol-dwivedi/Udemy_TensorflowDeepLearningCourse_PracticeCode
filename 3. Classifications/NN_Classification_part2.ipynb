{
 "cells": [
  {
   "cell_type": "code",
   "execution_count": 1,
   "id": "295fb490",
   "metadata": {},
   "outputs": [],
   "source": [
    "import numpy as np\n",
    "import pandas as pd\n",
    "import seaborn as sns\n",
    "import matplotlib.pyplot as plt\n",
    "\n",
    "import tensorflow as tf"
   ]
  },
  {
   "cell_type": "markdown",
   "id": "2216df27",
   "metadata": {},
   "source": [
    "# MultiClass Classification Problem"
   ]
  },
  {
   "cell_type": "markdown",
   "id": "b832da6d",
   "metadata": {},
   "source": [
    "We've seen a binary classification example (predicting if a data point is part of a red circle or blue circle) but what if you had multiple different classes of things?\n",
    "\n",
    "For example, say you were a fashion company and you wanted to build a neural network to predict whether a piece of clothing was a shoe, a shirt or a jacket (3 different options).\n",
    "\n",
    "When you have more than two classes as an option, this is known as multiclass classification.\n",
    "\n",
    "The good news is, the things we've learned so far (with a few tweaks) can be applied to multiclass classification problems as well.\n",
    "\n",
    "Let's see it in action.\n",
    "\n",
    "To start, we'll need some data. The good thing for us is **TensorFlow has a multiclass classication dataset known as Fashion MNIST built-in**. Meaning we can get started straight away.\n",
    "\n",
    "We can import it using the tf.keras.datasets module."
   ]
  },
  {
   "cell_type": "markdown",
   "id": "809ea2c3",
   "metadata": {},
   "source": [
    "# Read the data"
   ]
  },
  {
   "cell_type": "code",
   "execution_count": 2,
   "id": "acfd588b",
   "metadata": {},
   "outputs": [],
   "source": [
    "from tensorflow.keras.datasets import fashion_mnist\n",
    "\n",
    "# The data has already been sorted into training and test sets for us\n",
    "(train_data, train_labels), (test_data, test_labels) = fashion_mnist.load_data()"
   ]
  },
  {
   "cell_type": "code",
   "execution_count": 3,
   "id": "09c10b40",
   "metadata": {},
   "outputs": [
    {
     "name": "stdout",
     "output_type": "stream",
     "text": [
      "[[  0   0   0   0   0   0   0   0   0   0   0   0   0   0   0   0   0   0\n",
      "    0   0   0   0   0   0   0   0   0   0]\n",
      " [  0   0   0   0   0   0   0   0   0   0   0   0   0   0   0   0   0   0\n",
      "    0   0   0   0   0   0   0   0   0   0]\n",
      " [  0   0   0   0   0   0   0   0   0   0   0   0   0   0   0   0   0   0\n",
      "    0   0   0   0   0   0   0   0   0   0]\n",
      " [  0   0   0   0   0   0   0   0   0   0   0   0   1   0   0  13  73   0\n",
      "    0   1   4   0   0   0   0   1   1   0]\n",
      " [  0   0   0   0   0   0   0   0   0   0   0   0   3   0  36 136 127  62\n",
      "   54   0   0   0   1   3   4   0   0   3]\n",
      " [  0   0   0   0   0   0   0   0   0   0   0   0   6   0 102 204 176 134\n",
      "  144 123  23   0   0   0   0  12  10   0]\n",
      " [  0   0   0   0   0   0   0   0   0   0   0   0   0   0 155 236 207 178\n",
      "  107 156 161 109  64  23  77 130  72  15]\n",
      " [  0   0   0   0   0   0   0   0   0   0   0   1   0  69 207 223 218 216\n",
      "  216 163 127 121 122 146 141  88 172  66]\n",
      " [  0   0   0   0   0   0   0   0   0   1   1   1   0 200 232 232 233 229\n",
      "  223 223 215 213 164 127 123 196 229   0]\n",
      " [  0   0   0   0   0   0   0   0   0   0   0   0   0 183 225 216 223 228\n",
      "  235 227 224 222 224 221 223 245 173   0]\n",
      " [  0   0   0   0   0   0   0   0   0   0   0   0   0 193 228 218 213 198\n",
      "  180 212 210 211 213 223 220 243 202   0]\n",
      " [  0   0   0   0   0   0   0   0   0   1   3   0  12 219 220 212 218 192\n",
      "  169 227 208 218 224 212 226 197 209  52]\n",
      " [  0   0   0   0   0   0   0   0   0   0   6   0  99 244 222 220 218 203\n",
      "  198 221 215 213 222 220 245 119 167  56]\n",
      " [  0   0   0   0   0   0   0   0   0   4   0   0  55 236 228 230 228 240\n",
      "  232 213 218 223 234 217 217 209  92   0]\n",
      " [  0   0   1   4   6   7   2   0   0   0   0   0 237 226 217 223 222 219\n",
      "  222 221 216 223 229 215 218 255  77   0]\n",
      " [  0   3   0   0   0   0   0   0   0  62 145 204 228 207 213 221 218 208\n",
      "  211 218 224 223 219 215 224 244 159   0]\n",
      " [  0   0   0   0  18  44  82 107 189 228 220 222 217 226 200 205 211 230\n",
      "  224 234 176 188 250 248 233 238 215   0]\n",
      " [  0  57 187 208 224 221 224 208 204 214 208 209 200 159 245 193 206 223\n",
      "  255 255 221 234 221 211 220 232 246   0]\n",
      " [  3 202 228 224 221 211 211 214 205 205 205 220 240  80 150 255 229 221\n",
      "  188 154 191 210 204 209 222 228 225   0]\n",
      " [ 98 233 198 210 222 229 229 234 249 220 194 215 217 241  65  73 106 117\n",
      "  168 219 221 215 217 223 223 224 229  29]\n",
      " [ 75 204 212 204 193 205 211 225 216 185 197 206 198 213 240 195 227 245\n",
      "  239 223 218 212 209 222 220 221 230  67]\n",
      " [ 48 203 183 194 213 197 185 190 194 192 202 214 219 221 220 236 225 216\n",
      "  199 206 186 181 177 172 181 205 206 115]\n",
      " [  0 122 219 193 179 171 183 196 204 210 213 207 211 210 200 196 194 191\n",
      "  195 191 198 192 176 156 167 177 210  92]\n",
      " [  0   0  74 189 212 191 175 172 175 181 185 188 189 188 193 198 204 209\n",
      "  210 210 211 188 188 194 192 216 170   0]\n",
      " [  2   0   0   0  66 200 222 237 239 242 246 243 244 221 220 193 191 179\n",
      "  182 182 181 176 166 168  99  58   0   0]\n",
      " [  0   0   0   0   0   0   0  40  61  44  72  41  35   0   0   0   0   0\n",
      "    0   0   0   0   0   0   0   0   0   0]\n",
      " [  0   0   0   0   0   0   0   0   0   0   0   0   0   0   0   0   0   0\n",
      "    0   0   0   0   0   0   0   0   0   0]\n",
      " [  0   0   0   0   0   0   0   0   0   0   0   0   0   0   0   0   0   0\n",
      "    0   0   0   0   0   0   0   0   0   0]]\n",
      "\n",
      "\n",
      "9\n"
     ]
    }
   ],
   "source": [
    "# show the first training sample\n",
    "print(train_data[0])\n",
    "print('\\n')\n",
    "print(train_labels[0])"
   ]
  },
  {
   "cell_type": "code",
   "execution_count": 4,
   "id": "536ab77b",
   "metadata": {},
   "outputs": [
    {
     "data": {
      "text/plain": [
       "((60000, 28, 28), (60000,), (10000, 28, 28), (10000,))"
      ]
     },
     "execution_count": 4,
     "metadata": {},
     "output_type": "execute_result"
    }
   ],
   "source": [
    "# Check the shape of our data\n",
    "train_data.shape, train_labels.shape, test_data.shape, test_labels.shape"
   ]
  },
  {
   "cell_type": "code",
   "execution_count": 5,
   "id": "eb75b988",
   "metadata": {},
   "outputs": [
    {
     "data": {
      "text/plain": [
       "((28, 28), ())"
      ]
     },
     "execution_count": 5,
     "metadata": {},
     "output_type": "execute_result"
    }
   ],
   "source": [
    "# Check shape of a single example\n",
    "train_data[0].shape, train_labels[0].shape"
   ]
  },
  {
   "cell_type": "code",
   "execution_count": 6,
   "id": "64648087",
   "metadata": {},
   "outputs": [
    {
     "data": {
      "text/plain": [
       "<matplotlib.image.AxesImage at 0x24c8c07e508>"
      ]
     },
     "execution_count": 6,
     "metadata": {},
     "output_type": "execute_result"
    },
    {
     "data": {
      "image/png": "[encoded data removed]",
      "text/plain": [
       "<Figure size 432x288 with 1 Axes>"
      ]
     },
     "metadata": {
      "needs_background": "light"
     },
     "output_type": "display_data"
    }
   ],
   "source": [
    "# plot a single sample\n",
    "plt.imshow(train_data[0])"
   ]
  },
  {
   "cell_type": "code",
   "execution_count": 7,
   "id": "4b7be076",
   "metadata": {},
   "outputs": [
    {
     "data": {
      "text/plain": [
       "9"
      ]
     },
     "execution_count": 7,
     "metadata": {},
     "output_type": "execute_result"
    }
   ],
   "source": [
    "# chech out samples label\n",
    "train_labels[0]"
   ]
  },
  {
   "cell_type": "code",
   "execution_count": 8,
   "id": "7444952b",
   "metadata": {},
   "outputs": [
    {
     "data": {
      "text/plain": [
       "10"
      ]
     },
     "execution_count": 8,
     "metadata": {},
     "output_type": "execute_result"
    }
   ],
   "source": [
    "class_names = ['T-shirt/top', 'Trouser', 'Pullover', 'Dress', 'Coat', \n",
    "               'Sandal', 'Shirt', 'Sneaker', 'Bag', 'Ankle boot']\n",
    "\n",
    "# How many classes are there (this'll be our output shape)?\n",
    "len(class_names)"
   ]
  },
  {
   "cell_type": "code",
   "execution_count": 9,
   "id": "3095265f",
   "metadata": {},
   "outputs": [
    {
     "data": {
      "image/png": "[encoded data removed]",
      "text/plain": [
       "<Figure size 432x288 with 1 Axes>"
      ]
     },
     "metadata": {
      "needs_background": "light"
     },
     "output_type": "display_data"
    }
   ],
   "source": [
    "# Plot an example image and its label\n",
    "index_of_choice=2000\n",
    "plt.imshow(train_data[index_of_choice], cmap=plt.cm.binary) # change the colours to black & white\n",
    "plt.title(class_names[train_labels[index_of_choice]]);"
   ]
  },
  {
   "cell_type": "code",
   "execution_count": 10,
   "id": "18734fd4",
   "metadata": {},
   "outputs": [
    {
     "data": {
      "image/png": "[encoded data removed]",
      "text/plain": [
       "<Figure size 720x720 with 4 Axes>"
      ]
     },
     "metadata": {
      "needs_background": "light"
     },
     "output_type": "display_data"
    }
   ],
   "source": [
    "# plot multiple random images of fashion MNIST\n",
    "\n",
    "import random\n",
    "plt.figure(figsize=(10,10))\n",
    "for i in range(4):\n",
    "    ax=plt.subplot(2,2,i+1)\n",
    "    rand_index = random.choice(range(len(train_data)))\n",
    "    plt.imshow(train_data[rand_index], cmap=plt.cm.binary)\n",
    "    plt.title(class_names[train_labels[rand_index]])\n",
    "    plt.axis(False)"
   ]
  },
  {
   "cell_type": "raw",
   "id": "99f4e255",
   "metadata": {},
   "source": [
    "nce this is a multiclass classification problem, we'll need to make a few changes to our architecture (inline with Table 1 above):\n",
    "\n",
    "    The input shape will have to deal with 28x28 tensors (the height and width of our images).\n",
    "        We're actually going to squash the input into a tensor (vector) of shape (784).\n",
    "    The output shape will have to be 10 because we need our model to predict for 10 different classes.\n",
    "        We'll also change the activation parameter of our output layer to be \"softmax\" instead of 'sigmoid'. As we'll see the \"softmax\" activation function outputs a series of values between 0 & 1 (the same shape as output shape, which together add up to ~1. The index with the highest value is predicted by the model to be the most likely class.\n",
    "    We'll need to change our loss function from a binary loss function to a multiclass loss function.\n",
    "        More specifically, since our labels are in integer form, we'll use tf.keras.losses.SparseCategoricalCrossentropy(), if our labels were one-hot encoded (e.g. they looked something like [0, 0, 1, 0, 0...]), we'd use tf.keras.losses.CategoricalCrossentropy().\n",
    "    We'll also use the validation_data parameter when calling the fit() function. This will give us an idea of how the model performs on the test set during training."
   ]
  },
  {
   "cell_type": "markdown",
   "id": "b2a0f7af",
   "metadata": {},
   "source": [
    "# Modelling"
   ]
  },
  {
   "cell_type": "code",
   "execution_count": 11,
   "id": "a80c7bfe",
   "metadata": {},
   "outputs": [
    {
     "name": "stdout",
     "output_type": "stream",
     "text": [
      "Epoch 1/10\n",
      "1875/1875 [==============================] - 16s 7ms/step - loss: 2.1752 - accuracy: 0.1591 - val_loss: 1.8012 - val_accuracy: 0.2046\n",
      "Epoch 2/10\n",
      "1875/1875 [==============================] - 12s 7ms/step - loss: 1.7094 - accuracy: 0.2494 - val_loss: 1.6764 - val_accuracy: 0.2927\n",
      "Epoch 3/10\n",
      "1875/1875 [==============================] - 12s 7ms/step - loss: 1.6365 - accuracy: 0.2825 - val_loss: 1.6026 - val_accuracy: 0.2770\n",
      "Epoch 4/10\n",
      "1875/1875 [==============================] - 12s 6ms/step - loss: 1.6125 - accuracy: 0.2839 - val_loss: 1.6036 - val_accuracy: 0.2971\n",
      "Epoch 5/10\n",
      "1875/1875 [==============================] - 12s 7ms/step - loss: 1.5944 - accuracy: 0.3031 - val_loss: 1.5847 - val_accuracy: 0.3205\n",
      "Epoch 6/10\n",
      "1875/1875 [==============================] - 12s 7ms/step - loss: 1.5894 - accuracy: 0.3094 - val_loss: 1.5732 - val_accuracy: 0.3255\n",
      "Epoch 7/10\n",
      "1875/1875 [==============================] - 12s 7ms/step - loss: 1.5757 - accuracy: 0.3211 - val_loss: 1.5639 - val_accuracy: 0.3190\n",
      "Epoch 8/10\n",
      "1875/1875 [==============================] - 13s 7ms/step - loss: 1.5788 - accuracy: 0.3126 - val_loss: 1.5679 - val_accuracy: 0.3259\n",
      "Epoch 9/10\n",
      "1875/1875 [==============================] - 13s 7ms/step - loss: 1.5701 - accuracy: 0.3200 - val_loss: 1.5845 - val_accuracy: 0.3155\n",
      "Epoch 10/10\n",
      "1875/1875 [==============================] - 14s 7ms/step - loss: 1.5675 - accuracy: 0.3248 - val_loss: 1.5552 - val_accuracy: 0.3312\n"
     ]
    }
   ],
   "source": [
    "# set random seed\n",
    "tf.random.set_seed(42)\n",
    "\n",
    "# create model\n",
    "model = tf.keras.Sequential([\n",
    "    tf.keras.layers.Flatten(input_shape=(28,28)),\n",
    "    tf.keras.layers.Dense(4, activation=\"relu\"),\n",
    "    tf.keras.layers.Dense(4, activation=\"relu\"),\n",
    "    tf.keras.layers.Dense(10, activation=tf.keras.activations.softmax)])\n",
    "\n",
    "# compile the model\n",
    "model.compile(loss = tf.keras.losses.SparseCategoricalCrossentropy(),\n",
    "             optimizer=tf.keras.optimizers.Adam(),\n",
    "             metrics=[\"accuracy\"])\n",
    "\n",
    "# fit the model\n",
    "non_normal_history = model.fit(train_data,\n",
    "                              train_labels,\n",
    "                              epochs=10,\n",
    "                              validation_data=(test_data, test_labels))"
   ]
  },
  {
   "cell_type": "markdown",
   "id": "dfab1d40",
   "metadata": {},
   "source": [
    "1. loss and accuracy in the result is for the training dataset\n",
    "2. val_loss and val_accuracy is for the test data\n",
    "\n",
    "right now model accuracy is at 33% on both train and test data"
   ]
  },
  {
   "cell_type": "code",
   "execution_count": 12,
   "id": "76b162e8",
   "metadata": {},
   "outputs": [
    {
     "name": "stdout",
     "output_type": "stream",
     "text": [
      "Model: \"sequential\"\n",
      "_________________________________________________________________\n",
      " Layer (type)                Output Shape              Param #   \n",
      "=================================================================\n",
      " flatten (Flatten)           (None, 784)               0         \n",
      "                                                                 \n",
      " dense (Dense)               (None, 4)                 3140      \n",
      "                                                                 \n",
      " dense_1 (Dense)             (None, 4)                 20        \n",
      "                                                                 \n",
      " dense_2 (Dense)             (None, 10)                50        \n",
      "                                                                 \n",
      "=================================================================\n",
      "Total params: 3,210\n",
      "Trainable params: 3,210\n",
      "Non-trainable params: 0\n",
      "_________________________________________________________________\n"
     ]
    }
   ],
   "source": [
    "model.summary()"
   ]
  },
  {
   "cell_type": "markdown",
   "id": "ad2280ae",
   "metadata": {},
   "source": [
    "# Data Transform (normalization)\n",
    "neural networks prefer scaled data."
   ]
  },
  {
   "cell_type": "code",
   "execution_count": 13,
   "id": "eff57915",
   "metadata": {},
   "outputs": [],
   "source": [
    "# We can get our training and testing data between 0 and 1 by division by maximum"
   ]
  },
  {
   "cell_type": "code",
   "execution_count": 14,
   "id": "582e31c8",
   "metadata": {},
   "outputs": [
    {
     "data": {
      "text/plain": [
       "0"
      ]
     },
     "execution_count": 14,
     "metadata": {},
     "output_type": "execute_result"
    }
   ],
   "source": [
    "train_data.min()"
   ]
  },
  {
   "cell_type": "code",
   "execution_count": 15,
   "id": "278dd31f",
   "metadata": {},
   "outputs": [
    {
     "data": {
      "text/plain": [
       "255"
      ]
     },
     "execution_count": 15,
     "metadata": {},
     "output_type": "execute_result"
    }
   ],
   "source": [
    "train_data.max()"
   ]
  },
  {
   "cell_type": "code",
   "execution_count": 16,
   "id": "ae60f53c",
   "metadata": {},
   "outputs": [
    {
     "data": {
      "text/plain": [
       "(0.0, 1.0)"
      ]
     },
     "execution_count": 16,
     "metadata": {},
     "output_type": "execute_result"
    }
   ],
   "source": [
    "# Divide train and test images by the maximum value (normalize it)\n",
    "train_data = train_data / 255.0\n",
    "test_data = test_data / 255.0\n",
    "\n",
    "# Check the min and max values of the training data\n",
    "train_data.min(), train_data.max()"
   ]
  },
  {
   "cell_type": "markdown",
   "id": "d785561a",
   "metadata": {},
   "source": [
    "# Refitting the model with scaled data"
   ]
  },
  {
   "cell_type": "code",
   "execution_count": 17,
   "id": "7d316ba3",
   "metadata": {},
   "outputs": [
    {
     "name": "stdout",
     "output_type": "stream",
     "text": [
      "Epoch 1/10\n",
      "1875/1875 [==============================] - 13s 7ms/step - loss: 1.0348 - accuracy: 0.6474 - val_loss: 0.6937 - val_accuracy: 0.7617\n",
      "Epoch 2/10\n",
      "1875/1875 [==============================] - 12s 6ms/step - loss: 0.6376 - accuracy: 0.7757 - val_loss: 0.6400 - val_accuracy: 0.7820\n",
      "Epoch 3/10\n",
      "1875/1875 [==============================] - 12s 7ms/step - loss: 0.5942 - accuracy: 0.7914 - val_loss: 0.6247 - val_accuracy: 0.7783\n",
      "Epoch 4/10\n",
      "1875/1875 [==============================] - 12s 6ms/step - loss: 0.5750 - accuracy: 0.7979 - val_loss: 0.6078 - val_accuracy: 0.7881\n",
      "Epoch 5/10\n",
      "1875/1875 [==============================] - 13s 7ms/step - loss: 0.5641 - accuracy: 0.8006 - val_loss: 0.6169 - val_accuracy: 0.7881\n",
      "Epoch 6/10\n",
      "1875/1875 [==============================] - 13s 7ms/step - loss: 0.5544 - accuracy: 0.8043 - val_loss: 0.5855 - val_accuracy: 0.7951\n",
      "Epoch 7/10\n",
      "1875/1875 [==============================] - 13s 7ms/step - loss: 0.5488 - accuracy: 0.8063 - val_loss: 0.6097 - val_accuracy: 0.7836\n",
      "Epoch 8/10\n",
      "1875/1875 [==============================] - 13s 7ms/step - loss: 0.5428 - accuracy: 0.8077 - val_loss: 0.5787 - val_accuracy: 0.7971\n",
      "Epoch 9/10\n",
      "1875/1875 [==============================] - 14s 7ms/step - loss: 0.5373 - accuracy: 0.8097 - val_loss: 0.5698 - val_accuracy: 0.7977\n",
      "Epoch 10/10\n",
      "1875/1875 [==============================] - 13s 7ms/step - loss: 0.5360 - accuracy: 0.8124 - val_loss: 0.5658 - val_accuracy: 0.8014\n"
     ]
    }
   ],
   "source": [
    "\n",
    "\n",
    "# Set random seed\n",
    "tf.random.set_seed(42)\n",
    "\n",
    "# Create the model\n",
    "model_12 = tf.keras.Sequential([\n",
    "  tf.keras.layers.Flatten(input_shape=(28, 28)), # input layer (we had to reshape 28x28 to 784)\n",
    "  tf.keras.layers.Dense(4, activation=\"relu\"),\n",
    "  tf.keras.layers.Dense(4, activation=\"relu\"),\n",
    "  tf.keras.layers.Dense(10, activation=\"softmax\") # output shape is 10, activation is softmax\n",
    "])\n",
    "\n",
    "# Compile the model\n",
    "model_12.compile(loss=tf.keras.losses.SparseCategoricalCrossentropy(),\n",
    "                 optimizer=tf.keras.optimizers.Adam(),\n",
    "                 metrics=[\"accuracy\"])\n",
    "\n",
    "# Fit the model (to the normalized data)\n",
    "norm_history = model_12.fit(train_data,\n",
    "                            train_labels,\n",
    "                            epochs=10,\n",
    "                            validation_data=(test_data, test_labels))"
   ]
  },
  {
   "cell_type": "code",
   "execution_count": 18,
   "id": "91cd9e2d",
   "metadata": {},
   "outputs": [
    {
     "data": {
      "text/plain": [
       "<AxesSubplot:title={'center':'normalizes data'}>"
      ]
     },
     "execution_count": 18,
     "metadata": {},
     "output_type": "execute_result"
    },
    {
     "data": {
      "image/png": "[encoded data removed]",
      "text/plain": [
       "<Figure size 432x288 with 1 Axes>"
      ]
     },
     "metadata": {
      "needs_background": "light"
     },
     "output_type": "display_data"
    },
    {
     "data": {
      "image/png": "[encoded data removed]",
      "text/plain": [
       "<Figure size 432x288 with 1 Axes>"
      ]
     },
     "metadata": {
      "needs_background": "light"
     },
     "output_type": "display_data"
    }
   ],
   "source": [
    "# compare loss curves for normalized data model and non normalized data model\n",
    "\n",
    "pd.DataFrame(non_normal_history.history).plot(title=\"Non_normalized data\")\n",
    "pd.DataFrame(norm_history.history).plot(title=\"normalizes data\")"
   ]
  },
  {
   "cell_type": "markdown",
   "id": "44a5a4b0",
   "metadata": {},
   "source": [
    "Wow. From these two plots, we can see how much quicker our model with the normalized data (model_12) improved than the model with the non-normalized data (model_11).\n",
    "\n",
    "    🔑 Note: The same model with even slightly different data can produce dramatically different results. So when you're comparing models, it's important to make sure you're comparing them on the same criteria (e.g. same architecture but different data or same data but different architecture)."
   ]
  },
  {
   "cell_type": "markdown",
   "id": "d753097e",
   "metadata": {},
   "source": [
    "# Finding the ideal Learning rate for neural networks"
   ]
  },
  {
   "cell_type": "code",
   "execution_count": 19,
   "id": "a613eeea",
   "metadata": {},
   "outputs": [
    {
     "name": "stdout",
     "output_type": "stream",
     "text": [
      "Epoch 1/40\n",
      "1875/1875 [==============================] - 13s 7ms/step - loss: 1.5528 - accuracy: 0.4423 - val_loss: 1.2362 - val_accuracy: 0.5341 - lr: 0.0010\n",
      "Epoch 2/40\n",
      "1875/1875 [==============================] - 12s 6ms/step - loss: 1.0974 - accuracy: 0.6115 - val_loss: 1.0420 - val_accuracy: 0.6114 - lr: 0.0011\n",
      "Epoch 3/40\n",
      "1875/1875 [==============================] - 12s 6ms/step - loss: 0.9031 - accuracy: 0.6652 - val_loss: 0.8923 - val_accuracy: 0.6758 - lr: 0.0013\n",
      "Epoch 4/40\n",
      "1875/1875 [==============================] - 12s 7ms/step - loss: 0.8244 - accuracy: 0.7229 - val_loss: 0.8038 - val_accuracy: 0.7277 - lr: 0.0014\n",
      "Epoch 5/40\n",
      "1875/1875 [==============================] - 12s 6ms/step - loss: 0.7353 - accuracy: 0.7583 - val_loss: 0.7336 - val_accuracy: 0.7603 - lr: 0.0016\n",
      "Epoch 6/40\n",
      "1875/1875 [==============================] - 12s 7ms/step - loss: 0.6872 - accuracy: 0.7725 - val_loss: 0.7020 - val_accuracy: 0.7654 - lr: 0.0018\n",
      "Epoch 7/40\n",
      "1875/1875 [==============================] - 12s 6ms/step - loss: 0.6614 - accuracy: 0.7800 - val_loss: 0.6790 - val_accuracy: 0.7720 - lr: 0.0020\n",
      "Epoch 8/40\n",
      "1875/1875 [==============================] - 13s 7ms/step - loss: 0.6455 - accuracy: 0.7856 - val_loss: 0.6614 - val_accuracy: 0.7844 - lr: 0.0022\n",
      "Epoch 9/40\n",
      "1875/1875 [==============================] - 12s 7ms/step - loss: 0.6308 - accuracy: 0.7929 - val_loss: 0.6501 - val_accuracy: 0.7906 - lr: 0.0025\n",
      "Epoch 10/40\n",
      "1875/1875 [==============================] - 12s 6ms/step - loss: 0.6160 - accuracy: 0.7942 - val_loss: 0.6318 - val_accuracy: 0.7888 - lr: 0.0028\n",
      "Epoch 11/40\n",
      "1875/1875 [==============================] - 14s 8ms/step - loss: 0.6041 - accuracy: 0.7968 - val_loss: 0.6392 - val_accuracy: 0.7883 - lr: 0.0032\n",
      "Epoch 12/40\n",
      "1875/1875 [==============================] - 14s 8ms/step - loss: 0.5930 - accuracy: 0.7990 - val_loss: 0.6498 - val_accuracy: 0.7819 - lr: 0.0035\n",
      "Epoch 13/40\n",
      "1875/1875 [==============================] - 14s 8ms/step - loss: 0.5910 - accuracy: 0.7987 - val_loss: 0.6006 - val_accuracy: 0.7948 - lr: 0.0040\n",
      "Epoch 14/40\n",
      "1875/1875 [==============================] - 14s 8ms/step - loss: 0.5867 - accuracy: 0.8001 - val_loss: 0.6287 - val_accuracy: 0.7851 - lr: 0.0045\n",
      "Epoch 15/40\n",
      "1875/1875 [==============================] - 12s 7ms/step - loss: 0.5813 - accuracy: 0.8016 - val_loss: 0.6820 - val_accuracy: 0.7636 - lr: 0.0050\n",
      "Epoch 16/40\n",
      "1875/1875 [==============================] - 12s 6ms/step - loss: 0.5803 - accuracy: 0.8027 - val_loss: 0.6436 - val_accuracy: 0.7794 - lr: 0.0056\n",
      "Epoch 17/40\n",
      "1875/1875 [==============================] - 12s 7ms/step - loss: 0.5832 - accuracy: 0.8014 - val_loss: 0.6968 - val_accuracy: 0.7590 - lr: 0.0063\n",
      "Epoch 18/40\n",
      "1875/1875 [==============================] - 12s 7ms/step - loss: 0.5838 - accuracy: 0.8003 - val_loss: 0.6455 - val_accuracy: 0.7858 - lr: 0.0071\n",
      "Epoch 19/40\n",
      "1875/1875 [==============================] - 11s 6ms/step - loss: 0.5875 - accuracy: 0.8016 - val_loss: 0.6311 - val_accuracy: 0.7886 - lr: 0.0079\n",
      "Epoch 20/40\n",
      "1875/1875 [==============================] - 12s 7ms/step - loss: 0.5863 - accuracy: 0.8001 - val_loss: 0.6284 - val_accuracy: 0.7905 - lr: 0.0089\n",
      "Epoch 21/40\n",
      "1875/1875 [==============================] - 12s 7ms/step - loss: 0.5966 - accuracy: 0.7965 - val_loss: 0.6525 - val_accuracy: 0.7928 - lr: 0.0100\n",
      "Epoch 22/40\n",
      "1875/1875 [==============================] - 12s 6ms/step - loss: 0.6010 - accuracy: 0.7959 - val_loss: 0.6156 - val_accuracy: 0.7917 - lr: 0.0112\n",
      "Epoch 23/40\n",
      "1875/1875 [==============================] - 12s 6ms/step - loss: 0.6021 - accuracy: 0.7955 - val_loss: 0.6646 - val_accuracy: 0.7814 - lr: 0.0126\n",
      "Epoch 24/40\n",
      "1875/1875 [==============================] - 12s 6ms/step - loss: 0.6047 - accuracy: 0.7941 - val_loss: 0.7170 - val_accuracy: 0.7685 - lr: 0.0141\n",
      "Epoch 25/40\n",
      "1875/1875 [==============================] - 13s 7ms/step - loss: 0.6047 - accuracy: 0.7932 - val_loss: 0.6406 - val_accuracy: 0.7773 - lr: 0.0158\n",
      "Epoch 26/40\n",
      "1875/1875 [==============================] - 14s 7ms/step - loss: 0.6133 - accuracy: 0.7913 - val_loss: 0.6125 - val_accuracy: 0.7924 - lr: 0.0178\n",
      "Epoch 27/40\n",
      "1875/1875 [==============================] - 14s 8ms/step - loss: 0.6180 - accuracy: 0.7903 - val_loss: 0.6208 - val_accuracy: 0.7921 - lr: 0.0200\n",
      "Epoch 28/40\n",
      "1875/1875 [==============================] - 13s 7ms/step - loss: 0.6282 - accuracy: 0.7864 - val_loss: 0.6758 - val_accuracy: 0.7732 - lr: 0.0224\n",
      "Epoch 29/40\n",
      "1875/1875 [==============================] - 13s 7ms/step - loss: 0.6390 - accuracy: 0.7829 - val_loss: 0.7059 - val_accuracy: 0.7649 - lr: 0.0251\n",
      "Epoch 30/40\n",
      "1875/1875 [==============================] - 13s 7ms/step - loss: 0.6539 - accuracy: 0.7770 - val_loss: 0.6463 - val_accuracy: 0.7788 - lr: 0.0282\n",
      "Epoch 31/40\n",
      "1875/1875 [==============================] - 12s 6ms/step - loss: 0.6798 - accuracy: 0.7700 - val_loss: 0.7805 - val_accuracy: 0.7543 - lr: 0.0316\n",
      "Epoch 32/40\n",
      "1875/1875 [==============================] - 12s 7ms/step - loss: 0.6995 - accuracy: 0.7640 - val_loss: 0.7221 - val_accuracy: 0.7647 - lr: 0.0355\n",
      "Epoch 33/40\n",
      "1875/1875 [==============================] - 14s 7ms/step - loss: 0.7327 - accuracy: 0.7474 - val_loss: 0.9255 - val_accuracy: 0.6556 - lr: 0.0398\n",
      "Epoch 34/40\n",
      "1875/1875 [==============================] - 14s 7ms/step - loss: 0.7946 - accuracy: 0.7162 - val_loss: 0.8103 - val_accuracy: 0.7109 - lr: 0.0447\n",
      "Epoch 35/40\n",
      "1875/1875 [==============================] - 14s 7ms/step - loss: 0.8352 - accuracy: 0.7069 - val_loss: 0.8149 - val_accuracy: 0.7351 - lr: 0.0501\n",
      "Epoch 36/40\n",
      "1875/1875 [==============================] - 14s 7ms/step - loss: 0.8969 - accuracy: 0.6906 - val_loss: 0.9581 - val_accuracy: 0.6738 - lr: 0.0562\n",
      "Epoch 37/40\n",
      "1875/1875 [==============================] - 13s 7ms/step - loss: 1.1336 - accuracy: 0.5579 - val_loss: 1.1932 - val_accuracy: 0.4751 - lr: 0.0631\n",
      "Epoch 38/40\n",
      "1875/1875 [==============================] - 13s 7ms/step - loss: 1.4179 - accuracy: 0.3743 - val_loss: 1.6621 - val_accuracy: 0.2468 - lr: 0.0708\n",
      "Epoch 39/40\n",
      "1875/1875 [==============================] - 14s 8ms/step - loss: 1.7292 - accuracy: 0.2216 - val_loss: 1.7681 - val_accuracy: 0.2084 - lr: 0.0794\n",
      "Epoch 40/40\n",
      "1875/1875 [==============================] - 14s 7ms/step - loss: 1.7490 - accuracy: 0.2084 - val_loss: 1.7449 - val_accuracy: 0.2000 - lr: 0.0891\n"
     ]
    }
   ],
   "source": [
    "tf.random.set_seed(43)\n",
    "\n",
    "# create model\n",
    "model_3 = tf.keras.Sequential([\n",
    "    tf.keras.layers.Flatten(input_shape=(28,28)),\n",
    "    tf.keras.layers.Dense(4, activation=\"relu\"),\n",
    "    tf.keras.layers.Dense(4, activation=\"relu\"),\n",
    "    tf.keras.layers.Dense(10, activation=\"softmax\")\n",
    "])\n",
    "\n",
    "# compile the model\n",
    "model_3.compile(loss = tf.keras.losses.SparseCategoricalCrossentropy(),\n",
    "               optimizer = tf.keras.optimizers.Adam(),\n",
    "               metrics=[\"accuracy\"])\n",
    "\n",
    "# create the learning rate callback\n",
    "lr_scheduler = tf.keras.callbacks.LearningRateScheduler(lambda epoch: 1e-3 * 10**(epoch/20))\n",
    "\n",
    "\n",
    "# fit the model\n",
    "find_lr_history = model_3.fit(train_data,\n",
    "                             train_labels,\n",
    "                             epochs=40,\n",
    "                             validation_data = (test_data, test_labels),\n",
    "                             callbacks=[lr_scheduler])"
   ]
  },
  {
   "cell_type": "code",
   "execution_count": 20,
   "id": "2d1ee8e3",
   "metadata": {},
   "outputs": [
    {
     "data": {
      "image/png": "[encoded data removed]",
      "text/plain": [
       "<Figure size 432x288 with 1 Axes>"
      ]
     },
     "metadata": {
      "needs_background": "light"
     },
     "output_type": "display_data"
    }
   ],
   "source": [
    "# # Plot the learning rate decay curve\n",
    "# lrs = 1e-3 * (10**(tf.range(40)/20))\n",
    "# plt.semilogx(lrs, find_lr_history.history[\"loss\"])\n",
    "# plt.xlabel(\"learning rate\")\n",
    "# plt.ylabel(\"Loss\")\n",
    "# plt.title(\"finding the ideal learning rate\")\n",
    "\n",
    "# Plot the learning rate decay curve\n",
    "import numpy as np\n",
    "import matplotlib.pyplot as plt\n",
    "lrs = 1e-3 * (10**(np.arange(40)/20))\n",
    "plt.semilogx(lrs, find_lr_history.history[\"loss\"]) # want the x-axis to be log-scale\n",
    "plt.xlabel(\"Learning rate\")\n",
    "plt.ylabel(\"Loss\")\n",
    "plt.title(\"Finding the ideal learning rate\");"
   ]
  },
  {
   "cell_type": "markdown",
   "id": "67595c11",
   "metadata": {},
   "source": [
    "the ideal learning rate comes to about 0.001"
   ]
  },
  {
   "cell_type": "code",
   "execution_count": 22,
   "id": "21b8636a",
   "metadata": {},
   "outputs": [
    {
     "name": "stdout",
     "output_type": "stream",
     "text": [
      "Epoch 1/20\n",
      "1875/1875 [==============================] - 13s 7ms/step - loss: 1.0348 - accuracy: 0.6474 - val_loss: 0.6937 - val_accuracy: 0.7617\n",
      "Epoch 2/20\n",
      "1875/1875 [==============================] - 12s 7ms/step - loss: 0.6376 - accuracy: 0.7757 - val_loss: 0.6400 - val_accuracy: 0.7820\n",
      "Epoch 3/20\n",
      "1875/1875 [==============================] - 12s 6ms/step - loss: 0.5942 - accuracy: 0.7914 - val_loss: 0.6247 - val_accuracy: 0.7783\n",
      "Epoch 4/20\n",
      "1875/1875 [==============================] - 12s 7ms/step - loss: 0.5750 - accuracy: 0.7979 - val_loss: 0.6078 - val_accuracy: 0.7881\n",
      "Epoch 5/20\n",
      "1875/1875 [==============================] - 12s 7ms/step - loss: 0.5641 - accuracy: 0.8006 - val_loss: 0.6169 - val_accuracy: 0.7881\n",
      "Epoch 6/20\n",
      "1875/1875 [==============================] - 12s 7ms/step - loss: 0.5544 - accuracy: 0.8043 - val_loss: 0.5855 - val_accuracy: 0.7951\n",
      "Epoch 7/20\n",
      "1875/1875 [==============================] - 12s 6ms/step - loss: 0.5488 - accuracy: 0.8063 - val_loss: 0.6097 - val_accuracy: 0.7836\n",
      "Epoch 8/20\n",
      "1875/1875 [==============================] - 12s 7ms/step - loss: 0.5428 - accuracy: 0.8077 - val_loss: 0.5787 - val_accuracy: 0.7971\n",
      "Epoch 9/20\n",
      "1875/1875 [==============================] - 11s 6ms/step - loss: 0.5373 - accuracy: 0.8097 - val_loss: 0.5698 - val_accuracy: 0.7977\n",
      "Epoch 10/20\n",
      "1875/1875 [==============================] - 12s 6ms/step - loss: 0.5360 - accuracy: 0.8124 - val_loss: 0.5658 - val_accuracy: 0.8014\n",
      "Epoch 11/20\n",
      "1875/1875 [==============================] - 12s 6ms/step - loss: 0.5311 - accuracy: 0.8130 - val_loss: 0.5714 - val_accuracy: 0.8002\n",
      "Epoch 12/20\n",
      "1875/1875 [==============================] - 12s 6ms/step - loss: 0.5284 - accuracy: 0.8132 - val_loss: 0.5626 - val_accuracy: 0.8027\n",
      "Epoch 13/20\n",
      "1875/1875 [==============================] - 12s 6ms/step - loss: 0.5271 - accuracy: 0.8138 - val_loss: 0.5619 - val_accuracy: 0.8041\n",
      "Epoch 14/20\n",
      "1875/1875 [==============================] - 12s 6ms/step - loss: 0.5249 - accuracy: 0.8143 - val_loss: 0.5718 - val_accuracy: 0.7991\n",
      "Epoch 15/20\n",
      "1875/1875 [==============================] - 12s 6ms/step - loss: 0.5231 - accuracy: 0.8148 - val_loss: 0.5706 - val_accuracy: 0.8024\n",
      "Epoch 16/20\n",
      "1875/1875 [==============================] - 12s 6ms/step - loss: 0.5203 - accuracy: 0.8162 - val_loss: 0.5731 - val_accuracy: 0.8023\n",
      "Epoch 17/20\n",
      "1875/1875 [==============================] - 12s 6ms/step - loss: 0.5191 - accuracy: 0.8176 - val_loss: 0.5594 - val_accuracy: 0.8030\n",
      "Epoch 18/20\n",
      "1875/1875 [==============================] - 12s 6ms/step - loss: 0.5176 - accuracy: 0.8157 - val_loss: 0.5582 - val_accuracy: 0.8053\n",
      "Epoch 19/20\n",
      "1875/1875 [==============================] - 12s 6ms/step - loss: 0.5156 - accuracy: 0.8169 - val_loss: 0.5644 - val_accuracy: 0.8007\n",
      "Epoch 20/20\n",
      "1875/1875 [==============================] - 12s 6ms/step - loss: 0.5146 - accuracy: 0.8177 - val_loss: 0.5660 - val_accuracy: 0.8075\n"
     ]
    }
   ],
   "source": [
    "# Set random seed\n",
    "tf.random.set_seed(42)\n",
    "\n",
    "# Create the model\n",
    "model_14 = tf.keras.Sequential([\n",
    "  tf.keras.layers.Flatten(input_shape=(28, 28)), # input layer (we had to reshape 28x28 to 784)\n",
    "  tf.keras.layers.Dense(4, activation=\"relu\"),\n",
    "  tf.keras.layers.Dense(4, activation=\"relu\"),\n",
    "  tf.keras.layers.Dense(10, activation=\"softmax\") # output shape is 10, activation is softmax\n",
    "])\n",
    "\n",
    "# Compile the model\n",
    "model_14.compile(loss=tf.keras.losses.SparseCategoricalCrossentropy(),\n",
    "                 optimizer=tf.keras.optimizers.Adam(learning_rate=0.001), # ideal learning rate (same as default)\n",
    "                 metrics=[\"accuracy\"])\n",
    "\n",
    "# Fit the model\n",
    "history = model_14.fit(train_data,\n",
    "                       train_labels,\n",
    "                       epochs=20,\n",
    "                       validation_data=(test_data, test_labels))"
   ]
  },
  {
   "cell_type": "markdown",
   "id": "331a986e",
   "metadata": {},
   "source": [
    "# Model Evaluation\n",
    "\n",
    "\n",
    "Now we've got a model trained with a close-to-ideal learning rate and performing pretty well, we've got a couple of options.\n",
    "\n",
    "We could:\n",
    "1. Evaluate its performance using other classification metrics (such as a confusion matrix or classification report).\n",
    "2. Assess some of its predictions (through visualizations).\n",
    "3. Improve its accuracy (by training it for longer or changing the architecture).\n",
    "4. Save and export it for use in an application.\n",
    "\n",
    "Let's go through the first two options.\n",
    "First we'll create a classification matrix to visualize its predictions across the different classes."
   ]
  },
  {
   "cell_type": "code",
   "execution_count": 27,
   "id": "417f28aa",
   "metadata": {},
   "outputs": [
    {
     "data": {
      "text/plain": [
       "array([[8.5630614e-11, 3.5362230e-13, 2.6633978e-05, ..., 9.1868825e-02,\n",
       "        4.0605287e-03, 8.0787343e-01],\n",
       "       [3.4278585e-06, 1.2899508e-16, 9.5989138e-01, ..., 1.1383794e-28,\n",
       "        6.3272077e-04, 4.4790319e-08],\n",
       "       [6.1063001e-05, 9.9657673e-01, 4.3867562e-08, ..., 7.3239134e-18,\n",
       "        5.4812130e-08, 4.9226455e-14],\n",
       "       ...,\n",
       "       [7.8579649e-02, 2.2294778e-05, 1.4033382e-01, ..., 2.9533275e-20,\n",
       "        1.1197243e-01, 4.7600213e-09],\n",
       "       [3.3110959e-05, 9.9301308e-01, 2.3392467e-07, ..., 9.3986513e-15,\n",
       "        8.1592924e-07, 1.2159066e-11],\n",
       "       [7.9816395e-08, 7.7579304e-10, 1.6470684e-04, ..., 4.3826427e-02,\n",
       "        1.5162556e-03, 3.9120615e-02]], dtype=float32)"
      ]
     },
     "execution_count": 27,
     "metadata": {},
     "output_type": "execute_result"
    }
   ],
   "source": [
    "# make prediction using the model\n",
    "y_probs = model_14.predict(test_data)\n",
    "y_probs"
   ]
  },
  {
   "cell_type": "code",
   "execution_count": 28,
   "id": "284429c3",
   "metadata": {},
   "outputs": [
    {
     "data": {
      "text/plain": [
       "array([9, 2, 1, ..., 3, 1, 5], dtype=int64)"
      ]
     },
     "execution_count": 28,
     "metadata": {},
     "output_type": "execute_result"
    }
   ],
   "source": [
    "# convert all predictions from probabilities to labels\n",
    "y_preds = y_probs.argmax(axis=1)\n",
    "y_preds"
   ]
  },
  {
   "cell_type": "code",
   "execution_count": 30,
   "id": "05a3a35c",
   "metadata": {},
   "outputs": [
    {
     "data": {
      "text/plain": [
       "array([[696,   8,  25,  87,   9,   5, 160,   0,  10,   0],\n",
       "       [  2, 939,   2,  35,   9,   0,  13,   0,   0,   0],\n",
       "       [ 19,   2, 656,  10, 188,   0, 110,   0,  15,   0],\n",
       "       [ 39,  10,  10, 819,  55,   0,  47,   1,  19,   0],\n",
       "       [  0,   0,  95,  23, 800,   0,  73,   0,   7,   2],\n",
       "       [  0,   0,   1,   0,   0, 894,   0,  60,   7,  38],\n",
       "       [106,   4, 158,  57, 159,   1, 499,   0,  16,   0],\n",
       "       [  0,   0,   0,   0,   0,  31,   0, 936,   0,  33],\n",
       "       [  4,   1,  38,  15,   8,  12,   9,   5, 906,   2],\n",
       "       [  0,   0,   1,   0,   2,  15,   0,  51,   1, 930]], dtype=int64)"
      ]
     },
     "execution_count": 30,
     "metadata": {},
     "output_type": "execute_result"
    }
   ],
   "source": [
    "from sklearn.metrics import confusion_matrix\n",
    "cm = confusion_matrix(y_true = test_labels,\n",
    "                      y_pred=y_preds)\n",
    "cm"
   ]
  },
  {
   "cell_type": "code",
   "execution_count": 42,
   "id": "3960a72b",
   "metadata": {
    "scrolled": true
   },
   "outputs": [],
   "source": [
    "import itertools\n",
    "from sklearn.metrics import confusion_matrix\n",
    "\n",
    "# Our function needs a different name to sklearn's plot_confusion_matrix\n",
    "def make_confusion_matrix(y_true, y_pred, classes=None, figsize=(10, 10), text_size=15): \n",
    "    # Create the confustion matrix\n",
    "    cm = confusion_matrix(y_true, y_pred)\n",
    "    cm_norm = cm.astype(\"float\") / cm.sum(axis=1)[:, np.newaxis] # normalize it\n",
    "    n_classes = cm.shape[0] # find the number of classes we're dealing with\n",
    "\n",
    "    # Plot the figure and make it pretty\n",
    "    fig, ax = plt.subplots(figsize=figsize)\n",
    "    cax = ax.matshow(cm, cmap=plt.cm.Blues) # colors will represent how 'correct' a class is, darker == better\n",
    "    fig.colorbar(cax)\n",
    "\n",
    "    # Are there a list of classes?\n",
    "    if classes:\n",
    "        labels = classes\n",
    "    else:\n",
    "        labels = np.arange(cm.shape[0])\n",
    "\n",
    "     # Label the axes\n",
    "    ax.set(title=\"Confusion Matrix\",\n",
    "             xlabel=\"Predicted label\",\n",
    "             ylabel=\"True label\",\n",
    "             xticks=np.arange(n_classes), # create enough axis slots for each class\n",
    "             yticks=np.arange(n_classes), \n",
    "             xticklabels=labels, # axes will labeled with class names (if they exist) or ints\n",
    "             yticklabels=labels)\n",
    "\n",
    "      # Make x-axis labels appear on bottom\n",
    "    ax.xaxis.set_label_position(\"bottom\")\n",
    "    ax.xaxis.tick_bottom()\n",
    "\n",
    "      # Set the threshold for different colors\n",
    "    threshold = (cm.max() + cm.min()) / 2.\n",
    "\n",
    "      # Plot the text on each cell\n",
    "    for i, j in itertools.product(range(cm.shape[0]), range(cm.shape[1])):\n",
    "        plt.text(j, i, f\"{cm[i, j]} ({cm_norm[i, j]*100:.1f}%)\",\n",
    "                 horizontalalignment=\"center\",\n",
    "                 color=\"white\" if cm[i, j] > threshold else \"black\",\n",
    "                 size=text_size)"
   ]
  },
  {
   "cell_type": "code",
   "execution_count": 43,
   "id": "93d5c759",
   "metadata": {},
   "outputs": [
    {
     "data": {
      "image/png": "[encoded data removed]",
      "text/plain": [
       "<Figure size 1080x1080 with 2 Axes>"
      ]
     },
     "metadata": {
      "needs_background": "light"
     },
     "output_type": "display_data"
    }
   ],
   "source": [
    "# confusion matrix\n",
    "make_confusion_matrix(y_true=test_labels, \n",
    "                      y_pred=y_preds,\n",
    "                      classes=class_names,\n",
    "                      figsize=(15, 15),\n",
    "                      text_size=10)"
   ]
  },
  {
   "cell_type": "markdown",
   "id": "07c42581",
   "metadata": {},
   "source": [
    "Except the results aren't as good as they could be...\n",
    "\n",
    "It looks like our model is getting confused between the Shirt and T-shirt/top classes (e.g. predicting Shirt when it's actually a T-shirt/top).\n",
    " 🤔 Question: Does it make sense that our model is getting confused between the Shirt and T-shirt/top classes? Why do you think this might be? What's one way you could investigate?\n"
   ]
  },
  {
   "cell_type": "markdown",
   "id": "7b482c5b",
   "metadata": {},
   "source": [
    "# Visualize Model Outputs"
   ]
  },
  {
   "cell_type": "code",
   "execution_count": 51,
   "id": "60f00f42",
   "metadata": {},
   "outputs": [],
   "source": [
    "import random\n",
    "\n",
    "# Create a function for plotting a random image along with its prediction\n",
    "def plot_random_image(model, images, true_labels, classes):\n",
    "    # Setup random integer\n",
    "    i = random.randint(0, len(images))\n",
    "\n",
    "   # Create predictions and targets\n",
    "    target_image = images[i]\n",
    "    pred_probs = model.predict(target_image.reshape(1, 28, 28)) # have to reshape to get into right size for model\n",
    "    pred_label = classes[pred_probs.argmax()]\n",
    "    true_label = classes[true_labels[i]]\n",
    "\n",
    "    # Plot the target image\n",
    "    plt.imshow(target_image, cmap=plt.cm.binary)\n",
    "\n",
    "    # Change the color of the titles depending on if the prediction is right or wrong\n",
    "    if pred_label == true_label:\n",
    "        color = \"green\"\n",
    "    else:\n",
    "        color = \"red\"\n",
    "\n",
    "    # Add xlabel information (prediction/true label)\n",
    "    plt.xlabel(\"Pred: {} {:2.0f}% (True: {})\".format(pred_label,\n",
    "                                                       100*tf.reduce_max(pred_probs),\n",
    "                                                       true_label),\n",
    "                 color=color) # set the color to green or red"
   ]
  },
  {
   "cell_type": "code",
   "execution_count": 54,
   "id": "9c235acb",
   "metadata": {},
   "outputs": [
    {
     "data": {
      "image/png": "[encoded data removed]",
      "text/plain": [
       "<Figure size 432x288 with 1 Axes>"
      ]
     },
     "metadata": {
      "needs_background": "light"
     },
     "output_type": "display_data"
    }
   ],
   "source": [
    "# Check out a random image as well as its prediction\n",
    "plot_random_image(model=model_14, \n",
    "                  images=test_data, \n",
    "                  true_labels=test_labels, \n",
    "                  classes=class_names)"
   ]
  },
  {
   "cell_type": "raw",
   "id": "e229e19e",
   "metadata": {},
   "source": [
    "It seems to mix up classes which are similar, for example, Sneaker with Ankle boot.\n",
    "\n",
    "Looking at the images, you can see how this might be the case.\n",
    "\n",
    "The overall shape of a Sneaker and an Ankle Boot are similar.\n",
    "\n",
    "The overall shape might be one of the patterns the model has learned and so therefore when two images have a similar shape, their predictions get mixed up."
   ]
  },
  {
   "cell_type": "markdown",
   "id": "b81cf2cb",
   "metadata": {},
   "source": [
    "# What Patterns is our model learning"
   ]
  },
  {
   "cell_type": "markdown",
   "id": "701fc196",
   "metadata": {},
   "source": [
    "We've been talking a lot about how a neural network finds patterns in numbers, but what exactly do these patterns look like?\n",
    "\n",
    "Let's crack open one of our models and find out.\n",
    "\n",
    "First, we'll get a list of layers in our most recent model (model_14) using the layers attribute."
   ]
  },
  {
   "cell_type": "code",
   "execution_count": 55,
   "id": "95255f0c",
   "metadata": {},
   "outputs": [
    {
     "data": {
      "text/plain": [
       "[<keras.layers.core.flatten.Flatten at 0x24c8b3911c8>,\n",
       " <keras.layers.core.dense.Dense at 0x24c8b3917c8>,\n",
       " <keras.layers.core.dense.Dense at 0x24c8b391b08>,\n",
       " <keras.layers.core.dense.Dense at 0x24c8b391e48>]"
      ]
     },
     "execution_count": 55,
     "metadata": {},
     "output_type": "execute_result"
    }
   ],
   "source": [
    "# find layers of model 14\n",
    "model_14.layers"
   ]
  },
  {
   "cell_type": "markdown",
   "id": "7662ccd3",
   "metadata": {},
   "source": [
    "we can inspect each layer by indexing"
   ]
  },
  {
   "cell_type": "code",
   "execution_count": 56,
   "id": "8289a338",
   "metadata": {},
   "outputs": [
    {
     "data": {
      "text/plain": [
       "<keras.layers.core.dense.Dense at 0x24c8b3917c8>"
      ]
     },
     "execution_count": 56,
     "metadata": {},
     "output_type": "execute_result"
    }
   ],
   "source": [
    "# Extract a particular layer\n",
    "model_14.layers[1]"
   ]
  },
  {
   "cell_type": "markdown",
   "id": "627b417d",
   "metadata": {},
   "source": [
    "\n",
    "\n",
    "And we can find the patterns learned by a particular layer using the get_weights() method.\n",
    "\n",
    "The get_weights() method returns the weights (also known as a weights matrix) and biases (also known as a bias vector) of a particular layer.\n"
   ]
  },
  {
   "cell_type": "code",
   "execution_count": 57,
   "id": "3c557807",
   "metadata": {},
   "outputs": [
    {
     "data": {
      "text/plain": [
       "(array([[ 0.7150267 , -0.06077141, -0.9976308 , -1.0484312 ],\n",
       "        [ 0.27732134, -0.4715548 , -0.52916443,  0.02329269],\n",
       "        [ 0.775243  ,  0.540275  , -1.1288565 , -0.742615  ],\n",
       "        ...,\n",
       "        [-0.39453417,  0.47628608, -0.22641543,  0.25505942],\n",
       "        [-0.40515763,  0.61810094,  0.23928423, -0.503876  ],\n",
       "        [ 0.23884583,  0.11606929, -0.12131436,  0.04352444]],\n",
       "       dtype=float32),\n",
       " (784, 4))"
      ]
     },
     "execution_count": 57,
     "metadata": {},
     "output_type": "execute_result"
    }
   ],
   "source": [
    "# Get the patterns of a layer in our network\n",
    "weights, biases = model_14.layers[1].get_weights()\n",
    "\n",
    "# Shape = 1 weight matrix the size of our input data (28x28) per neuron (4)\n",
    "weights, weights.shape"
   ]
  },
  {
   "cell_type": "code",
   "execution_count": 60,
   "id": "655818a7",
   "metadata": {},
   "outputs": [
    {
     "name": "stdout",
     "output_type": "stream",
     "text": [
      "Model: \"sequential_4\"\n",
      "_________________________________________________________________\n",
      " Layer (type)                Output Shape              Param #   \n",
      "=================================================================\n",
      " flatten_4 (Flatten)         (None, 784)               0         \n",
      "                                                                 \n",
      " dense_12 (Dense)            (None, 4)                 3140      \n",
      "                                                                 \n",
      " dense_13 (Dense)            (None, 4)                 20        \n",
      "                                                                 \n",
      " dense_14 (Dense)            (None, 10)                50        \n",
      "                                                                 \n",
      "=================================================================\n",
      "Total params: 3,210\n",
      "Trainable params: 3,210\n",
      "Non-trainable params: 0\n",
      "_________________________________________________________________\n"
     ]
    }
   ],
   "source": [
    "model_14.summary()"
   ]
  },
  {
   "cell_type": "markdown",
   "id": "f81104b7",
   "metadata": {},
   "source": [
    "The weights matrix is the same shape as the input data, which in our case is 784 (28x28 pixels). And there's a copy of the weights matrix for each neuron the in the selected layer (our selected layer has 4 neurons).\n",
    "\n",
    "Each value in the weights matrix corresponds to how a particular value in the input data influences the network's decisions.\n",
    "\n",
    "These values start out as random numbers (they're set by the kernel_initializer parameter when creating a layer, the default is \"glorot_uniform\") and are then updated to better representative values of the data (non-random) by the neural network during training."
   ]
  },
  {
   "cell_type": "markdown",
   "id": "0b489434",
   "metadata": {},
   "source": [
    "# Lets check out the BIAS vectors"
   ]
  },
  {
   "cell_type": "code",
   "execution_count": 61,
   "id": "b44a2a3f",
   "metadata": {},
   "outputs": [
    {
     "data": {
      "text/plain": [
       "(array([ 2.4486011e-02, -6.1498414e-04, -2.7230123e-01,  8.1124878e-01],\n",
       "       dtype=float32),\n",
       " (4,))"
      ]
     },
     "execution_count": 61,
     "metadata": {},
     "output_type": "execute_result"
    }
   ],
   "source": [
    "# shape = 1 bias per neuron( we use 4 neurons in the first layer)\n",
    "biases, biases.shape"
   ]
  },
  {
   "cell_type": "markdown",
   "id": "85993d1d",
   "metadata": {},
   "source": [
    "Every neuron has a bias vector. Each of these is paired with a weight matrix.\n",
    "\n",
    "The bias values get initialized as zeroes by default (using the bias_initializer parameter).\n",
    "\n",
    "The bias vector dictates how much the patterns within the corresponding weights matrix should influence the next layer.\n"
   ]
  },
  {
   "cell_type": "code",
   "execution_count": 62,
   "id": "03230615",
   "metadata": {},
   "outputs": [
    {
     "name": "stdout",
     "output_type": "stream",
     "text": [
      "Model: \"sequential_4\"\n",
      "_________________________________________________________________\n",
      " Layer (type)                Output Shape              Param #   \n",
      "=================================================================\n",
      " flatten_4 (Flatten)         (None, 784)               0         \n",
      "                                                                 \n",
      " dense_12 (Dense)            (None, 4)                 3140      \n",
      "                                                                 \n",
      " dense_13 (Dense)            (None, 4)                 20        \n",
      "                                                                 \n",
      " dense_14 (Dense)            (None, 10)                50        \n",
      "                                                                 \n",
      "=================================================================\n",
      "Total params: 3,210\n",
      "Trainable params: 3,210\n",
      "Non-trainable params: 0\n",
      "_________________________________________________________________\n"
     ]
    }
   ],
   "source": [
    "# Can now calculate the number of paramters in our model\n",
    "model_14.summary()"
   ]
  },
  {
   "cell_type": "markdown",
   "id": "6b92b5b9",
   "metadata": {},
   "source": [
    "Now we've built a few deep learning models, it's a good time to point out the whole concept of inputs and outputs not only relates to a model as a whole but to every layer within a model.\n",
    "\n",
    "You might've already guessed this, but starting from the input layer, each subsequent layer's input is the output of the previous layer.\n",
    "\n",
    "We can see this clearly using the utility plot_model()."
   ]
  },
  {
   "cell_type": "code",
   "execution_count": 63,
   "id": "af9a480b",
   "metadata": {},
   "outputs": [
    {
     "data": {
      "image/png": "[encoded data removed]",
      "text/plain": [
       "<IPython.core.display.Image object>"
      ]
     },
     "execution_count": 63,
     "metadata": {},
     "output_type": "execute_result"
    }
   ],
   "source": [
    "from tensorflow.keras.utils import plot_model\n",
    "\n",
    "# see the inputs and outputs of each layer\n",
    "plot_model(model_14, show_shapes=True)"
   ]
  },
  {
   "cell_type": "markdown",
   "id": "0f2b4d67",
   "metadata": {},
   "source": [
    "# How a model learns in Brief"
   ]
  },
  {
   "cell_type": "markdown",
   "id": "2ac09f16",
   "metadata": {},
   "source": [
    "Alright, we've trained a bunch of models, but we've never really discussed what's going on under the hood. So how exactly does a model learn?\n",
    "\n",
    "A model learns by updating and improving its weight matrices and biases values every epoch (in our case, when we call the fit() fucntion).\n",
    "\n",
    "It does so by comparing the patterns its learned between the data and labels to the actual labels.\n",
    "\n",
    "If the current patterns (weight matrices and bias values) don't result in a desirable decrease in the loss function (higher loss means worse predictions), the optimizer tries to steer the model to update its patterns in the right way (using the real labels as a reference).\n",
    "\n",
    "This process of using the real labels as a reference to improve the model's predictions is called backpropagation.\n",
    "\n",
    "In other words, data and labels pass through a model (forward pass) and it attempts to learn the relationship between the data and labels.\n",
    "\n",
    "And if this learned relationship isn't close to the actual relationship or it could be improved, the model does so by going back through itself (backward pass) and tweaking its weights matrices and bias values to better represent the data.\n",
    "\n",
    "If all of this sounds confusing (and it's fine if it does, the above is a very succinct description), check out the resources in the extra-curriculum section for more."
   ]
  },
  {
   "cell_type": "code",
   "execution_count": null,
   "id": "b169588f",
   "metadata": {},
   "outputs": [],
   "source": []
  }
 ],
 "metadata": {
  "kernelspec": {
   "display_name": "Python 3 (ipykernel)",
   "language": "python",
   "name": "python3"
  },
  "language_info": {
   "codemirror_mode": {
    "name": "ipython",
    "version": 3
   },
   "file_extension": ".py",
   "mimetype": "text/x-python",
   "name": "python",
   "nbconvert_exporter": "python",
   "pygments_lexer": "ipython3",
   "version": "3.7.11"
  }
 },
 "nbformat": 4,
 "nbformat_minor": 5
}

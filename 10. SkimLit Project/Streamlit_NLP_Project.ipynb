{
 "cells": [
  {
   "cell_type": "code",
   "execution_count": 1,
   "id": "5c019ade",
   "metadata": {},
   "outputs": [],
   "source": [
    "import numpy as np\n",
    "import pandas as pd\n",
    "import seaborn as sns\n",
    "import matplotlib.pyplot as plt\n",
    "\n",
    "import os\n",
    "import tensorflow as tf\n",
    "import time"
   ]
  },
  {
   "cell_type": "code",
   "execution_count": 2,
   "id": "5ab5f23c",
   "metadata": {},
   "outputs": [
    {
     "name": "stdout",
     "output_type": "stream",
     "text": [
      "GPU 0: NVIDIA GeForce RTX 3050 Laptop GPU (UUID: GPU-568f2418-97a2-eb4a-4350-001120466be8)\n"
     ]
    }
   ],
   "source": [
    "# CONFIRM GPU ACCESS\n",
    "!nvidia-smi -L"
   ]
  },
  {
   "cell_type": "markdown",
   "id": "5eea0756",
   "metadata": {},
   "source": [
    "# Get Data"
   ]
  },
  {
   "cell_type": "markdown",
   "id": "39ebd54e",
   "metadata": {},
   "source": [
    "Before we can start building a model, we've got to download the PubMed 200k RCT dataset.\n",
    "\n",
    "In a phenomenal act of kindness, the authors of the paper have made the data they used for their research availably publically and for free in the form of .txt files on GitHub.\n",
    "\n",
    "We can copy them to our local directory using git clone https://github.com/Franck-Dernoncourt/pubmed-rct."
   ]
  },
  {
   "cell_type": "code",
   "execution_count": 3,
   "id": "21128f3b",
   "metadata": {},
   "outputs": [
    {
     "name": "stderr",
     "output_type": "stream",
     "text": [
      "fatal: destination path 'pubmed-rct' already exists and is not an empty directory.\n"
     ]
    }
   ],
   "source": [
    "!git clone  https://github.com/Franck-Dernoncourt/pubmed-rct.git"
   ]
  },
  {
   "cell_type": "code",
   "execution_count": 4,
   "id": "0ba9d6f1",
   "metadata": {},
   "outputs": [
    {
     "name": "stdout",
     "output_type": "stream",
     "text": [
      " Volume in drive C has no label.\n",
      " Volume Serial Number is 22DD-4F7C\n",
      "\n",
      " Directory of C:\\Users\\anmol\\Desktop\\TF\\Udemy ZTM\\10. Streamlit Project\\pubmed-rct\n",
      "\n",
      "19-01-2022  12:34    <DIR>          .\n",
      "19-01-2022  12:34    <DIR>          ..\n",
      "19-01-2022  12:34    <DIR>          PubMed_200k_RCT\n",
      "19-01-2022  12:34    <DIR>          PubMed_200k_RCT_numbers_replaced_with_at_sign\n",
      "19-01-2022  12:34    <DIR>          PubMed_20k_RCT\n",
      "19-01-2022  12:34    <DIR>          PubMed_20k_RCT_numbers_replaced_with_at_sign\n",
      "19-01-2022  12:34             2,403 README.md\n",
      "               1 File(s)          2,403 bytes\n",
      "               6 Dir(s)  210,081,992,704 bytes free\n"
     ]
    }
   ],
   "source": [
    "!dir pubmed-rct"
   ]
  },
  {
   "cell_type": "markdown",
   "id": "af5ac95e",
   "metadata": {},
   "source": [
    "Checking the contents of the downloaded repository, you can see there are four folders.\n",
    "\n",
    "Each contains a different version of the PubMed 200k RCT dataset.\n",
    "\n",
    "Looking at the README file from the GitHub page, we get the following information:\n",
    "\n",
    "- PubMed 20k is a subset of PubMed 200k. I.e., any abstract present in PubMed 20k is also present in PubMed 200k.\n",
    "- PubMed_200k_RCT is the same as PubMed_200k_RCT_numbers_replaced_with_at_sign, except that in the latter all numbers had been replaced by @. (same for PubMed_20k_RCT vs. PubMed_20k_RCT_numbers_replaced_with_at_sign).\n",
    "- Since Github file size limit is 100 MiB, we had to compress PubMed_200k_RCT\\train.7z and PubMed_200k_RCT_numbers_replaced_with_at_sign\\train.zip. To uncompress train.7z, you may use 7-Zip on Windows, Keka on Mac OS X, or p7zip on Linux.\n",
    "\n",
    "To begin with, the dataset we're going to be focused on is PubMed_20k_RCT_numbers_replaced_with_at_sign.\n",
    "\n",
    "Why this one?\n",
    "\n",
    "Rather than working with the whole 200k dataset, we'll keep our experiments quick by starting with a smaller subset. We could've chosen the dataset with numbers instead of having them replaced with @ but we didn't.\n",
    "\n",
    "Let's check the file contents."
   ]
  },
  {
   "cell_type": "code",
   "execution_count": 5,
   "id": "070e2fc5",
   "metadata": {},
   "outputs": [
    {
     "data": {
      "text/plain": [
       "['dev.txt', 'test.txt', 'train.txt']"
      ]
     },
     "execution_count": 5,
     "metadata": {},
     "output_type": "execute_result"
    }
   ],
   "source": [
    "# check what files are in the PUB_MED_20k RCT\n",
    "os.listdir(r\"C:\\Users\\anmol\\Desktop\\TF\\Udemy ZTM\\10. Streamlit Project\\pubmed-rct\\PubMed_20k_RCT_numbers_replaced_with_at_sign\")"
   ]
  },
  {
   "cell_type": "code",
   "execution_count": 6,
   "id": "ecdcedbb",
   "metadata": {},
   "outputs": [],
   "source": [
    "# Start by using the 20k dataset\n",
    "data_dir = \"pubmed-rct/PubMed_20k_RCT_numbers_replaced_with_at_sign/\""
   ]
  },
  {
   "cell_type": "code",
   "execution_count": 7,
   "id": "a11796f9",
   "metadata": {},
   "outputs": [
    {
     "data": {
      "text/plain": [
       "['pubmed-rct/PubMed_20k_RCT_numbers_replaced_with_at_sign/dev.txt',\n",
       " 'pubmed-rct/PubMed_20k_RCT_numbers_replaced_with_at_sign/test.txt',\n",
       " 'pubmed-rct/PubMed_20k_RCT_numbers_replaced_with_at_sign/train.txt']"
      ]
     },
     "execution_count": 7,
     "metadata": {},
     "output_type": "execute_result"
    }
   ],
   "source": [
    "filenames = [data_dir + filename for filename in os.listdir(data_dir)]\n",
    "filenames"
   ]
  },
  {
   "cell_type": "markdown",
   "id": "e5df45d2",
   "metadata": {},
   "source": [
    "# Pre-process Data\n",
    "Let's write a function to read in all the lines of a target text file"
   ]
  },
  {
   "cell_type": "code",
   "execution_count": 8,
   "id": "e4333be6",
   "metadata": {},
   "outputs": [],
   "source": [
    "def get_lines(filename):\n",
    "    \"\"\"\n",
    "    Reads a filename and returns the lines of text as a list\n",
    "    Args: filename containing target filepath\n",
    "    Returns: A list of strings with one string per line from the target filename\n",
    "    \"\"\"\n",
    "    with open(filename, \"r\") as f:\n",
    "        return f.readlines()"
   ]
  },
  {
   "cell_type": "code",
   "execution_count": 9,
   "id": "1d7b82e9",
   "metadata": {},
   "outputs": [
    {
     "data": {
      "text/plain": [
       "['###24293578\\n',\n",
       " 'OBJECTIVE\\tTo investigate the efficacy of @ weeks of daily low-dose oral prednisolone in improving pain , mobility , and systemic low-grade inflammation in the short term and whether the effect would be sustained at @ weeks in older adults with moderate to severe knee osteoarthritis ( OA ) .\\n',\n",
       " 'METHODS\\tA total of @ patients with primary knee OA were randomized @:@ ; @ received @ mg/day of prednisolone and @ received placebo for @ weeks .\\n',\n",
       " 'METHODS\\tOutcome measures included pain reduction and improvement in function scores and systemic inflammation markers .\\n',\n",
       " 'METHODS\\tPain was assessed using the visual analog pain scale ( @-@ mm ) .\\n',\n",
       " 'METHODS\\tSecondary outcome measures included the Western Ontario and McMaster Universities Osteoarthritis Index scores , patient global assessment ( PGA ) of the severity of knee OA , and @-min walk distance ( @MWD ) .\\n',\n",
       " 'METHODS\\tSerum levels of interleukin @ ( IL-@ ) , IL-@ , tumor necrosis factor ( TNF ) - , and high-sensitivity C-reactive protein ( hsCRP ) were measured .\\n',\n",
       " 'RESULTS\\tThere was a clinically relevant reduction in the intervention group compared to the placebo group for knee pain , physical function , PGA , and @MWD at @ weeks .\\n',\n",
       " 'RESULTS\\tThe mean difference between treatment arms ( @ % CI ) was @ ( @-@ @ ) , p < @ ; @ ( @-@ @ ) , p < @ ; @ ( @-@ @ ) , p < @ ; and @ ( @-@ @ ) , p < @ , respectively .\\n',\n",
       " 'RESULTS\\tFurther , there was a clinically relevant reduction in the serum levels of IL-@ , IL-@ , TNF - , and hsCRP at @ weeks in the intervention group when compared to the placebo group .\\n']"
      ]
     },
     "execution_count": 9,
     "metadata": {},
     "output_type": "execute_result"
    }
   ],
   "source": [
    "# Lets read in the training lines\n",
    "train_lines  = get_lines(data_dir+\"train.txt\") # read the lines in the training file\n",
    "train_lines[:10]"
   ]
  },
  {
   "cell_type": "code",
   "execution_count": 10,
   "id": "962c22f4",
   "metadata": {},
   "outputs": [
    {
     "data": {
      "text/plain": [
       "210040"
      ]
     },
     "execution_count": 10,
     "metadata": {},
     "output_type": "execute_result"
    }
   ],
   "source": [
    "len(train_lines)"
   ]
  },
  {
   "cell_type": "markdown",
   "id": "9c4cb750",
   "metadata": {},
   "source": [
    "Reading the lines from the training text file results in a list of strings containing different abstract samples, the sentences in a sample along with the role the sentence plays in the abstract.\n",
    "\n",
    "The role of each sentence is prefixed at the start of each line separated by a tab (\\t) and each sentence finishes with a new line (\\n).\n",
    "\n",
    "Different abstracts are separated by abstract ID's (lines beginning with ###) and newlines (\\n).\n",
    "\n",
    "Knowing this, it looks like we've got a couple of steps to do to get our samples ready to pass as training data to our future machine learning model.\n",
    "\n",
    "Let's write a function to perform the following steps:\n",
    "\n",
    "- Take a target file of abstract samples.\n",
    "- Read the lines in the target file.\n",
    "- For each line in the target file:\n",
    "        - If the line begins with ### mark it as an abstract ID and the beginning of a new abstract.\n",
    "            - Keep count of the number of lines in a sample.\n",
    "        - If the line begins with \\n mark it as the end of an abstract sample.\n",
    "            - Keep count of the total lines in a sample.\n",
    "        - Record the text before the \\t as the label of the line.\n",
    "        - Record the text after the \\t as the text of the line.\n",
    " - Return all of the lines in the target text file as a list of dictionaries containing the key/value pairs:\n",
    "        - \"line_number\" - the position of the line in the abstract (e.g. 3).\n",
    "        - \"target\" - the role of the line in the abstract (e.g. OBJECTIVE).\n",
    "        - \"text\" - the text of the line in the abstract.\n",
    "        - \"total_lines\" - the total lines in an abstract sample (e.g. 14).\n",
    " - Abstract ID's and newlines should be omitted from the returned preprocessed data.\n"
   ]
  },
  {
   "cell_type": "code",
   "execution_count": 11,
   "id": "a3f5a31e",
   "metadata": {},
   "outputs": [],
   "source": [
    "def preprocess_text_with_line_numbers(filename):\n",
    "    \"\"\"Returns a list of dictionaries of abstract line data.\n",
    "\n",
    "  Takes in filename, reads its contents and sorts through each line,\n",
    "  extracting things like the target label, the text of the sentence,\n",
    "  how many sentences are in the current abstract and what sentence number\n",
    "  the target line is.\n",
    "\n",
    "  Args:\n",
    "      filename: a string of the target text file to read and extract line data\n",
    "      from.\n",
    "\n",
    "  Returns:\n",
    "      A list of dictionaries each containing a line from an abstract,\n",
    "      the lines label, the lines position in the abstract and the total number\n",
    "      of lines in the abstract where the line is from. For example:\n",
    "\n",
    "      [{\"target\": 'CONCLUSION',\n",
    "        \"text\": The study couldn't have gone better, turns out people are kinder than you think\",\n",
    "        \"line_number\": 8,\n",
    "        \"total_lines\": 8}]\n",
    "  \"\"\"\n",
    "    input_lines = get_lines(filename) # get all the filenames\n",
    "    abstract_lines = \"\" # create an empty abstract\n",
    "    abstract_samples = [] # create an empty list of abstracts\n",
    "    \n",
    "    # Loop through each line in target file\n",
    "    for line in input_lines:\n",
    "        if line.startswith(\"###\"): # check to see if line is a line ID\n",
    "            abstract_id = line\n",
    "            abstract_lines = \"\" # reset abstract string if the line is an ID line\n",
    "        elif line.isspace(): # check to see if line is a  new line\n",
    "            abstract_line_split = abstract_lines.splitlines() # split abstract into separate lines\n",
    "            \n",
    "            # iterate through each line in a single abstract and count them at the same time\n",
    "            for abstract_line_number, abstract_line in enumerate(abstract_line_split):\n",
    "                line_data = {} # create empty dict to store data from each line\n",
    "                target_text_split = abstract_line.split(\"\\t\") # split target label from text\n",
    "                line_data[\"target\"] = target_text_split[0] # get target label\n",
    "                line_data[\"text\"] = target_text_split[1].lower() # get target text and lower it\n",
    "                line_data[\"line_number\"] = abstract_line_number # what number line does the line appear in the abstract?\n",
    "                line_data[\"total_lines\"] = len(abstract_line_split) - 1 # how many total lines are in the abstract? (start from 0)\n",
    "                abstract_samples.append(line_data) # add line data to abstract samples list\n",
    "    \n",
    "        else: # if the above conditions aren't fulfilled, the line contains a labelled sentence\n",
    "                abstract_lines += line\n",
    "  \n",
    "    return abstract_samples"
   ]
  },
  {
   "cell_type": "code",
   "execution_count": 12,
   "id": "26b4f6c5",
   "metadata": {},
   "outputs": [
    {
     "name": "stdout",
     "output_type": "stream",
     "text": [
      "Wall time: 0 ns\n"
     ]
    },
    {
     "data": {
      "text/plain": [
       "(180040, 30212, 30135)"
      ]
     },
     "execution_count": 12,
     "metadata": {},
     "output_type": "execute_result"
    }
   ],
   "source": [
    "# Get data from file and preprocess it\n",
    "%time\n",
    "train_samples = preprocess_text_with_line_numbers(data_dir+\"train.txt\")\n",
    "val_samples = preprocess_text_with_line_numbers(data_dir + \"dev.txt\") # validation dataset\n",
    "test_samples = preprocess_text_with_line_numbers(data_dir + \"test.txt\")\n",
    "\n",
    "len(train_samples), len(val_samples), len(test_samples)"
   ]
  },
  {
   "cell_type": "code",
   "execution_count": 13,
   "id": "d3716cd9",
   "metadata": {},
   "outputs": [
    {
     "data": {
      "text/plain": [
       "[{'target': 'OBJECTIVE',\n",
       "  'text': 'to investigate the efficacy of @ weeks of daily low-dose oral prednisolone in improving pain , mobility , and systemic low-grade inflammation in the short term and whether the effect would be sustained at @ weeks in older adults with moderate to severe knee osteoarthritis ( oa ) .',\n",
       "  'line_number': 0,\n",
       "  'total_lines': 11},\n",
       " {'target': 'METHODS',\n",
       "  'text': 'a total of @ patients with primary knee oa were randomized @:@ ; @ received @ mg/day of prednisolone and @ received placebo for @ weeks .',\n",
       "  'line_number': 1,\n",
       "  'total_lines': 11},\n",
       " {'target': 'METHODS',\n",
       "  'text': 'outcome measures included pain reduction and improvement in function scores and systemic inflammation markers .',\n",
       "  'line_number': 2,\n",
       "  'total_lines': 11},\n",
       " {'target': 'METHODS',\n",
       "  'text': 'pain was assessed using the visual analog pain scale ( @-@ mm ) .',\n",
       "  'line_number': 3,\n",
       "  'total_lines': 11},\n",
       " {'target': 'METHODS',\n",
       "  'text': 'secondary outcome measures included the western ontario and mcmaster universities osteoarthritis index scores , patient global assessment ( pga ) of the severity of knee oa , and @-min walk distance ( @mwd ) .',\n",
       "  'line_number': 4,\n",
       "  'total_lines': 11}]"
      ]
     },
     "execution_count": 13,
     "metadata": {},
     "output_type": "execute_result"
    }
   ],
   "source": [
    "# check the first abstract of training samples\n",
    "train_samples[:5]"
   ]
  },
  {
   "cell_type": "code",
   "execution_count": 14,
   "id": "f765fc6d",
   "metadata": {},
   "outputs": [],
   "source": [
    "# Convert our training, val and test samples into a DataFrame\n",
    "train_df = pd.DataFrame(train_samples)\n",
    "val_df = pd.DataFrame(val_samples)\n",
    "test_df = pd.DataFrame(test_samples)"
   ]
  },
  {
   "cell_type": "code",
   "execution_count": 15,
   "id": "1ac1bbc4",
   "metadata": {},
   "outputs": [
    {
     "data": {
      "text/html": [
       "<div>\n",
       "<style scoped>\n",
       "    .dataframe tbody tr th:only-of-type {\n",
       "        vertical-align: middle;\n",
       "    }\n",
       "\n",
       "    .dataframe tbody tr th {\n",
       "        vertical-align: top;\n",
       "    }\n",
       "\n",
       "    .dataframe thead th {\n",
       "        text-align: right;\n",
       "    }\n",
       "</style>\n",
       "<table border=\"1\" class=\"dataframe\">\n",
       "  <thead>\n",
       "    <tr style=\"text-align: right;\">\n",
       "      <th></th>\n",
       "      <th>target</th>\n",
       "      <th>text</th>\n",
       "      <th>line_number</th>\n",
       "      <th>total_lines</th>\n",
       "    </tr>\n",
       "  </thead>\n",
       "  <tbody>\n",
       "    <tr>\n",
       "      <th>0</th>\n",
       "      <td>OBJECTIVE</td>\n",
       "      <td>to investigate the efficacy of @ weeks of dail...</td>\n",
       "      <td>0</td>\n",
       "      <td>11</td>\n",
       "    </tr>\n",
       "    <tr>\n",
       "      <th>1</th>\n",
       "      <td>METHODS</td>\n",
       "      <td>a total of @ patients with primary knee oa wer...</td>\n",
       "      <td>1</td>\n",
       "      <td>11</td>\n",
       "    </tr>\n",
       "    <tr>\n",
       "      <th>2</th>\n",
       "      <td>METHODS</td>\n",
       "      <td>outcome measures included pain reduction and i...</td>\n",
       "      <td>2</td>\n",
       "      <td>11</td>\n",
       "    </tr>\n",
       "    <tr>\n",
       "      <th>3</th>\n",
       "      <td>METHODS</td>\n",
       "      <td>pain was assessed using the visual analog pain...</td>\n",
       "      <td>3</td>\n",
       "      <td>11</td>\n",
       "    </tr>\n",
       "    <tr>\n",
       "      <th>4</th>\n",
       "      <td>METHODS</td>\n",
       "      <td>secondary outcome measures included the wester...</td>\n",
       "      <td>4</td>\n",
       "      <td>11</td>\n",
       "    </tr>\n",
       "    <tr>\n",
       "      <th>5</th>\n",
       "      <td>METHODS</td>\n",
       "      <td>serum levels of interleukin @ ( il-@ ) , il-@ ...</td>\n",
       "      <td>5</td>\n",
       "      <td>11</td>\n",
       "    </tr>\n",
       "    <tr>\n",
       "      <th>6</th>\n",
       "      <td>RESULTS</td>\n",
       "      <td>there was a clinically relevant reduction in t...</td>\n",
       "      <td>6</td>\n",
       "      <td>11</td>\n",
       "    </tr>\n",
       "    <tr>\n",
       "      <th>7</th>\n",
       "      <td>RESULTS</td>\n",
       "      <td>the mean difference between treatment arms ( @...</td>\n",
       "      <td>7</td>\n",
       "      <td>11</td>\n",
       "    </tr>\n",
       "    <tr>\n",
       "      <th>8</th>\n",
       "      <td>RESULTS</td>\n",
       "      <td>further , there was a clinically relevant redu...</td>\n",
       "      <td>8</td>\n",
       "      <td>11</td>\n",
       "    </tr>\n",
       "    <tr>\n",
       "      <th>9</th>\n",
       "      <td>RESULTS</td>\n",
       "      <td>these differences remained significant at @ we...</td>\n",
       "      <td>9</td>\n",
       "      <td>11</td>\n",
       "    </tr>\n",
       "    <tr>\n",
       "      <th>10</th>\n",
       "      <td>RESULTS</td>\n",
       "      <td>the outcome measures in rheumatology clinical ...</td>\n",
       "      <td>10</td>\n",
       "      <td>11</td>\n",
       "    </tr>\n",
       "    <tr>\n",
       "      <th>11</th>\n",
       "      <td>CONCLUSIONS</td>\n",
       "      <td>low-dose oral prednisolone had both a short-te...</td>\n",
       "      <td>11</td>\n",
       "      <td>11</td>\n",
       "    </tr>\n",
       "    <tr>\n",
       "      <th>12</th>\n",
       "      <td>BACKGROUND</td>\n",
       "      <td>emotional eating is associated with overeating...</td>\n",
       "      <td>0</td>\n",
       "      <td>10</td>\n",
       "    </tr>\n",
       "    <tr>\n",
       "      <th>13</th>\n",
       "      <td>BACKGROUND</td>\n",
       "      <td>yet , empirical evidence for individual ( trai...</td>\n",
       "      <td>1</td>\n",
       "      <td>10</td>\n",
       "    </tr>\n",
       "  </tbody>\n",
       "</table>\n",
       "</div>"
      ],
      "text/plain": [
       "         target                                               text  \\\n",
       "0     OBJECTIVE  to investigate the efficacy of @ weeks of dail...   \n",
       "1       METHODS  a total of @ patients with primary knee oa wer...   \n",
       "2       METHODS  outcome measures included pain reduction and i...   \n",
       "3       METHODS  pain was assessed using the visual analog pain...   \n",
       "4       METHODS  secondary outcome measures included the wester...   \n",
       "5       METHODS  serum levels of interleukin @ ( il-@ ) , il-@ ...   \n",
       "6       RESULTS  there was a clinically relevant reduction in t...   \n",
       "7       RESULTS  the mean difference between treatment arms ( @...   \n",
       "8       RESULTS  further , there was a clinically relevant redu...   \n",
       "9       RESULTS  these differences remained significant at @ we...   \n",
       "10      RESULTS  the outcome measures in rheumatology clinical ...   \n",
       "11  CONCLUSIONS  low-dose oral prednisolone had both a short-te...   \n",
       "12   BACKGROUND  emotional eating is associated with overeating...   \n",
       "13   BACKGROUND  yet , empirical evidence for individual ( trai...   \n",
       "\n",
       "    line_number  total_lines  \n",
       "0             0           11  \n",
       "1             1           11  \n",
       "2             2           11  \n",
       "3             3           11  \n",
       "4             4           11  \n",
       "5             5           11  \n",
       "6             6           11  \n",
       "7             7           11  \n",
       "8             8           11  \n",
       "9             9           11  \n",
       "10           10           11  \n",
       "11           11           11  \n",
       "12            0           10  \n",
       "13            1           10  "
      ]
     },
     "execution_count": 15,
     "metadata": {},
     "output_type": "execute_result"
    }
   ],
   "source": [
    "train_df.head(14)"
   ]
  },
  {
   "cell_type": "code",
   "execution_count": 16,
   "id": "0fbb7d69",
   "metadata": {},
   "outputs": [
    {
     "name": "stdout",
     "output_type": "stream",
     "text": [
      "METHODS        59353\n",
      "RESULTS        57953\n",
      "CONCLUSIONS    27168\n",
      "BACKGROUND     21727\n",
      "OBJECTIVE      13839\n",
      "Name: target, dtype: int64\n",
      "\n",
      "\n",
      "METHODS        0.329666\n",
      "RESULTS        0.321890\n",
      "CONCLUSIONS    0.150900\n",
      "BACKGROUND     0.120679\n",
      "OBJECTIVE      0.076866\n",
      "Name: target, dtype: float64\n"
     ]
    }
   ],
   "source": [
    "# Distribution of labels in training data\n",
    "print(train_df[\"target\"].value_counts())\n",
    "print('\\n')\n",
    "print(train_df[\"target\"].value_counts(normalize=True))"
   ]
  },
  {
   "cell_type": "code",
   "execution_count": 17,
   "id": "6f77961e",
   "metadata": {},
   "outputs": [
    {
     "data": {
      "text/plain": [
       "<AxesSubplot:ylabel='Frequency'>"
      ]
     },
     "execution_count": 17,
     "metadata": {},
     "output_type": "execute_result"
    },
    {
     "data": {
      "image/png": "[encoded data removed]",
      "text/plain": [
       "<Figure size 432x288 with 1 Axes>"
      ]
     },
     "metadata": {
      "needs_background": "light"
     },
     "output_type": "display_data"
    }
   ],
   "source": [
    "# lets check the lenght of different lines\n",
    "train_df['total_lines'].plot(kind=\"hist\")"
   ]
  },
  {
   "cell_type": "markdown",
   "id": "739b8490",
   "metadata": {},
   "source": [
    "Okay, looks like most of the abstracts are around 7 to 15 sentences in length.\n",
    "\n",
    "It's good to check these things out to make sure when we do train a model or test it on unseen samples, our results aren't outlandish"
   ]
  },
  {
   "cell_type": "markdown",
   "id": "f0d536c0",
   "metadata": {},
   "source": [
    "#### Get list of sentences"
   ]
  },
  {
   "cell_type": "markdown",
   "id": "f5cbe2c7",
   "metadata": {},
   "source": [
    "When we build our deep learning model, one of its main inputs will be a list of strings (the lines of an abstract).\n",
    "\n",
    "We can get these easily from our DataFrames by calling the tolist() method on our \"text\" columns."
   ]
  },
  {
   "cell_type": "code",
   "execution_count": 18,
   "id": "4589bd8d",
   "metadata": {},
   "outputs": [
    {
     "data": {
      "text/plain": [
       "(180040, 30212, 30135)"
      ]
     },
     "execution_count": 18,
     "metadata": {},
     "output_type": "execute_result"
    }
   ],
   "source": [
    "# Convert Abstract text lines into Lists\n",
    "train_sentences = train_df[\"text\"].tolist()\n",
    "val_sentences = val_df[\"text\"].tolist()\n",
    "test_sentences = test_df[\"text\"].tolist()\n",
    "\n",
    "len(train_sentences), len(val_sentences), len(test_sentences)"
   ]
  },
  {
   "cell_type": "code",
   "execution_count": 19,
   "id": "e04f5c6a",
   "metadata": {},
   "outputs": [
    {
     "data": {
      "text/plain": [
       "['to investigate the efficacy of @ weeks of daily low-dose oral prednisolone in improving pain , mobility , and systemic low-grade inflammation in the short term and whether the effect would be sustained at @ weeks in older adults with moderate to severe knee osteoarthritis ( oa ) .',\n",
       " 'a total of @ patients with primary knee oa were randomized @:@ ; @ received @ mg/day of prednisolone and @ received placebo for @ weeks .',\n",
       " 'outcome measures included pain reduction and improvement in function scores and systemic inflammation markers .',\n",
       " 'pain was assessed using the visual analog pain scale ( @-@ mm ) .',\n",
       " 'secondary outcome measures included the western ontario and mcmaster universities osteoarthritis index scores , patient global assessment ( pga ) of the severity of knee oa , and @-min walk distance ( @mwd ) .',\n",
       " 'serum levels of interleukin @ ( il-@ ) , il-@ , tumor necrosis factor ( tnf ) - , and high-sensitivity c-reactive protein ( hscrp ) were measured .',\n",
       " 'there was a clinically relevant reduction in the intervention group compared to the placebo group for knee pain , physical function , pga , and @mwd at @ weeks .',\n",
       " 'the mean difference between treatment arms ( @ % ci ) was @ ( @-@ @ ) , p < @ ; @ ( @-@ @ ) , p < @ ; @ ( @-@ @ ) , p < @ ; and @ ( @-@ @ ) , p < @ , respectively .',\n",
       " 'further , there was a clinically relevant reduction in the serum levels of il-@ , il-@ , tnf - , and hscrp at @ weeks in the intervention group when compared to the placebo group .',\n",
       " 'these differences remained significant at @ weeks .']"
      ]
     },
     "execution_count": 19,
     "metadata": {},
     "output_type": "execute_result"
    }
   ],
   "source": [
    "# View the first 1o lines of training sentences\n",
    "train_sentences[:10]"
   ]
  },
  {
   "cell_type": "markdown",
   "id": "74dac66a",
   "metadata": {},
   "source": [
    "#### Turn Target labels into Numeric Labels\n",
    "We're going to create one hot and label encoded labels.\n",
    "\n",
    "We could get away with just making label encoded labels, however, TensorFlow's CategoricalCrossentropy loss function likes to have one hot encoded labels (this will enable us to use label smoothing later on).\n",
    "\n",
    "To numerically encode labels we'll use Scikit-Learn's OneHotEncoder and LabelEncoder classes."
   ]
  },
  {
   "cell_type": "code",
   "execution_count": 20,
   "id": "deb95b43",
   "metadata": {},
   "outputs": [
    {
     "data": {
      "text/plain": [
       "array([[0., 0., 0., 1., 0.],\n",
       "       [0., 0., 1., 0., 0.],\n",
       "       [0., 0., 1., 0., 0.],\n",
       "       ...,\n",
       "       [0., 0., 0., 0., 1.],\n",
       "       [0., 1., 0., 0., 0.],\n",
       "       [0., 1., 0., 0., 0.]])"
      ]
     },
     "execution_count": 20,
     "metadata": {},
     "output_type": "execute_result"
    }
   ],
   "source": [
    "# One hot encoded labels\n",
    "from sklearn.preprocessing import OneHotEncoder\n",
    "one_hot_encoder = OneHotEncoder(sparse=False) # we want a non sparse matrix\n",
    "train_labels_one_hot = one_hot_encoder.fit_transform(train_df[\"target\"].to_numpy().reshape(-1,1))\n",
    "\n",
    "# One hot encode val_df and test_df\n",
    "val_labels_one_hot = one_hot_encoder.transform(val_df[\"target\"].to_numpy().reshape(-1,1))\n",
    "test_labels_one_hot = one_hot_encoder.transform(test_df[\"target\"].to_numpy().reshape(-1,1))\n",
    "\n",
    "# check what one hot encoded labels look like\n",
    "train_labels_one_hot"
   ]
  },
  {
   "cell_type": "markdown",
   "id": "2ce173a9",
   "metadata": {},
   "source": [
    "#### Label Encoded Labels"
   ]
  },
  {
   "cell_type": "code",
   "execution_count": 21,
   "id": "ee77fb5d",
   "metadata": {},
   "outputs": [
    {
     "data": {
      "text/plain": [
       "array([3, 2, 2, 2, 2, 2, 4, 4, 4, 4])"
      ]
     },
     "execution_count": 21,
     "metadata": {},
     "output_type": "execute_result"
    }
   ],
   "source": [
    "# Extract Labels (\"target\" columns) and encode them into integers\n",
    "from sklearn.preprocessing import LabelEncoder\n",
    "label_encoder = LabelEncoder()\n",
    "train_labels_encoded = label_encoder.fit_transform(train_df[\"target\"].to_numpy())\n",
    "val_labels_encoded = label_encoder.transform(val_df[\"target\"].to_numpy())\n",
    "test_labels_encoded = label_encoder.transform(test_df[\"target\"].to_numpy())\n",
    "\n",
    "# check the labels\n",
    "train_labels_encoded[:10]"
   ]
  },
  {
   "cell_type": "markdown",
   "id": "bf26a5b3",
   "metadata": {},
   "source": [
    "Now we've trained an instance of LabelEncoder, we can get the class names and number of classes using the classes_ attribute."
   ]
  },
  {
   "cell_type": "code",
   "execution_count": 22,
   "id": "8ebb646f",
   "metadata": {},
   "outputs": [
    {
     "data": {
      "text/plain": [
       "(5,\n",
       " array(['BACKGROUND', 'CONCLUSIONS', 'METHODS', 'OBJECTIVE', 'RESULTS'],\n",
       "       dtype=object))"
      ]
     },
     "execution_count": 22,
     "metadata": {},
     "output_type": "execute_result"
    }
   ],
   "source": [
    "# Get the class names and Number of Classes from labelEncoder Instance\n",
    "num_classes = len(label_encoder.classes_)\n",
    "class_names = label_encoder.classes_\n",
    "num_classes, class_names"
   ]
  },
  {
   "cell_type": "code",
   "execution_count": null,
   "id": "30fffd95",
   "metadata": {},
   "outputs": [],
   "source": []
  },
  {
   "cell_type": "markdown",
   "id": "fdd277c3",
   "metadata": {},
   "source": [
    "# Model 0: Baseline Model (Naive Bayes with TF-IDF encoder)"
   ]
  },
  {
   "cell_type": "markdown",
   "id": "bf6c1cc9",
   "metadata": {},
   "source": [
    "Our first model we'll be a TF-IDF Multinomial Naive Bayes as recommended by Scikit-Learn's machine learning map.\n",
    "\n",
    "To build it, we'll create a Scikit-Learn Pipeline which uses the TfidfVectorizer class to convert our abstract sentences to numbers using the TF-IDF (term frequency-inverse document frequecy) algorithm and then learns to classify our sentences using the MultinomialNB aglorithm."
   ]
  },
  {
   "cell_type": "code",
   "execution_count": 23,
   "id": "fa055ce4",
   "metadata": {},
   "outputs": [
    {
     "data": {
      "text/plain": [
       "Pipeline(steps=[('tf-idf', TfidfVectorizer()), ('clf', MultinomialNB())])"
      ]
     },
     "execution_count": 23,
     "metadata": {},
     "output_type": "execute_result"
    }
   ],
   "source": [
    "from sklearn.feature_extraction.text import TfidfVectorizer\n",
    "from sklearn.naive_bayes import MultinomialNB\n",
    "from sklearn.pipeline import Pipeline\n",
    "\n",
    "# create a pipeline\n",
    "model_0 = Pipeline([\n",
    "    (\"tf-idf\", TfidfVectorizer()),\n",
    "    (\"clf\", MultinomialNB())\n",
    "])\n",
    "\n",
    "# Fit the pipeline to the training data\n",
    "model_0.fit(X = train_sentences,\n",
    "           y = train_labels_encoded)"
   ]
  },
  {
   "cell_type": "code",
   "execution_count": 24,
   "id": "2c66983b",
   "metadata": {},
   "outputs": [
    {
     "data": {
      "text/plain": [
       "0.7218323844829869"
      ]
     },
     "execution_count": 24,
     "metadata": {},
     "output_type": "execute_result"
    }
   ],
   "source": [
    "# Evaluate baseline model on validation dataset\n",
    "model_0.score(X = val_sentences,\n",
    "                y = val_labels_encoded)"
   ]
  },
  {
   "cell_type": "code",
   "execution_count": 25,
   "id": "258f9ff7",
   "metadata": {},
   "outputs": [
    {
     "data": {
      "text/plain": [
       "array([4, 1, 3, ..., 4, 4, 1])"
      ]
     },
     "execution_count": 25,
     "metadata": {},
     "output_type": "execute_result"
    }
   ],
   "source": [
    "# Make Predictions using our baseline model\n",
    "baseline_preds = model_0.predict(val_sentences)\n",
    "baseline_preds"
   ]
  },
  {
   "cell_type": "code",
   "execution_count": 26,
   "id": "1b8c71f9",
   "metadata": {},
   "outputs": [
    {
     "name": "stderr",
     "output_type": "stream",
     "text": [
      "--2022-01-24 08:24:53--  https://raw.githubusercontent.com/mrdbourke/tensorflow-deep-learning/main/extras/helper_functions.py\n",
      "Resolving raw.githubusercontent.com (raw.githubusercontent.com)... 2606:50c0:8002::154, 2606:50c0:8003::154, 2606:50c0:8000::154, ...\n",
      "Connecting to raw.githubusercontent.com (raw.githubusercontent.com)|2606:50c0:8002::154|:443... connected.\n",
      "HTTP request sent, awaiting response... 200 OK\n",
      "Length: 10246 (10K) [text/plain]\n",
      "Saving to: 'helper_functions.py.1'\n",
      "\n",
      "     0K ..........                                            100% 1.20M=0.008s\n",
      "\n",
      "2022-01-24 08:24:53 (1.20 MB/s) - 'helper_functions.py.1' saved [10246/10246]\n",
      "\n"
     ]
    }
   ],
   "source": [
    "# Download helper Function Scripts\n",
    "!wget https://raw.githubusercontent.com/mrdbourke/tensorflow-deep-learning/main/extras/helper_functions.py"
   ]
  },
  {
   "cell_type": "code",
   "execution_count": 27,
   "id": "d7ba6205",
   "metadata": {},
   "outputs": [],
   "source": [
    "# Import calculate results helper function\n",
    "from helper_functions import calculate_results"
   ]
  },
  {
   "cell_type": "code",
   "execution_count": 28,
   "id": "f20e66a8",
   "metadata": {},
   "outputs": [
    {
     "data": {
      "text/plain": [
       "{'accuracy': 72.1832384482987,\n",
       " 'precision': 0.7186466952323352,\n",
       " 'recall': 0.7218323844829869,\n",
       " 'f1': 0.6989250353450294}"
      ]
     },
     "execution_count": 28,
     "metadata": {},
     "output_type": "execute_result"
    }
   ],
   "source": [
    "# Calculate baseline results\n",
    "baseline_results = calculate_results(y_true = val_labels_encoded,\n",
    "                                    y_pred = baseline_preds)\n",
    "\n",
    "baseline_results"
   ]
  },
  {
   "cell_type": "code",
   "execution_count": null,
   "id": "28b306de",
   "metadata": {},
   "outputs": [],
   "source": []
  },
  {
   "cell_type": "code",
   "execution_count": null,
   "id": "bd6a0f27",
   "metadata": {},
   "outputs": [],
   "source": []
  },
  {
   "cell_type": "markdown",
   "id": "ae7ba506",
   "metadata": {},
   "source": [
    "# Preparing our data for deep sequence models\n",
    "But before we start building deeper models, we've got to create vectorization and embedding layers.\n",
    "\n",
    "The vectorization layer will convert our text to numbers and the embedding layer will capture the relationships between those numbers."
   ]
  },
  {
   "cell_type": "code",
   "execution_count": 29,
   "id": "e604dd70",
   "metadata": {},
   "outputs": [
    {
     "data": {
      "text/plain": [
       "26.338269273494777"
      ]
     },
     "execution_count": 29,
     "metadata": {},
     "output_type": "execute_result"
    }
   ],
   "source": [
    "# how long is each sentence on average?\n",
    "sent_lens = [len(sentence.split()) for sentence in train_sentences]\n",
    "avg_sent_lens = np.mean(sent_lens)\n",
    "avg_sent_lens"
   ]
  },
  {
   "cell_type": "code",
   "execution_count": 30,
   "id": "39c46442",
   "metadata": {},
   "outputs": [
    {
     "data": {
      "image/png": "[encoded data removed]",
      "text/plain": [
       "<Figure size 432x288 with 1 Axes>"
      ]
     },
     "metadata": {
      "needs_background": "light"
     },
     "output_type": "display_data"
    }
   ],
   "source": [
    "# Whats the distribution look like?\n",
    "import matplotlib.pyplot as plt\n",
    "plt.hist(sent_lens, bins=20);"
   ]
  },
  {
   "cell_type": "code",
   "execution_count": 31,
   "id": "897512ca",
   "metadata": {},
   "outputs": [
    {
     "data": {
      "text/plain": [
       "55"
      ]
     },
     "execution_count": 31,
     "metadata": {},
     "output_type": "execute_result"
    }
   ],
   "source": [
    "# how long of a sentence length covers 95% of examples\n",
    "output_seq_len = int(np.percentile(sent_lens, 95))\n",
    "output_seq_len"
   ]
  },
  {
   "cell_type": "code",
   "execution_count": 32,
   "id": "641a7807",
   "metadata": {},
   "outputs": [
    {
     "data": {
      "text/plain": [
       "296"
      ]
     },
     "execution_count": 32,
     "metadata": {},
     "output_type": "execute_result"
    }
   ],
   "source": [
    "# what is max sequence length in the training set\n",
    "max(sent_lens)"
   ]
  },
  {
   "cell_type": "markdown",
   "id": "fecbb45b",
   "metadata": {},
   "source": [
    "\n",
    "\n",
    "Wonderful! It looks like 95% of the sentences in our training set have a length of 55 tokens or less.\n",
    "\n",
    "When we create our tokenization layer, we'll use this value to turn all of our sentences into the same length. Meaning sentences with a length below 55 get padded with zeros and sentences with a length above 55 get truncated (words after 55 get cut off)"
   ]
  },
  {
   "cell_type": "markdown",
   "id": "4f588239",
   "metadata": {},
   "source": [
    "### Create Text Vectorizer\n",
    "Now we've got a little more information about our texts, let's create a way to turn it into numbers.\n",
    "\n",
    "To do so, we'll use the TextVectorization layer from TensorFlow.\n",
    "\n",
    "We'll keep all the parameters default except for max_tokens (the number of unique words in our dataset) and output_sequence_length (our desired output length for each vectorized sentence).\n",
    "\n",
    "Section 3.2 of the PubMed 200k RCT paper states the vocabulary size of the PubMed 20k dataset as 68,000. So we'll use that as our max_tokens parameter."
   ]
  },
  {
   "cell_type": "code",
   "execution_count": 33,
   "id": "d2587a15",
   "metadata": {},
   "outputs": [],
   "source": [
    "# how many words are in our vocab? \n",
    "max_tokens = 68000"
   ]
  },
  {
   "cell_type": "code",
   "execution_count": 34,
   "id": "7cb47099",
   "metadata": {},
   "outputs": [],
   "source": [
    "# Create Text Vectorizer\n",
    "from tensorflow.keras.layers.experimental.preprocessing import TextVectorization\n",
    "\n",
    "text_vectorizer = TextVectorization(max_tokens = max_tokens, # number of words in the vocabulary\n",
    "                                   output_sequence_length = output_seq_len) # desired output length of vectorized sequences"
   ]
  },
  {
   "cell_type": "markdown",
   "id": "91615289",
   "metadata": {},
   "source": [
    "\n",
    "\n",
    "Great! Looks like our text_vectorizer is ready, let's adapt it to the training data (let it read the training data and figure out what number should represent what word) and then test it out.\n"
   ]
  },
  {
   "cell_type": "code",
   "execution_count": 35,
   "id": "9cbd0547",
   "metadata": {},
   "outputs": [],
   "source": [
    "# Adapt Text Vectorizer to Training Sentences\n",
    "text_vectorizer.adapt(train_sentences)"
   ]
  },
  {
   "cell_type": "code",
   "execution_count": 36,
   "id": "85a04f2e",
   "metadata": {},
   "outputs": [
    {
     "name": "stdout",
     "output_type": "stream",
     "text": [
      "Text: \n",
      "some @ patients ( @ colorectal resections and @ oesophagogastric resections ) were enrolled in the study ; @ patients were randomized to the restricted regimen and @ to the control ( liberal ) regimen .\n",
      "\n",
      " Length of Text: 36\n",
      "\n",
      " Vectorized Text: [[  584    12  1264  7993     3 12496  7993     9   230     5     2    17\n",
      "     12     9    29     6     2  3026   576     3     6     2    35  6084\n",
      "    576     0     0     0     0     0     0     0     0     0     0     0\n",
      "      0     0     0     0     0     0     0     0     0     0     0     0\n",
      "      0     0     0     0     0     0     0]]\n"
     ]
    }
   ],
   "source": [
    "# Test Out the Text Vectorizer\n",
    "import random\n",
    "target_sentence = random.choice(train_sentences)\n",
    "print(f\"Text: \\n{target_sentence}\")\n",
    "print(f\"\\n Length of Text: {len(target_sentence.split())}\")\n",
    "print(f\"\\n Vectorized Text: {text_vectorizer([target_sentence])}\")"
   ]
  },
  {
   "cell_type": "code",
   "execution_count": 37,
   "id": "b224962a",
   "metadata": {},
   "outputs": [
    {
     "name": "stdout",
     "output_type": "stream",
     "text": [
      "Number of words in vocab: 64841\n",
      "Most Common words in the vocab: ['', '[UNK]', 'the', 'and', 'of']\n",
      "Least common wods in the vocab: ['aainduced', 'aaigroup', 'aachener', 'aachen', 'aaacp']\n"
     ]
    }
   ],
   "source": [
    "# how many words in our training vocabulary\n",
    "rct_20k_text_vocab = text_vectorizer.get_vocabulary()\n",
    "print(f\"Number of words in vocab: {len(rct_20k_text_vocab)}\")\n",
    "print(f\"Most Common words in the vocab: {rct_20k_text_vocab[:5]}\")\n",
    "print(f\"Least common wods in the vocab: {rct_20k_text_vocab[-5:]}\")"
   ]
  },
  {
   "cell_type": "markdown",
   "id": "42b017d9",
   "metadata": {},
   "source": [
    " We can also see the configuration of our Text_vectorizer by using the get_config method"
   ]
  },
  {
   "cell_type": "code",
   "execution_count": 38,
   "id": "9af6de62",
   "metadata": {},
   "outputs": [
    {
     "data": {
      "text/plain": [
       "{'name': 'text_vectorization',\n",
       " 'trainable': True,\n",
       " 'batch_input_shape': (None,),\n",
       " 'dtype': 'string',\n",
       " 'max_tokens': 68000,\n",
       " 'standardize': 'lower_and_strip_punctuation',\n",
       " 'split': 'whitespace',\n",
       " 'ngrams': None,\n",
       " 'output_mode': 'int',\n",
       " 'output_sequence_length': 55,\n",
       " 'pad_to_max_tokens': False,\n",
       " 'sparse': False,\n",
       " 'ragged': False,\n",
       " 'vocabulary': None,\n",
       " 'idf_weights': None}"
      ]
     },
     "execution_count": 38,
     "metadata": {},
     "output_type": "execute_result"
    }
   ],
   "source": [
    "# Get the config of our text vectorizer\n",
    "text_vectorizer.get_config()"
   ]
  },
  {
   "cell_type": "markdown",
   "id": "c4b766ce",
   "metadata": {},
   "source": [
    "### Create Custom Text Embedding\n",
    "Our token_vectorization layer maps the words in our text directly to numbers. However, this doesn't necessarily capture the relationships between those numbers.\n",
    "\n",
    "To create a richer numerical representation of our text, we can use an embedding.\n",
    "\n",
    "As our model learns (by going through many different examples of abstract sentences and their labels), it'll update its embedding to better represent the relationships between tokens in our corpus.\n",
    "\n",
    "We can create a trainable embedding layer using TensorFlow's Embedding layer.\n",
    "\n",
    "Once again, the main parameters we're concerned with here are the inputs and outputs of our Embedding layer.\n",
    "\n",
    "The input_dim parameter defines the size of our vocabulary. And the output_dim parameter defines the dimension of the embedding output.\n",
    "\n",
    "Once created, our embedding layer will take the integer outputs of our text_vectorization layer as inputs and convert them to feature vectors of size output_dim.\n",
    "\n",
    "Let's see it in action."
   ]
  },
  {
   "cell_type": "code",
   "execution_count": 39,
   "id": "d5b39765",
   "metadata": {},
   "outputs": [
    {
     "data": {
      "text/plain": [
       "64841"
      ]
     },
     "execution_count": 39,
     "metadata": {},
     "output_type": "execute_result"
    }
   ],
   "source": [
    "len(rct_20k_text_vocab)"
   ]
  },
  {
   "cell_type": "code",
   "execution_count": 40,
   "id": "92aa2f22",
   "metadata": {},
   "outputs": [],
   "source": [
    "from tensorflow.keras import layers\n",
    "\n",
    "# Create token embedding layer\n",
    "token_embed = layers.Embedding(input_dim = len(rct_20k_text_vocab), # length of the vocabulary\n",
    "                              output_dim = 128, # Note: different embedding sizes result in drastically different number of parameters\n",
    "                              # use masking to handle variable sequence lenghts (save space)\n",
    "                              mask_zero = True,\n",
    "                              name = \"token_embedding\")"
   ]
  },
  {
   "cell_type": "code",
   "execution_count": 41,
   "id": "a6397194",
   "metadata": {},
   "outputs": [
    {
     "name": "stdout",
     "output_type": "stream",
     "text": [
      "Sentence before vectorization: \n",
      " some @ patients ( @ colorectal resections and @ oesophagogastric resections ) were enrolled in the study ; @ patients were randomized to the restricted regimen and @ to the control ( liberal ) regimen .\n",
      "\n",
      "Sentence after vectorization (before embedding): \n",
      " [[  584    12  1264  7993     3 12496  7993     9   230     5     2    17\n",
      "     12     9    29     6     2  3026   576     3     6     2    35  6084\n",
      "    576     0     0     0     0     0     0     0     0     0     0     0\n",
      "      0     0     0     0     0     0     0     0     0     0     0     0\n",
      "      0     0     0     0     0     0     0]]\n",
      "\n",
      "Sentence After Embedding: \n",
      " [[[-0.02232095 -0.0266737   0.03590759 ... -0.01200115 -0.01435008\n",
      "   -0.02339635]\n",
      "  [ 0.00711314 -0.02042933 -0.00904874 ... -0.04640546 -0.03075974\n",
      "   -0.0451527 ]\n",
      "  [-0.03445554  0.03833851  0.03085205 ... -0.00421218  0.0403224\n",
      "   -0.04308284]\n",
      "  ...\n",
      "  [-0.03363948 -0.04586584  0.03195537 ... -0.04467024  0.00676165\n",
      "   -0.00082598]\n",
      "  [-0.03363948 -0.04586584  0.03195537 ... -0.04467024  0.00676165\n",
      "   -0.00082598]\n",
      "  [-0.03363948 -0.04586584  0.03195537 ... -0.04467024  0.00676165\n",
      "   -0.00082598]]]\n",
      "\n",
      "Embedded Sentence Shape: (1, 55, 128)\n"
     ]
    }
   ],
   "source": [
    "# Show an example Embedding\n",
    "print(f\"Sentence before vectorization: \\n {target_sentence}\\n\")\n",
    "vectorized_sentence = text_vectorizer([target_sentence])\n",
    "\n",
    "print(f\"Sentence after vectorization (before embedding): \\n {vectorized_sentence}\\n\")\n",
    "embedded_sentence = token_embed(vectorized_sentence)\n",
    "print(f\"Sentence After Embedding: \\n {embedded_sentence}\\n\")\n",
    "print(f\"Embedded Sentence Shape: {embedded_sentence.shape}\")"
   ]
  },
  {
   "cell_type": "markdown",
   "id": "cd855208",
   "metadata": {},
   "source": [
    "# Create Datasets (as fast as possible)"
   ]
  },
  {
   "cell_type": "markdown",
   "id": "7d97b428",
   "metadata": {},
   "source": [
    "We've gone through all the trouble of preprocessing our datasets to be used with a machine learning model, however, there are still a few steps we can use to make them work faster with our models.\n",
    "\n",
    "Namely, the tf.data API provides methods which enable faster data loading.\n",
    "\n",
    "The main steps we'll want to use with our data is to turn it into a PrefetchDataset of batches.\n",
    "\n",
    "Doing so we'll ensure TensorFlow loads our data onto the GPU as fast as possible, in turn leading to faster training time.\n",
    "\n",
    "To create a batched PrefetchDataset we can use the methods batch() and prefetch(), the parameter tf.data.AUTOTUNE will also allow TensorFlow to determine the optimal amount of compute to use to prepare datasets."
   ]
  },
  {
   "cell_type": "code",
   "execution_count": 42,
   "id": "0cda065a",
   "metadata": {},
   "outputs": [
    {
     "data": {
      "text/plain": [
       "(<TensorSliceDataset shapes: ((), (5,)), types: (tf.string, tf.float64)>,\n",
       " <TensorSliceDataset shapes: ((), (5,)), types: (tf.string, tf.float64)>,\n",
       " <TensorSliceDataset shapes: ((), (5,)), types: (tf.string, tf.float64)>)"
      ]
     },
     "execution_count": 42,
     "metadata": {},
     "output_type": "execute_result"
    }
   ],
   "source": [
    "# Turn our Data into Tensorflow Datasets\n",
    "train_dataset = tf.data.Dataset.from_tensor_slices((train_sentences, train_labels_one_hot))\n",
    "valid_dataset = tf.data.Dataset.from_tensor_slices((val_sentences, val_labels_one_hot))\n",
    "test_dataset = tf.data.Dataset.from_tensor_slices((test_sentences, test_labels_one_hot))\n",
    "\n",
    "train_dataset, valid_dataset, test_dataset"
   ]
  },
  {
   "cell_type": "code",
   "execution_count": 43,
   "id": "65789557",
   "metadata": {},
   "outputs": [
    {
     "data": {
      "text/plain": [
       "(<PrefetchDataset shapes: ((None,), (None, 5)), types: (tf.string, tf.float64)>,\n",
       " <PrefetchDataset shapes: ((None,), (None, 5)), types: (tf.string, tf.float64)>,\n",
       " <PrefetchDataset shapes: ((None,), (None, 5)), types: (tf.string, tf.float64)>)"
      ]
     },
     "execution_count": 43,
     "metadata": {},
     "output_type": "execute_result"
    }
   ],
   "source": [
    "# Take the TensorSliced Datasets and Turn them into Prefetched Datasets\n",
    "train_dataset = train_dataset.batch(32).prefetch(tf.data.AUTOTUNE)\n",
    "valid_dataset = valid_dataset.batch(32).prefetch(tf.data.AUTOTUNE)\n",
    "test_dataset = test_dataset.batch(32).prefetch(tf.data.AUTOTUNE)\n",
    "\n",
    "train_dataset, valid_dataset, test_dataset"
   ]
  },
  {
   "cell_type": "code",
   "execution_count": null,
   "id": "8426c16f",
   "metadata": {},
   "outputs": [],
   "source": []
  },
  {
   "cell_type": "markdown",
   "id": "e375e4ca",
   "metadata": {},
   "source": [
    "# Model 1: Conv1D with token embeddings"
   ]
  },
  {
   "cell_type": "markdown",
   "id": "a87f8066",
   "metadata": {},
   "source": [
    "Alright, we've now got a way to numerically represent our text and labels, time to build a series of deep models to try and improve upon our baseline.\n",
    "\n",
    "All of our deep models will follow a similar structure:\n",
    "\n",
    "Input (text) -> Tokenize -> Embedding -> Layers -> Output (label probability)\n",
    "\n",
    "The main component we'll be changing throughout is the Layers component. Because any modern deep NLP model requires text to be converted into an embedding before meaningful patterns can be discovered within.\n",
    "\n",
    "The first model we're going to build is a 1-dimensional Convolutional Neural Network.\n",
    "\n",
    "We're also going to be following the standard machine learning workflow of:\n",
    "\n",
    "   - Build model\n",
    "   - Train model\n",
    "   - Evaluate model (make predictions and compare to ground truth)\n"
   ]
  },
  {
   "cell_type": "code",
   "execution_count": 44,
   "id": "68590a9c",
   "metadata": {},
   "outputs": [],
   "source": [
    "from tensorflow.keras import layers\n",
    "\n",
    "# Create 1d conv model to process sequences\n",
    "inputs = layers.Input(shape=(1,), dtype=\"string\")\n",
    "text_vectors = text_vectorizer(inputs) # vectorize text inputs\n",
    "token_embeddings = token_embed(text_vectors) # create embedding\n",
    "\n",
    "x = layers.Conv1D(64,\n",
    "                  kernel_size=5,\n",
    "                  padding = \"same\",\n",
    "                  activation=\"relu\")(token_embeddings)\n",
    "x = layers.GlobalAveragePooling1D()(x) # condense the outputs of our feature vector from conv layer\n",
    "outputs = layers.Dense(num_classes, activation=\"softmax\")(x)\n",
    "model_1 = tf.keras.Model(inputs, outputs)\n",
    "\n",
    "# Compile\n",
    "model_1.compile(loss = \"categorical_crossentropy\",\n",
    "               optimizer = tf.keras.optimizers.Adam(),\n",
    "               metrics = [\"accuracy\"])"
   ]
  },
  {
   "cell_type": "code",
   "execution_count": 45,
   "id": "38f9bd52",
   "metadata": {},
   "outputs": [
    {
     "name": "stdout",
     "output_type": "stream",
     "text": [
      "Model: \"model\"\n",
      "_________________________________________________________________\n",
      " Layer (type)                Output Shape              Param #   \n",
      "=================================================================\n",
      " input_1 (InputLayer)        [(None, 1)]               0         \n",
      "                                                                 \n",
      " text_vectorization (TextVec  (None, 55)               0         \n",
      " torization)                                                     \n",
      "                                                                 \n",
      " token_embedding (Embedding)  (None, 55, 128)          8299648   \n",
      "                                                                 \n",
      " conv1d (Conv1D)             (None, 55, 64)            41024     \n",
      "                                                                 \n",
      " global_average_pooling1d (G  (None, 64)               0         \n",
      " lobalAveragePooling1D)                                          \n",
      "                                                                 \n",
      " dense (Dense)               (None, 5)                 325       \n",
      "                                                                 \n",
      "=================================================================\n",
      "Total params: 8,340,997\n",
      "Trainable params: 8,340,997\n",
      "Non-trainable params: 0\n",
      "_________________________________________________________________\n"
     ]
    }
   ],
   "source": [
    "model_1.summary()"
   ]
  },
  {
   "cell_type": "code",
   "execution_count": 46,
   "id": "06bb453b",
   "metadata": {},
   "outputs": [
    {
     "data": {
      "text/plain": [
       "(5627, 180064)"
      ]
     },
     "execution_count": 46,
     "metadata": {},
     "output_type": "execute_result"
    }
   ],
   "source": [
    "len(train_dataset), 5627*32"
   ]
  },
  {
   "cell_type": "markdown",
   "id": "93b00a1c",
   "metadata": {},
   "source": [
    "Checking out the model summary, you'll notice the majority of the trainable parameters are within the embedding layer. If we were to increase the size of the embedding (by increasing the output_dim parameter of the Embedding layer), the number of trainable parameters would increase dramatically.\n",
    "\n",
    "It's time to fit our model to the training data but we're going to make a mindful change.\n",
    "\n",
    "Since our training data contains nearly 200,000 sentences, fitting a deep model may take a while even with a GPU. So to keep our experiments swift, we're going to run them on a subset of the training dataset.\n",
    "\n",
    "More specifically, we'll only use the first 10% of batches (about 18,000 samples) of the training set to train on and the first 10% of batches from the validation set to validate on."
   ]
  },
  {
   "cell_type": "code",
   "execution_count": 47,
   "id": "700b2c66",
   "metadata": {},
   "outputs": [
    {
     "name": "stdout",
     "output_type": "stream",
     "text": [
      "Epoch 1/3\n",
      "562/562 [==============================] - 18s 15ms/step - loss: 0.9054 - accuracy: 0.6432 - val_loss: 0.6876 - val_accuracy: 0.7387\n",
      "Epoch 2/3\n",
      "562/562 [==============================] - 8s 15ms/step - loss: 0.6628 - accuracy: 0.7529 - val_loss: 0.6356 - val_accuracy: 0.7689\n",
      "Epoch 3/3\n",
      "562/562 [==============================] - 8s 14ms/step - loss: 0.6226 - accuracy: 0.7697 - val_loss: 0.5992 - val_accuracy: 0.7846\n"
     ]
    }
   ],
   "source": [
    "# Fit the model\n",
    "history_model_1 = model_1.fit(train_dataset,\n",
    "                             steps_per_epoch = int(0.1*len(train_dataset)),\n",
    "                             epochs = 3,\n",
    "                             validation_data = valid_dataset,\n",
    "                             validation_steps = int(0.1* len(valid_dataset))) # only validate on 10% of data"
   ]
  },
  {
   "cell_type": "code",
   "execution_count": 48,
   "id": "fba1bfa9",
   "metadata": {},
   "outputs": [
    {
     "name": "stdout",
     "output_type": "stream",
     "text": [
      "945/945 [==============================] - 6s 6ms/step - loss: 0.6028 - accuracy: 0.7831\n"
     ]
    },
    {
     "data": {
      "text/plain": [
       "[0.6028105020523071, 0.7830663323402405]"
      ]
     },
     "execution_count": 48,
     "metadata": {},
     "output_type": "execute_result"
    }
   ],
   "source": [
    "# Evaluate the model performance on the whole dataset\n",
    "model_1.evaluate(valid_dataset)"
   ]
  },
  {
   "cell_type": "code",
   "execution_count": 49,
   "id": "90403040",
   "metadata": {},
   "outputs": [
    {
     "data": {
      "text/plain": [
       "(array([[3.91332597e-01, 1.67458832e-01, 1.22985855e-01, 2.82708734e-01,\n",
       "         3.55139412e-02],\n",
       "        [4.82417881e-01, 2.37662911e-01, 1.17992442e-02, 2.62585610e-01,\n",
       "         5.53439651e-03],\n",
       "        [1.61472842e-01, 7.19813909e-03, 1.99214392e-03, 8.29298794e-01,\n",
       "         3.80505626e-05],\n",
       "        ...,\n",
       "        [2.00022896e-06, 6.30265102e-04, 6.36468583e-04, 1.88513343e-06,\n",
       "         9.98729408e-01],\n",
       "        [6.09496161e-02, 4.89033848e-01, 9.26000774e-02, 6.45974800e-02,\n",
       "         2.92818993e-01],\n",
       "        [1.84666127e-01, 6.17708981e-01, 4.87222485e-02, 5.53984754e-02,\n",
       "         9.35041532e-02]], dtype=float32),\n",
       " (30212, 5))"
      ]
     },
     "execution_count": 49,
     "metadata": {},
     "output_type": "execute_result"
    }
   ],
   "source": [
    "# Make Predictions (class probabilities for each line)\n",
    "model_1_pred_probs = model_1.predict(valid_dataset)\n",
    "model_1_pred_probs, model_1_pred_probs.shape"
   ]
  },
  {
   "cell_type": "code",
   "execution_count": 50,
   "id": "27b2054c",
   "metadata": {},
   "outputs": [
    {
     "data": {
      "text/plain": [
       "<tf.Tensor: shape=(30212,), dtype=int64, numpy=array([0, 0, 3, ..., 4, 1, 1], dtype=int64)>"
      ]
     },
     "execution_count": 50,
     "metadata": {},
     "output_type": "execute_result"
    }
   ],
   "source": [
    "# Convert the prediction probabilities to Classes\n",
    "model_1_preds = tf.argmax(model_1_pred_probs, axis=1)\n",
    "model_1_preds"
   ]
  },
  {
   "cell_type": "code",
   "execution_count": 51,
   "id": "b3fb6853",
   "metadata": {},
   "outputs": [
    {
     "data": {
      "text/plain": [
       "{'accuracy': 78.30663312591022,\n",
       " 'precision': 0.7794432269574944,\n",
       " 'recall': 0.7830663312591023,\n",
       " 'f1': 0.7804796827257772}"
      ]
     },
     "execution_count": 51,
     "metadata": {},
     "output_type": "execute_result"
    }
   ],
   "source": [
    "# calculate model_1_results\n",
    "model_1_results = calculate_results(y_true = val_labels_encoded,\n",
    "                                   y_pred = model_1_preds)\n",
    "model_1_results"
   ]
  },
  {
   "cell_type": "code",
   "execution_count": 52,
   "id": "7eee3362",
   "metadata": {},
   "outputs": [
    {
     "data": {
      "text/plain": [
       "{'accuracy': 72.1832384482987,\n",
       " 'precision': 0.7186466952323352,\n",
       " 'recall': 0.7218323844829869,\n",
       " 'f1': 0.6989250353450294}"
      ]
     },
     "execution_count": 52,
     "metadata": {},
     "output_type": "execute_result"
    }
   ],
   "source": [
    "baseline_results"
   ]
  },
  {
   "cell_type": "code",
   "execution_count": null,
   "id": "ec2b3815",
   "metadata": {},
   "outputs": [],
   "source": []
  },
  {
   "cell_type": "markdown",
   "id": "03a00d27",
   "metadata": {},
   "source": [
    "# Model 2: Tensorflow Hub Pretrained Feature Extractor"
   ]
  },
  {
   "cell_type": "markdown",
   "id": "c8d00fb9",
   "metadata": {},
   "source": [
    "Training our own embeddings took a little while to run, slowing our experiments down.\n",
    "\n",
    "Since we're moving towards replicating the model architecture in Neural Networks for Joint Sentence Classification in Medical Paper Abstracts, it mentions they used a pretrained GloVe embedding as a way to initialise their token embeddings.\n",
    "\n",
    "To emulate this, let's see what results we can get with the pretrained Universal Sentence Encoder embeddings from TensorFlow Hub.\n",
    "\n",
    "We could use GloVe embeddings as per the paper but since we're working with TensorFlow, we'll use what's available from TensorFlow Hub (GloVe embeddings aren't). We'll save using pretrained GloVe embeddings as an extension.\n",
    "\n",
    "The model structure will look like:\n",
    "\n",
    "Inputs (string) -> Pretrained embeddings from TensorFlow Hub (Universal Sentence Encoder) -> Layers -> Output (prediction probabilities)\n",
    "\n",
    "You'll notice the lack of tokenization layer we've used in a previous model. This is because the Universal Sentence Encoder (USE) takes care of tokenization for us.\n",
    "\n",
    "This type of model is called transfer learning, or more specifically, feature extraction transfer learning. In other words, taking the patterns a model has learned elsewhere and applying it to our own problem."
   ]
  },
  {
   "cell_type": "code",
   "execution_count": 53,
   "id": "370018f5",
   "metadata": {},
   "outputs": [
    {
     "data": {
      "text/plain": [
       "'C:\\\\Users\\\\anmol\\\\Desktop\\\\TF\\\\Udemy ZTM\\\\10. Streamlit Project'"
      ]
     },
     "execution_count": 53,
     "metadata": {},
     "output_type": "execute_result"
    }
   ],
   "source": [
    "USE_model_path = os.getcwd()\n",
    "USE_model_path"
   ]
  },
  {
   "cell_type": "code",
   "execution_count": 54,
   "id": "8848fa98",
   "metadata": {},
   "outputs": [],
   "source": [
    "# Download Pretrained Tensorflow Hub USE\n",
    "import tensorflow_hub as hub\n",
    "\n",
    "os.environ['TFHUB_CACHE_DIR'] = USE_model_path # we need this step in local environ or it will throw and OSError\n",
    "tf_hub_embedding_layer = hub.KerasLayer(\"https://tfhub.dev/google/universal-sentence-encoder/4\",\n",
    "                                         trainable=False,\n",
    "                                         name=\"universal_sentence_encoder\")"
   ]
  },
  {
   "cell_type": "markdown",
   "id": "5445a4ca",
   "metadata": {},
   "source": [
    "Now our pretrained USE is downloaded and instantiated as a hub.KerasLayer instance, let's test it out on a random sentence."
   ]
  },
  {
   "cell_type": "code",
   "execution_count": 55,
   "id": "23901fba",
   "metadata": {},
   "outputs": [
    {
     "name": "stdout",
     "output_type": "stream",
     "text": [
      "Random Training Sentence:\n",
      "the effect of discrimination on health behaviors remains untested .\n",
      "\n",
      "Sentence after Embedding:\n",
      "[-0.03081647  0.04093629  0.00340908 -0.02042623 -0.01749281  0.02952602\n",
      " -0.02629447 -0.03338951  0.00345713  0.01958073  0.08750419 -0.00139212\n",
      "  0.07354607 -0.00813268 -0.01694399 -0.06834848 -0.09154215  0.0418715\n",
      "  0.01930941  0.0022494   0.00328021  0.06613974 -0.01472412 -0.06775061\n",
      "  0.05249674  0.00687308 -0.01867011  0.06636602  0.02688682  0.07246067] (truncated output)...\n",
      "\n",
      "Length of Sentence Embedding:\n",
      "512\n"
     ]
    }
   ],
   "source": [
    "# Test out our Embedding layer on a random sentence\n",
    "random_training_sentence = random.choice(train_sentences)\n",
    "print(f\"Random Training Sentence:\\n{random_training_sentence}\\n\")\n",
    "use_embedded_sentence = tf_hub_embedding_layer([random_training_sentence])\n",
    "\n",
    "print(f\"Sentence after Embedding:\\n{use_embedded_sentence[0][:30]} (truncated output)...\\n\")\n",
    "print(f\"Length of Sentence Embedding:\\n{len(use_embedded_sentence[0])}\")"
   ]
  },
  {
   "cell_type": "markdown",
   "id": "dc360274",
   "metadata": {},
   "source": [
    "Nice! As we mentioned before the pretrained USE module from TensorFlow Hub takes care of tokenizing our text for us and outputs a 512 dimensional embedding vector.\n",
    "\n",
    "Let's put together and compile a model using our tf_hub_embedding_layer."
   ]
  },
  {
   "cell_type": "markdown",
   "id": "88d3832e",
   "metadata": {},
   "source": [
    "### Building and Fitting an NLP feature extraction Model from Tensorflow Hub"
   ]
  },
  {
   "cell_type": "code",
   "execution_count": 56,
   "id": "5cae9382",
   "metadata": {},
   "outputs": [],
   "source": [
    "# Define feature extractor model using TF Hub Layer\n",
    "inputs = layers.Input(shape=[], dtype=tf.string)\n",
    "pretrained_embedding = tf_hub_embedding_layer(inputs) # tokenize text and create embedding of each sequence (512 long vector)\n",
    "x = layers.Dense(128, activation=\"relu\")(pretrained_embedding) # add a fully connected layer on top of the embedding layer\n",
    "# we can add more layers if we wanted to\n",
    "outputs = layers.Dense(5, activation=\"softmax\")(x) # create the output layer\n",
    "model_2 = tf.keras.Model(inputs =inputs,\n",
    "                        outputs = outputs)\n",
    "\n",
    "# compile the model\n",
    "model_2.compile(loss = \"categorical_crossentropy\",\n",
    "               optimizer = tf.keras.optimizers.Adam(),\n",
    "               metrics = [\"accuracy\"])"
   ]
  },
  {
   "cell_type": "code",
   "execution_count": 57,
   "id": "bc5a57dc",
   "metadata": {},
   "outputs": [
    {
     "name": "stdout",
     "output_type": "stream",
     "text": [
      "Model: \"model_1\"\n",
      "_________________________________________________________________\n",
      " Layer (type)                Output Shape              Param #   \n",
      "=================================================================\n",
      " input_2 (InputLayer)        [(None,)]                 0         \n",
      "                                                                 \n",
      " universal_sentence_encoder   (None, 512)              256797824 \n",
      " (KerasLayer)                                                    \n",
      "                                                                 \n",
      " dense_1 (Dense)             (None, 128)               65664     \n",
      "                                                                 \n",
      " dense_2 (Dense)             (None, 5)                 645       \n",
      "                                                                 \n",
      "=================================================================\n",
      "Total params: 256,864,133\n",
      "Trainable params: 66,309\n",
      "Non-trainable params: 256,797,824\n",
      "_________________________________________________________________\n"
     ]
    }
   ],
   "source": [
    "# Get a summary of the model\n",
    "model_2.summary()"
   ]
  },
  {
   "cell_type": "markdown",
   "id": "1d6d3cf9",
   "metadata": {},
   "source": [
    "\n",
    "\n",
    "Checking the summary of our model we can see there's a large number of total parameters, however, the majority of these are non-trainable. This is because we set training=False when we instatiated our USE feature extractor layer.\n",
    "\n",
    "So when we train our model, only the top two output layers will be trained.\n"
   ]
  },
  {
   "cell_type": "code",
   "execution_count": 58,
   "id": "04a96ae2",
   "metadata": {},
   "outputs": [
    {
     "name": "stdout",
     "output_type": "stream",
     "text": [
      "Epoch 1/3\n",
      "562/562 [==============================] - 17s 28ms/step - loss: 0.9117 - accuracy: 0.6532 - val_loss: 0.7958 - val_accuracy: 0.6885\n",
      "Epoch 2/3\n",
      "562/562 [==============================] - 15s 27ms/step - loss: 0.7676 - accuracy: 0.7018 - val_loss: 0.7530 - val_accuracy: 0.7074\n",
      "Epoch 3/3\n",
      "562/562 [==============================] - 16s 28ms/step - loss: 0.7497 - accuracy: 0.7127 - val_loss: 0.7344 - val_accuracy: 0.7124\n"
     ]
    },
    {
     "data": {
      "text/plain": [
       "<keras.callbacks.History at 0x2640f508d48>"
      ]
     },
     "execution_count": 58,
     "metadata": {},
     "output_type": "execute_result"
    }
   ],
   "source": [
    "# Fit feature extractor model for 3 epochs\n",
    "model_2.fit(train_dataset,\n",
    "            steps_per_epoch=int(0.1 * len(train_dataset)),\n",
    "            epochs=3,\n",
    "            validation_data=valid_dataset,\n",
    "            validation_steps=int(0.1 * len(valid_dataset)))"
   ]
  },
  {
   "cell_type": "code",
   "execution_count": 59,
   "id": "c27e8876",
   "metadata": {},
   "outputs": [
    {
     "name": "stdout",
     "output_type": "stream",
     "text": [
      "945/945 [==============================] - 22s 23ms/step - loss: 0.7380 - accuracy: 0.7143\n"
     ]
    },
    {
     "data": {
      "text/plain": [
       "[0.737966001033783, 0.7142525911331177]"
      ]
     },
     "execution_count": 59,
     "metadata": {},
     "output_type": "execute_result"
    }
   ],
   "source": [
    "model_2.evaluate(valid_dataset)"
   ]
  },
  {
   "cell_type": "code",
   "execution_count": 60,
   "id": "ccb26d98",
   "metadata": {},
   "outputs": [
    {
     "data": {
      "text/plain": [
       "array([[0.43513453, 0.3824327 , 0.00227317, 0.17392766, 0.00623191],\n",
       "       [0.33388597, 0.5168275 , 0.00287113, 0.14396575, 0.00244961],\n",
       "       [0.22936177, 0.11943837, 0.01893151, 0.5961641 , 0.03610417],\n",
       "       ...,\n",
       "       [0.0018522 , 0.00475285, 0.0524514 , 0.00096403, 0.9399795 ],\n",
       "       [0.00388621, 0.04444254, 0.188335  , 0.00154241, 0.76179385],\n",
       "       [0.17746787, 0.23288561, 0.52043414, 0.00906749, 0.06014491]],\n",
       "      dtype=float32)"
      ]
     },
     "execution_count": 60,
     "metadata": {},
     "output_type": "execute_result"
    }
   ],
   "source": [
    "# Make Predictions with Feature Extraction Model\n",
    "model_2_pred_probs = model_2.predict(valid_dataset)\n",
    "model_2_pred_probs"
   ]
  },
  {
   "cell_type": "code",
   "execution_count": 61,
   "id": "b93481b1",
   "metadata": {},
   "outputs": [
    {
     "data": {
      "text/plain": [
       "<tf.Tensor: shape=(30212,), dtype=int64, numpy=array([0, 1, 3, ..., 4, 4, 2], dtype=int64)>"
      ]
     },
     "execution_count": 61,
     "metadata": {},
     "output_type": "execute_result"
    }
   ],
   "source": [
    "# convert prediction probabilities to classes\n",
    "model_2_preds = tf.argmax(model_2_pred_probs, axis=1)\n",
    "model_2_preds"
   ]
  },
  {
   "cell_type": "code",
   "execution_count": 62,
   "id": "bcf4794c",
   "metadata": {},
   "outputs": [
    {
     "data": {
      "text/plain": [
       "{'accuracy': 71.42526148550245,\n",
       " 'precision': 0.7141725634529341,\n",
       " 'recall': 0.7142526148550244,\n",
       " 'f1': 0.7112768558436364}"
      ]
     },
     "execution_count": 62,
     "metadata": {},
     "output_type": "execute_result"
    }
   ],
   "source": [
    "# Calculate results from TF Hub pretrained embeddings results on Val set\n",
    "model_2_results = calculate_results(y_true = val_labels_encoded,\n",
    "                                   y_pred = model_2_preds)\n",
    "model_2_results"
   ]
  },
  {
   "cell_type": "code",
   "execution_count": 63,
   "id": "91842fd6",
   "metadata": {},
   "outputs": [
    {
     "name": "stdout",
     "output_type": "stream",
     "text": [
      "{'accuracy': 72.1832384482987, 'precision': 0.7186466952323352, 'recall': 0.7218323844829869, 'f1': 0.6989250353450294}\n",
      "\n",
      "\n",
      "{'accuracy': 78.30663312591022, 'precision': 0.7794432269574944, 'recall': 0.7830663312591023, 'f1': 0.7804796827257772}\n"
     ]
    }
   ],
   "source": [
    "print(baseline_results)\n",
    "print('\\n')\n",
    "print(model_1_results)"
   ]
  },
  {
   "cell_type": "code",
   "execution_count": null,
   "id": "8b9878cd",
   "metadata": {},
   "outputs": [],
   "source": []
  },
  {
   "cell_type": "code",
   "execution_count": null,
   "id": "9216b29b",
   "metadata": {},
   "outputs": [],
   "source": []
  },
  {
   "cell_type": "markdown",
   "id": "f35ec967",
   "metadata": {},
   "source": [
    "# Model 3: Conv1D with Character Embeddings"
   ]
  },
  {
   "cell_type": "markdown",
   "id": "cc72dee9",
   "metadata": {},
   "source": [
    "### Creating a CHARACTER-LEVEL TOKENIZER"
   ]
  },
  {
   "cell_type": "markdown",
   "id": "46bf3050",
   "metadata": {},
   "source": [
    "The Neural Networks for Joint Sentence Classification in Medical Paper Abstracts paper mentions their model uses a hybrid of token and character embeddings.\n",
    "\n",
    "We've built models with a custom token embedding and a pretrained token embedding, how about we build one using a character embedding?\n",
    "\n",
    "The difference between a character and token embedding is that the character embedding is created using sequences split into characters (e.g. hello -> [h, e, l, l, o]) where as a token embedding is created on sequences split into tokens.\n",
    "\n",
    "Token level embeddings split sequences into tokens (words) and embeddings each of them, character embeddings split sequences into characters and creates a feature vector for each.\n",
    "\n",
    "We can create a character-level embedding by first vectorizing our sequences (after they've been split into characters) using the TextVectorization class and then passing those vectorized sequences through an Embedding layer.\n",
    "\n",
    "Before we can vectorize our sequences on a character-level we'll need to split them into characters. Let's write a function to do so."
   ]
  },
  {
   "cell_type": "code",
   "execution_count": 64,
   "id": "48dd1ae0",
   "metadata": {},
   "outputs": [
    {
     "data": {
      "text/plain": [
       "'some @ patients ( @ colorectal resections and @ oesophagogastric resections ) were enrolled in the study ; @ patients were randomized to the restricted regimen and @ to the control ( liberal ) regimen .'"
      ]
     },
     "execution_count": 64,
     "metadata": {},
     "output_type": "execute_result"
    }
   ],
   "source": [
    "target_sentence"
   ]
  },
  {
   "cell_type": "code",
   "execution_count": 65,
   "id": "a50d84cb",
   "metadata": {},
   "outputs": [
    {
     "data": {
      "text/plain": [
       "'s o m e   @   p a t i e n t s   (   @   c o l o r e c t a l   r e s e c t i o n s   a n d   @   o e s o p h a g o g a s t r i c   r e s e c t i o n s   )   w e r e   e n r o l l e d   i n   t h e   s t u d y   ;   @   p a t i e n t s   w e r e   r a n d o m i z e d   t o   t h e   r e s t r i c t e d   r e g i m e n   a n d   @   t o   t h e   c o n t r o l   (   l i b e r a l   )   r e g i m e n   .'"
      ]
     },
     "execution_count": 65,
     "metadata": {},
     "output_type": "execute_result"
    }
   ],
   "source": [
    "# make a fucntion to split sentences into characters\n",
    "def split_chars(text):\n",
    "    return \" \".join(list(text))\n",
    "\n",
    "# test splitting non-character-level sequence into character\n",
    "split_chars(target_sentence)"
   ]
  },
  {
   "cell_type": "code",
   "execution_count": 66,
   "id": "16077f64",
   "metadata": {},
   "outputs": [],
   "source": [
    "# list(train_sentences[0])\n",
    "# \" \".join(list(train_sentences[0]))"
   ]
  },
  {
   "cell_type": "code",
   "execution_count": 67,
   "id": "ccb7a536",
   "metadata": {},
   "outputs": [
    {
     "data": {
      "text/plain": [
       "['t o   i n v e s t i g a t e   t h e   e f f i c a c y   o f   @   w e e k s   o f   d a i l y   l o w - d o s e   o r a l   p r e d n i s o l o n e   i n   i m p r o v i n g   p a i n   ,   m o b i l i t y   ,   a n d   s y s t e m i c   l o w - g r a d e   i n f l a m m a t i o n   i n   t h e   s h o r t   t e r m   a n d   w h e t h e r   t h e   e f f e c t   w o u l d   b e   s u s t a i n e d   a t   @   w e e k s   i n   o l d e r   a d u l t s   w i t h   m o d e r a t e   t o   s e v e r e   k n e e   o s t e o a r t h r i t i s   (   o a   )   .',\n",
       " 'a   t o t a l   o f   @   p a t i e n t s   w i t h   p r i m a r y   k n e e   o a   w e r e   r a n d o m i z e d   @ : @   ;   @   r e c e i v e d   @   m g / d a y   o f   p r e d n i s o l o n e   a n d   @   r e c e i v e d   p l a c e b o   f o r   @   w e e k s   .',\n",
       " 'o u t c o m e   m e a s u r e s   i n c l u d e d   p a i n   r e d u c t i o n   a n d   i m p r o v e m e n t   i n   f u n c t i o n   s c o r e s   a n d   s y s t e m i c   i n f l a m m a t i o n   m a r k e r s   .']"
      ]
     },
     "execution_count": 67,
     "metadata": {},
     "output_type": "execute_result"
    }
   ],
   "source": [
    "# Split sequence level data splits into character level data splits\n",
    "train_chars = [split_chars(sentence) for sentence in train_sentences]\n",
    "val_chars = [split_chars(sentence) for sentence in val_sentences]\n",
    "test_chars = [split_chars(sentence) for sentence in test_sentences]\n",
    "\n",
    "train_chars[:3]"
   ]
  },
  {
   "cell_type": "code",
   "execution_count": 68,
   "id": "cf2e642a",
   "metadata": {},
   "outputs": [
    {
     "data": {
      "text/plain": [
       "149.3662574983337"
      ]
     },
     "execution_count": 68,
     "metadata": {},
     "output_type": "execute_result"
    }
   ],
   "source": [
    "# Whats the average character length??\n",
    "char_lens = [len(sentence) for sentence in train_sentences]\n",
    "\n",
    "mean_char_lens = np.mean(char_lens)\n",
    "mean_char_lens"
   ]
  },
  {
   "cell_type": "code",
   "execution_count": 69,
   "id": "027600e5",
   "metadata": {},
   "outputs": [
    {
     "data": {
      "text/plain": [
       "(array([1.41175e+05, 3.71110e+04, 1.60000e+03, 1.27000e+02, 2.10000e+01,\n",
       "        5.00000e+00, 1.00000e+00]),\n",
       " array([1.00000000e+00, 1.98857143e+02, 3.96714286e+02, 5.94571429e+02,\n",
       "        7.92428571e+02, 9.90285714e+02, 1.18814286e+03, 1.38600000e+03]),\n",
       " <BarContainer object of 7 artists>)"
      ]
     },
     "execution_count": 69,
     "metadata": {},
     "output_type": "execute_result"
    },
    {
     "data": {
      "image/png": "[encoded data removed]",
      "text/plain": [
       "<Figure size 432x288 with 1 Axes>"
      ]
     },
     "metadata": {
      "needs_background": "light"
     },
     "output_type": "display_data"
    }
   ],
   "source": [
    "# Check the distribution of our sequences at a character-level\n",
    "plt.hist(char_lens, bins=7)"
   ]
  },
  {
   "cell_type": "code",
   "execution_count": 70,
   "id": "daa7d808",
   "metadata": {},
   "outputs": [
    {
     "data": {
      "text/plain": [
       "290"
      ]
     },
     "execution_count": 70,
     "metadata": {},
     "output_type": "execute_result"
    }
   ],
   "source": [
    "# Find what character length covers 95% of sequences\n",
    "output_seq_char_len = int(np.percentile(char_lens, 95))\n",
    "output_seq_char_len"
   ]
  },
  {
   "cell_type": "markdown",
   "id": "996db1e4",
   "metadata": {},
   "source": [
    "Wonderful, now we know the sequence length which covers 95% of sequences, we'll use that in our TextVectorization layer as the output_sequence_length parameter.\n",
    "\n",
    "We'll set **max_tokens (the total number of different characters in our sequences) to 28**, in other words, 26 letters of the alphabet + space + OOV (out of vocabulary or unknown) tokens."
   ]
  },
  {
   "cell_type": "code",
   "execution_count": 71,
   "id": "4cd22d6e",
   "metadata": {},
   "outputs": [
    {
     "data": {
      "text/plain": [
       "'abcdefghijklmnopqrstuvwxyz0123456789!\"#$%&\\'()*+,-./:;<=>?@[\\\\]^_`{|}~'"
      ]
     },
     "execution_count": 71,
     "metadata": {},
     "output_type": "execute_result"
    }
   ],
   "source": [
    "# Get all keyboard characters\n",
    "import string\n",
    "\n",
    "alphabet = string.ascii_lowercase + string.digits + string.punctuation\n",
    "alphabet"
   ]
  },
  {
   "cell_type": "code",
   "execution_count": 72,
   "id": "869e03c4",
   "metadata": {},
   "outputs": [],
   "source": [
    "# Create char-level token vectorizer instance\n",
    "NUM_CHAR_TOKENS = len(alphabet) + 2 # add 2 for space and OOV token (OOV = out of vocabulary, '[UNK]')\n",
    "\n",
    "char_vectorizer = TextVectorization(max_tokens = NUM_CHAR_TOKENS,\n",
    "                                   output_sequence_length = output_seq_char_len,\n",
    "                                   # standardization # set standardization to None we want to leave the punctuations intact  \n",
    "                                   name = \"char_vectorizer\")"
   ]
  },
  {
   "cell_type": "code",
   "execution_count": 73,
   "id": "87741dd5",
   "metadata": {},
   "outputs": [],
   "source": [
    "# Adapt Character vectorizer to Training characters\n",
    "char_vectorizer.adapt(train_chars)"
   ]
  },
  {
   "cell_type": "markdown",
   "id": "689a5b4a",
   "metadata": {},
   "source": [
    "Now we've adapted our char_vectorizer to our character-level sequences, let's check out some characteristics about it using the get_vocabulary() method."
   ]
  },
  {
   "cell_type": "code",
   "execution_count": 74,
   "id": "b7e43638",
   "metadata": {},
   "outputs": [
    {
     "name": "stdout",
     "output_type": "stream",
     "text": [
      "The number of different characters in character vocab: 28\n",
      "The 5 most common characters: ['', '[UNK]', 'e', 't', 'i']\n",
      "The 5 least common characters: ['k', 'x', 'z', 'q', 'j']\n"
     ]
    }
   ],
   "source": [
    "# Check character Vocab Stats\n",
    "char_vocab = char_vectorizer.get_vocabulary()\n",
    "\n",
    "print(f\"The number of different characters in character vocab: {len(char_vocab)}\")\n",
    "print(f\"The 5 most common characters: {char_vocab[:5]}\")\n",
    "print(f\"The 5 least common characters: {char_vocab[-5:]}\")"
   ]
  },
  {
   "cell_type": "markdown",
   "id": "f4b6b557",
   "metadata": {},
   "source": [
    "we should not that the number of different characters in the vocab is only 28. This is due to the fact that we did not define the **standardize paramter in out text vectorizer** and it took the **predefined value of that parameter as \"lower_and_strip_punctuation\"**. If we defined standardiztion to None, we would get 57 different characters in the character vocabulary."
   ]
  },
  {
   "cell_type": "code",
   "execution_count": 75,
   "id": "dfe32de2",
   "metadata": {},
   "outputs": [
    {
     "name": "stdout",
     "output_type": "stream",
     "text": [
      "Charified text: \n",
      " k n o w l e d g e   o f   t h e   h e a l t h   r i s k s   r e s u l t i n g   f r o m   t h e   l i f e s t y l e   c a n   b e   a   d e c i s i v e   f a c t o r   f o r   t h e   i m p l e m e n t a t i o n   o f   h e a l t h   b e h a v i o u r   .\n",
      "\n",
      " Length of random_train_chars: 108\n",
      "\n",
      " Vectorized chars: \n",
      " [[23  6  7 20 12  2 10 18  2  7 17  3 13  2 13  2  5 12  3 13  8  4  9 23\n",
      "   9  8  2  9 16 12  3  4  6 18 17  8  7 15  3 13  2 12  4 17  2  9  3 19\n",
      "  12  2 11  5  6 22  2  5 10  2 11  4  9  4 21  2 17  5 11  3  7  8 17  7\n",
      "   8  3 13  2  4 15 14 12  2 15  2  6  3  5  3  4  7  6  7 17 13  2  5 12\n",
      "   3 13 22  2 13  5 21  4  7 16  8  0  0  0  0  0  0  0  0  0  0  0  0  0\n",
      "   0  0  0  0  0  0  0  0  0  0  0  0  0  0  0  0  0  0  0  0  0  0  0  0\n",
      "   0  0  0  0  0  0  0  0  0  0  0  0  0  0  0  0  0  0  0  0  0  0  0  0\n",
      "   0  0  0  0  0  0  0  0  0  0  0  0  0  0  0  0  0  0  0  0  0  0  0  0\n",
      "   0  0  0  0  0  0  0  0  0  0  0  0  0  0  0  0  0  0  0  0  0  0  0  0\n",
      "   0  0  0  0  0  0  0  0  0  0  0  0  0  0  0  0  0  0  0  0  0  0  0  0\n",
      "   0  0  0  0  0  0  0  0  0  0  0  0  0  0  0  0  0  0  0  0  0  0  0  0\n",
      "   0  0  0  0  0  0  0  0  0  0  0  0  0  0  0  0  0  0  0  0  0  0  0  0\n",
      "   0  0]]\n",
      "\n",
      " Length of Vectorized chars: 290\n"
     ]
    }
   ],
   "source": [
    "# Test out character vectorizer\n",
    "random_train_chars = random.choice(train_chars)\n",
    "print(f\"Charified text: \\n {random_train_chars}\")\n",
    "print(f\"\\n Length of random_train_chars: {len(random_train_chars.split())}\")\n",
    "vectorized_chars = char_vectorizer([random_train_chars])\n",
    "print(f\"\\n Vectorized chars: \\n {vectorized_chars}\")\n",
    "print(f\"\\n Length of Vectorized chars: {len(vectorized_chars[0])}\")"
   ]
  },
  {
   "cell_type": "markdown",
   "id": "b5a388a1",
   "metadata": {},
   "source": [
    "### Creating Character level Embedding"
   ]
  },
  {
   "cell_type": "markdown",
   "id": "420cc18b",
   "metadata": {},
   "source": [
    "We've got a way to vectorize our character-level sequences, now's time to create a character-level embedding.\n",
    "\n",
    "Just like our custom token embedding, we can do so using the tensorflow.keras.layers.Embedding class.\n",
    "\n",
    "Our character-level embedding layer requires an input dimension and output dimension.\n",
    "\n",
    "The input dimension (input_dim) will be equal to the number of different characters in our char_vocab (28). And since we're following the structure of the model in Figure 1 of Neural Networks for Joint Sentence Classification in Medical Paper Abstracts, the output dimension of the character embedding (output_dim) will be 25."
   ]
  },
  {
   "cell_type": "code",
   "execution_count": 76,
   "id": "1b78359f",
   "metadata": {},
   "outputs": [],
   "source": [
    "# create char level embedding layer\n",
    "char_embed = layers.Embedding(input_dim = len(char_vocab), # number of different characters\n",
    "                             output_dim = 25, # this is the size of the char embedding in the paper\n",
    "                             mask_zero = False,\n",
    "                             name = 'char_level_embedding')"
   ]
  },
  {
   "cell_type": "code",
   "execution_count": 77,
   "id": "49b0d753",
   "metadata": {},
   "outputs": [
    {
     "name": "stdout",
     "output_type": "stream",
     "text": [
      "Charified text (before vectorization and embedding):\n",
      "k n o w l e d g e   o f   t h e   h e a l t h   r i s k s   r e s u l t i n g   f r o m   t h e   l i f e s t y l e   c a n   b e   a   d e c i s i v e   f a c t o r   f o r   t h e   i m p l e m e n t a t i o n   o f   h e a l t h   b e h a v i o u r   .\n",
      "\n",
      "Embedded chars (after vectorization and embedding):\n",
      "[[[-0.02972445 -0.04431931 -0.04921539 ...  0.00472132 -0.02338445\n",
      "    0.03214229]\n",
      "  [-0.0236127   0.01857271  0.04343564 ...  0.0259049  -0.00787624\n",
      "    0.02205438]\n",
      "  [ 0.02320838  0.03124538  0.02752415 ...  0.03286593 -0.01313437\n",
      "    0.00490538]\n",
      "  ...\n",
      "  [-0.0065372   0.0125866   0.0378632  ... -0.03569172 -0.00947137\n",
      "    0.02411656]\n",
      "  [-0.0065372   0.0125866   0.0378632  ... -0.03569172 -0.00947137\n",
      "    0.02411656]\n",
      "  [-0.0065372   0.0125866   0.0378632  ... -0.03569172 -0.00947137\n",
      "    0.02411656]]]\n",
      "\n",
      "Character embedding shape: (1, 290, 25)\n"
     ]
    }
   ],
   "source": [
    "# Test out character embedding layer\n",
    "print(f\"Charified text (before vectorization and embedding):\\n{random_train_chars}\\n\")\n",
    "char_embed_example = char_embed(char_vectorizer([random_train_chars]))\n",
    "print(f\"Embedded chars (after vectorization and embedding):\\n{char_embed_example}\\n\")\n",
    "print(f\"Character embedding shape: {char_embed_example.shape}\")"
   ]
  },
  {
   "cell_type": "markdown",
   "id": "080ef70e",
   "metadata": {},
   "source": [
    "The (1,290,25) represents: 1 means we are passing 1 sequence. 290 means the each line get padded to 290 characters and 25 means each of those 290 characters get turned into a feature vector of dimension 25.\n",
    "\n",
    "Wonderful! Each of the characters in our sequences gets turned into a 25 dimension embedding."
   ]
  },
  {
   "cell_type": "markdown",
   "id": "2abba089",
   "metadata": {},
   "source": [
    "### Building Conv1D model to fit on the character level embedding"
   ]
  },
  {
   "cell_type": "markdown",
   "id": "cfc67057",
   "metadata": {},
   "source": [
    "Now we've got a way to turn our character-level sequences into numbers (char_vectorizer) as well as numerically represent them as an embedding (char_embed) let's test how effective they are at encoding the information in our sequences by creating a character-level sequence model.\n",
    "\n",
    "The model will have the same structure as our custom token embedding model (model_1) except it'll take character-level sequences as input instead of token-level sequences.\n",
    "\n",
    "Input (character-level text) -> Tokenize -> Embedding -> Layers (Conv1D, GlobalMaxPool1D) -> Output (label probability)"
   ]
  },
  {
   "cell_type": "code",
   "execution_count": 78,
   "id": "f3d5a96e",
   "metadata": {},
   "outputs": [],
   "source": [
    "# Make Conv1d on chars only\n",
    "inputs = layers.Input(shape=(1,), dtype=\"string\")\n",
    "char_vectors = char_vectorizer(inputs)\n",
    "char_embeddings = char_embed(char_vectors)\n",
    "\n",
    "x = layers.Conv1D(64,\n",
    "                  kernel_size=5,\n",
    "                  padding=\"same\",\n",
    "                  activation=\"relu\")(char_embeddings)\n",
    "\n",
    "x = layers.GlobalMaxPool1D()(x)\n",
    "\n",
    "outputs = layers.Dense(num_classes, activation=\"softmax\")(x)\n",
    "\n",
    "model_3 = tf.keras.Model(inputs = inputs,\n",
    "                        outputs = outputs,\n",
    "                        name = \"model_3_conv1D_char_embeddins\")\n",
    "\n",
    "# compile the model\n",
    "model_3.compile(loss = \"categorical_crossentropy\",\n",
    "               optimizer = tf.keras.optimizers.Adam(),\n",
    "               metrics = [\"accuracy\"])"
   ]
  },
  {
   "cell_type": "code",
   "execution_count": 79,
   "id": "18245687",
   "metadata": {},
   "outputs": [
    {
     "name": "stdout",
     "output_type": "stream",
     "text": [
      "Model: \"model_3_conv1D_char_embeddins\"\n",
      "_________________________________________________________________\n",
      " Layer (type)                Output Shape              Param #   \n",
      "=================================================================\n",
      " input_3 (InputLayer)        [(None, 1)]               0         \n",
      "                                                                 \n",
      " char_vectorizer (TextVector  (None, 290)              0         \n",
      " ization)                                                        \n",
      "                                                                 \n",
      " char_level_embedding (Embed  (None, 290, 25)          700       \n",
      " ding)                                                           \n",
      "                                                                 \n",
      " conv1d_1 (Conv1D)           (None, 290, 64)           8064      \n",
      "                                                                 \n",
      " global_max_pooling1d (Globa  (None, 64)               0         \n",
      " lMaxPooling1D)                                                  \n",
      "                                                                 \n",
      " dense_3 (Dense)             (None, 5)                 325       \n",
      "                                                                 \n",
      "=================================================================\n",
      "Total params: 9,089\n",
      "Trainable params: 9,089\n",
      "Non-trainable params: 0\n",
      "_________________________________________________________________\n"
     ]
    }
   ],
   "source": [
    "# check the model summary\n",
    "model_3.summary()"
   ]
  },
  {
   "cell_type": "markdown",
   "id": "c92ec993",
   "metadata": {},
   "source": [
    "#### Create Char Datasets\n",
    "we need to do this so that the data loads faster into the model"
   ]
  },
  {
   "cell_type": "code",
   "execution_count": 80,
   "id": "0a7639c2",
   "metadata": {},
   "outputs": [
    {
     "data": {
      "text/plain": [
       "<PrefetchDataset shapes: ((None,), (None, 5)), types: (tf.string, tf.float64)>"
      ]
     },
     "execution_count": 80,
     "metadata": {},
     "output_type": "execute_result"
    }
   ],
   "source": [
    "train_char_dataset = tf.data.Dataset.from_tensor_slices((train_chars,\n",
    "                                                         train_labels_one_hot)).batch(32).prefetch(tf.data.AUTOTUNE)\n",
    "val_char_dataset = tf.data.Dataset.from_tensor_slices((val_chars, val_labels_one_hot)).batch(32).prefetch(tf.data.AUTOTUNE)\n",
    "\n",
    "\n",
    "# Create chat level datasets\n",
    "train_char_dataset = tf.data.Dataset.from_tensor_slices((train_chars, train_labels_one_hot)).batch(32).prefetch(tf.data.AUTOTUNE)\n",
    "val_char_dataset = tf.data.Dataset.from_tensor_slices((val_chars, val_labels_one_hot)).batch(32).prefetch(tf.data.AUTOTUNE)\n",
    "test_char_dataset = tf.data.Dataset.from_tensor_slices((test_chars, test_labels_one_hot)).batch(32).prefetch(tf.data.AUTOTUNE)\n",
    "\n",
    "train_char_dataset"
   ]
  },
  {
   "cell_type": "markdown",
   "id": "d327fc45",
   "metadata": {},
   "source": [
    "### Fit the Model on Chars only"
   ]
  },
  {
   "cell_type": "code",
   "execution_count": 81,
   "id": "3c703927",
   "metadata": {},
   "outputs": [
    {
     "name": "stdout",
     "output_type": "stream",
     "text": [
      "Epoch 1/3\n",
      "562/562 [==============================] - 6s 9ms/step - loss: 1.2786 - accuracy: 0.4770 - val_loss: 1.0412 - val_accuracy: 0.5924\n",
      "Epoch 2/3\n",
      "562/562 [==============================] - 5s 9ms/step - loss: 1.0067 - accuracy: 0.5993 - val_loss: 0.9395 - val_accuracy: 0.6316\n",
      "Epoch 3/3\n",
      "562/562 [==============================] - 5s 9ms/step - loss: 0.9272 - accuracy: 0.6381 - val_loss: 0.8668 - val_accuracy: 0.6695\n"
     ]
    }
   ],
   "source": [
    "model_3_history = model_3.fit(train_char_dataset,\n",
    "                             steps_per_epoch = int(0.1*len(train_char_dataset)),\n",
    "                             epochs = 3,\n",
    "                             validation_data = val_char_dataset,\n",
    "                             validation_steps = int(0.1*len(val_char_dataset)))"
   ]
  },
  {
   "cell_type": "code",
   "execution_count": 82,
   "id": "78e3923a",
   "metadata": {},
   "outputs": [
    {
     "name": "stdout",
     "output_type": "stream",
     "text": [
      "945/945 [==============================] - 6s 6ms/step - loss: 0.8860 - accuracy: 0.6561\n"
     ]
    },
    {
     "data": {
      "text/plain": [
       "[0.8860025405883789, 0.6560969352722168]"
      ]
     },
     "execution_count": 82,
     "metadata": {},
     "output_type": "execute_result"
    }
   ],
   "source": [
    "# Evaluate the model on the complete dataset\n",
    "model_3.evaluate(val_char_dataset)"
   ]
  },
  {
   "cell_type": "code",
   "execution_count": 83,
   "id": "87379f0d",
   "metadata": {},
   "outputs": [
    {
     "data": {
      "text/plain": [
       "array([[0.19197772, 0.3825256 , 0.06708797, 0.29145238, 0.06695638],\n",
       "       [0.23854983, 0.28545627, 0.03962074, 0.34234232, 0.09403089],\n",
       "       [0.14074183, 0.42982948, 0.0965666 , 0.24047549, 0.09238666],\n",
       "       ...,\n",
       "       [0.01318915, 0.04437422, 0.38261807, 0.04267447, 0.5171441 ],\n",
       "       [0.06965525, 0.24397565, 0.2310723 , 0.05889378, 0.39640304],\n",
       "       [0.5245124 , 0.26303473, 0.08586539, 0.11167011, 0.01491736]],\n",
       "      dtype=float32)"
      ]
     },
     "execution_count": 83,
     "metadata": {},
     "output_type": "execute_result"
    }
   ],
   "source": [
    "# Make predictions with character model only\n",
    "model_3_pred_probs = model_3.predict(val_char_dataset)\n",
    "model_3_pred_probs"
   ]
  },
  {
   "cell_type": "code",
   "execution_count": 84,
   "id": "15fdf19e",
   "metadata": {},
   "outputs": [
    {
     "data": {
      "text/plain": [
       "<tf.Tensor: shape=(30212,), dtype=int64, numpy=array([1, 3, 1, ..., 4, 4, 0], dtype=int64)>"
      ]
     },
     "execution_count": 84,
     "metadata": {},
     "output_type": "execute_result"
    }
   ],
   "source": [
    "# convert the prediction probabilities to classes\n",
    "model_3_preds = tf.argmax(model_3_pred_probs, axis=1)\n",
    "model_3_preds"
   ]
  },
  {
   "cell_type": "code",
   "execution_count": 85,
   "id": "1fcaff10",
   "metadata": {},
   "outputs": [
    {
     "data": {
      "text/plain": [
       "{'accuracy': 65.60969151330596,\n",
       " 'precision': 0.6504062939616597,\n",
       " 'recall': 0.6560969151330597,\n",
       " 'f1': 0.6479062786956361}"
      ]
     },
     "execution_count": 85,
     "metadata": {},
     "output_type": "execute_result"
    }
   ],
   "source": [
    "# calculate Conv1d char model results\n",
    "model_3_results = calculate_results(y_true = val_labels_encoded,\n",
    "                                   y_pred = model_3_preds)\n",
    "model_3_results"
   ]
  },
  {
   "cell_type": "code",
   "execution_count": null,
   "id": "e20a9ba2",
   "metadata": {},
   "outputs": [],
   "source": []
  },
  {
   "cell_type": "markdown",
   "id": "43f3d1d6",
   "metadata": {},
   "source": [
    "# Model 4:  Combining pretrained token embeddings + character embeddings (hybrid embedding layer)\n",
    "This hybrid token embedding layer is a combination of token embeddings and character embeddings. In other words, they create a stacked embedding to represent sequences before passing them to the sequence label prediction layer.\n",
    "\n",
    "So far we've built two models which have used token and character-level embeddings, however, these two models have used each of these embeddings exclusively.\n",
    "\n",
    "To start replicating (or getting close to replicating) the model in Figure 1, we're going to go through the following steps:\n",
    "\n",
    "   1. Create a token-level model (similar to model_1)\n",
    "   2. Create a character-level model (similar to model_3 with a slight modification to reflect the paper)\n",
    "   3. Combine (using layers.Concatenate) the outputs of 1 and 2\n",
    "   4. Build a series of output layers on top of 3 similar to Figure 1 and section 4.2 of Neural Networks for Joint Sentence Classification in Medical Paper Abstracts\n",
    "   5. Construct a model which takes token and character-level sequences as input and produces sequence label probabilities as output\n"
   ]
  },
  {
   "cell_type": "code",
   "execution_count": 86,
   "id": "ddb79401",
   "metadata": {},
   "outputs": [],
   "source": [
    "# 1. Setup token inputs/model\n",
    "token_inputs = layers.Input(shape=[], dtype=tf.string, name=\"token_input\")\n",
    "token_embeddings = tf_hub_embedding_layer(token_inputs) # tf_hub layer from model 1\n",
    "token_outputs = layers.Dense(128, activation=\"relu\")(token_embeddings)\n",
    "token_model = tf.keras.Model(inputs = token_inputs,\n",
    "                            outputs = token_outputs)\n",
    "\n",
    "# 2. setup char inputs/model\n",
    "char_inputs = layers.Input(shape=(1,), dtype=tf.string, name=\"char_input\")\n",
    "char_vectors = char_vectorizer(char_inputs)\n",
    "char_embeddings = char_embed(char_vectors) # same from model 3\n",
    "char_bi_lstm = layers.Bidirectional(layers.LSTM(24))(char_embeddings)\n",
    "char_model = tf.keras.Model(inputs = char_inputs,\n",
    "                           outputs = char_bi_lstm)\n",
    "\n",
    "# 3. Concatenate token and char inputs (create hybrid token embedding)\n",
    "token_char_concat = layers.Concatenate(name = \"token_char_hybrid\")([token_model.output,\n",
    "                                                                   char_model.output])\n",
    "\n",
    "# 4. Create output layers - adding in Dropout\n",
    "combined_dropout = layers.Dropout(0.5)(token_char_concat)\n",
    "combined_dense = layers.Dense(128, activation = \"relu\")(combined_dropout)\n",
    "final_dropout = layers.Dropout(0.5)(combined_dense)\n",
    "output_layer = layers.Dense(num_classes, activation=\"softmax\")(final_dropout)\n",
    "\n",
    "# 5. Construct Model with Char and Token inputs\n",
    "model_4 = tf.keras.Model(inputs = [token_model.input, char_model.input],\n",
    "                        outputs = output_layer,\n",
    "                        name = \"model_4_token_and_char_embeddings\")"
   ]
  },
  {
   "cell_type": "code",
   "execution_count": 87,
   "id": "845b701f",
   "metadata": {},
   "outputs": [
    {
     "name": "stdout",
     "output_type": "stream",
     "text": [
      "Model: \"model_4_token_and_char_embeddings\"\n",
      "__________________________________________________________________________________________________\n",
      " Layer (type)                   Output Shape         Param #     Connected to                     \n",
      "==================================================================================================\n",
      " char_input (InputLayer)        [(None, 1)]          0           []                               \n",
      "                                                                                                  \n",
      " token_input (InputLayer)       [(None,)]            0           []                               \n",
      "                                                                                                  \n",
      " char_vectorizer (TextVectoriza  (None, 290)         0           ['char_input[0][0]']             \n",
      " tion)                                                                                            \n",
      "                                                                                                  \n",
      " universal_sentence_encoder (Ke  (None, 512)         256797824   ['token_input[0][0]']            \n",
      " rasLayer)                                                                                        \n",
      "                                                                                                  \n",
      " char_level_embedding (Embeddin  (None, 290, 25)     700         ['char_vectorizer[1][0]']        \n",
      " g)                                                                                               \n",
      "                                                                                                  \n",
      " dense_4 (Dense)                (None, 128)          65664       ['universal_sentence_encoder[1][0\n",
      "                                                                 ]']                              \n",
      "                                                                                                  \n",
      " bidirectional (Bidirectional)  (None, 48)           9600        ['char_level_embedding[1][0]']   \n",
      "                                                                                                  \n",
      " token_char_hybrid (Concatenate  (None, 176)         0           ['dense_4[0][0]',                \n",
      " )                                                                'bidirectional[0][0]']          \n",
      "                                                                                                  \n",
      " dropout (Dropout)              (None, 176)          0           ['token_char_hybrid[0][0]']      \n",
      "                                                                                                  \n",
      " dense_5 (Dense)                (None, 128)          22656       ['dropout[0][0]']                \n",
      "                                                                                                  \n",
      " dropout_1 (Dropout)            (None, 128)          0           ['dense_5[0][0]']                \n",
      "                                                                                                  \n",
      " dense_6 (Dense)                (None, 5)            645         ['dropout_1[0][0]']              \n",
      "                                                                                                  \n",
      "==================================================================================================\n",
      "Total params: 256,897,089\n",
      "Trainable params: 99,265\n",
      "Non-trainable params: 256,797,824\n",
      "__________________________________________________________________________________________________\n"
     ]
    }
   ],
   "source": [
    "# Get the summary of token and character model\n",
    "model_4.summary()"
   ]
  },
  {
   "cell_type": "code",
   "execution_count": 88,
   "id": "531a0799",
   "metadata": {},
   "outputs": [
    {
     "data": {
      "image/png": "[encoded data removed]",
      "text/plain": [
       "<IPython.core.display.Image object>"
      ]
     },
     "execution_count": 88,
     "metadata": {},
     "output_type": "execute_result"
    }
   ],
   "source": [
    "# Plot model_4 structure\n",
    "# from keras.utils import plot_model (this throws an error)\n",
    "\n",
    "from keras.utils.vis_utils import plot_model\n",
    "plot_model(model_4, show_shapes=True)"
   ]
  },
  {
   "cell_type": "code",
   "execution_count": 89,
   "id": "9a8a3429",
   "metadata": {},
   "outputs": [],
   "source": [
    "# Compile token char model\n",
    "model_4.compile(loss = \"categorical_crossentropy\",\n",
    "                optimizer = tf.keras.optimizers.Adam(),\n",
    "                metrics = [\"accuracy\"])"
   ]
  },
  {
   "cell_type": "markdown",
   "id": "452f8e54",
   "metadata": {},
   "source": [
    "And again, to keep our experiments fast, we'll fit our token-character-hybrid model on 10% of training and validate on 10% of validation batches. However, the difference with this model is that it requires two inputs, token-level sequences and character-level sequences.\n",
    "\n",
    "We can do this by create a tf.data.Dataset with a tuple as it's first input, for example:\n",
    "\n",
    "   - ((token_data, char_data), (label))\n"
   ]
  },
  {
   "cell_type": "markdown",
   "id": "0c207200",
   "metadata": {},
   "source": [
    "### Combine token and character data into tf.data.Dataset for faster data loading"
   ]
  },
  {
   "cell_type": "code",
   "execution_count": 90,
   "id": "bb29c6df",
   "metadata": {},
   "outputs": [],
   "source": [
    "# Combine chars and tokens into a dataset\n",
    "train_char_token_data = tf.data.Dataset.from_tensor_slices((train_sentences, train_chars)) # make data (takes in both token level and char level data)\n",
    "train_char_token_labels = tf.data.Dataset.from_tensor_slices(train_labels_one_hot) # make labels\n",
    "train_char_token_dataset = tf.data.Dataset.zip((train_char_token_data, train_char_token_labels)) # combine data and labels\n",
    "\n",
    "# Prefetch and batch train data\n",
    "train_char_token_dataset = train_char_token_dataset.batch(32).prefetch(tf.data.AUTOTUNE)"
   ]
  },
  {
   "cell_type": "code",
   "execution_count": 91,
   "id": "ee5ba8e3",
   "metadata": {},
   "outputs": [],
   "source": [
    "# Repeat the above steps for our Validation Steps\n",
    "val_char_token_data = tf.data.Dataset.from_tensor_slices((val_sentences, val_chars)) # make data (takes in both token level and char level data)\n",
    "val_char_token_labels = tf.data.Dataset.from_tensor_slices(val_labels_one_hot) # make labels\n",
    "val_char_token_dataset = tf.data.Dataset.zip((val_char_token_data, val_char_token_labels)) # combine data and labels\n",
    "val_char_token_dataset = val_char_token_dataset.batch(32).prefetch(tf.data.AUTOTUNE)\n",
    "\n",
    "\n",
    "# Repeat the steps for test data\n",
    "test_char_token_data = tf.data.Dataset.from_tensor_slices((test_sentences, test_chars)) # make data (takes in both token level and char level data)\n",
    "test_char_token_labels = tf.data.Dataset.from_tensor_slices(test_labels_one_hot) # make labels\n",
    "test_char_token_dataset = tf.data.Dataset.zip((test_char_token_data, test_char_token_labels)) # combine data and labels\n",
    "test_char_token_dataset = test_char_token_dataset.batch(32).prefetch(tf.data.AUTOTUNE)"
   ]
  },
  {
   "cell_type": "code",
   "execution_count": 92,
   "id": "2f48b1bc",
   "metadata": {},
   "outputs": [
    {
     "data": {
      "text/plain": [
       "(<PrefetchDataset shapes: (((None,), (None,)), (None, 5)), types: ((tf.string, tf.string), tf.float64)>,\n",
       " <PrefetchDataset shapes: (((None,), (None,)), (None, 5)), types: ((tf.string, tf.string), tf.float64)>)"
      ]
     },
     "execution_count": 92,
     "metadata": {},
     "output_type": "execute_result"
    }
   ],
   "source": [
    "# Check out the training char and token embedding dataset\n",
    "train_char_token_dataset, val_char_token_dataset"
   ]
  },
  {
   "cell_type": "markdown",
   "id": "0e763bbd",
   "metadata": {},
   "source": [
    "**Note:** Note that when we built the model, we set input as (token, chars), so when we build the prefetch dataset, we need to keep in mind the same order. If we didn't do this, the model may send the wrong inputs. "
   ]
  },
  {
   "cell_type": "markdown",
   "id": "35c97e74",
   "metadata": {},
   "source": [
    "### Fitting the model"
   ]
  },
  {
   "cell_type": "code",
   "execution_count": 93,
   "id": "0075500a",
   "metadata": {},
   "outputs": [
    {
     "name": "stdout",
     "output_type": "stream",
     "text": [
      "Epoch 1/3\n",
      "562/562 [==============================] - 33s 51ms/step - loss: 0.9868 - accuracy: 0.6034 - val_loss: 0.7795 - val_accuracy: 0.6958\n",
      "Epoch 2/3\n",
      "562/562 [==============================] - 27s 48ms/step - loss: 0.7992 - accuracy: 0.6904 - val_loss: 0.7212 - val_accuracy: 0.7251\n",
      "Epoch 3/3\n",
      "562/562 [==============================] - 27s 48ms/step - loss: 0.7790 - accuracy: 0.7019 - val_loss: 0.6981 - val_accuracy: 0.7380\n"
     ]
    }
   ],
   "source": [
    "model_4_history = model_4.fit(train_char_token_dataset,\n",
    "                             steps_per_epoch = int(0.1 * len(train_char_token_dataset)),\n",
    "                             validation_data = val_char_token_dataset,\n",
    "                            validation_steps = int(0.1* len(val_char_token_dataset)),\n",
    "                             epochs = 3)"
   ]
  },
  {
   "cell_type": "code",
   "execution_count": 94,
   "id": "734e4d65",
   "metadata": {},
   "outputs": [
    {
     "name": "stdout",
     "output_type": "stream",
     "text": [
      "945/945 [==============================] - 31s 33ms/step - loss: 0.7011 - accuracy: 0.7316\n"
     ]
    },
    {
     "data": {
      "text/plain": [
       "[0.7011496424674988, 0.7316297888755798]"
      ]
     },
     "execution_count": 94,
     "metadata": {},
     "output_type": "execute_result"
    }
   ],
   "source": [
    "# Evaluate on the whole dataset\n",
    "model_4.evaluate(val_char_token_dataset)"
   ]
  },
  {
   "cell_type": "code",
   "execution_count": 95,
   "id": "dcf4fae0",
   "metadata": {},
   "outputs": [
    {
     "data": {
      "text/plain": [
       "array([[4.24051285e-01, 3.55222642e-01, 3.04356217e-03, 2.10138574e-01,\n",
       "        7.54390657e-03],\n",
       "       [3.01116824e-01, 5.38010955e-01, 3.23046139e-03, 1.55291185e-01,\n",
       "        2.35064211e-03],\n",
       "       [2.91416287e-01, 1.13154754e-01, 3.50816250e-02, 5.25662363e-01,\n",
       "        3.46849971e-02],\n",
       "       ...,\n",
       "       [4.21091856e-04, 7.09103560e-03, 5.83449453e-02, 1.15098053e-04,\n",
       "        9.34027851e-01],\n",
       "       [5.86426770e-03, 4.21627499e-02, 2.55146146e-01, 2.17191456e-03,\n",
       "        6.94654882e-01],\n",
       "       [3.32143873e-01, 2.00701877e-01, 3.74795556e-01, 4.35465798e-02,\n",
       "        4.88120951e-02]], dtype=float32)"
      ]
     },
     "execution_count": 95,
     "metadata": {},
     "output_type": "execute_result"
    }
   ],
   "source": [
    "# Make Predictions on the validation dataset\n",
    "model_4_pred_probs = model_4.predict(val_char_token_dataset)\n",
    "model_4_pred_probs"
   ]
  },
  {
   "cell_type": "code",
   "execution_count": 96,
   "id": "52d59ea3",
   "metadata": {},
   "outputs": [
    {
     "data": {
      "text/plain": [
       "<tf.Tensor: shape=(30212,), dtype=int64, numpy=array([0, 1, 3, ..., 4, 4, 2], dtype=int64)>"
      ]
     },
     "execution_count": 96,
     "metadata": {},
     "output_type": "execute_result"
    }
   ],
   "source": [
    "# turn predictions into classes\n",
    "model_4_preds = tf.argmax(model_4_pred_probs, axis=1)\n",
    "model_4_preds"
   ]
  },
  {
   "cell_type": "code",
   "execution_count": 97,
   "id": "689cde22",
   "metadata": {},
   "outputs": [
    {
     "data": {
      "text/plain": [
       "{'accuracy': 73.16298159671653,\n",
       " 'precision': 0.7332005649175449,\n",
       " 'recall': 0.7316298159671654,\n",
       " 'f1': 0.7287917906557035}"
      ]
     },
     "execution_count": 97,
     "metadata": {},
     "output_type": "execute_result"
    }
   ],
   "source": [
    "# calculate model results\n",
    "model_4_results = calculate_results(y_true = val_labels_encoded,\n",
    "                                   y_pred = model_4_preds)\n",
    "model_4_results"
   ]
  },
  {
   "cell_type": "code",
   "execution_count": null,
   "id": "00f676aa",
   "metadata": {},
   "outputs": [],
   "source": []
  },
  {
   "cell_type": "markdown",
   "id": "459f0e05",
   "metadata": {},
   "source": [
    "# Model 5: Pretrained Token Embeddings + Character Embeddings + Positional Embeddings"
   ]
  },
  {
   "cell_type": "markdown",
   "id": "cabd5228",
   "metadata": {},
   "source": [
    "It seems like combining token embeddings and character embeddings gave our model a little performance boost.\n",
    "\n",
    "But there's one more piece of the puzzle we can add in.\n",
    "\n",
    "What if we engineered our own features into the model?\n",
    "\n",
    "Meaning, what if we took our own knowledge about the data and encoded it in a numerical way to give our model more information about our samples?\n",
    "\n",
    "If you were to look at an abstract, would you expect the sentences to appear in order? Or does it make sense if they were to appear sequentially? For example, sequences labelled CONCLUSIONS at the beggining and sequences labelled OBJECTIVE at the end?\n",
    "\n",
    "Abstracts typically come in a sequential order, such as:\n",
    "\n",
    "    OBJECTIVE ...\n",
    "    METHODS ...\n",
    "    METHODS ...\n",
    "    METHODS ...\n",
    "    RESULTS ...\n",
    "    CONCLUSIONS ...\n",
    "\n",
    "Or\n",
    "\n",
    "    BACKGROUND ...\n",
    "    OBJECTIVE ...\n",
    "    METHODS ...\n",
    "    METHODS ...\n",
    "    RESULTS ...\n",
    "    RESULTS ...\n",
    "    CONCLUSIONS ...\n",
    "    CONCLUSIONS ...\n",
    "\n",
    "Of course, we can't engineer the sequence labels themselves into the training data (we don't have these at test time), but we can encode the order of a set of sequences in an abstract.\n",
    "\n",
    "For example,\n",
    "\n",
    "    Sentence 1 of 10 ...\n",
    "    Sentence 2 of 10 ...\n",
    "    Sentence 3 of 10 ...\n",
    "    Sentence 4 of 10 ...\n",
    "    ...\n",
    "\n",
    "You might've noticed this when we created our preprocess_text_with_line_numbers() function. When we read in a text file of abstracts, we counted the number of lines in an abstract as well as the number of each line itself.\n",
    "\n",
    "Doing this led to the \"line_number\" and \"total_lines\" columns of our DataFrames."
   ]
  },
  {
   "cell_type": "markdown",
   "id": "82a5c5c6",
   "metadata": {},
   "source": [
    "The \"line_number\" and \"total_lines\" columns are features which didn't necessarily come with the training data but can be passed to our model as a positional embedding. In other words, the positional embedding is where the sentence appears in an abstract.\n",
    "\n",
    "Since abstracts typically have a sequential order about them (for example, background, objective, methods, results, conclusion), it makes sense to add the line number of where a particular sentence occurs to our model. The beautiful thing is, these features will be available at test time (we can just count the number of sentences in an abstract and the number of each one).\n",
    "\n",
    "Meaning, if we were to predict the labels of sequences in an abstract our model had never seen, we could count the number of lines and the track the position of each individual line and pass it to our model."
   ]
  },
  {
   "cell_type": "markdown",
   "id": "9cac8941",
   "metadata": {},
   "source": [
    "### Create Positional Embedding"
   ]
  },
  {
   "cell_type": "markdown",
   "id": "f5f0dba7",
   "metadata": {},
   "source": [
    "Since our \"line_number\" and \"total_line\" columns are already numerical, we could pass them as they are to our model.\n",
    "\n",
    "But to avoid our model thinking a line with \"line_number\"=5 is five times greater than a line with \"line_number\"=1, we'll use one-hot-encoding to encode our \"line_number\" and \"total_lines\" features.\n",
    "\n",
    "To do this, we can use the tf.one_hot utility.\n",
    "\n",
    "tf.one_hot returns a one-hot-encoded tensor. It accepts an array (or tensor) as input and the depth parameter determines the dimension of the returned tensor.\n",
    "\n",
    "To figure out what we should set the depth parameter to, let's investigate the distribution of the \"line_number\" column."
   ]
  },
  {
   "cell_type": "code",
   "execution_count": 99,
   "id": "09598a55",
   "metadata": {},
   "outputs": [
    {
     "data": {
      "text/plain": [
       "0     15000\n",
       "1     15000\n",
       "2     15000\n",
       "3     15000\n",
       "4     14992\n",
       "5     14949\n",
       "6     14758\n",
       "7     14279\n",
       "8     13346\n",
       "9     11981\n",
       "10    10041\n",
       "11     7892\n",
       "12     5853\n",
       "13     4152\n",
       "14     2835\n",
       "15     1861\n",
       "16     1188\n",
       "17      751\n",
       "18      462\n",
       "19      286\n",
       "20      162\n",
       "21      101\n",
       "22       66\n",
       "23       33\n",
       "24       22\n",
       "25       14\n",
       "26        7\n",
       "27        4\n",
       "28        3\n",
       "29        1\n",
       "30        1\n",
       "Name: line_number, dtype: int64"
      ]
     },
     "execution_count": 99,
     "metadata": {},
     "output_type": "execute_result"
    }
   ],
   "source": [
    "# how many different line numbers are there\n",
    "train_df[\"line_number\"].value_counts()"
   ]
  },
  {
   "cell_type": "code",
   "execution_count": 100,
   "id": "1e06ffba",
   "metadata": {},
   "outputs": [
    {
     "data": {
      "text/plain": [
       "<AxesSubplot:ylabel='Frequency'>"
      ]
     },
     "execution_count": 100,
     "metadata": {},
     "output_type": "execute_result"
    },
    {
     "data": {
      "image/png": "[encoded data removed]",
      "text/plain": [
       "<Figure size 432x288 with 1 Axes>"
      ]
     },
     "metadata": {
      "needs_background": "light"
     },
     "output_type": "display_data"
    }
   ],
   "source": [
    "# check line_number distribution\n",
    "train_df.line_number.plot.hist()"
   ]
  },
  {
   "cell_type": "code",
   "execution_count": 104,
   "id": "3ab1ce9b",
   "metadata": {},
   "outputs": [
    {
     "data": {
      "text/plain": [
       "(<tf.Tensor: shape=(15, 15), dtype=float32, numpy=\n",
       " array([[1., 0., 0., 0., 0., 0., 0., 0., 0., 0., 0., 0., 0., 0., 0.],\n",
       "        [0., 1., 0., 0., 0., 0., 0., 0., 0., 0., 0., 0., 0., 0., 0.],\n",
       "        [0., 0., 1., 0., 0., 0., 0., 0., 0., 0., 0., 0., 0., 0., 0.],\n",
       "        [0., 0., 0., 1., 0., 0., 0., 0., 0., 0., 0., 0., 0., 0., 0.],\n",
       "        [0., 0., 0., 0., 1., 0., 0., 0., 0., 0., 0., 0., 0., 0., 0.],\n",
       "        [0., 0., 0., 0., 0., 1., 0., 0., 0., 0., 0., 0., 0., 0., 0.],\n",
       "        [0., 0., 0., 0., 0., 0., 1., 0., 0., 0., 0., 0., 0., 0., 0.],\n",
       "        [0., 0., 0., 0., 0., 0., 0., 1., 0., 0., 0., 0., 0., 0., 0.],\n",
       "        [0., 0., 0., 0., 0., 0., 0., 0., 1., 0., 0., 0., 0., 0., 0.],\n",
       "        [0., 0., 0., 0., 0., 0., 0., 0., 0., 1., 0., 0., 0., 0., 0.],\n",
       "        [0., 0., 0., 0., 0., 0., 0., 0., 0., 0., 1., 0., 0., 0., 0.],\n",
       "        [0., 0., 0., 0., 0., 0., 0., 0., 0., 0., 0., 1., 0., 0., 0.],\n",
       "        [1., 0., 0., 0., 0., 0., 0., 0., 0., 0., 0., 0., 0., 0., 0.],\n",
       "        [0., 1., 0., 0., 0., 0., 0., 0., 0., 0., 0., 0., 0., 0., 0.],\n",
       "        [0., 0., 1., 0., 0., 0., 0., 0., 0., 0., 0., 0., 0., 0., 0.]],\n",
       "       dtype=float32)>,\n",
       " TensorShape([180040, 15]))"
      ]
     },
     "execution_count": 104,
     "metadata": {},
     "output_type": "execute_result"
    }
   ],
   "source": [
    "# Use Tensorflow to create One-Hot-Encoded tensors of our line_number column\n",
    "train_line_numbers_one_hot = tf.one_hot(train_df[\"line_number\"].to_numpy(), depth=15)\n",
    "\n",
    "val_line_numbers_one_hot = tf.one_hot(val_df[\"line_number\"].to_numpy(), depth=15)\n",
    "test_line_numbers_one_hot = tf.one_hot(test_df[\"line_number\"].to_numpy(), depth=15)"
   ]
  },
  {
   "cell_type": "markdown",
   "id": "16a4862e",
   "metadata": {},
   "source": [
    "Setting the depth parameter of tf.one_hot to 15 means any sample with a \"line_number\" value of over 15 gets set to a tensor of all 0's, where as any sample with a \"line_number\" of under 15 gets turned into a tensor of all 0's but with a 1 at the index equal to the \"line_number\" value."
   ]
  },
  {
   "cell_type": "code",
   "execution_count": 105,
   "id": "bc55fe5d",
   "metadata": {},
   "outputs": [
    {
     "data": {
      "text/plain": [
       "(TensorShape([180040, 15]),\n",
       " <tf.Tensor: shape=(20, 15), dtype=float32, numpy=\n",
       " array([[1., 0., 0., 0., 0., 0., 0., 0., 0., 0., 0., 0., 0., 0., 0.],\n",
       "        [0., 1., 0., 0., 0., 0., 0., 0., 0., 0., 0., 0., 0., 0., 0.],\n",
       "        [0., 0., 1., 0., 0., 0., 0., 0., 0., 0., 0., 0., 0., 0., 0.],\n",
       "        [0., 0., 0., 1., 0., 0., 0., 0., 0., 0., 0., 0., 0., 0., 0.],\n",
       "        [0., 0., 0., 0., 1., 0., 0., 0., 0., 0., 0., 0., 0., 0., 0.],\n",
       "        [0., 0., 0., 0., 0., 1., 0., 0., 0., 0., 0., 0., 0., 0., 0.],\n",
       "        [0., 0., 0., 0., 0., 0., 1., 0., 0., 0., 0., 0., 0., 0., 0.],\n",
       "        [0., 0., 0., 0., 0., 0., 0., 1., 0., 0., 0., 0., 0., 0., 0.],\n",
       "        [0., 0., 0., 0., 0., 0., 0., 0., 1., 0., 0., 0., 0., 0., 0.],\n",
       "        [0., 0., 0., 0., 0., 0., 0., 0., 0., 1., 0., 0., 0., 0., 0.],\n",
       "        [0., 0., 0., 0., 0., 0., 0., 0., 0., 0., 1., 0., 0., 0., 0.],\n",
       "        [0., 0., 0., 0., 0., 0., 0., 0., 0., 0., 0., 1., 0., 0., 0.],\n",
       "        [1., 0., 0., 0., 0., 0., 0., 0., 0., 0., 0., 0., 0., 0., 0.],\n",
       "        [0., 1., 0., 0., 0., 0., 0., 0., 0., 0., 0., 0., 0., 0., 0.],\n",
       "        [0., 0., 1., 0., 0., 0., 0., 0., 0., 0., 0., 0., 0., 0., 0.],\n",
       "        [0., 0., 0., 1., 0., 0., 0., 0., 0., 0., 0., 0., 0., 0., 0.],\n",
       "        [0., 0., 0., 0., 1., 0., 0., 0., 0., 0., 0., 0., 0., 0., 0.],\n",
       "        [0., 0., 0., 0., 0., 1., 0., 0., 0., 0., 0., 0., 0., 0., 0.],\n",
       "        [0., 0., 0., 0., 0., 0., 1., 0., 0., 0., 0., 0., 0., 0., 0.],\n",
       "        [0., 0., 0., 0., 0., 0., 0., 1., 0., 0., 0., 0., 0., 0., 0.]],\n",
       "       dtype=float32)>)"
      ]
     },
     "execution_count": 105,
     "metadata": {},
     "output_type": "execute_result"
    }
   ],
   "source": [
    "# Check one-hot encoded \"line_number\" feature samples\n",
    "train_line_numbers_one_hot.shape, train_line_numbers_one_hot[:20]"
   ]
  },
  {
   "cell_type": "markdown",
   "id": "34efba70",
   "metadata": {},
   "source": [
    "We can do the same as we've done for our \"line_number\" column witht he \"total_lines\" column. First, let's find an appropriate value for the depth parameter of tf.one_hot"
   ]
  },
  {
   "cell_type": "code",
   "execution_count": 106,
   "id": "168ff182",
   "metadata": {},
   "outputs": [
    {
     "data": {
      "text/plain": [
       "11    24468\n",
       "10    23639\n",
       "12    22113\n",
       "9     19400\n",
       "13    18438\n",
       "14    14610\n",
       "8     12285\n",
       "15    10768\n",
       "7      7464\n",
       "16     7429\n",
       "17     5202\n",
       "6      3353\n",
       "18     3344\n",
       "19     2480\n",
       "20     1281\n",
       "5      1146\n",
       "21      770\n",
       "22      759\n",
       "23      264\n",
       "4       215\n",
       "24      200\n",
       "25      182\n",
       "26       81\n",
       "28       58\n",
       "3        32\n",
       "30       31\n",
       "27       28\n",
       "Name: total_lines, dtype: int64"
      ]
     },
     "execution_count": 106,
     "metadata": {},
     "output_type": "execute_result"
    }
   ],
   "source": [
    "# how many different numbers of lines are there\n",
    "train_df[\"total_lines\"].value_counts()"
   ]
  },
  {
   "cell_type": "code",
   "execution_count": 109,
   "id": "9ae4bdea",
   "metadata": {},
   "outputs": [
    {
     "data": {
      "text/plain": [
       "<AxesSubplot:ylabel='Frequency'>"
      ]
     },
     "execution_count": 109,
     "metadata": {},
     "output_type": "execute_result"
    },
    {
     "data": {
      "image/png": "[encoded data removed]",
      "text/plain": [
       "<Figure size 432x288 with 1 Axes>"
      ]
     },
     "metadata": {
      "needs_background": "light"
     },
     "output_type": "display_data"
    }
   ],
   "source": [
    "# check the distribution for total_lines\n",
    "train_df.total_lines.plot.hist(bins = 20)"
   ]
  },
  {
   "cell_type": "markdown",
   "id": "39b30168",
   "metadata": {},
   "source": [
    "\n",
    "\n",
    "Looking at the distribution of our \"total_lines\" column, a value of 20 looks like it covers the majority of samples.\n",
    "\n",
    "We can confirm this with np.percentile().\n"
   ]
  },
  {
   "cell_type": "code",
   "execution_count": 111,
   "id": "11d7ca0b",
   "metadata": {},
   "outputs": [
    {
     "data": {
      "text/plain": [
       "20.0"
      ]
     },
     "execution_count": 111,
     "metadata": {},
     "output_type": "execute_result"
    }
   ],
   "source": [
    "# check the coverage of a \"total_lines\" value of 20\n",
    "np.percentile(train_df.total_lines, 98)"
   ]
  },
  {
   "cell_type": "code",
   "execution_count": 113,
   "id": "7f5bab70",
   "metadata": {},
   "outputs": [
    {
     "data": {
      "text/plain": [
       "(TensorShape([180040, 20]),\n",
       " <tf.Tensor: shape=(10, 20), dtype=float32, numpy=\n",
       " array([[0., 0., 0., 0., 0., 0., 0., 0., 0., 0., 0., 1., 0., 0., 0., 0.,\n",
       "         0., 0., 0., 0.],\n",
       "        [0., 0., 0., 0., 0., 0., 0., 0., 0., 0., 0., 1., 0., 0., 0., 0.,\n",
       "         0., 0., 0., 0.],\n",
       "        [0., 0., 0., 0., 0., 0., 0., 0., 0., 0., 0., 1., 0., 0., 0., 0.,\n",
       "         0., 0., 0., 0.],\n",
       "        [0., 0., 0., 0., 0., 0., 0., 0., 0., 0., 0., 1., 0., 0., 0., 0.,\n",
       "         0., 0., 0., 0.],\n",
       "        [0., 0., 0., 0., 0., 0., 0., 0., 0., 0., 0., 1., 0., 0., 0., 0.,\n",
       "         0., 0., 0., 0.],\n",
       "        [0., 0., 0., 0., 0., 0., 0., 0., 0., 0., 0., 1., 0., 0., 0., 0.,\n",
       "         0., 0., 0., 0.],\n",
       "        [0., 0., 0., 0., 0., 0., 0., 0., 0., 0., 0., 1., 0., 0., 0., 0.,\n",
       "         0., 0., 0., 0.],\n",
       "        [0., 0., 0., 0., 0., 0., 0., 0., 0., 0., 0., 1., 0., 0., 0., 0.,\n",
       "         0., 0., 0., 0.],\n",
       "        [0., 0., 0., 0., 0., 0., 0., 0., 0., 0., 0., 1., 0., 0., 0., 0.,\n",
       "         0., 0., 0., 0.],\n",
       "        [0., 0., 0., 0., 0., 0., 0., 0., 0., 0., 0., 1., 0., 0., 0., 0.,\n",
       "         0., 0., 0., 0.]], dtype=float32)>)"
      ]
     },
     "execution_count": 113,
     "metadata": {},
     "output_type": "execute_result"
    }
   ],
   "source": [
    "# use tensoflow to one hot encode tensors of our \"total_lines\" features\n",
    "train_total_lines_one_hot = tf.one_hot(train_df[\"total_lines\"].to_numpy(), depth=20)\n",
    "test_total_lines_one_hot = tf.one_hot(test_df[\"total_lines\"].to_numpy(), depth=20)\n",
    "val_total_lines_one_hot = tf.one_hot(val_df[\"total_lines\"].to_numpy(), depth=20)\n",
    "\n",
    "train_total_lines_one_hot.shape, train_total_lines_one_hot[:10]"
   ]
  },
  {
   "cell_type": "markdown",
   "id": "39d53aa6",
   "metadata": {},
   "source": [
    "### Building our TRIBRID Embedding Model\n",
    "\n",
    "   1. Create a token-level model (similar to model_1)\n",
    "   2.  Create a character-level model (similar to model_3 with a slight modification to reflect the paper)\n",
    "   3. Create a \"line_number\" model (takes in one-hot-encoded \"line_number\" tensor and passes it through a non-linear layer)\n",
    "   4. Create a \"total_lines\" model (takes in one-hot-encoded \"total_lines\" tensor and passes it through a non-linear layer)\n",
    "   5. Combine (using layers.Concatenate) the outputs of 1 and 2 into a token-character-hybrid embedding and pass it series of output to Figure 1 and section 4.2 of Neural Networks for Joint Sentence Classification in Medical Paper Abstracts\n",
    "   6. Combine (using layers.Concatenate) the outputs of 3, 4 and 5 into a token-character-positional tribrid embedding\n",
    "   7. Create an output layer to accept the tribrid embedding and output predicted label probabilities\n",
    "   8. Combine the inputs of 1, 2, 3, 4 and outputs of 7 into a tf.keras.Model\n"
   ]
  },
  {
   "cell_type": "code",
   "execution_count": 122,
   "id": "c695e007",
   "metadata": {},
   "outputs": [],
   "source": [
    "# 1.Token Inputs \n",
    "token_inputs = layers.Input(shape=[], dtype=\"string\", name=\"token_inputs\")\n",
    "token_embeddings = tf_hub_embedding_layer(token_inputs)\n",
    "token_outputs = layers.Dense(128, activation=\"relu\")(token_embeddings)\n",
    "token_model = tf.keras.Model(inputs = token_inputs,\n",
    "                            outputs = token_outputs)\n",
    "\n",
    "# 2.Char Inputs\n",
    "char_inputs = layers.Input(shape=(1,), dtype=\"string\", name=\"char_inputs\")\n",
    "char_vectors = char_vectorizer(char_inputs)\n",
    "char_embeddings = char_embed(char_vectors)\n",
    "char_bi_lstm = layers.Bidirectional(layers.LSTM(24))(char_embeddings)\n",
    "char_model = tf.keras.Model(inputs = char_inputs,\n",
    "                           outputs = char_bi_lstm)\n",
    "\n",
    "# 3.Line Numbers Model\n",
    "line_number_inputs = layers.Input(shape=(15,), dtype=tf.float32, name=\"line_number_input\" )\n",
    "x = layers.Dense(32, activation=\"relu\")(line_number_inputs)\n",
    "line_number_model = tf.keras.Model(inputs = line_number_inputs,\n",
    "                                  outputs = x)\n",
    "\n",
    "# 4.Total Lines Input\n",
    "total_lines_inputs = layers.Input(shape=(20,), dtype = tf.float32, name =\"total_lines_model\")\n",
    "y = layers.Dense(32, activation=\"relu\")(total_lines_inputs)\n",
    "total_lines_model = tf.keras.Model(inputs = total_lines_inputs,\n",
    "                                  outputs = y)\n",
    "\n",
    "# 5. Combine Token and Char Embeddings into a Hybrid Embeddings\n",
    "combined_embeddings = layers.Concatenate(name=\"token_char_hybrid_embeddings\")([token_model.output,\n",
    "                                                                              char_model.output])\n",
    "\n",
    "# pass through dropout layer\n",
    "z = layers.Dense(256, activation=\"relu\")(combined_embeddings)\n",
    "z = layers.Dropout(0.5)(z)\n",
    "\n",
    "# 6. Combine positional embedding with combined char-token embeddings\n",
    "tribrid_embeddings = layers.Concatenate(name = \"char_token_positional_embedding\")([line_number_model.output,\n",
    "                                                                                 total_lines_model.output,\n",
    "                                                                                 z])\n",
    "\n",
    "# 7. Create output layer\n",
    "output_layer = layers.Dense(5, activation=\"softmax\", name=\"output_layer\")(tribrid_embeddings)\n",
    "\n",
    "# 8. Put together model with all kinds of inputs\n",
    "model_5 = tf.keras.Model(inputs = [line_number_model.input,\n",
    "                                  total_lines_model.input,\n",
    "                                  token_model.input,\n",
    "                                  char_model.input],\n",
    "                        outputs = output_layer,\n",
    "                        name=\"tribrid_embedding_model\")\n"
   ]
  },
  {
   "cell_type": "code",
   "execution_count": 123,
   "id": "f3136eb3",
   "metadata": {},
   "outputs": [
    {
     "name": "stdout",
     "output_type": "stream",
     "text": [
      "Model: \"tribrid_embedding_model\"\n",
      "__________________________________________________________________________________________________\n",
      " Layer (type)                   Output Shape         Param #     Connected to                     \n",
      "==================================================================================================\n",
      " char_inputs (InputLayer)       [(None, 1)]          0           []                               \n",
      "                                                                                                  \n",
      " token_inputs (InputLayer)      [(None,)]            0           []                               \n",
      "                                                                                                  \n",
      " char_vectorizer (TextVectoriza  (None, 290)         0           ['char_inputs[0][0]']            \n",
      " tion)                                                                                            \n",
      "                                                                                                  \n",
      " universal_sentence_encoder (Ke  (None, 512)         256797824   ['token_inputs[0][0]']           \n",
      " rasLayer)                                                                                        \n",
      "                                                                                                  \n",
      " char_level_embedding (Embeddin  (None, 290, 25)     700         ['char_vectorizer[9][0]']        \n",
      " g)                                                                                               \n",
      "                                                                                                  \n",
      " dense_27 (Dense)               (None, 128)          65664       ['universal_sentence_encoder[9][0\n",
      "                                                                 ]']                              \n",
      "                                                                                                  \n",
      " bidirectional_7 (Bidirectional  (None, 48)          9600        ['char_level_embedding[9][0]']   \n",
      " )                                                                                                \n",
      "                                                                                                  \n",
      " token_char_hybrid_embeddings (  (None, 176)         0           ['dense_27[0][0]',               \n",
      " Concatenate)                                                     'bidirectional_7[0][0]']        \n",
      "                                                                                                  \n",
      " line_number_input (InputLayer)  [(None, 15)]        0           []                               \n",
      "                                                                                                  \n",
      " total_lines_model (InputLayer)  [(None, 20)]        0           []                               \n",
      "                                                                                                  \n",
      " dense_30 (Dense)               (None, 256)          45312       ['token_char_hybrid_embeddings[0]\n",
      "                                                                 [0]']                            \n",
      "                                                                                                  \n",
      " dense_28 (Dense)               (None, 32)           512         ['line_number_input[0][0]']      \n",
      "                                                                                                  \n",
      " dense_29 (Dense)               (None, 32)           672         ['total_lines_model[0][0]']      \n",
      "                                                                                                  \n",
      " dropout_5 (Dropout)            (None, 256)          0           ['dense_30[0][0]']               \n",
      "                                                                                                  \n",
      " char_token_positional_embeddin  (None, 320)         0           ['dense_28[0][0]',               \n",
      " g (Concatenate)                                                  'dense_29[0][0]',               \n",
      "                                                                  'dropout_5[0][0]']              \n",
      "                                                                                                  \n",
      " output_layer (Dense)           (None, 5)            1605        ['char_token_positional_embedding\n",
      "                                                                 [0][0]']                         \n",
      "                                                                                                  \n",
      "==================================================================================================\n",
      "Total params: 256,921,889\n",
      "Trainable params: 124,065\n",
      "Non-trainable params: 256,797,824\n",
      "__________________________________________________________________________________________________\n"
     ]
    }
   ],
   "source": [
    "# Get the Model Summary()\n",
    "model_5.summary()"
   ]
  },
  {
   "cell_type": "code",
   "execution_count": 124,
   "id": "e6a538e2",
   "metadata": {},
   "outputs": [
    {
     "data": {
      "image/png": "[encoded data removed]",
      "text/plain": [
       "<IPython.core.display.Image object>"
      ]
     },
     "execution_count": 124,
     "metadata": {},
     "output_type": "execute_result"
    }
   ],
   "source": [
    "# Plot model 5 structure \n",
    "from keras.utils.vis_utils import plot_model\n",
    "plot_model(model_5)"
   ]
  },
  {
   "cell_type": "code",
   "execution_count": 125,
   "id": "a9fe912d",
   "metadata": {},
   "outputs": [],
   "source": [
    "# Compile token, char, positional embedding layer\n",
    "model_5.compile(loss = tf.keras.losses.CategoricalCrossentropy(label_smoothing=0.2),  # label smoothing helps to prevent overfitting\n",
    "               optimizer = tf.keras.optimizers.Adam(),\n",
    "               metrics = [\"accuracy\"])"
   ]
  },
  {
   "cell_type": "markdown",
   "id": "ea77830e",
   "metadata": {},
   "source": [
    "This time, we're going to introduce a new parameter to our loss function called label_smoothing. Label smoothing helps to regularize our model (prevent overfitting) by making sure it doesn't get too focused on applying one particular label to a sample.\n",
    "\n",
    "For example, instead of having an output prediction of:\n",
    "\n",
    "   - **[0.0, 0.0, 1.0, 0.0, 0.0] for a sample (the model is very confident the right label is index 2).**\n",
    "\n",
    "It's predictions will get smoothed to be something like:\n",
    "\n",
    "   - **[0.01, 0.01, 0.096, 0.01, 0.01] giving a small activation to each of the other labels, in turn, hopefully improving generalization.**\n"
   ]
  },
  {
   "cell_type": "code",
   "execution_count": 126,
   "id": "5e4e65a0",
   "metadata": {},
   "outputs": [
    {
     "name": "stdout",
     "output_type": "stream",
     "text": [
      "<keras.engine.input_layer.InputLayer object at 0x00000266129BF4C8> True\n",
      "<keras.engine.input_layer.InputLayer object at 0x000002661296B608> True\n",
      "<keras.layers.preprocessing.text_vectorization.TextVectorization object at 0x00000265FE2CFC88> True\n",
      "<tensorflow_hub.keras_layer.KerasLayer object at 0x000002640F5F3BC8> False\n",
      "<keras.layers.embeddings.Embedding object at 0x00000265FBE24488> True\n",
      "<keras.layers.core.dense.Dense object at 0x000002661296D188> True\n",
      "<keras.layers.wrappers.Bidirectional object at 0x000002661294C808> True\n",
      "<keras.layers.merge.Concatenate object at 0x0000026612B341C8> True\n",
      "<keras.engine.input_layer.InputLayer object at 0x000002650E67EA88> True\n",
      "<keras.engine.input_layer.InputLayer object at 0x0000026612AD8088> True\n",
      "<keras.layers.core.dense.Dense object at 0x00000266120C4388> True\n",
      "<keras.layers.core.dense.Dense object at 0x0000026611C079C8> True\n",
      "<keras.layers.core.dense.Dense object at 0x0000026611F31C48> True\n",
      "<keras.layers.core.dropout.Dropout object at 0x0000026612947808> True\n",
      "<keras.layers.merge.Concatenate object at 0x0000026612B3CD08> True\n",
      "<keras.layers.core.dense.Dense object at 0x0000026612B474C8> True\n"
     ]
    }
   ],
   "source": [
    "# Check which layers in our tribrid model are trainable\n",
    "for layer in model_5.layers:\n",
    "    print(layer, layer.trainable)"
   ]
  },
  {
   "cell_type": "markdown",
   "id": "cedd19e8",
   "metadata": {},
   "source": [
    "### Creating Tribrid Embedding Datasets and Fit Tribrid Model\n",
    "Again, to keep our experiments swift, let's fit on 20,000 examples for 3 epochs.\n",
    "\n",
    "This time our model requires four feature inputs:\n",
    "\n",
    "   - Train line numbers one-hot tensor (train_line_numbers_one_hot)\n",
    "   - Train total lines one-hot tensor (train_total_lines_one_hot)\n",
    "   - Token-level sequences tensor (train_sentences)\n",
    "   - Char-level sequences tensor (train_chars)\n",
    "\n",
    "We can pass these as tuples to our tf.data.Dataset.from_tensor_slices() method to create appropriately shaped and batched PrefetchedDataset's."
   ]
  },
  {
   "cell_type": "code",
   "execution_count": 130,
   "id": "30a70e91",
   "metadata": {},
   "outputs": [
    {
     "data": {
      "text/plain": [
       "<tf.Tensor: shape=(180040, 15), dtype=float32, numpy=\n",
       "array([[1., 0., 0., ..., 0., 0., 0.],\n",
       "       [0., 1., 0., ..., 0., 0., 0.],\n",
       "       [0., 0., 1., ..., 0., 0., 0.],\n",
       "       ...,\n",
       "       [0., 0., 0., ..., 0., 0., 0.],\n",
       "       [0., 0., 0., ..., 0., 0., 0.],\n",
       "       [0., 0., 0., ..., 0., 0., 0.]], dtype=float32)>"
      ]
     },
     "execution_count": 130,
     "metadata": {},
     "output_type": "execute_result"
    }
   ],
   "source": [
    "train_line_numbers_one_hot"
   ]
  },
  {
   "cell_type": "code",
   "execution_count": 138,
   "id": "393da111",
   "metadata": {},
   "outputs": [],
   "source": [
    "# create training and validation datasets (with all 4 kinds of input data)\n",
    "train_char_token_pos_data = tf.data.Dataset.from_tensor_slices((train_line_numbers_one_hot, # line numbers\n",
    "                                                               train_total_lines_one_hot, # token lines\n",
    "                                                               train_sentences, # train tokens\n",
    "                                                               train_chars)) # train chars\n",
    "\n",
    "train_char_token_pos_labels = tf.data.Dataset.from_tensor_slices(train_labels_one_hot) # train labels\n",
    "train_char_token_pos_dataset = tf.data.Dataset.zip((train_char_token_pos_data, train_char_token_pos_labels)) # combine data and labels\n",
    "train_char_token_pos_dataset = train_char_token_pos_dataset.batch(32).prefetch(tf.data.AUTOTUNE) # turn into batches and prefetch data\n",
    "\n",
    "\n",
    "\n",
    "# Validation Dataset\n",
    "val_char_token_pos_data =  tf.data.Dataset.from_tensor_slices((val_line_numbers_one_hot,\n",
    "                                                              val_total_lines_one_hot,\n",
    "                                                              val_sentences,\n",
    "                                                              val_chars))\n",
    "val_char_token_pos_labels = tf.data.Dataset.from_tensor_slices(val_labels_one_hot)\n",
    "val_char_token_pos_dataset = tf.data.Dataset.zip((val_char_token_pos_data, val_char_token_pos_labels))\n",
    "val_char_token_pos_dataset = val_char_token_pos_dataset.batch(32).prefetch(tf.data.AUTOTUNE) # turn into batches and prefetch appropriately"
   ]
  },
  {
   "cell_type": "code",
   "execution_count": 137,
   "id": "9c06cbc3",
   "metadata": {},
   "outputs": [
    {
     "data": {
      "text/plain": [
       "(<PrefetchDataset shapes: (((None, 15), (None, 20), (None,), (None,)), (None, 5)), types: ((tf.float32, tf.float32, tf.string, tf.string), tf.float64)>,\n",
       " <PrefetchDataset shapes: (((None, 15), (None, 20), (None,), (None,)), (None, 5)), types: ((tf.float32, tf.float32, tf.string, tf.string), tf.float64)>)"
      ]
     },
     "execution_count": 137,
     "metadata": {},
     "output_type": "execute_result"
    }
   ],
   "source": [
    "# Check input shapes\n",
    "train_char_token_pos_dataset, val_char_token_pos_dataset"
   ]
  },
  {
   "cell_type": "code",
   "execution_count": 139,
   "id": "88e339e3",
   "metadata": {},
   "outputs": [
    {
     "name": "stdout",
     "output_type": "stream",
     "text": [
      "Epoch 1/3\n",
      "562/562 [==============================] - 35s 55ms/step - loss: 1.1013 - accuracy: 0.7182 - val_loss: 0.9852 - val_accuracy: 0.8032\n",
      "Epoch 2/3\n",
      "562/562 [==============================] - 28s 50ms/step - loss: 0.9697 - accuracy: 0.8137 - val_loss: 0.9526 - val_accuracy: 0.8275\n",
      "Epoch 3/3\n",
      "562/562 [==============================] - 29s 51ms/step - loss: 0.9519 - accuracy: 0.8210 - val_loss: 0.9415 - val_accuracy: 0.8314\n"
     ]
    }
   ],
   "source": [
    "# Fit the tribrid embedding model\n",
    "history_model_5 = model_5.fit(train_char_token_pos_dataset,\n",
    "                             steps_per_epoch = int(0.1*len(train_char_token_pos_dataset)),\n",
    "                             validation_data = val_char_token_pos_dataset,\n",
    "                             validation_steps = int(0.1*len(val_char_token_pos_dataset)),\n",
    "                             epochs=3)"
   ]
  },
  {
   "cell_type": "code",
   "execution_count": 140,
   "id": "0a5c23bc",
   "metadata": {},
   "outputs": [
    {
     "name": "stdout",
     "output_type": "stream",
     "text": [
      "945/945 [==============================] - 32s 34ms/step - loss: 0.9391 - accuracy: 0.8320\n"
     ]
    },
    {
     "data": {
      "text/plain": [
       "[0.9390840530395508, 0.8319541811943054]"
      ]
     },
     "execution_count": 140,
     "metadata": {},
     "output_type": "execute_result"
    }
   ],
   "source": [
    "# Evaluate on the whole dataset\n",
    "model_5.evaluate(val_char_token_pos_dataset)"
   ]
  },
  {
   "cell_type": "code",
   "execution_count": 141,
   "id": "b8b4a012",
   "metadata": {},
   "outputs": [
    {
     "name": "stdout",
     "output_type": "stream",
     "text": [
      "945/945 [==============================] - 34s 34ms/step\n"
     ]
    },
    {
     "data": {
      "text/plain": [
       "array([[0.5033814 , 0.10739264, 0.01051892, 0.36275208, 0.01595501],\n",
       "       [0.52075493, 0.10850684, 0.03623415, 0.32625353, 0.00825061],\n",
       "       [0.2963758 , 0.10674297, 0.11874054, 0.41420838, 0.06393228],\n",
       "       ...,\n",
       "       [0.03164594, 0.0917406 , 0.03815237, 0.0287253 , 0.80973583],\n",
       "       [0.0310246 , 0.29623485, 0.08585958, 0.02699936, 0.5598816 ],\n",
       "       [0.27808875, 0.52322525, 0.09764165, 0.04057072, 0.06047353]],\n",
       "      dtype=float32)"
      ]
     },
     "execution_count": 141,
     "metadata": {},
     "output_type": "execute_result"
    }
   ],
   "source": [
    "# model prediction probabilities\n",
    "model_5_pred_probs = model_5.predict(val_char_token_pos_dataset, verbose=1)\n",
    "model_5_pred_probs"
   ]
  },
  {
   "cell_type": "code",
   "execution_count": 142,
   "id": "74211b6f",
   "metadata": {},
   "outputs": [
    {
     "data": {
      "text/plain": [
       "<tf.Tensor: shape=(30212,), dtype=int64, numpy=array([0, 0, 3, ..., 4, 4, 1], dtype=int64)>"
      ]
     },
     "execution_count": 142,
     "metadata": {},
     "output_type": "execute_result"
    }
   ],
   "source": [
    "# turn prediction probabilities into prediction classes\n",
    "model_5_preds = tf.argmax(model_5_pred_probs, axis=1)\n",
    "model_5_preds"
   ]
  },
  {
   "cell_type": "code",
   "execution_count": 143,
   "id": "fe1a716d",
   "metadata": {},
   "outputs": [
    {
     "data": {
      "text/plain": [
       "{'accuracy': 83.19541903879252,\n",
       " 'precision': 0.8314075818017067,\n",
       " 'recall': 0.8319541903879253,\n",
       " 'f1': 0.8308271726592735}"
      ]
     },
     "execution_count": 143,
     "metadata": {},
     "output_type": "execute_result"
    }
   ],
   "source": [
    "# calculate results of the model5\n",
    "model_5_results = calculate_results(y_true = val_labels_encoded,\n",
    "                                   y_pred = model_5_preds)\n",
    "model_5_results"
   ]
  },
  {
   "cell_type": "code",
   "execution_count": 147,
   "id": "1873e81d",
   "metadata": {},
   "outputs": [
    {
     "data": {
      "text/plain": [
       "({'accuracy': 73.16298159671653,\n",
       "  'precision': 0.7332005649175449,\n",
       "  'recall': 0.7316298159671654,\n",
       "  'f1': 0.7287917906557035},\n",
       " {'accuracy': 72.1832384482987,\n",
       "  'precision': 0.7186466952323352,\n",
       "  'recall': 0.7218323844829869,\n",
       "  'f1': 0.6989250353450294})"
      ]
     },
     "execution_count": 147,
     "metadata": {},
     "output_type": "execute_result"
    }
   ],
   "source": [
    "model_4_results, baseline_results"
   ]
  },
  {
   "cell_type": "code",
   "execution_count": null,
   "id": "323c0d53",
   "metadata": {},
   "outputs": [],
   "source": []
  },
  {
   "cell_type": "markdown",
   "id": "51c0c938",
   "metadata": {},
   "source": [
    "# Compare Model Results"
   ]
  },
  {
   "cell_type": "code",
   "execution_count": 149,
   "id": "89b54d9a",
   "metadata": {},
   "outputs": [
    {
     "data": {
      "text/html": [
       "<div>\n",
       "<style scoped>\n",
       "    .dataframe tbody tr th:only-of-type {\n",
       "        vertical-align: middle;\n",
       "    }\n",
       "\n",
       "    .dataframe tbody tr th {\n",
       "        vertical-align: top;\n",
       "    }\n",
       "\n",
       "    .dataframe thead th {\n",
       "        text-align: right;\n",
       "    }\n",
       "</style>\n",
       "<table border=\"1\" class=\"dataframe\">\n",
       "  <thead>\n",
       "    <tr style=\"text-align: right;\">\n",
       "      <th></th>\n",
       "      <th>accuracy</th>\n",
       "      <th>precision</th>\n",
       "      <th>recall</th>\n",
       "      <th>f1</th>\n",
       "    </tr>\n",
       "  </thead>\n",
       "  <tbody>\n",
       "    <tr>\n",
       "      <th>baseline_model</th>\n",
       "      <td>72.183238</td>\n",
       "      <td>0.718647</td>\n",
       "      <td>0.721832</td>\n",
       "      <td>0.698925</td>\n",
       "    </tr>\n",
       "    <tr>\n",
       "      <th>model_1custom_token_embed_conv1d</th>\n",
       "      <td>78.306633</td>\n",
       "      <td>0.779443</td>\n",
       "      <td>0.783066</td>\n",
       "      <td>0.780480</td>\n",
       "    </tr>\n",
       "    <tr>\n",
       "      <th>model_2_pretrained_token_embed</th>\n",
       "      <td>71.425261</td>\n",
       "      <td>0.714173</td>\n",
       "      <td>0.714253</td>\n",
       "      <td>0.711277</td>\n",
       "    </tr>\n",
       "    <tr>\n",
       "      <th>model_3_custom_char_embed_conv1d</th>\n",
       "      <td>65.609692</td>\n",
       "      <td>0.650406</td>\n",
       "      <td>0.656097</td>\n",
       "      <td>0.647906</td>\n",
       "    </tr>\n",
       "    <tr>\n",
       "      <th>model_4_hybrid_char_token_embed</th>\n",
       "      <td>73.162982</td>\n",
       "      <td>0.733201</td>\n",
       "      <td>0.731630</td>\n",
       "      <td>0.728792</td>\n",
       "    </tr>\n",
       "    <tr>\n",
       "      <th>model_5_tribrid_pos_char_token_embed</th>\n",
       "      <td>83.195419</td>\n",
       "      <td>0.831408</td>\n",
       "      <td>0.831954</td>\n",
       "      <td>0.830827</td>\n",
       "    </tr>\n",
       "  </tbody>\n",
       "</table>\n",
       "</div>"
      ],
      "text/plain": [
       "                                       accuracy  precision    recall        f1\n",
       "baseline_model                        72.183238   0.718647  0.721832  0.698925\n",
       "model_1custom_token_embed_conv1d      78.306633   0.779443  0.783066  0.780480\n",
       "model_2_pretrained_token_embed        71.425261   0.714173  0.714253  0.711277\n",
       "model_3_custom_char_embed_conv1d      65.609692   0.650406  0.656097  0.647906\n",
       "model_4_hybrid_char_token_embed       73.162982   0.733201  0.731630  0.728792\n",
       "model_5_tribrid_pos_char_token_embed  83.195419   0.831408  0.831954  0.830827"
      ]
     },
     "execution_count": 149,
     "metadata": {},
     "output_type": "execute_result"
    }
   ],
   "source": [
    "# Combine model results into a dataframe\n",
    "all_model_results = pd.DataFrame({\"baseline_model\":baseline_results,\n",
    "                                 \"model_1custom_token_embed_conv1d\": model_1_results,\n",
    "                                  \"model_2_pretrained_token_embed\": model_2_results,\n",
    "                                  \"model_3_custom_char_embed_conv1d\": model_3_results,\n",
    "                                  \"model_4_hybrid_char_token_embed\": model_4_results,\n",
    "                                  \"model_5_tribrid_pos_char_token_embed\": model_5_results})\n",
    "all_model_results = all_model_results.transpose()\n",
    "all_model_results"
   ]
  },
  {
   "cell_type": "code",
   "execution_count": 150,
   "id": "e2292de9",
   "metadata": {},
   "outputs": [],
   "source": [
    "# reduce accuracy to the same scale as other metrics\n",
    "all_model_results[\"accuracy\"] = all_model_results[\"accuracy\"]/100"
   ]
  },
  {
   "cell_type": "code",
   "execution_count": 151,
   "id": "f150672b",
   "metadata": {},
   "outputs": [
    {
     "data": {
      "image/png": "[encoded data removed]",
      "text/plain": [
       "<Figure size 720x504 with 1 Axes>"
      ]
     },
     "metadata": {
      "needs_background": "light"
     },
     "output_type": "display_data"
    }
   ],
   "source": [
    "# Plot and compare all model results\n",
    "all_model_results.plot(kind=\"bar\", figsize=(10,7)).legend(bbox_to_anchor=(1.0,1.0));"
   ]
  },
  {
   "cell_type": "code",
   "execution_count": 152,
   "id": "08fd93fc",
   "metadata": {},
   "outputs": [
    {
     "data": {
      "image/png": "[encoded data removed]",
      "text/plain": [
       "<Figure size 720x504 with 1 Axes>"
      ]
     },
     "metadata": {
      "needs_background": "light"
     },
     "output_type": "display_data"
    }
   ],
   "source": [
    "# sort model results by f1 scores\n",
    "all_model_results.sort_values(by=\"f1\", ascending=False)[\"f1\"].plot(kind=\"bar\", figsize=(10,7));"
   ]
  },
  {
   "cell_type": "markdown",
   "id": "078671f5",
   "metadata": {},
   "source": [
    "# Save and Load the Best Performing Model"
   ]
  },
  {
   "cell_type": "code",
   "execution_count": 153,
   "id": "41b74e3f",
   "metadata": {},
   "outputs": [
    {
     "name": "stderr",
     "output_type": "stream",
     "text": [
      "WARNING:absl:Found untraced functions such as lstm_cell_22_layer_call_fn, lstm_cell_22_layer_call_and_return_conditional_losses, lstm_cell_23_layer_call_fn, lstm_cell_23_layer_call_and_return_conditional_losses, lstm_cell_22_layer_call_fn while saving (showing 5 of 10). These functions will not be directly callable after loading.\n"
     ]
    },
    {
     "name": "stdout",
     "output_type": "stream",
     "text": [
      "INFO:tensorflow:Assets written to: skimlit_tribrid_model\\assets\n"
     ]
    },
    {
     "name": "stderr",
     "output_type": "stream",
     "text": [
      "INFO:tensorflow:Assets written to: skimlit_tribrid_model\\assets\n",
      "WARNING:absl:<keras.layers.recurrent.LSTMCell object at 0x00000266129D1B88> has the same name 'LSTMCell' as a built-in Keras object. Consider renaming <class 'keras.layers.recurrent.LSTMCell'> to avoid naming conflicts when loading with `tf.keras.models.load_model`. If renaming is not possible, pass the object in the `custom_objects` parameter of the load function.\n",
      "WARNING:absl:<keras.layers.recurrent.LSTMCell object at 0x000002661296F088> has the same name 'LSTMCell' as a built-in Keras object. Consider renaming <class 'keras.layers.recurrent.LSTMCell'> to avoid naming conflicts when loading with `tf.keras.models.load_model`. If renaming is not possible, pass the object in the `custom_objects` parameter of the load function.\n"
     ]
    }
   ],
   "source": [
    "# Save Best performimg model to SavedModel format\n",
    "model_5.save(\"skimlit_tribrid_model\") # model will be saved to path"
   ]
  },
  {
   "cell_type": "code",
   "execution_count": null,
   "id": "630981c1",
   "metadata": {},
   "outputs": [],
   "source": []
  },
  {
   "cell_type": "markdown",
   "id": "4aa1ba83",
   "metadata": {},
   "source": [
    "# Evaluate the Model on Test Dataset"
   ]
  },
  {
   "cell_type": "code",
   "execution_count": null,
   "id": "e19eb776",
   "metadata": {},
   "outputs": [],
   "source": [
    "# Create test dataset batch and prefetched\n",
    "test_pos_char_token_data = tf.data.Dataset.from_tensor_slices((test_line_numbers_one_hot,\n",
    "                                                               test_total_lines_one_hot,\n",
    "                                                               test_sentences,\n",
    "                                                               test_chars))\n",
    "test_pos_char_token_labels = tf.data.Dataset.from_tensor_slices(test_labels_one_hot)\n",
    "test_pos_char_token_dataset = tf.data.Dataset.zip((test_pos_char_token_data, test_pos_char_token_labels))\n",
    "test_pos_char_token_dataset = test_pos_char_token_dataset.batch(8).prefetch(tf.data.AUTOTUNE)\n",
    "\n",
    "# Check shapes\n",
    "test_pos_char_token_dataset"
   ]
  },
  {
   "cell_type": "code",
   "execution_count": null,
   "id": "eb736f76",
   "metadata": {},
   "outputs": [],
   "source": [
    "model_5.evaluate(test_pos_char_token_dataset)"
   ]
  },
  {
   "cell_type": "code",
   "execution_count": null,
   "id": "7c5dbb0d",
   "metadata": {},
   "outputs": [],
   "source": [
    "# make predictions on the test dataset\n",
    "test_pred_probs = model_5.predict(test_pos_char_token_dataset, verbose=1)\n",
    "\n",
    "# test_preds = tf.argmax(test_pred_probs, axis=1)\n",
    "# test_preds[:10]"
   ]
  },
  {
   "cell_type": "code",
   "execution_count": null,
   "id": "e28c4bf0",
   "metadata": {},
   "outputs": [],
   "source": [
    "# Chech modelp"
   ]
  }
 ],
 "metadata": {
  "kernelspec": {
   "display_name": "Python 3 (ipykernel)",
   "language": "python",
   "name": "python3"
  },
  "language_info": {
   "codemirror_mode": {
    "name": "ipython",
    "version": 3
   },
   "file_extension": ".py",
   "mimetype": "text/x-python",
   "name": "python",
   "nbconvert_exporter": "python",
   "pygments_lexer": "ipython3",
   "version": "3.7.11"
  }
 },
 "nbformat": 4,
 "nbformat_minor": 5
}
